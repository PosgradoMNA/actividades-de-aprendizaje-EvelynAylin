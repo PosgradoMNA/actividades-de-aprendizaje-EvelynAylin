{
  "nbformat": 4,
  "nbformat_minor": 0,
  "metadata": {
    "colab": {
      "provenance": [],
      "toc_visible": true
    },
    "kernelspec": {
      "name": "python3",
      "display_name": "Python 3"
    },
    "language_info": {
      "name": "python"
    }
  },
  "cells": [
    {
      "cell_type": "code",
      "execution_count": null,
      "metadata": {
        "id": "5m96OYKSYhDB"
      },
      "outputs": [],
      "source": [
        "#Evelyn Aylin Rendon Medina\n",
        "#A01748750\n",
        "#Python for Data Science (IBM) evidencias\n",
        "\n",
        "#Módulo 1\n",
        "#Your First Program (1:15)\n",
        "print(\"Hello\\nWorld!\")\n",
        "# print('Hello World!')"
      ]
    }
  ]
}