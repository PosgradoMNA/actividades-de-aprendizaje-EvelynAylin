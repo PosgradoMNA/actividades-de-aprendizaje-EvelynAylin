{
  "cells": [
    {
      "cell_type": "markdown",
      "metadata": {
        "id": "view-in-github",
        "colab_type": "text"
      },
      "source": [
        "<a href=\"https://colab.research.google.com/github/PosgradoMNA/actividades-de-aprendizaje-EvelynAylin/blob/main/A01748750_TecMty_Regresion_lineal_polinomial.ipynb\" target=\"_parent\"><img src=\"https://colab.research.google.com/assets/colab-badge.svg\" alt=\"Open In Colab\"/></a>"
      ]
    },
    {
      "cell_type": "markdown",
      "metadata": {
        "id": "BWlTSkThAUFi"
      },
      "source": [
        "#Regresiones (clase), Kmeans y plan semanal\n",
        "Alumno: Evelyn Aylin Rendon Medina\n",
        "\n",
        "Matricula: A01748750\n",
        "\n",
        "Profesora: María de la Paz Rico Fernández\n",
        "\n",
        "Materia: Ciencia y Analítica de datos\n",
        "\n",
        "Fecha de entrega: 9 de noviembre 2022"
      ]
    },
    {
      "cell_type": "markdown",
      "metadata": {
        "id": "WUO-kdryVQwK"
      },
      "source": [
        "# Linear Models\n"
      ]
    },
    {
      "cell_type": "markdown",
      "metadata": {
        "id": "u3ytB4LpVQwM"
      },
      "source": [
        "- In supervised learning, the training data fed to the algorithm includes the desired solutions, called labels. \n",
        "- In **regression**, the labels are continuous quantities.\n",
        "- Linear models predict by computing a weighted sum of input features plus a bias term."
      ]
    },
    {
      "cell_type": "code",
      "execution_count": null,
      "metadata": {
        "id": "t6UdNUOKLYIP"
      },
      "outputs": [],
      "source": []
    },
    {
      "cell_type": "code",
      "execution_count": null,
      "metadata": {
        "id": "HMp_I4Y6VQwN"
      },
      "outputs": [],
      "source": [
        "import numpy as np\n",
        "%matplotlib inline\n",
        "import matplotlib\n",
        "import matplotlib.pyplot as plt\n",
        "import pandas as pd\n",
        "import seaborn as sns\n",
        "# to make this notebook's output stable across runs\n",
        "np.random.seed(42)"
      ]
    },
    {
      "cell_type": "code",
      "execution_count": null,
      "metadata": {
        "colab": {
          "base_uri": "https://localhost:8080/"
        },
        "id": "exg6xSYf3F5D",
        "outputId": "e7d338a8-51b8-4e80-b8ef-e8f5c3f02e94"
      },
      "outputs": [
        {
          "output_type": "execute_result",
          "data": {
            "text/plain": [
              "3"
            ]
          },
          "metadata": {},
          "execution_count": 2
        }
      ],
      "source": [
        "5-2"
      ]
    },
    {
      "cell_type": "markdown",
      "metadata": {
        "id": "szpzFXgiVQwN"
      },
      "source": [
        "## Simple Linear Regression\n",
        "\n",
        "Simple linear regression equation:\n",
        "\n",
        "$y = ax + b$\n",
        "<br>\n",
        "$a$: slope\n",
        "<br>\n",
        "$b$: intercept\n",
        "\n",
        "Generate linear-looking data with the equation:\n",
        "\n",
        "$y = 3X + 4 + noise$"
      ]
    },
    {
      "cell_type": "code",
      "execution_count": null,
      "metadata": {
        "colab": {
          "base_uri": "https://localhost:8080/"
        },
        "id": "mitJFYeiMQqD",
        "outputId": "6cf5fe87-84b8-4258-bd5a-9c221b956986"
      },
      "outputs": [
        {
          "output_type": "execute_result",
          "data": {
            "text/plain": [
              "array([[0.37454012],\n",
              "       [0.95071431],\n",
              "       [0.73199394],\n",
              "       [0.59865848],\n",
              "       [0.15601864],\n",
              "       [0.15599452],\n",
              "       [0.05808361],\n",
              "       [0.86617615],\n",
              "       [0.60111501],\n",
              "       [0.70807258],\n",
              "       [0.02058449],\n",
              "       [0.96990985],\n",
              "       [0.83244264],\n",
              "       [0.21233911],\n",
              "       [0.18182497],\n",
              "       [0.18340451],\n",
              "       [0.30424224],\n",
              "       [0.52475643],\n",
              "       [0.43194502],\n",
              "       [0.29122914],\n",
              "       [0.61185289],\n",
              "       [0.13949386],\n",
              "       [0.29214465],\n",
              "       [0.36636184],\n",
              "       [0.45606998],\n",
              "       [0.78517596],\n",
              "       [0.19967378],\n",
              "       [0.51423444],\n",
              "       [0.59241457],\n",
              "       [0.04645041],\n",
              "       [0.60754485],\n",
              "       [0.17052412],\n",
              "       [0.06505159],\n",
              "       [0.94888554],\n",
              "       [0.96563203],\n",
              "       [0.80839735],\n",
              "       [0.30461377],\n",
              "       [0.09767211],\n",
              "       [0.68423303],\n",
              "       [0.44015249],\n",
              "       [0.12203823],\n",
              "       [0.49517691],\n",
              "       [0.03438852],\n",
              "       [0.9093204 ],\n",
              "       [0.25877998],\n",
              "       [0.66252228],\n",
              "       [0.31171108],\n",
              "       [0.52006802],\n",
              "       [0.54671028],\n",
              "       [0.18485446],\n",
              "       [0.96958463],\n",
              "       [0.77513282],\n",
              "       [0.93949894],\n",
              "       [0.89482735],\n",
              "       [0.59789998],\n",
              "       [0.92187424],\n",
              "       [0.0884925 ],\n",
              "       [0.19598286],\n",
              "       [0.04522729],\n",
              "       [0.32533033],\n",
              "       [0.38867729],\n",
              "       [0.27134903],\n",
              "       [0.82873751],\n",
              "       [0.35675333],\n",
              "       [0.28093451],\n",
              "       [0.54269608],\n",
              "       [0.14092422],\n",
              "       [0.80219698],\n",
              "       [0.07455064],\n",
              "       [0.98688694],\n",
              "       [0.77224477],\n",
              "       [0.19871568],\n",
              "       [0.00552212],\n",
              "       [0.81546143],\n",
              "       [0.70685734],\n",
              "       [0.72900717],\n",
              "       [0.77127035],\n",
              "       [0.07404465],\n",
              "       [0.35846573],\n",
              "       [0.11586906],\n",
              "       [0.86310343],\n",
              "       [0.62329813],\n",
              "       [0.33089802],\n",
              "       [0.06355835],\n",
              "       [0.31098232],\n",
              "       [0.32518332],\n",
              "       [0.72960618],\n",
              "       [0.63755747],\n",
              "       [0.88721274],\n",
              "       [0.47221493],\n",
              "       [0.11959425],\n",
              "       [0.71324479],\n",
              "       [0.76078505],\n",
              "       [0.5612772 ],\n",
              "       [0.77096718],\n",
              "       [0.4937956 ],\n",
              "       [0.52273283],\n",
              "       [0.42754102],\n",
              "       [0.02541913],\n",
              "       [0.10789143]])"
            ]
          },
          "metadata": {},
          "execution_count": 3
        }
      ],
      "source": [
        "np.random.rand(100, 1)"
      ]
    },
    {
      "cell_type": "code",
      "execution_count": null,
      "metadata": {
        "colab": {
          "base_uri": "https://localhost:8080/",
          "height": 265
        },
        "id": "QyubE1VEVQwN",
        "outputId": "0908b372-ba33-419f-f071-484806179f1a"
      },
      "outputs": [
        {
          "output_type": "display_data",
          "data": {
            "text/plain": [
              "<Figure size 432x288 with 1 Axes>"
            ],
            "image/png": "[encoded data removed]"
          },
          "metadata": {
            "needs_background": "light"
          }
        }
      ],
      "source": [
        "X = 2*np.random.rand(100, 1)\n",
        "y = 4 + 3 * X + np.random.randn(100, 1)\n",
        "plt.scatter(X, y);"
      ]
    },
    {
      "cell_type": "code",
      "execution_count": null,
      "metadata": {
        "colab": {
          "base_uri": "https://localhost:8080/",
          "height": 424
        },
        "id": "M5kaENJ4bZY5",
        "outputId": "ff0bc925-812e-4934-dbfd-d066891720d4"
      },
      "outputs": [
        {
          "output_type": "execute_result",
          "data": {
            "text/plain": [
              "            0\n",
              "0    3.508550\n",
              "1    8.050716\n",
              "2    6.179208\n",
              "3    6.337073\n",
              "4   11.311173\n",
              "..        ...\n",
              "95   5.441928\n",
              "96  10.121188\n",
              "97   9.787643\n",
              "98   8.061635\n",
              "99   9.597115\n",
              "\n",
              "[100 rows x 1 columns]"
            ],
            "text/html": [
              "\n",
              "  <div id=\"df-5ffe9d5e-08e9-4fbd-9cd3-7ab9e0ff99c8\">\n",
              "    <div class=\"colab-df-container\">\n",
              "      <div>\n",
              "<style scoped>\n",
              "    .dataframe tbody tr th:only-of-type {\n",
              "        vertical-align: middle;\n",
              "    }\n",
              "\n",
              "    .dataframe tbody tr th {\n",
              "        vertical-align: top;\n",
              "    }\n",
              "\n",
              "    .dataframe thead th {\n",
              "        text-align: right;\n",
              "    }\n",
              "</style>\n",
              "<table border=\"1\" class=\"dataframe\">\n",
              "  <thead>\n",
              "    <tr style=\"text-align: right;\">\n",
              "      <th></th>\n",
              "      <th>0</th>\n",
              "    </tr>\n",
              "  </thead>\n",
              "  <tbody>\n",
              "    <tr>\n",
              "      <th>0</th>\n",
              "      <td>3.508550</td>\n",
              "    </tr>\n",
              "    <tr>\n",
              "      <th>1</th>\n",
              "      <td>8.050716</td>\n",
              "    </tr>\n",
              "    <tr>\n",
              "      <th>2</th>\n",
              "      <td>6.179208</td>\n",
              "    </tr>\n",
              "    <tr>\n",
              "      <th>3</th>\n",
              "      <td>6.337073</td>\n",
              "    </tr>\n",
              "    <tr>\n",
              "      <th>4</th>\n",
              "      <td>11.311173</td>\n",
              "    </tr>\n",
              "    <tr>\n",
              "      <th>...</th>\n",
              "      <td>...</td>\n",
              "    </tr>\n",
              "    <tr>\n",
              "      <th>95</th>\n",
              "      <td>5.441928</td>\n",
              "    </tr>\n",
              "    <tr>\n",
              "      <th>96</th>\n",
              "      <td>10.121188</td>\n",
              "    </tr>\n",
              "    <tr>\n",
              "      <th>97</th>\n",
              "      <td>9.787643</td>\n",
              "    </tr>\n",
              "    <tr>\n",
              "      <th>98</th>\n",
              "      <td>8.061635</td>\n",
              "    </tr>\n",
              "    <tr>\n",
              "      <th>99</th>\n",
              "      <td>9.597115</td>\n",
              "    </tr>\n",
              "  </tbody>\n",
              "</table>\n",
              "<p>100 rows × 1 columns</p>\n",
              "</div>\n",
              "      <button class=\"colab-df-convert\" onclick=\"convertToInteractive('df-5ffe9d5e-08e9-4fbd-9cd3-7ab9e0ff99c8')\"\n",
              "              title=\"Convert this dataframe to an interactive table.\"\n",
              "              style=\"display:none;\">\n",
              "        \n",
              "  <svg xmlns=\"http://www.w3.org/2000/svg\" height=\"24px\"viewBox=\"0 0 24 24\"\n",
              "       width=\"24px\">\n",
              "    <path d=\"M0 0h24v24H0V0z\" fill=\"none\"/>\n",
              "    <path d=\"M18.56 5.44l.94 2.06.94-2.06 2.06-.94-2.06-.94-.94-2.06-.94 2.06-2.06.94zm-11 1L8.5 8.5l.94-2.06 2.06-.94-2.06-.94L8.5 2.5l-.94 2.06-2.06.94zm10 10l.94 2.06.94-2.06 2.06-.94-2.06-.94-.94-2.06-.94 2.06-2.06.94z\"/><path d=\"M17.41 7.96l-1.37-1.37c-.4-.4-.92-.59-1.43-.59-.52 0-1.04.2-1.43.59L10.3 9.45l-7.72 7.72c-.78.78-.78 2.05 0 2.83L4 21.41c.39.39.9.59 1.41.59.51 0 1.02-.2 1.41-.59l7.78-7.78 2.81-2.81c.8-.78.8-2.07 0-2.86zM5.41 20L4 18.59l7.72-7.72 1.47 1.35L5.41 20z\"/>\n",
              "  </svg>\n",
              "      </button>\n",
              "      \n",
              "  <style>\n",
              "    .colab-df-container {\n",
              "      display:flex;\n",
              "      flex-wrap:wrap;\n",
              "      gap: 12px;\n",
              "    }\n",
              "\n",
              "    .colab-df-convert {\n",
              "      background-color: #E8F0FE;\n",
              "      border: none;\n",
              "      border-radius: 50%;\n",
              "      cursor: pointer;\n",
              "      display: none;\n",
              "      fill: #1967D2;\n",
              "      height: 32px;\n",
              "      padding: 0 0 0 0;\n",
              "      width: 32px;\n",
              "    }\n",
              "\n",
              "    .colab-df-convert:hover {\n",
              "      background-color: #E2EBFA;\n",
              "      box-shadow: 0px 1px 2px rgba(60, 64, 67, 0.3), 0px 1px 3px 1px rgba(60, 64, 67, 0.15);\n",
              "      fill: #174EA6;\n",
              "    }\n",
              "\n",
              "    [theme=dark] .colab-df-convert {\n",
              "      background-color: #3B4455;\n",
              "      fill: #D2E3FC;\n",
              "    }\n",
              "\n",
              "    [theme=dark] .colab-df-convert:hover {\n",
              "      background-color: #434B5C;\n",
              "      box-shadow: 0px 1px 3px 1px rgba(0, 0, 0, 0.15);\n",
              "      filter: drop-shadow(0px 1px 2px rgba(0, 0, 0, 0.3));\n",
              "      fill: #FFFFFF;\n",
              "    }\n",
              "  </style>\n",
              "\n",
              "      <script>\n",
              "        const buttonEl =\n",
              "          document.querySelector('#df-5ffe9d5e-08e9-4fbd-9cd3-7ab9e0ff99c8 button.colab-df-convert');\n",
              "        buttonEl.style.display =\n",
              "          google.colab.kernel.accessAllowed ? 'block' : 'none';\n",
              "\n",
              "        async function convertToInteractive(key) {\n",
              "          const element = document.querySelector('#df-5ffe9d5e-08e9-4fbd-9cd3-7ab9e0ff99c8');\n",
              "          const dataTable =\n",
              "            await google.colab.kernel.invokeFunction('convertToInteractive',\n",
              "                                                     [key], {});\n",
              "          if (!dataTable) return;\n",
              "\n",
              "          const docLinkHtml = 'Like what you see? Visit the ' +\n",
              "            '<a target=\"_blank\" href=https://colab.research.google.com/notebooks/data_table.ipynb>data table notebook</a>'\n",
              "            + ' to learn more about interactive tables.';\n",
              "          element.innerHTML = '';\n",
              "          dataTable['output_type'] = 'display_data';\n",
              "          await google.colab.output.renderOutput(dataTable, element);\n",
              "          const docLink = document.createElement('div');\n",
              "          docLink.innerHTML = docLinkHtml;\n",
              "          element.appendChild(docLink);\n",
              "        }\n",
              "      </script>\n",
              "    </div>\n",
              "  </div>\n",
              "  "
            ]
          },
          "metadata": {},
          "execution_count": 5
        }
      ],
      "source": [
        "import pandas as pd\n",
        "pd.DataFrame(y)"
      ]
    },
    {
      "cell_type": "code",
      "execution_count": null,
      "metadata": {
        "colab": {
          "base_uri": "https://localhost:8080/"
        },
        "id": "x6XGt_iAVQwO",
        "outputId": "1199c66e-063a-4685-9b25-bc454f77817e"
      },
      "outputs": [
        {
          "output_type": "execute_result",
          "data": {
            "text/plain": [
              "LinearRegression()"
            ]
          },
          "metadata": {},
          "execution_count": 6
        }
      ],
      "source": [
        "from sklearn.linear_model import LinearRegression\n",
        "\n",
        "linear_reg = LinearRegression(fit_intercept=True)\n",
        "linear_reg.fit(X, y)"
      ]
    },
    {
      "cell_type": "markdown",
      "metadata": {
        "id": "Hnm9YgjbVQwO"
      },
      "source": [
        "Plot the model's predictions:"
      ]
    },
    {
      "cell_type": "code",
      "execution_count": null,
      "metadata": {
        "id": "9NtrLfGGVQwP"
      },
      "outputs": [],
      "source": [
        "#X_fit[]"
      ]
    },
    {
      "cell_type": "code",
      "execution_count": null,
      "metadata": {
        "colab": {
          "base_uri": "https://localhost:8080/",
          "height": 287
        },
        "id": "1ZTT31igVQwP",
        "outputId": "1254ec6b-629c-467a-e314-2a380c06ac93"
      },
      "outputs": [
        {
          "output_type": "display_data",
          "data": {
            "text/plain": [
              "<Figure size 432x288 with 1 Axes>"
            ],
            "image/png": "[encoded data removed]"
          },
          "metadata": {
            "needs_background": "light"
          }
        }
      ],
      "source": [
        "# construct best fit line\n",
        "X_fit = np.linspace(0, 2, 100)\n",
        "y_fit = linear_reg.predict(X_fit[:, np.newaxis])\n",
        "\n",
        "plt.scatter(X, y)\n",
        "plt.plot(X_fit, y_fit, \"r-\", linewidth=2, label=\"Predictions\")\n",
        "plt.xlabel(\"$X$\", fontsize=18)\n",
        "plt.ylabel(\"$y$\", rotation=0, fontsize=18)\n",
        "plt.legend(loc=\"upper left\", fontsize=14);"
      ]
    },
    {
      "cell_type": "markdown",
      "metadata": {
        "id": "kIfOsEcWVQwP"
      },
      "source": [
        "Predictions are a good fit."
      ]
    },
    {
      "cell_type": "markdown",
      "metadata": {
        "id": "z2VYUeGrVQwQ"
      },
      "source": [
        "Generate new data to make predictions with the model:"
      ]
    },
    {
      "cell_type": "code",
      "execution_count": null,
      "metadata": {
        "colab": {
          "base_uri": "https://localhost:8080/"
        },
        "id": "FuEd0Wp0VQwQ",
        "outputId": "41924651-c035-4463-e7d7-05f9a5301dcc"
      },
      "outputs": [
        {
          "output_type": "execute_result",
          "data": {
            "text/plain": [
              "array([[0],\n",
              "       [2]])"
            ]
          },
          "metadata": {},
          "execution_count": 9
        }
      ],
      "source": [
        "X_new = np.array([[0], [2]])\n",
        "X_new"
      ]
    },
    {
      "cell_type": "code",
      "execution_count": null,
      "metadata": {
        "colab": {
          "base_uri": "https://localhost:8080/"
        },
        "id": "lLCnLm7_VQwQ",
        "outputId": "ddb410b1-1e25-43ef-da24-b3ed9c28a71c"
      },
      "outputs": [
        {
          "output_type": "execute_result",
          "data": {
            "text/plain": [
              "(2, 1)"
            ]
          },
          "metadata": {},
          "execution_count": 10
        }
      ],
      "source": [
        "X_new.shape"
      ]
    },
    {
      "cell_type": "code",
      "execution_count": null,
      "metadata": {
        "colab": {
          "base_uri": "https://localhost:8080/"
        },
        "id": "zJIzUfZsVQwQ",
        "outputId": "65dad372-56af-48c1-b14c-ed47399bb9f4"
      },
      "outputs": [
        {
          "output_type": "execute_result",
          "data": {
            "text/plain": [
              "array([[ 3.74406122],\n",
              "       [10.47517611]])"
            ]
          },
          "metadata": {},
          "execution_count": 11
        }
      ],
      "source": [
        "y_new = linear_reg.predict(X_new)\n",
        "y_new"
      ]
    },
    {
      "cell_type": "code",
      "execution_count": null,
      "metadata": {
        "colab": {
          "base_uri": "https://localhost:8080/"
        },
        "id": "ICiEnkbdVQwQ",
        "outputId": "1e8bcce9-d70f-4acc-fab4-e0db64f6ed17"
      },
      "outputs": [
        {
          "output_type": "execute_result",
          "data": {
            "text/plain": [
              "(array([[3.36555744]]), array([3.74406122]))"
            ]
          },
          "metadata": {},
          "execution_count": 12
        }
      ],
      "source": [
        " linear_reg.coef_, linear_reg.intercept_"
      ]
    },
    {
      "cell_type": "markdown",
      "metadata": {
        "id": "iBXzOecgVQwR"
      },
      "source": [
        "The model estimates:\n",
        "\n",
        "$\\hat{y} = 3.36X + 3.74$"
      ]
    },
    {
      "cell_type": "code",
      "execution_count": null,
      "metadata": {
        "id": "ZNvipq0wQYfj"
      },
      "outputs": [],
      "source": [
        "#|VENTAS|GANANCIAS|\n",
        "#COEF*VENTAS+B\n",
        "#|VENTAS|COMPRAS|GANANCIAS|\n",
        "#COEF1*X1+COEF2*X2+B=Y"
      ]
    },
    {
      "cell_type": "markdown",
      "metadata": {
        "id": "_Rv-RJSnVQwR"
      },
      "source": [
        "## Polynomial Regression\n",
        "\n",
        "If data is more complex than a straight line, you can use a linear model ti fit non-linear data adding powers of each feature as new features and then train a linear model on the extended set of features. "
      ]
    },
    {
      "cell_type": "markdown",
      "metadata": {
        "id": "dPrpAVsZVQwR"
      },
      "source": [
        "$$y = a_0 + a_1x_1 + a_2x_2 + a_3x_3 + ...$$ to $$y = a_0 + a_1x + a_2x^2 + a_3x^3+ ...$$ "
      ]
    },
    {
      "cell_type": "markdown",
      "metadata": {
        "id": "9kjMWzEfVQwR"
      },
      "source": [
        "This is still a linear model, the linearity refers to the fact that the coefficients never multiply or divide each other."
      ]
    },
    {
      "cell_type": "markdown",
      "metadata": {
        "id": "2M3fp_CSVQwR"
      },
      "source": [
        "To generate polynomial data we use the function:\n",
        "\n",
        "$y = 0.50X^2 + X + 2 + noise$"
      ]
    },
    {
      "cell_type": "code",
      "execution_count": null,
      "metadata": {
        "id": "sSrueMnPVQwR"
      },
      "outputs": [],
      "source": [
        "# generate non-linear data e.g. quadratic equation\n",
        "m = 100\n",
        "X = 6 * np.random.rand(m, 1) - 3\n",
        "y = 0.5 * X**2 + X + 2 + np.random.randn(m, 1)"
      ]
    },
    {
      "cell_type": "code",
      "execution_count": null,
      "metadata": {
        "colab": {
          "base_uri": "https://localhost:8080/",
          "height": 291
        },
        "id": "GNQQoXkMVQwS",
        "outputId": "bf52a834-194f-4be5-b4c3-c00a1beac54f"
      },
      "outputs": [
        {
          "output_type": "display_data",
          "data": {
            "text/plain": [
              "<Figure size 432x288 with 1 Axes>"
            ],
            "image/png": "[encoded data removed]"
          },
          "metadata": {
            "needs_background": "light"
          }
        }
      ],
      "source": [
        "plt.plot(X, y, \"b.\")\n",
        "plt.xlabel(\"$x_1$\", fontsize=18)\n",
        "plt.ylabel(\"$y$\", rotation=0, fontsize=18)\n",
        "plt.axis([-3, 3, 0, 10]);"
      ]
    },
    {
      "cell_type": "code",
      "execution_count": null,
      "metadata": {
        "colab": {
          "base_uri": "https://localhost:8080/",
          "height": 424
        },
        "id": "YtaK_dsidNcP",
        "outputId": "766310eb-459f-46f0-c8b4-2987f6ee6b31"
      },
      "outputs": [
        {
          "output_type": "execute_result",
          "data": {
            "text/plain": [
              "           0\n",
              "0   8.529240\n",
              "1   3.768929\n",
              "2   3.354423\n",
              "3   2.747935\n",
              "4   0.808458\n",
              "..       ...\n",
              "95  5.346771\n",
              "96  6.338229\n",
              "97  3.488785\n",
              "98  1.372002\n",
              "99 -0.072150\n",
              "\n",
              "[100 rows x 1 columns]"
            ],
            "text/html": [
              "\n",
              "  <div id=\"df-ba724011-c16e-4869-b718-96e7d61e2fbc\">\n",
              "    <div class=\"colab-df-container\">\n",
              "      <div>\n",
              "<style scoped>\n",
              "    .dataframe tbody tr th:only-of-type {\n",
              "        vertical-align: middle;\n",
              "    }\n",
              "\n",
              "    .dataframe tbody tr th {\n",
              "        vertical-align: top;\n",
              "    }\n",
              "\n",
              "    .dataframe thead th {\n",
              "        text-align: right;\n",
              "    }\n",
              "</style>\n",
              "<table border=\"1\" class=\"dataframe\">\n",
              "  <thead>\n",
              "    <tr style=\"text-align: right;\">\n",
              "      <th></th>\n",
              "      <th>0</th>\n",
              "    </tr>\n",
              "  </thead>\n",
              "  <tbody>\n",
              "    <tr>\n",
              "      <th>0</th>\n",
              "      <td>8.529240</td>\n",
              "    </tr>\n",
              "    <tr>\n",
              "      <th>1</th>\n",
              "      <td>3.768929</td>\n",
              "    </tr>\n",
              "    <tr>\n",
              "      <th>2</th>\n",
              "      <td>3.354423</td>\n",
              "    </tr>\n",
              "    <tr>\n",
              "      <th>3</th>\n",
              "      <td>2.747935</td>\n",
              "    </tr>\n",
              "    <tr>\n",
              "      <th>4</th>\n",
              "      <td>0.808458</td>\n",
              "    </tr>\n",
              "    <tr>\n",
              "      <th>...</th>\n",
              "      <td>...</td>\n",
              "    </tr>\n",
              "    <tr>\n",
              "      <th>95</th>\n",
              "      <td>5.346771</td>\n",
              "    </tr>\n",
              "    <tr>\n",
              "      <th>96</th>\n",
              "      <td>6.338229</td>\n",
              "    </tr>\n",
              "    <tr>\n",
              "      <th>97</th>\n",
              "      <td>3.488785</td>\n",
              "    </tr>\n",
              "    <tr>\n",
              "      <th>98</th>\n",
              "      <td>1.372002</td>\n",
              "    </tr>\n",
              "    <tr>\n",
              "      <th>99</th>\n",
              "      <td>-0.072150</td>\n",
              "    </tr>\n",
              "  </tbody>\n",
              "</table>\n",
              "<p>100 rows × 1 columns</p>\n",
              "</div>\n",
              "      <button class=\"colab-df-convert\" onclick=\"convertToInteractive('df-ba724011-c16e-4869-b718-96e7d61e2fbc')\"\n",
              "              title=\"Convert this dataframe to an interactive table.\"\n",
              "              style=\"display:none;\">\n",
              "        \n",
              "  <svg xmlns=\"http://www.w3.org/2000/svg\" height=\"24px\"viewBox=\"0 0 24 24\"\n",
              "       width=\"24px\">\n",
              "    <path d=\"M0 0h24v24H0V0z\" fill=\"none\"/>\n",
              "    <path d=\"M18.56 5.44l.94 2.06.94-2.06 2.06-.94-2.06-.94-.94-2.06-.94 2.06-2.06.94zm-11 1L8.5 8.5l.94-2.06 2.06-.94-2.06-.94L8.5 2.5l-.94 2.06-2.06.94zm10 10l.94 2.06.94-2.06 2.06-.94-2.06-.94-.94-2.06-.94 2.06-2.06.94z\"/><path d=\"M17.41 7.96l-1.37-1.37c-.4-.4-.92-.59-1.43-.59-.52 0-1.04.2-1.43.59L10.3 9.45l-7.72 7.72c-.78.78-.78 2.05 0 2.83L4 21.41c.39.39.9.59 1.41.59.51 0 1.02-.2 1.41-.59l7.78-7.78 2.81-2.81c.8-.78.8-2.07 0-2.86zM5.41 20L4 18.59l7.72-7.72 1.47 1.35L5.41 20z\"/>\n",
              "  </svg>\n",
              "      </button>\n",
              "      \n",
              "  <style>\n",
              "    .colab-df-container {\n",
              "      display:flex;\n",
              "      flex-wrap:wrap;\n",
              "      gap: 12px;\n",
              "    }\n",
              "\n",
              "    .colab-df-convert {\n",
              "      background-color: #E8F0FE;\n",
              "      border: none;\n",
              "      border-radius: 50%;\n",
              "      cursor: pointer;\n",
              "      display: none;\n",
              "      fill: #1967D2;\n",
              "      height: 32px;\n",
              "      padding: 0 0 0 0;\n",
              "      width: 32px;\n",
              "    }\n",
              "\n",
              "    .colab-df-convert:hover {\n",
              "      background-color: #E2EBFA;\n",
              "      box-shadow: 0px 1px 2px rgba(60, 64, 67, 0.3), 0px 1px 3px 1px rgba(60, 64, 67, 0.15);\n",
              "      fill: #174EA6;\n",
              "    }\n",
              "\n",
              "    [theme=dark] .colab-df-convert {\n",
              "      background-color: #3B4455;\n",
              "      fill: #D2E3FC;\n",
              "    }\n",
              "\n",
              "    [theme=dark] .colab-df-convert:hover {\n",
              "      background-color: #434B5C;\n",
              "      box-shadow: 0px 1px 3px 1px rgba(0, 0, 0, 0.15);\n",
              "      filter: drop-shadow(0px 1px 2px rgba(0, 0, 0, 0.3));\n",
              "      fill: #FFFFFF;\n",
              "    }\n",
              "  </style>\n",
              "\n",
              "      <script>\n",
              "        const buttonEl =\n",
              "          document.querySelector('#df-ba724011-c16e-4869-b718-96e7d61e2fbc button.colab-df-convert');\n",
              "        buttonEl.style.display =\n",
              "          google.colab.kernel.accessAllowed ? 'block' : 'none';\n",
              "\n",
              "        async function convertToInteractive(key) {\n",
              "          const element = document.querySelector('#df-ba724011-c16e-4869-b718-96e7d61e2fbc');\n",
              "          const dataTable =\n",
              "            await google.colab.kernel.invokeFunction('convertToInteractive',\n",
              "                                                     [key], {});\n",
              "          if (!dataTable) return;\n",
              "\n",
              "          const docLinkHtml = 'Like what you see? Visit the ' +\n",
              "            '<a target=\"_blank\" href=https://colab.research.google.com/notebooks/data_table.ipynb>data table notebook</a>'\n",
              "            + ' to learn more about interactive tables.';\n",
              "          element.innerHTML = '';\n",
              "          dataTable['output_type'] = 'display_data';\n",
              "          await google.colab.output.renderOutput(dataTable, element);\n",
              "          const docLink = document.createElement('div');\n",
              "          docLink.innerHTML = docLinkHtml;\n",
              "          element.appendChild(docLink);\n",
              "        }\n",
              "      </script>\n",
              "    </div>\n",
              "  </div>\n",
              "  "
            ]
          },
          "metadata": {},
          "execution_count": 16
        }
      ],
      "source": [
        "import pandas as pd\n",
        "pd.DataFrame(y)"
      ]
    },
    {
      "cell_type": "markdown",
      "metadata": {
        "id": "vrZTRaLNVQwS"
      },
      "source": [
        "Now we can use `PolynomialFeatues` to transform training data adding the square of each feature as new features."
      ]
    },
    {
      "cell_type": "code",
      "execution_count": null,
      "metadata": {
        "id": "BXo0Hm56VQwS"
      },
      "outputs": [],
      "source": [
        "from sklearn.preprocessing import PolynomialFeatures\n",
        "\n",
        "poly_features = PolynomialFeatures(degree=2, include_bias=False)\n",
        "X_poly = poly_features.fit_transform(X)"
      ]
    },
    {
      "cell_type": "code",
      "execution_count": null,
      "metadata": {
        "colab": {
          "base_uri": "https://localhost:8080/"
        },
        "id": "1FqY9-I4VQwS",
        "outputId": "567572d4-b893-46a6-e158-de1006d424bc"
      },
      "outputs": [
        {
          "output_type": "execute_result",
          "data": {
            "text/plain": [
              "array([[ 2.72919168e+00,  7.44848725e+00],\n",
              "       [ 1.42738150e+00,  2.03741795e+00],\n",
              "       [ 3.26124315e-01,  1.06357069e-01],\n",
              "       [ 6.70324477e-01,  4.49334905e-01],\n",
              "       [-4.82399625e-01,  2.32709399e-01],\n",
              "       [-1.51361406e+00,  2.29102753e+00],\n",
              "       [-8.64163928e-01,  7.46779295e-01],\n",
              "       [ 1.54707666e+00,  2.39344620e+00],\n",
              "       [-2.91363907e+00,  8.48929262e+00],\n",
              "       [-2.30356416e+00,  5.30640783e+00],\n",
              "       [-2.72398415e+00,  7.42008964e+00],\n",
              "       [-2.75562719e+00,  7.59348119e+00],\n",
              "       [ 2.13276350e+00,  4.54868016e+00],\n",
              "       [ 1.22194716e+00,  1.49315485e+00],\n",
              "       [-1.54957025e-01,  2.40116797e-02],\n",
              "       [-2.41299504e+00,  5.82254504e+00],\n",
              "       [-5.03047493e-02,  2.53056780e-03],\n",
              "       [-1.59169375e-01,  2.53348900e-02],\n",
              "       [-1.96078878e+00,  3.84469264e+00],\n",
              "       [-3.96890105e-01,  1.57521755e-01],\n",
              "       [-6.08971594e-01,  3.70846402e-01],\n",
              "       [ 6.95100588e-01,  4.83164828e-01],\n",
              "       [ 8.10561905e-01,  6.57010602e-01],\n",
              "       [-2.72817594e+00,  7.44294397e+00],\n",
              "       [-7.52324312e-01,  5.65991871e-01],\n",
              "       [ 7.55159494e-01,  5.70265862e-01],\n",
              "       [ 1.88175515e-02,  3.54100244e-04],\n",
              "       [ 2.13893905e+00,  4.57506025e+00],\n",
              "       [ 9.52161790e-01,  9.06612074e-01],\n",
              "       [-2.02239344e+00,  4.09007522e+00],\n",
              "       [-2.57658752e+00,  6.63880323e+00],\n",
              "       [ 8.54515669e-01,  7.30197029e-01],\n",
              "       [-2.84093214e+00,  8.07089541e+00],\n",
              "       [ 5.14653488e-01,  2.64868212e-01],\n",
              "       [ 2.64138145e+00,  6.97689596e+00],\n",
              "       [ 4.52845067e-01,  2.05068655e-01],\n",
              "       [-6.70980443e-01,  4.50214755e-01],\n",
              "       [ 8.59729311e-01,  7.39134488e-01],\n",
              "       [-2.50482657e-01,  6.27415615e-02],\n",
              "       [ 2.73700736e-01,  7.49120928e-02],\n",
              "       [ 2.64878885e+00,  7.01608239e+00],\n",
              "       [-6.83384173e-01,  4.67013928e-01],\n",
              "       [ 2.76714338e+00,  7.65708250e+00],\n",
              "       [ 2.43210385e+00,  5.91512915e+00],\n",
              "       [-1.82525319e+00,  3.33154921e+00],\n",
              "       [-2.58383219e+00,  6.67618881e+00],\n",
              "       [-2.39533199e+00,  5.73761535e+00],\n",
              "       [-2.89066905e+00,  8.35596753e+00],\n",
              "       [-2.43334224e+00,  5.92115443e+00],\n",
              "       [ 1.09804064e+00,  1.20569325e+00],\n",
              "       [-2.57286811e+00,  6.61965031e+00],\n",
              "       [-1.08614622e+00,  1.17971361e+00],\n",
              "       [ 2.06925187e+00,  4.28180328e+00],\n",
              "       [-2.86036839e+00,  8.18170730e+00],\n",
              "       [ 1.88681090e+00,  3.56005536e+00],\n",
              "       [-1.30887135e+00,  1.71314421e+00],\n",
              "       [-2.29101103e+00,  5.24873156e+00],\n",
              "       [ 1.18042299e+00,  1.39339844e+00],\n",
              "       [ 7.73657081e-01,  5.98545278e-01],\n",
              "       [ 2.26483208e+00,  5.12946436e+00],\n",
              "       [ 1.41042626e+00,  1.98930224e+00],\n",
              "       [ 1.82088558e+00,  3.31562430e+00],\n",
              "       [-1.30779256e+00,  1.71032139e+00],\n",
              "       [-1.93536274e+00,  3.74562893e+00],\n",
              "       [ 1.50368851e+00,  2.26107913e+00],\n",
              "       [ 1.84100844e+00,  3.38931206e+00],\n",
              "       [ 2.94303085e+00,  8.66143060e+00],\n",
              "       [-5.24293939e-01,  2.74884134e-01],\n",
              "       [-7.67891485e-01,  5.89657333e-01],\n",
              "       [ 1.65847776e+00,  2.75054850e+00],\n",
              "       [-9.55178758e-01,  9.12366461e-01],\n",
              "       [ 2.58454395e+00,  6.67986745e+00],\n",
              "       [ 2.15047651e+00,  4.62454922e+00],\n",
              "       [-4.26035836e-01,  1.81506533e-01],\n",
              "       [ 1.50522641e+00,  2.26570654e+00],\n",
              "       [ 1.52725724e+00,  2.33251469e+00],\n",
              "       [-2.38125679e+00,  5.67038389e+00],\n",
              "       [ 2.41531744e+00,  5.83375834e+00],\n",
              "       [ 3.15142347e-02,  9.93146988e-04],\n",
              "       [ 1.95874480e+00,  3.83668118e+00],\n",
              "       [-1.07970239e+00,  1.16575726e+00],\n",
              "       [ 2.37313937e+00,  5.63179047e+00],\n",
              "       [-6.64789928e-01,  4.41945648e-01],\n",
              "       [-2.93497409e+00,  8.61407292e+00],\n",
              "       [ 2.43229186e+00,  5.91604369e+00],\n",
              "       [-2.45227994e+00,  6.01367690e+00],\n",
              "       [-1.08411817e+00,  1.17531222e+00],\n",
              "       [ 2.70037180e+00,  7.29200787e+00],\n",
              "       [ 2.70364288e+00,  7.30968483e+00],\n",
              "       [ 4.40627329e-01,  1.94152443e-01],\n",
              "       [ 7.91023273e-01,  6.25717818e-01],\n",
              "       [-3.09326868e-01,  9.56831113e-02],\n",
              "       [-1.24073537e+00,  1.53942426e+00],\n",
              "       [-1.02801273e+00,  1.05681017e+00],\n",
              "       [ 1.03511074e+00,  1.07145424e+00],\n",
              "       [ 1.51424718e+00,  2.29294451e+00],\n",
              "       [ 1.74947426e+00,  3.06066019e+00],\n",
              "       [ 1.73770886e+00,  3.01963207e+00],\n",
              "       [-2.45276338e+00,  6.01604821e+00],\n",
              "       [-3.34781718e-02,  1.12078799e-03]])"
            ]
          },
          "metadata": {},
          "execution_count": 18
        }
      ],
      "source": [
        "X_poly"
      ]
    },
    {
      "cell_type": "markdown",
      "metadata": {
        "id": "GrFMRU_eVQwS"
      },
      "source": [
        "`X_poly` now contains the original feature of X plus the square of the feature:"
      ]
    },
    {
      "cell_type": "code",
      "execution_count": null,
      "metadata": {
        "colab": {
          "base_uri": "https://localhost:8080/"
        },
        "id": "M8FH1dY2UwgN",
        "outputId": "eec49f90-3aa7-4710-e623-8c16b8032008"
      },
      "outputs": [
        {
          "output_type": "stream",
          "name": "stdout",
          "text": [
            "[2.72919168]\n",
            "[7.44848725]\n"
          ]
        }
      ],
      "source": [
        "print(X[0])\n",
        "print(X[0]*X[0])\n"
      ]
    },
    {
      "cell_type": "code",
      "execution_count": null,
      "metadata": {
        "colab": {
          "base_uri": "https://localhost:8080/"
        },
        "id": "PSflPniWVQwT",
        "outputId": "35065bea-e92a-445d-d9b4-57cdbafd4d69"
      },
      "outputs": [
        {
          "output_type": "execute_result",
          "data": {
            "text/plain": [
              "array([2.72919168, 7.44848725])"
            ]
          },
          "metadata": {},
          "execution_count": 20
        }
      ],
      "source": [
        "X_poly[0]"
      ]
    },
    {
      "cell_type": "markdown",
      "metadata": {
        "id": "HaXjXg7FVQwT"
      },
      "source": [
        "Fit the model to this extended training data:"
      ]
    },
    {
      "cell_type": "code",
      "execution_count": null,
      "metadata": {
        "colab": {
          "base_uri": "https://localhost:8080/"
        },
        "id": "c0Qu93dgVQwT",
        "outputId": "ddacca4a-338a-4a24-c895-7309801edd36"
      },
      "outputs": [
        {
          "output_type": "execute_result",
          "data": {
            "text/plain": [
              "(array([[1.04271531, 0.50866711]]), array([2.01873554]))"
            ]
          },
          "metadata": {},
          "execution_count": 21
        }
      ],
      "source": [
        "lin_reg = LinearRegression(fit_intercept=True)\n",
        "lin_reg.fit(X_poly, y)\n",
        "lin_reg.coef_, lin_reg.intercept_"
      ]
    },
    {
      "cell_type": "markdown",
      "metadata": {
        "id": "rKOSwvnmVQwT"
      },
      "source": [
        "The model estimates:\n",
        "\n",
        "$\\hat{y} =  0.89X +0.48X^2 + 2.09$"
      ]
    },
    {
      "cell_type": "markdown",
      "metadata": {
        "id": "_EtZEKz5VQwT"
      },
      "source": [
        "Plot the data and the predictions:"
      ]
    },
    {
      "cell_type": "code",
      "execution_count": null,
      "metadata": {
        "colab": {
          "base_uri": "https://localhost:8080/",
          "height": 291
        },
        "id": "6Q8dHRgdVQwT",
        "outputId": "c3d7055b-81ec-4774-89ed-d72f6da5b9da"
      },
      "outputs": [
        {
          "output_type": "display_data",
          "data": {
            "text/plain": [
              "<Figure size 432x288 with 1 Axes>"
            ],
            "image/png": "[encoded data removed]"
          },
          "metadata": {
            "needs_background": "light"
          }
        }
      ],
      "source": [
        "X_new=np.linspace(-3, 3, 100).reshape(100, 1)\n",
        "X_new_poly = poly_features.transform(X_new)\n",
        "y_new = lin_reg.predict(X_new_poly)\n",
        "plt.plot(X, y, \"b.\")\n",
        "plt.plot(X_new, y_new, \"r-\", linewidth=2, label=\"Predictions\")\n",
        "plt.xlabel(\"$x_1$\", fontsize=18)\n",
        "plt.ylabel(\"$y$\", rotation=0, fontsize=18)\n",
        "plt.legend(loc=\"upper left\", fontsize=14)\n",
        "plt.axis([-3, 3, 0, 10]);"
      ]
    },
    {
      "cell_type": "code",
      "execution_count": null,
      "metadata": {
        "id": "vyq0o8f2pcqa"
      },
      "outputs": [],
      "source": []
    },
    {
      "cell_type": "markdown",
      "metadata": {
        "id": "TIFwAtW1pc6h"
      },
      "source": [
        "## R square\n",
        "\n",
        "R² es una medida estadística de qué tan cerca están los datos de la línea de regresión ajustada. También se conoce como el coeficiente de determinación o el coeficiente de determinación múltiple para la regresión múltiple. Para decirlo en un lenguaje más simple, R² es una medida de ajuste para los modelos de regresión lineal.\n",
        "\n",
        "\n",
        "\n",
        "R² no indica si un modelo de regresión se ajusta adecuadamente a sus datos. Un buen modelo puede tener un valor R² bajo. Por otro lado, un modelo sesgado puede tener un valor alto de R².\n",
        "\n",
        " SSres + SSreg = SStot, R² = Explained variation / Total Variation\n",
        " \n",
        " ![image.png](https://i.stack.imgur.com/xb1VY.png)\n",
        " \n",
        "![image.png](https://3.bp.blogspot.com/-MFqQLwbGwd4/WMO7tz39beI/AAAAAAAAF9I/Bjpfohgv_5E4lu7HzHJBQtXsBM--byqPwCLcB/s1600/rsquared.png)\n"
      ]
    },
    {
      "cell_type": "code",
      "execution_count": null,
      "metadata": {
        "id": "jkNu0ngPuCAf"
      },
      "outputs": [],
      "source": []
    },
    {
      "cell_type": "markdown",
      "metadata": {
        "id": "8jkzLp6YuChk"
      },
      "source": [
        "# Funciones"
      ]
    },
    {
      "cell_type": "markdown",
      "metadata": {
        "id": "BTIW2C5buChk"
      },
      "source": [
        "## Gráficas"
      ]
    },
    {
      "cell_type": "code",
      "execution_count": null,
      "metadata": {
        "id": "kOH1egpeuChk"
      },
      "outputs": [],
      "source": [
        "#Esta función crea la gráfica para visualizar los modelos creados, su argumento son tres valores, donde:\n",
        "#modelo debe pasarse entre comillas, ya que es un objeto para añadir título\n",
        "#yPred=predicción que genera el modelo\n",
        "#x_Train,y_Train= los datos provenientes de la partición\n",
        "def graficar(modelo,yPred,x_Train,y_Train):\n",
        "  #Se establece el tamaño de la figura\n",
        "  plt.figure(figsize = (8,5))\n",
        "  #Se realiza un gráfico de dispersión para los datos en x,y\n",
        "  plt.scatter(x_Train, y_Train, label=\"Datos\")\n",
        "  #Se gráfica la estimación generada por el modelo\n",
        "  plt.plot(x_Train, yPred, \"r-\", linewidth=2, label=\"Predicciones\")\n",
        "  #Se le coloca título a la gráfica, basado en el objeto modelo\n",
        "  plt.title(modelo,fontsize=18)\n",
        "  #Se etiqueta el eje x, y\n",
        "  plt.xlabel(\"$X$\", fontsize=18)\n",
        "  plt.ylabel(\"$y$\", rotation=0, fontsize=18)\n",
        "  #Se añade una leyenda para identificar la información contenida en la gráfica\n",
        "  plt.legend(loc=\"upper left\", fontsize=14);"
      ]
    },
    {
      "cell_type": "markdown",
      "metadata": {
        "id": "X-cyz1LYuChk"
      },
      "source": [
        "## Errores y R^2"
      ]
    },
    {
      "cell_type": "code",
      "execution_count": null,
      "metadata": {
        "id": "Brhm7rxuj0i-"
      },
      "outputs": [],
      "source": [
        "#Mandamos llamar la librería sklearn con las funciones \n",
        "#correspondientes a los errores y R^2\n",
        "from sklearn import metrics\n",
        "from sklearn.metrics import r2_score\n",
        "\n",
        "#Creamos listas para almacenas el error MAE para el conjunto de prueba y entrenamiento,\n",
        "#tanto para el ejercicio 1, como también para el dos. En este caso, serían 4 listas\n",
        "#De igual forma se crean listas para R^2, también para el conjunto de entrenamiento \n",
        "#y prueba, para ambos ejercicios.\n",
        "listaMAE_train_E1=[]\n",
        "listaR_train_E1=[]\n",
        "listaMAE_train_E2=[]\n",
        "listaR_train_E2=[]\n",
        "\n",
        "listaMAE_test_E1=[]\n",
        "listaR_test_E1=[]\n",
        "listaMAE_test_E2=[]\n",
        "listaR_test_E2=[]\n",
        "#La creación de las listas nos sirve para generar posteriomente sus gráficas\n",
        "\n",
        "#Se crea la función que calcula a MAE y R^2, cuyos argumentos son:\n",
        "#yTrain= datos generados de la partición del universo de datos para ese ejercicio\n",
        "#yHat= estimación generada por el modelo\n",
        "#ejercicio= correspondiente tal cual al ejercicio '1' o '2'. Esta diferenciación nos ayuda a\n",
        "#definir en qué lista se debe guardar el resultado para su posterior visualziación\n",
        "#datos= 'prueba' o 'entrenamiento', pasado como objeto (es decir, entre comillas), lo que\n",
        "#también nos ayuda a colocar los resultados en la lista correcta\n",
        "def erroresR2(yTrain,yHat,ejercicio,datos):\n",
        "  #Se calcula el MAE, basado en Y real, Y estimada. Se redondea a 4 decimales significativos\n",
        "  print('Error medio Absoluto (MAE):', (metrics.mean_absolute_error(yTrain, yHat)).round(4))\n",
        "  #Se calcula el RMSE, basado en Y real, Y estimada. Se redondea a 4 decimales significativos\n",
        "  print('Root Mean Squared Error (RMSE):', (np.sqrt(metrics.mean_squared_error(yTrain, yHat))).round(4))\n",
        "  #Se calcula R^2, basado en Y real, Y estimada. Se redondea a 4 decimales significativos\n",
        "  print('R^2_score',r2_score(yTrain, yHat).round(4))\n",
        "  #Esta sección está formada por una serie de condicionales que nos ayudan a colocar los resultados\n",
        "  #(en realidad se vuelven a estimar) en la lista adecuada. Esto es necesario para mandar llamar \n",
        "  #posteriomente la lista en las gráficas y poder seguir utilizando la función sin crear ninguna\n",
        "  #variable global. Los errores y R^2 se vuelven a estimar ya que no son computacionalmente muy costosas\n",
        "  #y guardarlas e indexarlas podría hacer más confuso el código\n",
        "  #Por tanto, las condiciones son:\n",
        "  #Si es el ejercicio uno y los datos son de entrenamiento, usa la lista pertinente\n",
        "  if (ejercicio==1 and datos=='entrenamiento'):\n",
        "    listaMAE_train_E1.append(metrics.mean_absolute_error(yTrain, yHat))\n",
        "    listaR_train_E1.append(r2_score(yTrain, yHat))\n",
        "  #O si es el ejercicio uno y los datos son de prueba, usa la lista pertinente\n",
        "  elif (ejercicio==1 and datos=='prueba'):\n",
        "    listaMAE_test_E1.append(metrics.mean_absolute_error(yTrain, yHat))\n",
        "    listaR_test_E1.append(r2_score(yTrain, yHat))\n",
        "  #O si es el ejercicio dos y los datos son de entrenamiento, usa la lista pertinente\n",
        "  elif (ejercicio==2 and datos=='entrenamiento'):\n",
        "    listaMAE_train_E2.append(metrics.mean_absolute_error(yTrain, yHat))\n",
        "    listaR_train_E2.append(r2_score(yTrain, yHat))\n",
        "  #O si es el ejercicio dos y los datos son de prueba, usa la lista pertinente\n",
        "  elif (ejercicio==2 and datos=='prueba'):\n",
        "    listaMAE_test_E2.append(metrics.mean_absolute_error(yTrain, yHat))\n",
        "    listaR_test_E2.append(r2_score(yTrain, yHat))\n",
        "  #Y si no es ninguna de las opciones anteriores, no es una combinación válida\n",
        "  else:\n",
        "    print('Opción inválida')"
      ]
    },
    {
      "cell_type": "markdown",
      "metadata": {
        "id": "nTKFj4x9LMXm"
      },
      "source": [
        "# Ejercicio 1\n",
        "\n",
        "Utiliza la base de datos de \n",
        "https://www.kaggle.com/vinicius150987/manufacturing-cost\n",
        "\n",
        "Suponga que trabaja como consultor de una empresa de nueva creación que busca desarrollar un modelo para estimar el costo de los bienes vendidos a medida que varían el volumen de producción (número de unidades producidas). La startup recopiló datos y le pidió que desarrollara un modelo para predecir su costo frente a la cantidad de unidades vendidas."
      ]
    },
    {
      "cell_type": "code",
      "execution_count": null,
      "metadata": {
        "colab": {
          "base_uri": "https://localhost:8080/",
          "height": 363
        },
        "id": "oTnErQOkL3oa",
        "outputId": "4d38a151-e1b0-45a2-d444-5d568fb7b977"
      },
      "outputs": [
        {
          "output_type": "execute_result",
          "data": {
            "text/plain": [
              "     Number of Units  Manufacturing Cost\n",
              "968         7.065653           27.804027\n",
              "212         3.372115           41.127212\n",
              "416         4.194513           43.832711\n",
              "677         5.068888           41.225741\n",
              "550         4.604122           37.569764\n",
              "764         5.389522           31.191501\n",
              "386         4.104190           42.988730\n",
              "339         3.942214           46.291435\n",
              "82          2.665856           48.578425\n",
              "487         4.399514           37.567914"
            ],
            "text/html": [
              "\n",
              "  <div id=\"df-480b9b71-af1e-4fa2-ba17-86c64a3806f0\">\n",
              "    <div class=\"colab-df-container\">\n",
              "      <div>\n",
              "<style scoped>\n",
              "    .dataframe tbody tr th:only-of-type {\n",
              "        vertical-align: middle;\n",
              "    }\n",
              "\n",
              "    .dataframe tbody tr th {\n",
              "        vertical-align: top;\n",
              "    }\n",
              "\n",
              "    .dataframe thead th {\n",
              "        text-align: right;\n",
              "    }\n",
              "</style>\n",
              "<table border=\"1\" class=\"dataframe\">\n",
              "  <thead>\n",
              "    <tr style=\"text-align: right;\">\n",
              "      <th></th>\n",
              "      <th>Number of Units</th>\n",
              "      <th>Manufacturing Cost</th>\n",
              "    </tr>\n",
              "  </thead>\n",
              "  <tbody>\n",
              "    <tr>\n",
              "      <th>968</th>\n",
              "      <td>7.065653</td>\n",
              "      <td>27.804027</td>\n",
              "    </tr>\n",
              "    <tr>\n",
              "      <th>212</th>\n",
              "      <td>3.372115</td>\n",
              "      <td>41.127212</td>\n",
              "    </tr>\n",
              "    <tr>\n",
              "      <th>416</th>\n",
              "      <td>4.194513</td>\n",
              "      <td>43.832711</td>\n",
              "    </tr>\n",
              "    <tr>\n",
              "      <th>677</th>\n",
              "      <td>5.068888</td>\n",
              "      <td>41.225741</td>\n",
              "    </tr>\n",
              "    <tr>\n",
              "      <th>550</th>\n",
              "      <td>4.604122</td>\n",
              "      <td>37.569764</td>\n",
              "    </tr>\n",
              "    <tr>\n",
              "      <th>764</th>\n",
              "      <td>5.389522</td>\n",
              "      <td>31.191501</td>\n",
              "    </tr>\n",
              "    <tr>\n",
              "      <th>386</th>\n",
              "      <td>4.104190</td>\n",
              "      <td>42.988730</td>\n",
              "    </tr>\n",
              "    <tr>\n",
              "      <th>339</th>\n",
              "      <td>3.942214</td>\n",
              "      <td>46.291435</td>\n",
              "    </tr>\n",
              "    <tr>\n",
              "      <th>82</th>\n",
              "      <td>2.665856</td>\n",
              "      <td>48.578425</td>\n",
              "    </tr>\n",
              "    <tr>\n",
              "      <th>487</th>\n",
              "      <td>4.399514</td>\n",
              "      <td>37.567914</td>\n",
              "    </tr>\n",
              "  </tbody>\n",
              "</table>\n",
              "</div>\n",
              "      <button class=\"colab-df-convert\" onclick=\"convertToInteractive('df-480b9b71-af1e-4fa2-ba17-86c64a3806f0')\"\n",
              "              title=\"Convert this dataframe to an interactive table.\"\n",
              "              style=\"display:none;\">\n",
              "        \n",
              "  <svg xmlns=\"http://www.w3.org/2000/svg\" height=\"24px\"viewBox=\"0 0 24 24\"\n",
              "       width=\"24px\">\n",
              "    <path d=\"M0 0h24v24H0V0z\" fill=\"none\"/>\n",
              "    <path d=\"M18.56 5.44l.94 2.06.94-2.06 2.06-.94-2.06-.94-.94-2.06-.94 2.06-2.06.94zm-11 1L8.5 8.5l.94-2.06 2.06-.94-2.06-.94L8.5 2.5l-.94 2.06-2.06.94zm10 10l.94 2.06.94-2.06 2.06-.94-2.06-.94-.94-2.06-.94 2.06-2.06.94z\"/><path d=\"M17.41 7.96l-1.37-1.37c-.4-.4-.92-.59-1.43-.59-.52 0-1.04.2-1.43.59L10.3 9.45l-7.72 7.72c-.78.78-.78 2.05 0 2.83L4 21.41c.39.39.9.59 1.41.59.51 0 1.02-.2 1.41-.59l7.78-7.78 2.81-2.81c.8-.78.8-2.07 0-2.86zM5.41 20L4 18.59l7.72-7.72 1.47 1.35L5.41 20z\"/>\n",
              "  </svg>\n",
              "      </button>\n",
              "      \n",
              "  <style>\n",
              "    .colab-df-container {\n",
              "      display:flex;\n",
              "      flex-wrap:wrap;\n",
              "      gap: 12px;\n",
              "    }\n",
              "\n",
              "    .colab-df-convert {\n",
              "      background-color: #E8F0FE;\n",
              "      border: none;\n",
              "      border-radius: 50%;\n",
              "      cursor: pointer;\n",
              "      display: none;\n",
              "      fill: #1967D2;\n",
              "      height: 32px;\n",
              "      padding: 0 0 0 0;\n",
              "      width: 32px;\n",
              "    }\n",
              "\n",
              "    .colab-df-convert:hover {\n",
              "      background-color: #E2EBFA;\n",
              "      box-shadow: 0px 1px 2px rgba(60, 64, 67, 0.3), 0px 1px 3px 1px rgba(60, 64, 67, 0.15);\n",
              "      fill: #174EA6;\n",
              "    }\n",
              "\n",
              "    [theme=dark] .colab-df-convert {\n",
              "      background-color: #3B4455;\n",
              "      fill: #D2E3FC;\n",
              "    }\n",
              "\n",
              "    [theme=dark] .colab-df-convert:hover {\n",
              "      background-color: #434B5C;\n",
              "      box-shadow: 0px 1px 3px 1px rgba(0, 0, 0, 0.15);\n",
              "      filter: drop-shadow(0px 1px 2px rgba(0, 0, 0, 0.3));\n",
              "      fill: #FFFFFF;\n",
              "    }\n",
              "  </style>\n",
              "\n",
              "      <script>\n",
              "        const buttonEl =\n",
              "          document.querySelector('#df-480b9b71-af1e-4fa2-ba17-86c64a3806f0 button.colab-df-convert');\n",
              "        buttonEl.style.display =\n",
              "          google.colab.kernel.accessAllowed ? 'block' : 'none';\n",
              "\n",
              "        async function convertToInteractive(key) {\n",
              "          const element = document.querySelector('#df-480b9b71-af1e-4fa2-ba17-86c64a3806f0');\n",
              "          const dataTable =\n",
              "            await google.colab.kernel.invokeFunction('convertToInteractive',\n",
              "                                                     [key], {});\n",
              "          if (!dataTable) return;\n",
              "\n",
              "          const docLinkHtml = 'Like what you see? Visit the ' +\n",
              "            '<a target=\"_blank\" href=https://colab.research.google.com/notebooks/data_table.ipynb>data table notebook</a>'\n",
              "            + ' to learn more about interactive tables.';\n",
              "          element.innerHTML = '';\n",
              "          dataTable['output_type'] = 'display_data';\n",
              "          await google.colab.output.renderOutput(dataTable, element);\n",
              "          const docLink = document.createElement('div');\n",
              "          docLink.innerHTML = docLinkHtml;\n",
              "          element.appendChild(docLink);\n",
              "        }\n",
              "      </script>\n",
              "    </div>\n",
              "  </div>\n",
              "  "
            ]
          },
          "metadata": {},
          "execution_count": 25
        }
      ],
      "source": [
        "#Este es el código original del notebook, donde se cargan los datos\n",
        "import pandas as pd\n",
        "df = pd.read_csv('https://raw.githubusercontent.com/marypazrf/bdd/main/EconomiesOfScale.csv')\n",
        "df.sample(10)"
      ]
    },
    {
      "cell_type": "code",
      "execution_count": null,
      "metadata": {
        "id": "14kGO5nkMGlV"
      },
      "outputs": [],
      "source": [
        "#Se indexa a X,y del dataframe\n",
        "X = df[['Number of Units']]\n",
        "y = df['Manufacturing Cost']"
      ]
    },
    {
      "cell_type": "markdown",
      "metadata": {
        "id": "4kuQWlr0PHuv"
      },
      "source": [
        "Se analizan las variables X,y"
      ]
    },
    {
      "cell_type": "code",
      "execution_count": null,
      "metadata": {
        "colab": {
          "base_uri": "https://localhost:8080/"
        },
        "id": "ksh_OrkjY3GW",
        "outputId": "023718b5-49d6-4fab-9b0f-21e5f9773630"
      },
      "outputs": [
        {
          "output_type": "execute_result",
          "data": {
            "text/plain": [
              "1000"
            ]
          },
          "metadata": {},
          "execution_count": 27
        }
      ],
      "source": [
        "len(X)"
      ]
    },
    {
      "cell_type": "code",
      "execution_count": null,
      "metadata": {
        "colab": {
          "base_uri": "https://localhost:8080/"
        },
        "id": "bwR6SSqQDfC2",
        "outputId": "d8fa6723-c801-4429-c2fd-35e54265bca4"
      },
      "outputs": [
        {
          "output_type": "execute_result",
          "data": {
            "text/plain": [
              "<bound method NDFrame.describe of 0      95.066056\n",
              "1      96.531750\n",
              "2      73.661311\n",
              "3      95.566843\n",
              "4      98.777013\n",
              "         ...    \n",
              "995    23.855067\n",
              "996    27.536542\n",
              "997    25.973787\n",
              "998    25.138311\n",
              "999    21.547777\n",
              "Name: Manufacturing Cost, Length: 1000, dtype: float64>"
            ]
          },
          "metadata": {},
          "execution_count": 28
        }
      ],
      "source": [
        "y.describe"
      ]
    },
    {
      "cell_type": "code",
      "execution_count": null,
      "metadata": {
        "colab": {
          "base_uri": "https://localhost:8080/",
          "height": 282
        },
        "id": "idoEjfEhMoxk",
        "outputId": "0386b173-c92e-459b-b49c-6dd52c443bd9"
      },
      "outputs": [
        {
          "output_type": "execute_result",
          "data": {
            "text/plain": [
              "[<matplotlib.lines.Line2D at 0x7f7aefe3b3d0>]"
            ]
          },
          "metadata": {},
          "execution_count": 29
        },
        {
          "output_type": "display_data",
          "data": {
            "text/plain": [
              "<Figure size 432x288 with 1 Axes>"
            ],
            "image/png": "[encoded data removed]"
          },
          "metadata": {
            "needs_background": "light"
          }
        }
      ],
      "source": [
        "#Se grafican los datos en color azul, marcador de punto\n",
        "plt.plot(X,y,'b.')"
      ]
    },
    {
      "cell_type": "markdown",
      "metadata": {
        "id": "PbsTtJO2Rns0"
      },
      "source": [
        "## División de los datos"
      ]
    },
    {
      "cell_type": "code",
      "execution_count": null,
      "metadata": {
        "id": "mPZp29XcRp-8"
      },
      "outputs": [],
      "source": [
        "#Importamos la librería para realizar la partición de datos\n",
        "from sklearn.model_selection import train_test_split\n",
        "#Se crea la partición, para los datos de prueba y entrenamiento de X,y\n",
        "xTrain, xTest, yTrain, yTest=train_test_split(X,y, test_size=0.15, random_state=0)"
      ]
    },
    {
      "cell_type": "markdown",
      "metadata": {
        "id": "HqBO80y6PGRL"
      },
      "source": [
        "## Regresión Lineal\n",
        "Realiza la regresión lineal: modelo generado (ecuación), su visualización, sus errores y r cuadrada."
      ]
    },
    {
      "cell_type": "markdown",
      "metadata": {
        "id": "P4dnTdk8QzBM"
      },
      "source": [
        "### Modelo"
      ]
    },
    {
      "cell_type": "code",
      "execution_count": null,
      "metadata": {
        "id": "tXwARgc5PrT3"
      },
      "outputs": [],
      "source": [
        "#lineal, conjunto de entrenamiento\n",
        "#Establecemos el modelo y ajustamos los datos\n",
        "modeloLineal=LinearRegression(fit_intercept=True)\n",
        "modeloLineal.fit(xTrain,yTrain)\n",
        "#Se generan las predicciones\n",
        "y_predLineal=modeloLineal.predict(xTrain)\n",
        "#Conjunto de prueba, se generan las predicciones\n",
        "yHat_ML_test=modeloLineal.predict(xTest)"
      ]
    },
    {
      "cell_type": "code",
      "execution_count": null,
      "metadata": {
        "colab": {
          "base_uri": "https://localhost:8080/"
        },
        "id": "7TGkceVxg8gt",
        "outputId": "28c0a9e2-0e2e-4c90-a90e-4e6df6ff2bd4"
      },
      "outputs": [
        {
          "output_type": "stream",
          "name": "stdout",
          "text": [
            "Pendiente: [-6.05] \n",
            "Intersección en Y: 67.19\n"
          ]
        }
      ],
      "source": [
        "#Encontramos la pendiente y la intersección\n",
        "print('Pendiente:',modeloLineal.coef_.round(2), '\\nIntersección en Y:',modeloLineal.intercept_.round(2))"
      ]
    },
    {
      "cell_type": "markdown",
      "metadata": {
        "id": "eyayHzT4qIzP"
      },
      "source": [
        "Ecuación:"
      ]
    },
    {
      "cell_type": "markdown",
      "metadata": {
        "id": "lOYuSRZrg-HG"
      },
      "source": [
        "El modelo estima:\n",
        "\n",
        "$\\hat{y} =  + 67.19 -6.05X$"
      ]
    },
    {
      "cell_type": "markdown",
      "metadata": {
        "id": "uU4zi_HwQ3BO"
      },
      "source": [
        "### Visualización"
      ]
    },
    {
      "cell_type": "code",
      "execution_count": null,
      "metadata": {
        "colab": {
          "base_uri": "https://localhost:8080/",
          "height": 379
        },
        "id": "mD7bOh8qyOYl",
        "outputId": "438df8c0-9b32-439a-a0a9-9a6bad837dc4"
      },
      "outputs": [
        {
          "output_type": "stream",
          "name": "stdout",
          "text": [
            "Datos de entrenamiento\n"
          ]
        },
        {
          "output_type": "display_data",
          "data": {
            "text/plain": [
              "<Figure size 576x360 with 1 Axes>"
            ],
            "image/png": "[encoded data removed]"
          },
          "metadata": {
            "needs_background": "light"
          }
        }
      ],
      "source": [
        "#Mandamos llamar la función que nos crea la gráfica para los datos y su predicción\n",
        "print('Datos de entrenamiento')\n",
        "graficar('Regresión lineal',y_predLineal,xTrain,yTrain)"
      ]
    },
    {
      "cell_type": "code",
      "execution_count": null,
      "metadata": {
        "colab": {
          "base_uri": "https://localhost:8080/",
          "height": 379
        },
        "id": "piaNaj3d-Hx3",
        "outputId": "0f707730-60aa-4cc0-b355-0fba632740c7"
      },
      "outputs": [
        {
          "output_type": "stream",
          "name": "stdout",
          "text": [
            "Datos de prueba\n"
          ]
        },
        {
          "output_type": "display_data",
          "data": {
            "text/plain": [
              "<Figure size 576x360 with 1 Axes>"
            ],
            "image/png": "[encoded data removed]"
          },
          "metadata": {
            "needs_background": "light"
          }
        }
      ],
      "source": [
        "#Mandamos llamar la función que nos crea la gráfica para los datos y su predicción\n",
        "print('Datos de prueba')\n",
        "graficar('Regresión lineal',yHat_ML_test,xTest,yTest)"
      ]
    },
    {
      "cell_type": "markdown",
      "metadata": {
        "id": "3s98_Q91Q1Fy"
      },
      "source": [
        "### Errores y R^2"
      ]
    },
    {
      "cell_type": "code",
      "execution_count": null,
      "metadata": {
        "colab": {
          "base_uri": "https://localhost:8080/"
        },
        "id": "0w8Y7L5elg24",
        "outputId": "d6ad6e06-f3e4-4969-c977-cd3cd12745fb"
      },
      "outputs": [
        {
          "output_type": "stream",
          "name": "stdout",
          "text": [
            "Regresión lineal, conjunto de entrenamiento\n",
            "Error medio Absoluto (MAE): 4.9513\n",
            "Root Mean Squared Error (RMSE): 6.9123\n",
            "R^2_score 0.5803\n",
            "\n",
            "Regresión lineal, conjunto de prueba\n",
            "Error medio Absoluto (MAE): 4.7789\n",
            "Root Mean Squared Error (RMSE): 6.6374\n",
            "R^2_score 0.5698\n"
          ]
        }
      ],
      "source": [
        "#Se manda llamar la función que calcula los errores y a R^2\n",
        "print('Regresión lineal, conjunto de entrenamiento')\n",
        "erroresR2(yTrain,y_predLineal,1,'entrenamiento')\n",
        "print(\"\")\n",
        "print('Regresión lineal, conjunto de prueba')\n",
        "erroresR2(yTest,yHat_ML_test,1,'prueba')"
      ]
    },
    {
      "cell_type": "markdown",
      "metadata": {
        "id": "7kt2-mYPPGbK"
      },
      "source": [
        "## Regresión Polinomial\n",
        "Realiza la  regresión polinomial completa, tu modelo generado (ecuación), su visualización, sus errores y r cuadrada."
      ]
    },
    {
      "cell_type": "markdown",
      "metadata": {
        "id": "Qu-28WG_T7N3"
      },
      "source": [
        "### Modelo"
      ]
    },
    {
      "cell_type": "code",
      "execution_count": null,
      "metadata": {
        "id": "hTYByx5WPzhn"
      },
      "outputs": [],
      "source": [
        "#polinomial\n",
        "#Se crean las características polinomiales de segundo grado para transformar a X\n",
        "poly_params=PolynomialFeatures(degree=3,include_bias=False)\n",
        "X_poly=poly_params.fit_transform(xTrain)\n",
        "#Se genera el modelo con la nueva X (que ahora incluye X original y su cuadrado)\n",
        "modeloLineal_Poly=LinearRegression(fit_intercept=True)\n",
        "modeloLineal_Poly.fit(X_poly,yTrain)\n",
        "#Conjunto de entrenamiento, predicciones\n",
        "y_predPoly=modeloLineal_Poly.predict(X_poly)\n",
        "#Conjunto de prueba, predicciones y transformación a X\n",
        "Xpoly_test=poly_params.fit_transform(xTest)\n",
        "yHat_MLpoly_test=modeloLineal_Poly.predict(Xpoly_test)"
      ]
    },
    {
      "cell_type": "code",
      "execution_count": null,
      "metadata": {
        "colab": {
          "base_uri": "https://localhost:8080/"
        },
        "id": "LE62JnwohFRj",
        "outputId": "24a0b711-e34a-408a-80e6-a46bf3944a54"
      },
      "outputs": [
        {
          "output_type": "stream",
          "name": "stdout",
          "text": [
            "Pendiente: [-33.35   4.87  -0.25] \n",
            "Intersección en Y: 111.92\n"
          ]
        }
      ],
      "source": [
        "#Encontramos la pendiente y la intersección\n",
        "print('Pendiente:',modeloLineal_Poly.coef_.round(2), '\\nIntersección en Y:',modeloLineal_Poly.intercept_.round(2))"
      ]
    },
    {
      "cell_type": "markdown",
      "metadata": {
        "id": "gCBuGVymqOee"
      },
      "source": [
        "Ecuación:"
      ]
    },
    {
      "cell_type": "markdown",
      "metadata": {
        "id": "1DHbiZc-hcb9"
      },
      "source": [
        "El modelo estima:\n",
        "\n",
        "$\\hat{y}  = 89.87 - 16.87X + 1.18X^2$\n",
        "\n"
      ]
    },
    {
      "cell_type": "markdown",
      "metadata": {
        "id": "W0U34NuWT__T"
      },
      "source": [
        "### Visualización"
      ]
    },
    {
      "cell_type": "code",
      "execution_count": null,
      "metadata": {
        "id": "hl2v5hBEm-0e"
      },
      "outputs": [],
      "source": [
        "#Ordenar los valores para que matplotlib no intersecte las líneas\n",
        "ordenar=np.argsort(xTrain.values.ravel())\n",
        "sortedX=xTrain.values.ravel()[ordenar]\n",
        "sortedY=yTrain.values[ordenar]\n",
        "sorted_Yhat=y_predPoly[ordenar]"
      ]
    },
    {
      "cell_type": "code",
      "execution_count": null,
      "metadata": {
        "colab": {
          "base_uri": "https://localhost:8080/",
          "height": 379
        },
        "id": "GB5uGVDL0Idh",
        "outputId": "70db3e8a-0012-421b-ec0d-9b4689d6b357"
      },
      "outputs": [
        {
          "output_type": "stream",
          "name": "stdout",
          "text": [
            "Datos de entrenamiento\n"
          ]
        },
        {
          "output_type": "display_data",
          "data": {
            "text/plain": [
              "<Figure size 576x360 with 1 Axes>"
            ],
            "image/png": "[encoded data removed]"
          },
          "metadata": {
            "needs_background": "light"
          }
        }
      ],
      "source": [
        "#Mandamos llamar la función que nos crea la gráfica para los datos y su predicción\n",
        "print('Datos de entrenamiento')\n",
        "graficar('Regresión Polinomial',sorted_Yhat,sortedX,sortedY)"
      ]
    },
    {
      "cell_type": "code",
      "execution_count": null,
      "metadata": {
        "id": "inRGmWOc-k7w"
      },
      "outputs": [],
      "source": [
        "#Se ordenan los datos para que la gráfica se genera de manera correcta\n",
        "#de los contrario, se tiene una vista traslapada\n",
        "ordenar=np.argsort(xTest.values.ravel())\n",
        "TsortedX=xTest.values.ravel()[ordenar]\n",
        "TsortedY=yTest.values[ordenar]\n",
        "Tsorted_Yhat=yHat_MLpoly_test[ordenar]"
      ]
    },
    {
      "cell_type": "code",
      "execution_count": null,
      "metadata": {
        "colab": {
          "base_uri": "https://localhost:8080/",
          "height": 379
        },
        "id": "23Bl2PLa-gHi",
        "outputId": "fc7f9759-4f58-4c93-aa4b-412de3e6e578"
      },
      "outputs": [
        {
          "output_type": "stream",
          "name": "stdout",
          "text": [
            "Datos de prueba\n"
          ]
        },
        {
          "output_type": "display_data",
          "data": {
            "text/plain": [
              "<Figure size 576x360 with 1 Axes>"
            ],
            "image/png": "[encoded data removed]"
          },
          "metadata": {
            "needs_background": "light"
          }
        }
      ],
      "source": [
        "#Mandamos llamar la función que nos crea la gráfica para los datos y su predicción\n",
        "print('Datos de prueba')\n",
        "graficar('Regresión Polinomial',Tsorted_Yhat,TsortedX,TsortedY)"
      ]
    },
    {
      "cell_type": "markdown",
      "metadata": {
        "id": "WKboR_djT9X6"
      },
      "source": [
        "### Errores y R^2"
      ]
    },
    {
      "cell_type": "code",
      "execution_count": null,
      "metadata": {
        "colab": {
          "base_uri": "https://localhost:8080/"
        },
        "id": "_3t9XeXymGG-",
        "outputId": "8ad010a0-6967-4224-e3a3-5ebbc38164c7"
      },
      "outputs": [
        {
          "output_type": "stream",
          "name": "stdout",
          "text": [
            "Regresión polinomial, conjunto de entrenamiento\n",
            "Error medio Absoluto (MAE): 4.4791\n",
            "Root Mean Squared Error (RMSE): 5.9584\n",
            "R^2_score 0.6881\n",
            "\n",
            "Regresión polinomial, conjunto de prueba\n",
            "Error medio Absoluto (MAE): 4.4453\n",
            "Root Mean Squared Error (RMSE): 5.7107\n",
            "R^2_score 0.6815\n"
          ]
        }
      ],
      "source": [
        "#Se manda llamar la función que calcula los errores y a R^2\n",
        "print('Regresión polinomial, conjunto de entrenamiento')\n",
        "erroresR2(yTrain,y_predPoly,1,'entrenamiento')\n",
        "print(\"\")\n",
        "print('Regresión polinomial, conjunto de prueba')\n",
        "erroresR2(yTest,yHat_MLpoly_test,1,'prueba')"
      ]
    },
    {
      "cell_type": "markdown",
      "metadata": {
        "id": "InVtAfhBPGkS"
      },
      "source": [
        "## Regresión con Ridge\n",
        "Incluye la ecuación de tu modelo, visualización , errores y r cuadrada."
      ]
    },
    {
      "cell_type": "markdown",
      "metadata": {
        "id": "4ogljZyOx7Cv"
      },
      "source": [
        "### Modelo"
      ]
    },
    {
      "cell_type": "code",
      "execution_count": null,
      "metadata": {
        "id": "MYw22dNXyJ3J"
      },
      "outputs": [],
      "source": [
        "#Conjunto de entrenamiento\n",
        "#Mandamos llamar la librería correspondiente al modelo Ridge\n",
        "from sklearn.linear_model import Ridge\n",
        "#Se selecciona un valor para alpha y solucionador para el modelo\n",
        "Ridge_Model=Ridge(alpha=5, solver=\"cholesky\")\n",
        "Ridge_Model.fit(xTrain,yTrain)\n",
        "y_predRidge=Ridge_Model.predict(xTrain)\n",
        "#Conjunto de prueba, predicciones\n",
        "yHat_Ridge_test=Ridge_Model.predict(xTest)"
      ]
    },
    {
      "cell_type": "code",
      "execution_count": null,
      "metadata": {
        "colab": {
          "base_uri": "https://localhost:8080/"
        },
        "id": "w1pOZt6nk_8F",
        "outputId": "ffcb7e65-8e15-44bd-ddb6-bd5cc63ab010"
      },
      "outputs": [
        {
          "output_type": "stream",
          "name": "stdout",
          "text": [
            "Pendiente: [-6.03] \n",
            "Intersección en Y: 67.1\n"
          ]
        }
      ],
      "source": [
        "#Encontramos la pendiente y la intersección\n",
        "print('Pendiente:',Ridge_Model.coef_.round(2), '\\nIntersección en Y:',Ridge_Model.intercept_.round(2))"
      ]
    },
    {
      "cell_type": "markdown",
      "metadata": {
        "id": "MX2idp-Akq74"
      },
      "source": [
        "Ecuación"
      ]
    },
    {
      "cell_type": "markdown",
      "metadata": {
        "id": "c-7WIwm_ktH7"
      },
      "source": [
        "El modelo estima:\n",
        "\n",
        "$\\hat{y} = alpha * (+ 65.63 -5.79X$)^2\n",
        "\n",
        "donde alpha = 5"
      ]
    },
    {
      "cell_type": "markdown",
      "metadata": {
        "id": "URdvyjwOx9Gz"
      },
      "source": [
        "### Visualización"
      ]
    },
    {
      "cell_type": "code",
      "execution_count": null,
      "metadata": {
        "colab": {
          "base_uri": "https://localhost:8080/",
          "height": 379
        },
        "id": "6eOdPrdIyKOj",
        "outputId": "221dec41-ec75-471a-f757-4ef5bf8232a1"
      },
      "outputs": [
        {
          "output_type": "stream",
          "name": "stdout",
          "text": [
            "Datos de entrenamiento\n"
          ]
        },
        {
          "output_type": "display_data",
          "data": {
            "text/plain": [
              "<Figure size 576x360 with 1 Axes>"
            ],
            "image/png": "[encoded data removed]"
          },
          "metadata": {
            "needs_background": "light"
          }
        }
      ],
      "source": [
        "#Mandamos llamar la función que nos crea la gráfica para los datos y su predicción\n",
        "print('Datos de entrenamiento')\n",
        "graficar('Regresión con Ridge',y_predRidge,xTrain,yTrain)"
      ]
    },
    {
      "cell_type": "code",
      "execution_count": null,
      "metadata": {
        "colab": {
          "base_uri": "https://localhost:8080/",
          "height": 379
        },
        "id": "ccBs411n--1_",
        "outputId": "9b540f9c-6bb0-43eb-a832-82cec1ad63e2"
      },
      "outputs": [
        {
          "output_type": "stream",
          "name": "stdout",
          "text": [
            "Datos de prueba\n"
          ]
        },
        {
          "output_type": "display_data",
          "data": {
            "text/plain": [
              "<Figure size 576x360 with 1 Axes>"
            ],
            "image/png": "[encoded data removed]"
          },
          "metadata": {
            "needs_background": "light"
          }
        }
      ],
      "source": [
        "#Mandamos llamar la función que nos crea la gráfica para los datos y su predicción\n",
        "print('Datos de prueba')\n",
        "graficar('Regresión con Ridge',yHat_Ridge_test,xTest,yTest)"
      ]
    },
    {
      "cell_type": "markdown",
      "metadata": {
        "id": "VZWw_he9x_OT"
      },
      "source": [
        "### Errores y R^2"
      ]
    },
    {
      "cell_type": "code",
      "execution_count": null,
      "metadata": {
        "colab": {
          "base_uri": "https://localhost:8080/"
        },
        "id": "iyu0g04ImWBn",
        "outputId": "92e229b4-c054-4456-a3ed-b7a25255c440"
      },
      "outputs": [
        {
          "output_type": "stream",
          "name": "stdout",
          "text": [
            "Regresión con Ridge, conjunto de entrenamiento\n",
            "Error medio Absoluto (MAE): 4.9493\n",
            "Root Mean Squared Error (RMSE): 6.9123\n",
            "R^2_score 0.5803\n",
            "\n",
            "Regresión con Ridge, conjunto de prueba\n",
            "Error medio Absoluto (MAE): 4.7754\n",
            "Root Mean Squared Error (RMSE): 6.6367\n",
            "R^2_score 0.5699\n"
          ]
        }
      ],
      "source": [
        "#Se manda llamar la función que calcula los errores y a R^2\n",
        "print('Regresión con Ridge, conjunto de entrenamiento')\n",
        "erroresR2(yTrain,y_predRidge,1,'entrenamiento')\n",
        "print(\"\")\n",
        "print('Regresión con Ridge, conjunto de prueba')\n",
        "erroresR2(yTest,yHat_Ridge_test,1,'prueba')"
      ]
    },
    {
      "cell_type": "markdown",
      "metadata": {
        "id": "BfDRVO6zx2N1"
      },
      "source": [
        "## Regresión con Lasso\n",
        "Incluye la ecuación de tu modelo, visualización , errores y r cuadrada."
      ]
    },
    {
      "cell_type": "markdown",
      "metadata": {
        "id": "Z_uoHr1HyC9B"
      },
      "source": [
        "### Modelo"
      ]
    },
    {
      "cell_type": "code",
      "execution_count": null,
      "metadata": {
        "id": "eTWCFdaGyLBy"
      },
      "outputs": [],
      "source": [
        "#Conjunto de entrenamiento\n",
        "#Mandamos llamar la librería correspondiente al modelo Lasso\n",
        "from sklearn.linear_model import Lasso\n",
        "#Definimos el modelo con un valor de alpha del cual de hicieron varias pruebas\n",
        "Lasso_Model=Lasso(alpha=0.5)\n",
        "Lasso_Model.fit(xTrain, yTrain)\n",
        "#Geramos las predicciones\n",
        "y_predLasso=Lasso_Model.predict(xTrain)\n",
        "#Conjunto de prueba, predicciones\n",
        "yHat_Lasso_test=Lasso_Model.predict(xTest)"
      ]
    },
    {
      "cell_type": "code",
      "execution_count": null,
      "metadata": {
        "colab": {
          "base_uri": "https://localhost:8080/"
        },
        "id": "GeNGMgBClv8a",
        "outputId": "3af1a99f-9e70-462f-a728-4f5921b77a8a"
      },
      "outputs": [
        {
          "output_type": "stream",
          "name": "stdout",
          "text": [
            "Pendiente: [-5.78] \n",
            "Intersección en Y: 65.95\n"
          ]
        }
      ],
      "source": [
        "#Encontramos la pendiente y la intersección\n",
        "print('Pendiente:',Lasso_Model.coef_.round(2), '\\nIntersección en Y:',Lasso_Model.intercept_.round(2))"
      ]
    },
    {
      "cell_type": "markdown",
      "metadata": {
        "id": "1-PH6KFSl5f-"
      },
      "source": [
        "Ecuación"
      ]
    },
    {
      "cell_type": "markdown",
      "metadata": {
        "id": "Zf1STg0Kl66f"
      },
      "source": [
        "El modelo estima:\n",
        "\n",
        "$\\hat{y} = alpha * abs(+ 65.95 -5.78X$)\n",
        "\n",
        "donde alpha = 0.5"
      ]
    },
    {
      "cell_type": "markdown",
      "metadata": {
        "id": "J50HJM0zyEeI"
      },
      "source": [
        "### Visualización"
      ]
    },
    {
      "cell_type": "code",
      "execution_count": null,
      "metadata": {
        "colab": {
          "base_uri": "https://localhost:8080/",
          "height": 379
        },
        "id": "JNGHg-GhyLfn",
        "outputId": "3650b1e1-0aea-4686-c17a-eda18565efe8"
      },
      "outputs": [
        {
          "output_type": "stream",
          "name": "stdout",
          "text": [
            "Datos de entrenamiento\n"
          ]
        },
        {
          "output_type": "display_data",
          "data": {
            "text/plain": [
              "<Figure size 576x360 with 1 Axes>"
            ],
            "image/png": "[encoded data removed]"
          },
          "metadata": {
            "needs_background": "light"
          }
        }
      ],
      "source": [
        "#Mandamos llamar la función que nos crea la gráfica para los datos y su predicción\n",
        "print('Datos de entrenamiento')\n",
        "graficar('Regresión con Lasso',y_predLasso,xTrain,yTrain)"
      ]
    },
    {
      "cell_type": "code",
      "execution_count": null,
      "metadata": {
        "colab": {
          "base_uri": "https://localhost:8080/",
          "height": 379
        },
        "id": "gQpt15Ew_ODA",
        "outputId": "4bf0da92-9ab5-4d3e-d361-3afd3e9fa162"
      },
      "outputs": [
        {
          "output_type": "stream",
          "name": "stdout",
          "text": [
            "Datos de prueba\n"
          ]
        },
        {
          "output_type": "display_data",
          "data": {
            "text/plain": [
              "<Figure size 576x360 with 1 Axes>"
            ],
            "image/png": "[encoded data removed]"
          },
          "metadata": {
            "needs_background": "light"
          }
        }
      ],
      "source": [
        "#Mandamos llamar la función que nos crea la gráfica para los datos y su predicción\n",
        "print('Datos de prueba')\n",
        "graficar('Regresión con Lasso',yHat_Lasso_test,xTest,yTest)"
      ]
    },
    {
      "cell_type": "markdown",
      "metadata": {
        "id": "P2PwhfhjyGq3"
      },
      "source": [
        "### Errores y R^2"
      ]
    },
    {
      "cell_type": "code",
      "execution_count": null,
      "metadata": {
        "colab": {
          "base_uri": "https://localhost:8080/"
        },
        "id": "oZSf98tHm92B",
        "outputId": "d014801d-0948-4c9f-affb-17a2e026a84d"
      },
      "outputs": [
        {
          "output_type": "stream",
          "name": "stdout",
          "text": [
            "Regresión con Lasso, conjunto de entrenamiento\n",
            "Error medio Absoluto (MAE): 4.9281\n",
            "Root Mean Squared Error (RMSE): 6.9223\n",
            "R^2_score 0.5791\n",
            "\n",
            "Regresión con Lasso, conjunto de prueba\n",
            "Error medio Absoluto (MAE): 4.7407\n",
            "Root Mean Squared Error (RMSE): 6.6371\n",
            "R^2_score 0.5698\n"
          ]
        }
      ],
      "source": [
        "#Se manda llamar la función que calcula los errores y a R^2\n",
        "print('Regresión con Lasso, conjunto de entrenamiento')\n",
        "erroresR2(yTrain,y_predLasso,1,'entrenamiento')\n",
        "print(\"\")\n",
        "print('Regresión con Lasso, conjunto de prueba')\n",
        "erroresR2(yTest,yHat_Lasso_test,1,'prueba')"
      ]
    },
    {
      "cell_type": "markdown",
      "metadata": {
        "id": "x7NexA3RPGvk"
      },
      "source": [
        "## Gráficas\n",
        "de los cuatro métodos."
      ]
    },
    {
      "cell_type": "markdown",
      "metadata": {
        "id": "7MI0MP9pPG25"
      },
      "source": [
        "### MAE"
      ]
    },
    {
      "cell_type": "code",
      "execution_count": null,
      "metadata": {
        "colab": {
          "base_uri": "https://localhost:8080/",
          "height": 369
        },
        "id": "5fBUDLXz0nCa",
        "outputId": "6a738fbc-4290-45c4-a977-207804ac93ec"
      },
      "outputs": [
        {
          "output_type": "stream",
          "name": "stdout",
          "text": [
            "---------- MAE para cada regresión ----------\n",
            "Conjunto de entrenamiento\n",
            "Lineal: 4.9513\n",
            "Polinomial: 4.4791\n",
            "Ridge: 4.9493\n",
            "Lasso: 4.9281\n"
          ]
        },
        {
          "output_type": "display_data",
          "data": {
            "text/plain": [
              "<Figure size 432x288 with 1 Axes>"
            ],
            "image/png": "[encoded data removed]"
          },
          "metadata": {
            "needs_background": "light"
          }
        }
      ],
      "source": [
        "#Creamos una lista para identificar el nombre de cada modelo\n",
        "regresiones=['Lineal','Polinomial','Ridge','Lasso']\n",
        "#Se genera el gráfico de barras con la lista de entrenamiento para el ejercicio 1\n",
        "plt.bar(regresiones,listaMAE_train_E1)\n",
        "\n",
        "print('-'*10,'MAE para cada regresión','-'*10)\n",
        "print('Conjunto de entrenamiento')\n",
        "#Se imprimen los valores correspodientes (representados en la gráfica)\n",
        "for i in range(0,4):\n",
        "  print(regresiones[i]+':',listaMAE_train_E1[i].round(4))"
      ]
    },
    {
      "cell_type": "code",
      "execution_count": null,
      "metadata": {
        "colab": {
          "base_uri": "https://localhost:8080/",
          "height": 373
        },
        "id": "j_XuwPD0JPnV",
        "outputId": "33915f58-cfcf-4724-f918-ab85d4072e79"
      },
      "outputs": [
        {
          "output_type": "stream",
          "name": "stdout",
          "text": [
            "---------- MAE para cada regresión ----------\n",
            "Conjunto de prueba\n",
            "Lineal: 4.7789\n",
            "Polinomial: 4.4453\n",
            "Ridge: 4.7754\n",
            "Lasso: 4.7407\n"
          ]
        },
        {
          "output_type": "display_data",
          "data": {
            "text/plain": [
              "<Figure size 432x288 with 1 Axes>"
            ],
            "image/png": "[encoded data removed]"
          },
          "metadata": {
            "needs_background": "light"
          }
        }
      ],
      "source": [
        "#Se genera el gráfico de barras con la lista de prueba para el ejercicio 1\n",
        "plt.bar(regresiones,listaMAE_test_E1)\n",
        "print('-'*10,'MAE para cada regresión','-'*10)\n",
        "print('Conjunto de prueba')\n",
        "\n",
        "for i in range(0,4):\n",
        "  print(regresiones[i]+':',listaMAE_test_E1[i].round(4))"
      ]
    },
    {
      "cell_type": "code",
      "execution_count": null,
      "metadata": {
        "colab": {
          "base_uri": "https://localhost:8080/",
          "height": 281
        },
        "id": "vk9U0kNYQmRh",
        "outputId": "2500ad6f-dba4-44a1-deb4-57ec745ea8e6"
      },
      "outputs": [
        {
          "output_type": "display_data",
          "data": {
            "text/plain": [
              "<Figure size 432x288 with 1 Axes>"
            ],
            "image/png": "[encoded data removed]"
          },
          "metadata": {
            "needs_background": "light"
          }
        }
      ],
      "source": [
        "#Se crea una lista que contiene las estimaciones generadas por todos los modelos\n",
        "predTrain=[y_predLineal,y_predPoly,y_predRidge,y_predLasso]\n",
        "#Se genera una lista vacía para ir colocando los errores\n",
        "erroresTrain=[]\n",
        "#Se obtiene la diferencia absoluta entre valor real y estimado para cada modelo\n",
        "#El valor estimado corresponde al conjunto de entrenamiento\n",
        "for i in range(len(predTrain)):\n",
        "  error=yTrain-predTrain[i]\n",
        "  #Se carga el resultado en la lista\n",
        "  erroresTrain.append(error)\n",
        "\n",
        "#Se genera el gráfico de cajas y bigotes para los errores\n",
        "plt.boxplot(erroresTrain, labels=regresiones, showmeans=True)\n",
        "plt.title('Diferencia entre valor real y estimado (error), conjunto de entrenamiento')\n",
        "plt.show()"
      ]
    },
    {
      "cell_type": "code",
      "execution_count": null,
      "metadata": {
        "colab": {
          "base_uri": "https://localhost:8080/",
          "height": 281
        },
        "id": "aSn54E2Zco7S",
        "outputId": "5a434218-a62d-4e7f-ea8a-331ef4cdd34b"
      },
      "outputs": [
        {
          "output_type": "display_data",
          "data": {
            "text/plain": [
              "<Figure size 432x288 with 1 Axes>"
            ],
            "image/png": "[encoded data removed]"
          },
          "metadata": {
            "needs_background": "light"
          }
        }
      ],
      "source": [
        "#Se crea una lista que contiene las estimaciones generadas por todos los modelos\n",
        "predTest=[yHat_ML_test,yHat_MLpoly_test,yHat_Ridge_test,yHat_Lasso_test]\n",
        "#Se genera una lista vacía para ir colocando los errores\n",
        "erroresTest=[]\n",
        "#Se obtiene la diferencia absoluta entre valor real y estimado para cada modelo\n",
        "#El valor estimado corresponde al conjunto de entrenamiento\n",
        "for i in range(len(predTest)):\n",
        "  error=yTest-predTest[i]\n",
        "  #Se carga el resultado en la lista\n",
        "  erroresTest.append(error)\n",
        "\n",
        "#Se genera el gráfico de cajas y bigotes para los errores\n",
        "plt.boxplot(erroresTest, labels=regresiones, showmeans=True)\n",
        "plt.title('Diferencia entre valor real y estimado (error), conjunto de prueba')\n",
        "plt.show()"
      ]
    },
    {
      "cell_type": "markdown",
      "metadata": {
        "id": "P1sQgQRUPG9l"
      },
      "source": [
        "### R^2"
      ]
    },
    {
      "cell_type": "code",
      "execution_count": null,
      "metadata": {
        "colab": {
          "base_uri": "https://localhost:8080/",
          "height": 369
        },
        "id": "EVftu5jQdbLc",
        "outputId": "9143ed87-b9d5-43a1-8402-40aa2f99d7cb"
      },
      "outputs": [
        {
          "output_type": "stream",
          "name": "stdout",
          "text": [
            "---------- R^2 para cada regresión ----------\n",
            "Conjunto de entrenamiento\n",
            "Lineal: 0.5803\n",
            "Polinomial: 0.6881\n",
            "Ridge: 0.5803\n",
            "Lasso: 0.5791\n"
          ]
        },
        {
          "output_type": "display_data",
          "data": {
            "text/plain": [
              "<Figure size 432x288 with 1 Axes>"
            ],
            "image/png": "[encoded data removed]"
          },
          "metadata": {
            "needs_background": "light"
          }
        }
      ],
      "source": [
        "#Se genera el gráfico de barras con la lista de entrenamiento para el ejercicio 1\n",
        "plt.bar(regresiones,listaR_train_E1)\n",
        "print('-'*10,'R^2 para cada regresión','-'*10)\n",
        "print('Conjunto de entrenamiento')\n",
        "\n",
        "for i in range(0,4):\n",
        "  print(regresiones[i]+':',listaR_train_E1[i].round(4))"
      ]
    },
    {
      "cell_type": "code",
      "execution_count": null,
      "metadata": {
        "colab": {
          "base_uri": "https://localhost:8080/",
          "height": 369
        },
        "id": "N-yY48Nydlwd",
        "outputId": "2caa70b5-a39c-496e-e58f-a6f8dfa1df29"
      },
      "outputs": [
        {
          "output_type": "stream",
          "name": "stdout",
          "text": [
            "---------- R^2 para cada regresión ----------\n",
            "Conjunto de prueba\n",
            "Lineal: 0.5698\n",
            "Polinomial: 0.6815\n",
            "Ridge: 0.5699\n",
            "Lasso: 0.5698\n"
          ]
        },
        {
          "output_type": "display_data",
          "data": {
            "text/plain": [
              "<Figure size 432x288 with 1 Axes>"
            ],
            "image/png": "[encoded data removed]"
          },
          "metadata": {
            "needs_background": "light"
          }
        }
      ],
      "source": [
        "#Se genera el gráfico de barras con la lista de prueba para el ejercicio 1\n",
        "plt.bar(regresiones,listaR_test_E1)\n",
        "print('-'*10,'R^2 para cada regresión','-'*10)\n",
        "print('Conjunto de prueba')\n",
        "\n",
        "for i in range(0,4):\n",
        "  print(regresiones[i]+':',listaR_test_E1[i].round(4))"
      ]
    },
    {
      "cell_type": "markdown",
      "metadata": {
        "id": "PiS8KrLXPHGf"
      },
      "source": [
        "## Explicación de los resultados"
      ]
    },
    {
      "cell_type": "code",
      "execution_count": null,
      "metadata": {
        "colab": {
          "base_uri": "https://localhost:8080/",
          "height": 390
        },
        "id": "G9tZ8m3f-Y5R",
        "outputId": "3d97230a-ff3a-4b91-be27-bdaa82e68f03"
      },
      "outputs": [
        {
          "output_type": "display_data",
          "data": {
            "text/plain": [
              "<Figure size 720x432 with 1 Axes>"
            ],
            "image/png": "[encoded data removed]"
          },
          "metadata": {
            "needs_background": "light"
          }
        }
      ],
      "source": [
        "#Se crea una gráfica que contenga un comparativo entre las estimacioens generadas\n",
        "#por todos los modelos, de forma que resulte más sencillo determinar sus diferencias\n",
        "#en contraste con los datos originales. Se emplea solo el conjunto de prueba, que \n",
        "#es el que no conoce y en que el rendimiento de los modelos debería ser ligeramente inferior\n",
        "plt.figure(figsize = (10,6))\n",
        "plt.title('Comparativo entre los modelos con el conjunto de prueba')\n",
        "plt.scatter(xTest, np.ravel(yTest), marker='^', label='data')  \n",
        "plt.scatter(xTrain, np.ravel(y_predLineal), marker='_', label='LR')  \n",
        "plt.scatter(xTrain, np.ravel(y_predPoly), marker='p', label='Polinomial')  \n",
        "plt.scatter(xTrain, np.ravel(y_predLasso), marker='o', label='lasso')  \n",
        "plt.scatter(xTrain, np.ravel(y_predRidge), marker='d', label='ridge')  \n",
        "plt.legend(loc=2)\n",
        "plt.show()"
      ]
    },
    {
      "cell_type": "code",
      "execution_count": null,
      "metadata": {
        "colab": {
          "base_uri": "https://localhost:8080/",
          "height": 298
        },
        "id": "D7IazENhLNE1",
        "outputId": "7acc8a1f-eedb-453a-faa1-28d64f1c8cd6"
      },
      "outputs": [
        {
          "output_type": "execute_result",
          "data": {
            "text/plain": [
              "Text(0.5, 1.0, 'Conjunto de entrenamiento, predicciones')"
            ]
          },
          "metadata": {},
          "execution_count": 60
        },
        {
          "output_type": "display_data",
          "data": {
            "text/plain": [
              "<Figure size 432x288 with 1 Axes>"
            ],
            "image/png": "[encoded data removed]"
          },
          "metadata": {
            "needs_background": "light"
          }
        }
      ],
      "source": [
        "#También se crean gráficas de cajas y bigotes para entender mejor los resultados\n",
        "#Este corresponde al conjunto de entrenamiento, en cuanto a sus predicciones\n",
        "pred_train=[y_predLineal,y_predPoly,y_predRidge,y_predLasso]\n",
        "plt.boxplot(pred_train, labels=regresiones, showmeans=True)\n",
        "plt.title('Conjunto de entrenamiento, predicciones')"
      ]
    },
    {
      "cell_type": "code",
      "execution_count": null,
      "metadata": {
        "colab": {
          "base_uri": "https://localhost:8080/",
          "height": 298
        },
        "id": "Y9qrosZgLO1u",
        "outputId": "27ada27f-1310-4e1b-cdc9-22a2b14150f0"
      },
      "outputs": [
        {
          "output_type": "execute_result",
          "data": {
            "text/plain": [
              "Text(0.5, 1.0, 'Conjunto de prueba, predicciones')"
            ]
          },
          "metadata": {},
          "execution_count": 61
        },
        {
          "output_type": "display_data",
          "data": {
            "text/plain": [
              "<Figure size 432x288 with 1 Axes>"
            ],
            "image/png": "[encoded data removed]"
          },
          "metadata": {
            "needs_background": "light"
          }
        }
      ],
      "source": [
        "#Gráfica del conjunto de prueba, en cuanto a sus predicciones\n",
        "pred_test=[yHat_ML_test,yHat_MLpoly_test,yHat_Ridge_test,yHat_Lasso_test]\n",
        "plt.boxplot(pred_test, labels=regresiones, showmeans=True)\n",
        "plt.title('Conjunto de prueba, predicciones')"
      ]
    },
    {
      "cell_type": "markdown",
      "metadata": {
        "id": "LooxZjbFAlHD"
      },
      "source": [
        "**¿Qué método conviene más a la empresa?, ¿por qué?, ¿qué porcentajes de entrenamiento y evaluación?, ¿qué error tienes?, ¿es bueno?, ¿cómo lo sabes?**\n",
        " "
      ]
    },
    {
      "cell_type": "markdown",
      "metadata": {
        "id": "pl2KECY_CDw0"
      },
      "source": [
        "Si analizamos el MAE, podemos observar que el error correspondiente con el modelo polinomial es de algunas decimas más pequeño, tanto para el conjunto de entrenamiento, como también el de validación. Si bien entre los otros modelos casi no hay diferencia, tampoco la del modelo polinomial es exagerada, pues no es ni un entero. De todas formas, tener un menor error y al no ser computacionalmente muy costoso, parece que es viable optar por dicho modelo polinomial.\n",
        "Los errores MAE se encuentran todos dentro del entero 4, casi 5 pero sin alcanzarlo, como puede observarse con más detalle en la creación de sus gráficas o en la sección del cálculo de los errores, donde tal error no resulta muy grande. Por otro lado, en el cálculo del RMSE el modelo polinomial también posee un valor más donde para todos los modelos de van desde 5.7 hasta 6.9. En cuanto a R^2, inicia en 0.56 hasta 0.68 (donde el ajuste perfecto sería un valor de 1), donde el 0.68 corresponde al ajuste del modelo polinomial, por lo que se puede contemplar como un desempeño decente.\n",
        "Por tanto, los puntajes para el modelo polinomial de tercer grado son considerablemente mejores a los otros analizados y por ello que es el que se contempla como mejor opción. Lo sé debido al análisis de los errores (son números pequeños y ese tiene el menor valor) y el cálculo de R^2, donde se podría decir, tiene un 7 de calificación. Asimismo, puedo afirmar lo anterior porque la visualización del ajuste del modelo nos permite apreciar una buena predicción del comportamiento.\n",
        "En la partición de los datos, se empleó un 15% para prueba y el restante para entrenamiento.\n"
      ]
    },
    {
      "cell_type": "markdown",
      "metadata": {
        "id": "CfqcmLmxLoe9"
      },
      "source": [
        "#Ejercicio 2\n",
        "Realiza la regresión polinomial de los siguientes datos:"
      ]
    },
    {
      "cell_type": "code",
      "execution_count": null,
      "metadata": {
        "colab": {
          "base_uri": "https://localhost:8080/",
          "height": 456
        },
        "id": "57bn0j38qGrg",
        "outputId": "3d3cf4f1-79c9-463e-ae1c-e415f23a96f3"
      },
      "outputs": [
        {
          "output_type": "execute_result",
          "data": {
            "text/plain": [
              "               id             date      price  bedrooms  bathrooms  \\\n",
              "5954   7852020250  20140602T000000   725995.0         4       2.50   \n",
              "8610   6392002020  20150324T000000   559000.0         3       1.75   \n",
              "7650    626049058  20150504T000000   275000.0         5       2.50   \n",
              "5683   2202500255  20150305T000000   335000.0         3       2.00   \n",
              "20773  7304301231  20140617T000000   345000.0         3       2.50   \n",
              "6959    723000114  20140505T000000  1395000.0         5       3.50   \n",
              "10784  4104900340  20150204T000000   710000.0         4       2.50   \n",
              "21529  2487200490  20140623T000000   670000.0         3       2.50   \n",
              "12319  2386000070  20141029T000000   795127.0         4       3.25   \n",
              "19948   293070090  20140711T000000   859990.0         4       2.75   \n",
              "\n",
              "       sqft_living  sqft_lot  floors  waterfront  view  ...  grade  \\\n",
              "5954          3190      7869     2.0           0     2  ...      9   \n",
              "8610          1700      6500     1.0           0     0  ...      8   \n",
              "7650          2570     17234     1.0           0     0  ...      7   \n",
              "5683          1210      9926     1.0           0     0  ...      7   \n",
              "20773         1680      2229     2.0           0     0  ...      7   \n",
              "6959          4010      8510     2.0           0     1  ...      9   \n",
              "10784         3220     18618     2.0           0     1  ...     10   \n",
              "21529         3310      5300     2.0           0     2  ...      8   \n",
              "12319         4360     91158     1.0           0     0  ...     10   \n",
              "19948         3520      5500     2.0           0     0  ...      9   \n",
              "\n",
              "       sqft_above  sqft_basement  yr_built  yr_renovated  zipcode      lat  \\\n",
              "5954         3190              0      2001             0    98065  47.5317   \n",
              "8610         1700              0      1967             0    98115  47.6837   \n",
              "7650         1300           1270      1959             0    98133  47.7753   \n",
              "5683         1210              0      1954          2015    98006  47.5731   \n",
              "20773        1680              0      2007             0    98155  47.7484   \n",
              "6959         2850           1160      1971             0    98105  47.6578   \n",
              "10784        3220              0      1991             0    98056  47.5326   \n",
              "21529        2440            870      2008             0    98136  47.5178   \n",
              "12319        3360           1000      1993             0    98053  47.6398   \n",
              "19948        3520              0      2014             0    98074  47.6181   \n",
              "\n",
              "          long  sqft_living15  sqft_lot15  \n",
              "5954  -121.866           2630        6739  \n",
              "8610  -122.284           1880        6000  \n",
              "7650  -122.355           1760        7969  \n",
              "5683  -122.135           1690        9737  \n",
              "20773 -122.322           1230        9300  \n",
              "6959  -122.286           2610        6128  \n",
              "10784 -122.181           2650       11896  \n",
              "21529 -122.389           2140        7500  \n",
              "12319 -121.985           3540       90940  \n",
              "19948 -122.056           3340        5500  \n",
              "\n",
              "[10 rows x 21 columns]"
            ],
            "text/html": [
              "\n",
              "  <div id=\"df-e5d26850-e625-4dfa-a2e4-e1de7c49fc8f\">\n",
              "    <div class=\"colab-df-container\">\n",
              "      <div>\n",
              "<style scoped>\n",
              "    .dataframe tbody tr th:only-of-type {\n",
              "        vertical-align: middle;\n",
              "    }\n",
              "\n",
              "    .dataframe tbody tr th {\n",
              "        vertical-align: top;\n",
              "    }\n",
              "\n",
              "    .dataframe thead th {\n",
              "        text-align: right;\n",
              "    }\n",
              "</style>\n",
              "<table border=\"1\" class=\"dataframe\">\n",
              "  <thead>\n",
              "    <tr style=\"text-align: right;\">\n",
              "      <th></th>\n",
              "      <th>id</th>\n",
              "      <th>date</th>\n",
              "      <th>price</th>\n",
              "      <th>bedrooms</th>\n",
              "      <th>bathrooms</th>\n",
              "      <th>sqft_living</th>\n",
              "      <th>sqft_lot</th>\n",
              "      <th>floors</th>\n",
              "      <th>waterfront</th>\n",
              "      <th>view</th>\n",
              "      <th>...</th>\n",
              "      <th>grade</th>\n",
              "      <th>sqft_above</th>\n",
              "      <th>sqft_basement</th>\n",
              "      <th>yr_built</th>\n",
              "      <th>yr_renovated</th>\n",
              "      <th>zipcode</th>\n",
              "      <th>lat</th>\n",
              "      <th>long</th>\n",
              "      <th>sqft_living15</th>\n",
              "      <th>sqft_lot15</th>\n",
              "    </tr>\n",
              "  </thead>\n",
              "  <tbody>\n",
              "    <tr>\n",
              "      <th>5954</th>\n",
              "      <td>7852020250</td>\n",
              "      <td>20140602T000000</td>\n",
              "      <td>725995.0</td>\n",
              "      <td>4</td>\n",
              "      <td>2.50</td>\n",
              "      <td>3190</td>\n",
              "      <td>7869</td>\n",
              "      <td>2.0</td>\n",
              "      <td>0</td>\n",
              "      <td>2</td>\n",
              "      <td>...</td>\n",
              "      <td>9</td>\n",
              "      <td>3190</td>\n",
              "      <td>0</td>\n",
              "      <td>2001</td>\n",
              "      <td>0</td>\n",
              "      <td>98065</td>\n",
              "      <td>47.5317</td>\n",
              "      <td>-121.866</td>\n",
              "      <td>2630</td>\n",
              "      <td>6739</td>\n",
              "    </tr>\n",
              "    <tr>\n",
              "      <th>8610</th>\n",
              "      <td>6392002020</td>\n",
              "      <td>20150324T000000</td>\n",
              "      <td>559000.0</td>\n",
              "      <td>3</td>\n",
              "      <td>1.75</td>\n",
              "      <td>1700</td>\n",
              "      <td>6500</td>\n",
              "      <td>1.0</td>\n",
              "      <td>0</td>\n",
              "      <td>0</td>\n",
              "      <td>...</td>\n",
              "      <td>8</td>\n",
              "      <td>1700</td>\n",
              "      <td>0</td>\n",
              "      <td>1967</td>\n",
              "      <td>0</td>\n",
              "      <td>98115</td>\n",
              "      <td>47.6837</td>\n",
              "      <td>-122.284</td>\n",
              "      <td>1880</td>\n",
              "      <td>6000</td>\n",
              "    </tr>\n",
              "    <tr>\n",
              "      <th>7650</th>\n",
              "      <td>626049058</td>\n",
              "      <td>20150504T000000</td>\n",
              "      <td>275000.0</td>\n",
              "      <td>5</td>\n",
              "      <td>2.50</td>\n",
              "      <td>2570</td>\n",
              "      <td>17234</td>\n",
              "      <td>1.0</td>\n",
              "      <td>0</td>\n",
              "      <td>0</td>\n",
              "      <td>...</td>\n",
              "      <td>7</td>\n",
              "      <td>1300</td>\n",
              "      <td>1270</td>\n",
              "      <td>1959</td>\n",
              "      <td>0</td>\n",
              "      <td>98133</td>\n",
              "      <td>47.7753</td>\n",
              "      <td>-122.355</td>\n",
              "      <td>1760</td>\n",
              "      <td>7969</td>\n",
              "    </tr>\n",
              "    <tr>\n",
              "      <th>5683</th>\n",
              "      <td>2202500255</td>\n",
              "      <td>20150305T000000</td>\n",
              "      <td>335000.0</td>\n",
              "      <td>3</td>\n",
              "      <td>2.00</td>\n",
              "      <td>1210</td>\n",
              "      <td>9926</td>\n",
              "      <td>1.0</td>\n",
              "      <td>0</td>\n",
              "      <td>0</td>\n",
              "      <td>...</td>\n",
              "      <td>7</td>\n",
              "      <td>1210</td>\n",
              "      <td>0</td>\n",
              "      <td>1954</td>\n",
              "      <td>2015</td>\n",
              "      <td>98006</td>\n",
              "      <td>47.5731</td>\n",
              "      <td>-122.135</td>\n",
              "      <td>1690</td>\n",
              "      <td>9737</td>\n",
              "    </tr>\n",
              "    <tr>\n",
              "      <th>20773</th>\n",
              "      <td>7304301231</td>\n",
              "      <td>20140617T000000</td>\n",
              "      <td>345000.0</td>\n",
              "      <td>3</td>\n",
              "      <td>2.50</td>\n",
              "      <td>1680</td>\n",
              "      <td>2229</td>\n",
              "      <td>2.0</td>\n",
              "      <td>0</td>\n",
              "      <td>0</td>\n",
              "      <td>...</td>\n",
              "      <td>7</td>\n",
              "      <td>1680</td>\n",
              "      <td>0</td>\n",
              "      <td>2007</td>\n",
              "      <td>0</td>\n",
              "      <td>98155</td>\n",
              "      <td>47.7484</td>\n",
              "      <td>-122.322</td>\n",
              "      <td>1230</td>\n",
              "      <td>9300</td>\n",
              "    </tr>\n",
              "    <tr>\n",
              "      <th>6959</th>\n",
              "      <td>723000114</td>\n",
              "      <td>20140505T000000</td>\n",
              "      <td>1395000.0</td>\n",
              "      <td>5</td>\n",
              "      <td>3.50</td>\n",
              "      <td>4010</td>\n",
              "      <td>8510</td>\n",
              "      <td>2.0</td>\n",
              "      <td>0</td>\n",
              "      <td>1</td>\n",
              "      <td>...</td>\n",
              "      <td>9</td>\n",
              "      <td>2850</td>\n",
              "      <td>1160</td>\n",
              "      <td>1971</td>\n",
              "      <td>0</td>\n",
              "      <td>98105</td>\n",
              "      <td>47.6578</td>\n",
              "      <td>-122.286</td>\n",
              "      <td>2610</td>\n",
              "      <td>6128</td>\n",
              "    </tr>\n",
              "    <tr>\n",
              "      <th>10784</th>\n",
              "      <td>4104900340</td>\n",
              "      <td>20150204T000000</td>\n",
              "      <td>710000.0</td>\n",
              "      <td>4</td>\n",
              "      <td>2.50</td>\n",
              "      <td>3220</td>\n",
              "      <td>18618</td>\n",
              "      <td>2.0</td>\n",
              "      <td>0</td>\n",
              "      <td>1</td>\n",
              "      <td>...</td>\n",
              "      <td>10</td>\n",
              "      <td>3220</td>\n",
              "      <td>0</td>\n",
              "      <td>1991</td>\n",
              "      <td>0</td>\n",
              "      <td>98056</td>\n",
              "      <td>47.5326</td>\n",
              "      <td>-122.181</td>\n",
              "      <td>2650</td>\n",
              "      <td>11896</td>\n",
              "    </tr>\n",
              "    <tr>\n",
              "      <th>21529</th>\n",
              "      <td>2487200490</td>\n",
              "      <td>20140623T000000</td>\n",
              "      <td>670000.0</td>\n",
              "      <td>3</td>\n",
              "      <td>2.50</td>\n",
              "      <td>3310</td>\n",
              "      <td>5300</td>\n",
              "      <td>2.0</td>\n",
              "      <td>0</td>\n",
              "      <td>2</td>\n",
              "      <td>...</td>\n",
              "      <td>8</td>\n",
              "      <td>2440</td>\n",
              "      <td>870</td>\n",
              "      <td>2008</td>\n",
              "      <td>0</td>\n",
              "      <td>98136</td>\n",
              "      <td>47.5178</td>\n",
              "      <td>-122.389</td>\n",
              "      <td>2140</td>\n",
              "      <td>7500</td>\n",
              "    </tr>\n",
              "    <tr>\n",
              "      <th>12319</th>\n",
              "      <td>2386000070</td>\n",
              "      <td>20141029T000000</td>\n",
              "      <td>795127.0</td>\n",
              "      <td>4</td>\n",
              "      <td>3.25</td>\n",
              "      <td>4360</td>\n",
              "      <td>91158</td>\n",
              "      <td>1.0</td>\n",
              "      <td>0</td>\n",
              "      <td>0</td>\n",
              "      <td>...</td>\n",
              "      <td>10</td>\n",
              "      <td>3360</td>\n",
              "      <td>1000</td>\n",
              "      <td>1993</td>\n",
              "      <td>0</td>\n",
              "      <td>98053</td>\n",
              "      <td>47.6398</td>\n",
              "      <td>-121.985</td>\n",
              "      <td>3540</td>\n",
              "      <td>90940</td>\n",
              "    </tr>\n",
              "    <tr>\n",
              "      <th>19948</th>\n",
              "      <td>293070090</td>\n",
              "      <td>20140711T000000</td>\n",
              "      <td>859990.0</td>\n",
              "      <td>4</td>\n",
              "      <td>2.75</td>\n",
              "      <td>3520</td>\n",
              "      <td>5500</td>\n",
              "      <td>2.0</td>\n",
              "      <td>0</td>\n",
              "      <td>0</td>\n",
              "      <td>...</td>\n",
              "      <td>9</td>\n",
              "      <td>3520</td>\n",
              "      <td>0</td>\n",
              "      <td>2014</td>\n",
              "      <td>0</td>\n",
              "      <td>98074</td>\n",
              "      <td>47.6181</td>\n",
              "      <td>-122.056</td>\n",
              "      <td>3340</td>\n",
              "      <td>5500</td>\n",
              "    </tr>\n",
              "  </tbody>\n",
              "</table>\n",
              "<p>10 rows × 21 columns</p>\n",
              "</div>\n",
              "      <button class=\"colab-df-convert\" onclick=\"convertToInteractive('df-e5d26850-e625-4dfa-a2e4-e1de7c49fc8f')\"\n",
              "              title=\"Convert this dataframe to an interactive table.\"\n",
              "              style=\"display:none;\">\n",
              "        \n",
              "  <svg xmlns=\"http://www.w3.org/2000/svg\" height=\"24px\"viewBox=\"0 0 24 24\"\n",
              "       width=\"24px\">\n",
              "    <path d=\"M0 0h24v24H0V0z\" fill=\"none\"/>\n",
              "    <path d=\"M18.56 5.44l.94 2.06.94-2.06 2.06-.94-2.06-.94-.94-2.06-.94 2.06-2.06.94zm-11 1L8.5 8.5l.94-2.06 2.06-.94-2.06-.94L8.5 2.5l-.94 2.06-2.06.94zm10 10l.94 2.06.94-2.06 2.06-.94-2.06-.94-.94-2.06-.94 2.06-2.06.94z\"/><path d=\"M17.41 7.96l-1.37-1.37c-.4-.4-.92-.59-1.43-.59-.52 0-1.04.2-1.43.59L10.3 9.45l-7.72 7.72c-.78.78-.78 2.05 0 2.83L4 21.41c.39.39.9.59 1.41.59.51 0 1.02-.2 1.41-.59l7.78-7.78 2.81-2.81c.8-.78.8-2.07 0-2.86zM5.41 20L4 18.59l7.72-7.72 1.47 1.35L5.41 20z\"/>\n",
              "  </svg>\n",
              "      </button>\n",
              "      \n",
              "  <style>\n",
              "    .colab-df-container {\n",
              "      display:flex;\n",
              "      flex-wrap:wrap;\n",
              "      gap: 12px;\n",
              "    }\n",
              "\n",
              "    .colab-df-convert {\n",
              "      background-color: #E8F0FE;\n",
              "      border: none;\n",
              "      border-radius: 50%;\n",
              "      cursor: pointer;\n",
              "      display: none;\n",
              "      fill: #1967D2;\n",
              "      height: 32px;\n",
              "      padding: 0 0 0 0;\n",
              "      width: 32px;\n",
              "    }\n",
              "\n",
              "    .colab-df-convert:hover {\n",
              "      background-color: #E2EBFA;\n",
              "      box-shadow: 0px 1px 2px rgba(60, 64, 67, 0.3), 0px 1px 3px 1px rgba(60, 64, 67, 0.15);\n",
              "      fill: #174EA6;\n",
              "    }\n",
              "\n",
              "    [theme=dark] .colab-df-convert {\n",
              "      background-color: #3B4455;\n",
              "      fill: #D2E3FC;\n",
              "    }\n",
              "\n",
              "    [theme=dark] .colab-df-convert:hover {\n",
              "      background-color: #434B5C;\n",
              "      box-shadow: 0px 1px 3px 1px rgba(0, 0, 0, 0.15);\n",
              "      filter: drop-shadow(0px 1px 2px rgba(0, 0, 0, 0.3));\n",
              "      fill: #FFFFFF;\n",
              "    }\n",
              "  </style>\n",
              "\n",
              "      <script>\n",
              "        const buttonEl =\n",
              "          document.querySelector('#df-e5d26850-e625-4dfa-a2e4-e1de7c49fc8f button.colab-df-convert');\n",
              "        buttonEl.style.display =\n",
              "          google.colab.kernel.accessAllowed ? 'block' : 'none';\n",
              "\n",
              "        async function convertToInteractive(key) {\n",
              "          const element = document.querySelector('#df-e5d26850-e625-4dfa-a2e4-e1de7c49fc8f');\n",
              "          const dataTable =\n",
              "            await google.colab.kernel.invokeFunction('convertToInteractive',\n",
              "                                                     [key], {});\n",
              "          if (!dataTable) return;\n",
              "\n",
              "          const docLinkHtml = 'Like what you see? Visit the ' +\n",
              "            '<a target=\"_blank\" href=https://colab.research.google.com/notebooks/data_table.ipynb>data table notebook</a>'\n",
              "            + ' to learn more about interactive tables.';\n",
              "          element.innerHTML = '';\n",
              "          dataTable['output_type'] = 'display_data';\n",
              "          await google.colab.output.renderOutput(dataTable, element);\n",
              "          const docLink = document.createElement('div');\n",
              "          docLink.innerHTML = docLinkHtml;\n",
              "          element.appendChild(docLink);\n",
              "        }\n",
              "      </script>\n",
              "    </div>\n",
              "  </div>\n",
              "  "
            ]
          },
          "metadata": {},
          "execution_count": 62
        }
      ],
      "source": [
        "#Carga de los datos para el segundo ejercicio\n",
        "df = pd.read_csv('https://raw.githubusercontent.com/marypazrf/bdd/main/kc_house_data.csv')\n",
        "df.sample(10)"
      ]
    },
    {
      "cell_type": "markdown",
      "metadata": {
        "id": "nxbge6SgXn_u"
      },
      "source": [
        "Se obtiene información del dataframe generado a partir de los datos"
      ]
    },
    {
      "cell_type": "code",
      "execution_count": null,
      "metadata": {
        "colab": {
          "base_uri": "https://localhost:8080/"
        },
        "id": "n0fs14KoqI3M",
        "outputId": "43020829-1446-49d9-928c-eb9844f6c90e"
      },
      "outputs": [
        {
          "output_type": "stream",
          "name": "stdout",
          "text": [
            "<class 'pandas.core.frame.DataFrame'>\n",
            "RangeIndex: 21613 entries, 0 to 21612\n",
            "Data columns (total 21 columns):\n",
            " #   Column         Non-Null Count  Dtype  \n",
            "---  ------         --------------  -----  \n",
            " 0   id             21613 non-null  int64  \n",
            " 1   date           21613 non-null  object \n",
            " 2   price          21613 non-null  float64\n",
            " 3   bedrooms       21613 non-null  int64  \n",
            " 4   bathrooms      21613 non-null  float64\n",
            " 5   sqft_living    21613 non-null  int64  \n",
            " 6   sqft_lot       21613 non-null  int64  \n",
            " 7   floors         21613 non-null  float64\n",
            " 8   waterfront     21613 non-null  int64  \n",
            " 9   view           21613 non-null  int64  \n",
            " 10  condition      21613 non-null  int64  \n",
            " 11  grade          21613 non-null  int64  \n",
            " 12  sqft_above     21613 non-null  int64  \n",
            " 13  sqft_basement  21613 non-null  int64  \n",
            " 14  yr_built       21613 non-null  int64  \n",
            " 15  yr_renovated   21613 non-null  int64  \n",
            " 16  zipcode        21613 non-null  int64  \n",
            " 17  lat            21613 non-null  float64\n",
            " 18  long           21613 non-null  float64\n",
            " 19  sqft_living15  21613 non-null  int64  \n",
            " 20  sqft_lot15     21613 non-null  int64  \n",
            "dtypes: float64(5), int64(15), object(1)\n",
            "memory usage: 3.5+ MB\n"
          ]
        }
      ],
      "source": [
        "df.info()"
      ]
    },
    {
      "cell_type": "code",
      "execution_count": null,
      "metadata": {
        "colab": {
          "base_uri": "https://localhost:8080/",
          "height": 364
        },
        "id": "1PNzDJZeqKhe",
        "outputId": "208e4702-3005-4fed-fa7d-9c3673f3befb"
      },
      "outputs": [
        {
          "output_type": "execute_result",
          "data": {
            "text/plain": [
              "                 id         price      bedrooms     bathrooms   sqft_living  \\\n",
              "count  2.161300e+04  2.161300e+04  21613.000000  21613.000000  21613.000000   \n",
              "mean   4.580302e+09  5.400881e+05      3.370842      2.114757   2079.899736   \n",
              "std    2.876566e+09  3.671272e+05      0.930062      0.770163    918.440897   \n",
              "min    1.000102e+06  7.500000e+04      0.000000      0.000000    290.000000   \n",
              "25%    2.123049e+09  3.219500e+05      3.000000      1.750000   1427.000000   \n",
              "50%    3.904930e+09  4.500000e+05      3.000000      2.250000   1910.000000   \n",
              "75%    7.308900e+09  6.450000e+05      4.000000      2.500000   2550.000000   \n",
              "max    9.900000e+09  7.700000e+06     33.000000      8.000000  13540.000000   \n",
              "\n",
              "           sqft_lot        floors    waterfront          view     condition  \\\n",
              "count  2.161300e+04  21613.000000  21613.000000  21613.000000  21613.000000   \n",
              "mean   1.510697e+04      1.494309      0.007542      0.234303      3.409430   \n",
              "std    4.142051e+04      0.539989      0.086517      0.766318      0.650743   \n",
              "min    5.200000e+02      1.000000      0.000000      0.000000      1.000000   \n",
              "25%    5.040000e+03      1.000000      0.000000      0.000000      3.000000   \n",
              "50%    7.618000e+03      1.500000      0.000000      0.000000      3.000000   \n",
              "75%    1.068800e+04      2.000000      0.000000      0.000000      4.000000   \n",
              "max    1.651359e+06      3.500000      1.000000      4.000000      5.000000   \n",
              "\n",
              "              grade    sqft_above  sqft_basement      yr_built  yr_renovated  \\\n",
              "count  21613.000000  21613.000000   21613.000000  21613.000000  21613.000000   \n",
              "mean       7.656873   1788.390691     291.509045   1971.005136     84.402258   \n",
              "std        1.175459    828.090978     442.575043     29.373411    401.679240   \n",
              "min        1.000000    290.000000       0.000000   1900.000000      0.000000   \n",
              "25%        7.000000   1190.000000       0.000000   1951.000000      0.000000   \n",
              "50%        7.000000   1560.000000       0.000000   1975.000000      0.000000   \n",
              "75%        8.000000   2210.000000     560.000000   1997.000000      0.000000   \n",
              "max       13.000000   9410.000000    4820.000000   2015.000000   2015.000000   \n",
              "\n",
              "            zipcode           lat          long  sqft_living15     sqft_lot15  \n",
              "count  21613.000000  21613.000000  21613.000000   21613.000000   21613.000000  \n",
              "mean   98077.939805     47.560053   -122.213896    1986.552492   12768.455652  \n",
              "std       53.505026      0.138564      0.140828     685.391304   27304.179631  \n",
              "min    98001.000000     47.155900   -122.519000     399.000000     651.000000  \n",
              "25%    98033.000000     47.471000   -122.328000    1490.000000    5100.000000  \n",
              "50%    98065.000000     47.571800   -122.230000    1840.000000    7620.000000  \n",
              "75%    98118.000000     47.678000   -122.125000    2360.000000   10083.000000  \n",
              "max    98199.000000     47.777600   -121.315000    6210.000000  871200.000000  "
            ],
            "text/html": [
              "\n",
              "  <div id=\"df-c529db34-84ee-48e6-93f1-da5183bb40aa\">\n",
              "    <div class=\"colab-df-container\">\n",
              "      <div>\n",
              "<style scoped>\n",
              "    .dataframe tbody tr th:only-of-type {\n",
              "        vertical-align: middle;\n",
              "    }\n",
              "\n",
              "    .dataframe tbody tr th {\n",
              "        vertical-align: top;\n",
              "    }\n",
              "\n",
              "    .dataframe thead th {\n",
              "        text-align: right;\n",
              "    }\n",
              "</style>\n",
              "<table border=\"1\" class=\"dataframe\">\n",
              "  <thead>\n",
              "    <tr style=\"text-align: right;\">\n",
              "      <th></th>\n",
              "      <th>id</th>\n",
              "      <th>price</th>\n",
              "      <th>bedrooms</th>\n",
              "      <th>bathrooms</th>\n",
              "      <th>sqft_living</th>\n",
              "      <th>sqft_lot</th>\n",
              "      <th>floors</th>\n",
              "      <th>waterfront</th>\n",
              "      <th>view</th>\n",
              "      <th>condition</th>\n",
              "      <th>grade</th>\n",
              "      <th>sqft_above</th>\n",
              "      <th>sqft_basement</th>\n",
              "      <th>yr_built</th>\n",
              "      <th>yr_renovated</th>\n",
              "      <th>zipcode</th>\n",
              "      <th>lat</th>\n",
              "      <th>long</th>\n",
              "      <th>sqft_living15</th>\n",
              "      <th>sqft_lot15</th>\n",
              "    </tr>\n",
              "  </thead>\n",
              "  <tbody>\n",
              "    <tr>\n",
              "      <th>count</th>\n",
              "      <td>2.161300e+04</td>\n",
              "      <td>2.161300e+04</td>\n",
              "      <td>21613.000000</td>\n",
              "      <td>21613.000000</td>\n",
              "      <td>21613.000000</td>\n",
              "      <td>2.161300e+04</td>\n",
              "      <td>21613.000000</td>\n",
              "      <td>21613.000000</td>\n",
              "      <td>21613.000000</td>\n",
              "      <td>21613.000000</td>\n",
              "      <td>21613.000000</td>\n",
              "      <td>21613.000000</td>\n",
              "      <td>21613.000000</td>\n",
              "      <td>21613.000000</td>\n",
              "      <td>21613.000000</td>\n",
              "      <td>21613.000000</td>\n",
              "      <td>21613.000000</td>\n",
              "      <td>21613.000000</td>\n",
              "      <td>21613.000000</td>\n",
              "      <td>21613.000000</td>\n",
              "    </tr>\n",
              "    <tr>\n",
              "      <th>mean</th>\n",
              "      <td>4.580302e+09</td>\n",
              "      <td>5.400881e+05</td>\n",
              "      <td>3.370842</td>\n",
              "      <td>2.114757</td>\n",
              "      <td>2079.899736</td>\n",
              "      <td>1.510697e+04</td>\n",
              "      <td>1.494309</td>\n",
              "      <td>0.007542</td>\n",
              "      <td>0.234303</td>\n",
              "      <td>3.409430</td>\n",
              "      <td>7.656873</td>\n",
              "      <td>1788.390691</td>\n",
              "      <td>291.509045</td>\n",
              "      <td>1971.005136</td>\n",
              "      <td>84.402258</td>\n",
              "      <td>98077.939805</td>\n",
              "      <td>47.560053</td>\n",
              "      <td>-122.213896</td>\n",
              "      <td>1986.552492</td>\n",
              "      <td>12768.455652</td>\n",
              "    </tr>\n",
              "    <tr>\n",
              "      <th>std</th>\n",
              "      <td>2.876566e+09</td>\n",
              "      <td>3.671272e+05</td>\n",
              "      <td>0.930062</td>\n",
              "      <td>0.770163</td>\n",
              "      <td>918.440897</td>\n",
              "      <td>4.142051e+04</td>\n",
              "      <td>0.539989</td>\n",
              "      <td>0.086517</td>\n",
              "      <td>0.766318</td>\n",
              "      <td>0.650743</td>\n",
              "      <td>1.175459</td>\n",
              "      <td>828.090978</td>\n",
              "      <td>442.575043</td>\n",
              "      <td>29.373411</td>\n",
              "      <td>401.679240</td>\n",
              "      <td>53.505026</td>\n",
              "      <td>0.138564</td>\n",
              "      <td>0.140828</td>\n",
              "      <td>685.391304</td>\n",
              "      <td>27304.179631</td>\n",
              "    </tr>\n",
              "    <tr>\n",
              "      <th>min</th>\n",
              "      <td>1.000102e+06</td>\n",
              "      <td>7.500000e+04</td>\n",
              "      <td>0.000000</td>\n",
              "      <td>0.000000</td>\n",
              "      <td>290.000000</td>\n",
              "      <td>5.200000e+02</td>\n",
              "      <td>1.000000</td>\n",
              "      <td>0.000000</td>\n",
              "      <td>0.000000</td>\n",
              "      <td>1.000000</td>\n",
              "      <td>1.000000</td>\n",
              "      <td>290.000000</td>\n",
              "      <td>0.000000</td>\n",
              "      <td>1900.000000</td>\n",
              "      <td>0.000000</td>\n",
              "      <td>98001.000000</td>\n",
              "      <td>47.155900</td>\n",
              "      <td>-122.519000</td>\n",
              "      <td>399.000000</td>\n",
              "      <td>651.000000</td>\n",
              "    </tr>\n",
              "    <tr>\n",
              "      <th>25%</th>\n",
              "      <td>2.123049e+09</td>\n",
              "      <td>3.219500e+05</td>\n",
              "      <td>3.000000</td>\n",
              "      <td>1.750000</td>\n",
              "      <td>1427.000000</td>\n",
              "      <td>5.040000e+03</td>\n",
              "      <td>1.000000</td>\n",
              "      <td>0.000000</td>\n",
              "      <td>0.000000</td>\n",
              "      <td>3.000000</td>\n",
              "      <td>7.000000</td>\n",
              "      <td>1190.000000</td>\n",
              "      <td>0.000000</td>\n",
              "      <td>1951.000000</td>\n",
              "      <td>0.000000</td>\n",
              "      <td>98033.000000</td>\n",
              "      <td>47.471000</td>\n",
              "      <td>-122.328000</td>\n",
              "      <td>1490.000000</td>\n",
              "      <td>5100.000000</td>\n",
              "    </tr>\n",
              "    <tr>\n",
              "      <th>50%</th>\n",
              "      <td>3.904930e+09</td>\n",
              "      <td>4.500000e+05</td>\n",
              "      <td>3.000000</td>\n",
              "      <td>2.250000</td>\n",
              "      <td>1910.000000</td>\n",
              "      <td>7.618000e+03</td>\n",
              "      <td>1.500000</td>\n",
              "      <td>0.000000</td>\n",
              "      <td>0.000000</td>\n",
              "      <td>3.000000</td>\n",
              "      <td>7.000000</td>\n",
              "      <td>1560.000000</td>\n",
              "      <td>0.000000</td>\n",
              "      <td>1975.000000</td>\n",
              "      <td>0.000000</td>\n",
              "      <td>98065.000000</td>\n",
              "      <td>47.571800</td>\n",
              "      <td>-122.230000</td>\n",
              "      <td>1840.000000</td>\n",
              "      <td>7620.000000</td>\n",
              "    </tr>\n",
              "    <tr>\n",
              "      <th>75%</th>\n",
              "      <td>7.308900e+09</td>\n",
              "      <td>6.450000e+05</td>\n",
              "      <td>4.000000</td>\n",
              "      <td>2.500000</td>\n",
              "      <td>2550.000000</td>\n",
              "      <td>1.068800e+04</td>\n",
              "      <td>2.000000</td>\n",
              "      <td>0.000000</td>\n",
              "      <td>0.000000</td>\n",
              "      <td>4.000000</td>\n",
              "      <td>8.000000</td>\n",
              "      <td>2210.000000</td>\n",
              "      <td>560.000000</td>\n",
              "      <td>1997.000000</td>\n",
              "      <td>0.000000</td>\n",
              "      <td>98118.000000</td>\n",
              "      <td>47.678000</td>\n",
              "      <td>-122.125000</td>\n",
              "      <td>2360.000000</td>\n",
              "      <td>10083.000000</td>\n",
              "    </tr>\n",
              "    <tr>\n",
              "      <th>max</th>\n",
              "      <td>9.900000e+09</td>\n",
              "      <td>7.700000e+06</td>\n",
              "      <td>33.000000</td>\n",
              "      <td>8.000000</td>\n",
              "      <td>13540.000000</td>\n",
              "      <td>1.651359e+06</td>\n",
              "      <td>3.500000</td>\n",
              "      <td>1.000000</td>\n",
              "      <td>4.000000</td>\n",
              "      <td>5.000000</td>\n",
              "      <td>13.000000</td>\n",
              "      <td>9410.000000</td>\n",
              "      <td>4820.000000</td>\n",
              "      <td>2015.000000</td>\n",
              "      <td>2015.000000</td>\n",
              "      <td>98199.000000</td>\n",
              "      <td>47.777600</td>\n",
              "      <td>-121.315000</td>\n",
              "      <td>6210.000000</td>\n",
              "      <td>871200.000000</td>\n",
              "    </tr>\n",
              "  </tbody>\n",
              "</table>\n",
              "</div>\n",
              "      <button class=\"colab-df-convert\" onclick=\"convertToInteractive('df-c529db34-84ee-48e6-93f1-da5183bb40aa')\"\n",
              "              title=\"Convert this dataframe to an interactive table.\"\n",
              "              style=\"display:none;\">\n",
              "        \n",
              "  <svg xmlns=\"http://www.w3.org/2000/svg\" height=\"24px\"viewBox=\"0 0 24 24\"\n",
              "       width=\"24px\">\n",
              "    <path d=\"M0 0h24v24H0V0z\" fill=\"none\"/>\n",
              "    <path d=\"M18.56 5.44l.94 2.06.94-2.06 2.06-.94-2.06-.94-.94-2.06-.94 2.06-2.06.94zm-11 1L8.5 8.5l.94-2.06 2.06-.94-2.06-.94L8.5 2.5l-.94 2.06-2.06.94zm10 10l.94 2.06.94-2.06 2.06-.94-2.06-.94-.94-2.06-.94 2.06-2.06.94z\"/><path d=\"M17.41 7.96l-1.37-1.37c-.4-.4-.92-.59-1.43-.59-.52 0-1.04.2-1.43.59L10.3 9.45l-7.72 7.72c-.78.78-.78 2.05 0 2.83L4 21.41c.39.39.9.59 1.41.59.51 0 1.02-.2 1.41-.59l7.78-7.78 2.81-2.81c.8-.78.8-2.07 0-2.86zM5.41 20L4 18.59l7.72-7.72 1.47 1.35L5.41 20z\"/>\n",
              "  </svg>\n",
              "      </button>\n",
              "      \n",
              "  <style>\n",
              "    .colab-df-container {\n",
              "      display:flex;\n",
              "      flex-wrap:wrap;\n",
              "      gap: 12px;\n",
              "    }\n",
              "\n",
              "    .colab-df-convert {\n",
              "      background-color: #E8F0FE;\n",
              "      border: none;\n",
              "      border-radius: 50%;\n",
              "      cursor: pointer;\n",
              "      display: none;\n",
              "      fill: #1967D2;\n",
              "      height: 32px;\n",
              "      padding: 0 0 0 0;\n",
              "      width: 32px;\n",
              "    }\n",
              "\n",
              "    .colab-df-convert:hover {\n",
              "      background-color: #E2EBFA;\n",
              "      box-shadow: 0px 1px 2px rgba(60, 64, 67, 0.3), 0px 1px 3px 1px rgba(60, 64, 67, 0.15);\n",
              "      fill: #174EA6;\n",
              "    }\n",
              "\n",
              "    [theme=dark] .colab-df-convert {\n",
              "      background-color: #3B4455;\n",
              "      fill: #D2E3FC;\n",
              "    }\n",
              "\n",
              "    [theme=dark] .colab-df-convert:hover {\n",
              "      background-color: #434B5C;\n",
              "      box-shadow: 0px 1px 3px 1px rgba(0, 0, 0, 0.15);\n",
              "      filter: drop-shadow(0px 1px 2px rgba(0, 0, 0, 0.3));\n",
              "      fill: #FFFFFF;\n",
              "    }\n",
              "  </style>\n",
              "\n",
              "      <script>\n",
              "        const buttonEl =\n",
              "          document.querySelector('#df-c529db34-84ee-48e6-93f1-da5183bb40aa button.colab-df-convert');\n",
              "        buttonEl.style.display =\n",
              "          google.colab.kernel.accessAllowed ? 'block' : 'none';\n",
              "\n",
              "        async function convertToInteractive(key) {\n",
              "          const element = document.querySelector('#df-c529db34-84ee-48e6-93f1-da5183bb40aa');\n",
              "          const dataTable =\n",
              "            await google.colab.kernel.invokeFunction('convertToInteractive',\n",
              "                                                     [key], {});\n",
              "          if (!dataTable) return;\n",
              "\n",
              "          const docLinkHtml = 'Like what you see? Visit the ' +\n",
              "            '<a target=\"_blank\" href=https://colab.research.google.com/notebooks/data_table.ipynb>data table notebook</a>'\n",
              "            + ' to learn more about interactive tables.';\n",
              "          element.innerHTML = '';\n",
              "          dataTable['output_type'] = 'display_data';\n",
              "          await google.colab.output.renderOutput(dataTable, element);\n",
              "          const docLink = document.createElement('div');\n",
              "          docLink.innerHTML = docLinkHtml;\n",
              "          element.appendChild(docLink);\n",
              "        }\n",
              "      </script>\n",
              "    </div>\n",
              "  </div>\n",
              "  "
            ]
          },
          "metadata": {},
          "execution_count": 64
        }
      ],
      "source": [
        "df.describe()"
      ]
    },
    {
      "cell_type": "code",
      "execution_count": null,
      "metadata": {
        "id": "0KUD8T08qMmq"
      },
      "outputs": [],
      "source": [
        "df.drop('id', axis = 1, inplace = True)\n",
        "df.drop('date', axis = 1, inplace = True)\n",
        "df.drop('zipcode', axis = 1, inplace = True)\n",
        "df.drop('lat', axis = 1, inplace = True)\n",
        "df.drop('long', axis = 1, inplace = True)"
      ]
    },
    {
      "cell_type": "code",
      "execution_count": null,
      "metadata": {
        "colab": {
          "base_uri": "https://localhost:8080/",
          "height": 485
        },
        "id": "r-jk_nHmqKpp",
        "outputId": "f667b8df-9971-4d23-998c-c11e7e7aee7a"
      },
      "outputs": [
        {
          "output_type": "display_data",
          "data": {
            "text/plain": [
              "<Figure size 864x576 with 2 Axes>"
            ],
            "image/png": "[encoded data removed]"
          },
          "metadata": {
            "needs_background": "light"
          }
        }
      ],
      "source": [
        "#Se observa la correlación entre las variables del dataframe\n",
        "plt.figure(figsize=(12,8)) \n",
        "sns.heatmap(df.corr(), annot=True, cmap='Dark2_r', linewidths = 2)\n",
        "plt.show()"
      ]
    },
    {
      "cell_type": "code",
      "execution_count": null,
      "metadata": {
        "colab": {
          "base_uri": "https://localhost:8080/"
        },
        "id": "mJppEao2GYEX",
        "outputId": "eff48531-54e1-4893-8e80-55cb0bd393c1"
      },
      "outputs": [
        {
          "output_type": "execute_result",
          "data": {
            "text/plain": [
              "array(['price', 'bedrooms', 'bathrooms', 'sqft_living', 'sqft_lot',\n",
              "       'floors', 'waterfront', 'view', 'condition', 'grade', 'sqft_above',\n",
              "       'sqft_basement', 'yr_built', 'yr_renovated', 'sqft_living15',\n",
              "       'sqft_lot15'], dtype=object)"
            ]
          },
          "metadata": {},
          "execution_count": 67
        }
      ],
      "source": [
        "#Se obtienen los valores de las columnas en el dataframe\n",
        "df.columns.values"
      ]
    },
    {
      "cell_type": "code",
      "execution_count": null,
      "metadata": {
        "id": "p4zqCnFwq7Oc"
      },
      "outputs": [],
      "source": [
        "#Se genera X,y a partir de la indexación del dataframe\n",
        "columns = df.columns.drop('price')\n",
        "\n",
        "features = columns\n",
        "label = ['price']\n",
        "\n",
        "X = df[features]\n",
        "y = df[label]"
      ]
    },
    {
      "cell_type": "markdown",
      "metadata": {
        "id": "MztUI2cqvW_p"
      },
      "source": [
        "### División de los datos"
      ]
    },
    {
      "cell_type": "code",
      "execution_count": null,
      "metadata": {
        "colab": {
          "base_uri": "https://localhost:8080/"
        },
        "id": "p91PEVPLq93-",
        "outputId": "515cd0ca-6a6c-489b-c500-f5a1a7420b73"
      },
      "outputs": [
        {
          "output_type": "stream",
          "name": "stdout",
          "text": [
            "Numero total de registros en la bdd: 21613\n",
            "**************************************************\n",
            "Numero total de registros en el training set: 19451\n",
            "Tamaño de X_train: (19451, 15)\n",
            "**************************************************\n",
            "Mumero total de registros en el test dataset: 2162\n",
            "Tamaño del X_test: (2162, 15)\n"
          ]
        }
      ],
      "source": [
        "#Se genera la partición del universo de datos para entrenamiento y prueba\n",
        "from sklearn.model_selection import train_test_split\n",
        "X_train, X_test, y_train, y_test = train_test_split(X, y, test_size = 0.1, random_state = 0)\n",
        "\n",
        "print(f'Numero total de registros en la bdd: {len(X)}')\n",
        "print(\"*****\"*10)\n",
        "print(f'Numero total de registros en el training set: {len(X_train)}')\n",
        "print(f'Tamaño de X_train: {X_train.shape}')\n",
        "print(\"*****\"*10)\n",
        "print(f'Mumero total de registros en el test dataset: {len(X_test)}')\n",
        "print(f'Tamaño del X_test: {X_test.shape}')"
      ]
    },
    {
      "cell_type": "markdown",
      "metadata": {
        "id": "J2x5P0bSNspb"
      },
      "source": [
        "## Regresión Lineal"
      ]
    },
    {
      "cell_type": "markdown",
      "metadata": {
        "id": "D30_0fJMwK2a"
      },
      "source": [
        "### Modelo"
      ]
    },
    {
      "cell_type": "code",
      "execution_count": null,
      "metadata": {
        "id": "0faHrN8-rv9V"
      },
      "outputs": [],
      "source": [
        "#tu codigo aquí\n",
        "#Conjunto de entrenamiento\n",
        "ML=LinearRegression(fit_intercept=True)\n",
        "ML.fit(X_train,y_train)\n",
        "ML_Yhat_E2=ML.predict(X_train)\n",
        "#Conjunto de prueba, predicciones\n",
        "ML_Yhat_test_E2=ML.predict(X_test)"
      ]
    },
    {
      "cell_type": "markdown",
      "source": [
        "X_train, X_test, y_train, y_test"
      ],
      "metadata": {
        "id": "PUKgEuLyNmBx"
      }
    },
    {
      "cell_type": "code",
      "execution_count": null,
      "metadata": {
        "colab": {
          "base_uri": "https://localhost:8080/"
        },
        "id": "ZDwyO-sXN6i9",
        "outputId": "8c0ef535-0d16-4247-beba-7d6a0d85380e"
      },
      "outputs": [
        {
          "output_type": "stream",
          "name": "stdout",
          "text": [
            "Pendiente: [[-3.9058850e+04  4.5608460e+04  1.1052000e+02  2.0000000e-02\n",
            "   2.8236330e+04  5.9837278e+05  4.2149720e+04  1.9661590e+04\n",
            "   1.1843258e+05  5.2050000e+01  5.8480000e+01 -3.5938700e+03\n",
            "   1.0480000e+01  2.5860000e+01 -5.8000000e-01]] \n",
            "Intersección en Y: [6243189.29]\n"
          ]
        }
      ],
      "source": [
        "print('Pendiente:',ML.coef_.round(2), '\\nIntersección en Y:',ML.intercept_.round(2))"
      ]
    },
    {
      "cell_type": "markdown",
      "metadata": {
        "id": "loMRK6hRognm"
      },
      "source": [
        "Ecuación\n",
        "\n",
        "En clase se comentó que era suficiente con calcular la pendiente e intersección y no darle el formato como en el ejercicio, debido a la gran cantidad de datos"
      ]
    },
    {
      "cell_type": "markdown",
      "metadata": {
        "id": "kTRt99X-olDa"
      },
      "source": [
        "El modelo estima:\n",
        "\n",
        "$\\hat{y} =  Intersección en Y + Pendiente X$"
      ]
    },
    {
      "cell_type": "markdown",
      "metadata": {
        "id": "BmUEDRdAh0vc"
      },
      "source": [
        "### Errores y R^2"
      ]
    },
    {
      "cell_type": "code",
      "execution_count": null,
      "metadata": {
        "colab": {
          "base_uri": "https://localhost:8080/"
        },
        "id": "iGVW0IGhtRJ3",
        "outputId": "33da146a-0b57-4ce5-fac7-64155cfdca48"
      },
      "outputs": [
        {
          "output_type": "stream",
          "name": "stdout",
          "text": [
            "Regresión lineal, conjunto de entrenamiento\n",
            "Error medio Absoluto (MAE): 140116.1587\n",
            "Root Mean Squared Error (RMSE): 217135.9826\n",
            "R^2_score 0.6553\n",
            "\n",
            "Regresión lineal, conjunto de prueba\n",
            "Error medio Absoluto (MAE): 137683.9014\n",
            "Root Mean Squared Error (RMSE): 205937.5546\n",
            "R^2_score 0.6356\n"
          ]
        }
      ],
      "source": [
        "#Se manda llamar la función que calcula los errores y a R^2\n",
        "print('Regresión lineal, conjunto de entrenamiento')\n",
        "erroresR2(y_train,ML_Yhat_E2,2,'entrenamiento')\n",
        "print(\"\")\n",
        "print('Regresión lineal, conjunto de prueba')\n",
        "erroresR2(y_test,ML_Yhat_test_E2,2,'prueba')"
      ]
    },
    {
      "cell_type": "markdown",
      "metadata": {
        "id": "LmH3xIanN0zN"
      },
      "source": [
        "## Regresión Polinomial"
      ]
    },
    {
      "cell_type": "markdown",
      "metadata": {
        "id": "Ts6SJCfixajp"
      },
      "source": [
        "#### Modelo"
      ]
    },
    {
      "cell_type": "code",
      "execution_count": null,
      "metadata": {
        "id": "Gg66DqmMN9Ij"
      },
      "outputs": [],
      "source": [
        "#X_train, X_test, y_train, y_test\n",
        "#Se crean las características polinomiales de segundo grado para transformar a X\n",
        "PF=PolynomialFeatures(degree=2,include_bias=False)\n",
        "xPoly=PF.fit_transform(X_train)\n",
        "#Se genera el modelo con la nueva X (que ahora incluye X original y su cuadrado)\n",
        "ML_Poly=LinearRegression(fit_intercept=True)\n",
        "ML_Poly.fit(xPoly,y_train)\n",
        "#Conjunto de entrenamiento, predicciones\n",
        "Yhat_ML_Poly_E2=ML_Poly.predict(xPoly)\n",
        "#Conjunto de prueba, predicciones y tranformación a X\n",
        "xPoly_test=PF.fit_transform(X_test)\n",
        "Yhat_ML_Poly_test_E2=ML_Poly.predict(xPoly_test)"
      ]
    },
    {
      "cell_type": "code",
      "execution_count": null,
      "metadata": {
        "colab": {
          "base_uri": "https://localhost:8080/"
        },
        "id": "a2vDUaHTlg3o",
        "outputId": "d82fbd38-98db-4f3a-a8f2-824b2cdb67ed"
      },
      "outputs": [
        {
          "output_type": "stream",
          "name": "stdout",
          "text": [
            "Pendiente: [[ 7.78376130e+05 -9.97413410e+05 -3.99270000e+02 -3.45300000e+01\n",
            "  -2.14813841e+06 -4.32114029e+06 -1.01716400e+05  4.90046480e+05\n",
            "   1.19557142e+06 -2.54730000e+02 -2.03480000e+02 -8.51509300e+04\n",
            "  -3.45890000e+03  3.81714000e+03 -2.94100000e+01  8.52360000e+02\n",
            "   9.39940000e+02 -1.00300000e+01  0.00000000e+00  1.59383800e+04\n",
            "   6.42886000e+03 -1.23979000e+03 -3.32002000e+03 -4.23325000e+03\n",
            "  -6.20000000e-01 -9.04000000e+00 -3.95480000e+02 -1.03600000e+01\n",
            "   1.40100000e+01  2.30000000e-01 -1.12982000e+04  2.04800000e+01\n",
            "  -3.10000000e-01 -2.71273700e+04 -1.67820000e+04  1.07606300e+04\n",
            "  -3.92030000e+02  1.80979300e+04  1.93900000e+01  1.59000000e+00\n",
            "   4.77390000e+02 -1.89300000e+01 -1.92700000e+01  1.00000000e-02\n",
            "   9.20000000e-01 -1.12900000e+01 -8.66000000e+00  1.78430000e+02\n",
            "  -1.07600000e+01  8.10000000e+00  2.17300000e+01  9.50000000e-01\n",
            "  -7.80000000e-01  1.02000000e+00  1.40000000e-01 -2.26000000e+00\n",
            "  -1.85900000e+01  0.00000000e+00  5.30000000e-01 -6.00000000e-02\n",
            "  -1.30000000e-01  6.00000000e-02  2.10000000e-01  1.12900000e+01\n",
            "   1.12900000e+01  2.00000000e-02 -0.00000000e+00  0.00000000e+00\n",
            "   0.00000000e+00  2.30431200e+04 -9.19498700e+04  4.55230000e+03\n",
            "   2.76368100e+04  1.51478000e+03 -1.24200000e+01  3.76000000e+00\n",
            "   1.04174000e+03  4.32000000e+00 -2.36400000e+01 -6.00000000e-01\n",
            "  -4.32115089e+06  1.17606400e+04  2.13284100e+04 -1.45631200e+05\n",
            "   1.52880000e+02  2.55500000e+01  4.63641000e+03 -3.50300000e+01\n",
            "   1.83090000e+02  2.00000000e-01  9.43947000e+03  2.87571000e+03\n",
            "   1.16957500e+04 -5.18000000e+00 -5.57000000e+00  6.30000000e-01\n",
            "  -8.75000000e+00  2.76000000e+00 -1.00000000e-02  1.15699000e+03\n",
            "  -7.37111000e+03 -6.40000000e-01  8.74000000e+00 -2.83090000e+02\n",
            "  -1.53700000e+01  5.52600000e+01 -2.60000000e-01  6.83171000e+03\n",
            "   9.72000000e+00  1.20300000e+01 -6.16320000e+02 -6.44000000e+00\n",
            "  -2.40300000e+01 -5.40000000e-01 -1.86000000e+00 -1.98000000e+00\n",
            "  -7.90000000e-01 -1.10000000e-01  2.25000000e+00  1.85900000e+01\n",
            "  -2.30000000e-01 -7.90000000e-01 -1.00000000e-01  2.26000000e+00\n",
            "   1.85900000e+01  2.28400000e+01  5.50000000e-01 -1.97000000e+00\n",
            "   2.00000000e-02  1.21000000e+00  5.00000000e-02  0.00000000e+00\n",
            "   4.00000000e-02 -0.00000000e+00  0.00000000e+00]] \n",
            "Intersección en Y: [79520401.51]\n"
          ]
        }
      ],
      "source": [
        "#Encontramos la pendiente y la intersección\n",
        "print('Pendiente:',ML_Poly.coef_.round(2), '\\nIntersección en Y:',ML_Poly.intercept_.round(2))"
      ]
    },
    {
      "cell_type": "markdown",
      "metadata": {
        "id": "42ih-VbmohUl"
      },
      "source": [
        "Ecuación\n",
        "\n",
        "En clase se comentó que era suficiente con calcular la pendiente e intersección y no darle el formato como en el ejercicio, debido a la gran cantidad de datos"
      ]
    },
    {
      "cell_type": "markdown",
      "metadata": {
        "id": "l73-sulQot3b"
      },
      "source": [
        "El modelo estima:\n",
        "\n",
        "$\\hat{y}  = Intersección Y + Pendiente1X + Pendiente2X^2 + PendientenX^n$\n"
      ]
    },
    {
      "cell_type": "markdown",
      "metadata": {
        "id": "ifAuhDcHikwg"
      },
      "source": [
        "### Errores y R^2"
      ]
    },
    {
      "cell_type": "code",
      "execution_count": null,
      "metadata": {
        "colab": {
          "base_uri": "https://localhost:8080/"
        },
        "id": "-F8JqKo2tutQ",
        "outputId": "46f2c914-f316-4973-c213-1f6ccbbce493"
      },
      "outputs": [
        {
          "output_type": "stream",
          "name": "stdout",
          "text": [
            "Regresión polinomial, conjunto de entrenamiento\n",
            "Error medio Absoluto (MAE): 123162.4145\n",
            "Root Mean Squared Error (RMSE): 183102.5529\n",
            "R^2_score 0.7549\n",
            "\n",
            "Regresión polinomial, conjunto de prueba\n",
            "Error medio Absoluto (MAE): 121682.2727\n",
            "Root Mean Squared Error (RMSE): 183504.7421\n",
            "R^2_score 0.7107\n"
          ]
        }
      ],
      "source": [
        "#Se manda llamar la función que calcula los errores y a R^2\n",
        "print('Regresión polinomial, conjunto de entrenamiento')\n",
        "erroresR2(y_train,Yhat_ML_Poly_E2,2,'entrenamiento')\n",
        "print(\"\")\n",
        "print('Regresión polinomial, conjunto de prueba')\n",
        "erroresR2(y_test,Yhat_ML_Poly_test_E2,2,'prueba')"
      ]
    },
    {
      "cell_type": "markdown",
      "metadata": {
        "id": "ZAaGJe2dN9eR"
      },
      "source": [
        "## Regresión con Ridge"
      ]
    },
    {
      "cell_type": "markdown",
      "metadata": {
        "id": "oZpeW4x06FQs"
      },
      "source": [
        "### Modelo"
      ]
    },
    {
      "cell_type": "code",
      "execution_count": null,
      "metadata": {
        "id": "EkdA0Zh7OAHL"
      },
      "outputs": [],
      "source": [
        "#Se selecciona un valor para alpha y solucionador para el modelo\n",
        "RidgeM=Ridge(alpha=5, solver=\"cholesky\")\n",
        "RidgeM.fit(X_train,y_train)\n",
        "#Conjunto de entrenamiento, predicciones\n",
        "yHat_Ridge_E2=RidgeM.predict(X_train)\n",
        "#Conjunto de prueba, predicciones\n",
        "yHat_Ridge_test_E2=RidgeM.predict(X_test)"
      ]
    },
    {
      "cell_type": "code",
      "execution_count": null,
      "metadata": {
        "colab": {
          "base_uri": "https://localhost:8080/"
        },
        "id": "x7ICo_i_lcDt",
        "outputId": "0d34c4be-f5e2-41d1-91f2-5fa6da0cd257"
      },
      "outputs": [
        {
          "output_type": "stream",
          "name": "stdout",
          "text": [
            "Pendiente: [[-3.9152180e+04  4.5536970e+04  1.1065000e+02  2.0000000e-02\n",
            "   2.8228520e+04  5.7539937e+05  4.3225440e+04  1.9686570e+04\n",
            "   1.1830338e+05  5.2220000e+01  5.8430000e+01 -3.5918600e+03\n",
            "   1.0750000e+01  2.5740000e+01 -5.7000000e-01]] \n",
            "Intersección en Y: [6240180.68]\n"
          ]
        }
      ],
      "source": [
        "#Encontramos la pendiente y la intersección\n",
        "print('Pendiente:',RidgeM.coef_.round(2), '\\nIntersección en Y:',RidgeM.intercept_.round(2))"
      ]
    },
    {
      "cell_type": "markdown",
      "metadata": {
        "id": "FxWsVfVzoIUO"
      },
      "source": [
        "Ecuación\n",
        "\n",
        "En clase se comentó que era suficiente con calcular la pendiente e intersección y no darle el formato como en el ejercicio, debido a la gran cantidad de datos"
      ]
    },
    {
      "cell_type": "markdown",
      "metadata": {
        "id": "lLYxhM2xn5GT"
      },
      "source": [
        "El modelo estima:\n",
        "\n",
        "$\\hat{y} = alpha * (+ intersección Y + pendiente X$)^2\n",
        "\n",
        "donde alpha = 5"
      ]
    },
    {
      "cell_type": "markdown",
      "metadata": {
        "id": "m_NFqKD4iqmy"
      },
      "source": [
        "### Errores y R^2"
      ]
    },
    {
      "cell_type": "code",
      "execution_count": null,
      "metadata": {
        "colab": {
          "base_uri": "https://localhost:8080/"
        },
        "id": "hIKaUHkmt955",
        "outputId": "4c339882-2c4c-4cf0-94ab-8f96247bb698"
      },
      "outputs": [
        {
          "output_type": "stream",
          "name": "stdout",
          "text": [
            "Regresión con Ridge, conjunto de entrenamiento\n",
            "Error medio Absoluto (MAE): 140125.3572\n",
            "Root Mean Squared Error (RMSE): 217143.7882\n",
            "R^2_score 0.6553\n",
            "\n",
            "Regresión con Ridge, conjunto de prueba\n",
            "Error medio Absoluto (MAE): 137651.8394\n",
            "Root Mean Squared Error (RMSE): 205811.6745\n",
            "R^2_score 0.636\n"
          ]
        }
      ],
      "source": [
        "#Se manda llamar la función que calcula los errores y a R^2\n",
        "print('Regresión con Ridge, conjunto de entrenamiento')\n",
        "erroresR2(y_train,yHat_Ridge_E2,2,'entrenamiento')\n",
        "print(\"\")\n",
        "print('Regresión con Ridge, conjunto de prueba')\n",
        "erroresR2(y_test,yHat_Ridge_test_E2,2,'prueba')"
      ]
    },
    {
      "cell_type": "markdown",
      "metadata": {
        "id": "JpdRrNLU4dRN"
      },
      "source": [
        "## Regresión con Lasso"
      ]
    },
    {
      "cell_type": "markdown",
      "metadata": {
        "id": "d2eqlksq6I7N"
      },
      "source": [
        "### Modelo"
      ]
    },
    {
      "cell_type": "code",
      "execution_count": null,
      "metadata": {
        "colab": {
          "base_uri": "https://localhost:8080/"
        },
        "id": "j8Jm27vd5MSc",
        "outputId": "2eacfcb1-301e-4b2f-f92d-8d2e319c9445"
      },
      "outputs": [
        {
          "output_type": "stream",
          "name": "stderr",
          "text": [
            "/usr/local/lib/python3.7/dist-packages/sklearn/linear_model/_coordinate_descent.py:648: ConvergenceWarning: Objective did not converge. You might want to increase the number of iterations, check the scale of the features or consider increasing regularisation. Duality gap: 4.179e+14, tolerance: 2.661e+11\n",
            "  coef_, l1_reg, l2_reg, X, y, max_iter, tol, rng, random, positive\n"
          ]
        }
      ],
      "source": [
        "#Se selecciona un valor para alpha en el modelo Lasso\n",
        "LassoM=Lasso(alpha=0.5)\n",
        "LassoM.fit(X_train, y_train)\n",
        "#Conjunto de entrenamiento, predicciones\n",
        "yHat_Lasso_E2=LassoM.predict(X_train)\n",
        "#Conjunto de prueba, predicciones\n",
        "yHat_Lasso_test_E2=LassoM.predict(X_test)"
      ]
    },
    {
      "cell_type": "markdown",
      "metadata": {
        "id": "L8A3Ugw9ofRt"
      },
      "source": [
        "Ecuación\n",
        "\n",
        "En clase se comentó que era suficiente con calcular la pendiente e intersección y no darle el formato como en el ejercicio, debido a la gran cantidad de datos"
      ]
    },
    {
      "cell_type": "code",
      "execution_count": null,
      "metadata": {
        "colab": {
          "base_uri": "https://localhost:8080/"
        },
        "id": "c9Elpge6lStb",
        "outputId": "f8ead6ef-dd61-4a91-c7d2-486b0cfee157"
      },
      "outputs": [
        {
          "output_type": "stream",
          "name": "stdout",
          "text": [
            "Pendiente: [-3.9058200e+04  4.5606380e+04  2.9783000e+02  2.0000000e-02\n",
            "  2.8234050e+04  5.9829875e+05  4.2152530e+04  1.9660210e+04\n",
            "  1.1843187e+05 -1.3526000e+02 -1.2883000e+02 -3.5938500e+03\n",
            "  1.0480000e+01  2.5860000e+01 -5.8000000e-01] \n",
            "Intersección en Y: [6243151.17]\n"
          ]
        }
      ],
      "source": [
        "#Encontramos la pendiente y la intersección\n",
        "print('Pendiente:',LassoM.coef_.round(2), '\\nIntersección en Y:',LassoM.intercept_.round(2))"
      ]
    },
    {
      "cell_type": "markdown",
      "metadata": {
        "id": "_RWyX8SIoUd9"
      },
      "source": [
        "Ecuación\n",
        "\n",
        "En clase se comentó que era suficiente con calcular la pendiente a intersección y no darle el formato como en el ejercicio, debido a la gran cantidad de datos"
      ]
    },
    {
      "cell_type": "markdown",
      "metadata": {
        "id": "lbvqPxA9oWsP"
      },
      "source": [
        "El modelo estima:\n",
        "\n",
        "$\\hat{y} = alpha * abs(intersección Y + pendiente X$)\n",
        "\n",
        "donde alpha = 0.5"
      ]
    },
    {
      "cell_type": "markdown",
      "metadata": {
        "id": "Q-un-R5QiwcY"
      },
      "source": [
        "### Errores y R^2"
      ]
    },
    {
      "cell_type": "code",
      "execution_count": null,
      "metadata": {
        "colab": {
          "base_uri": "https://localhost:8080/"
        },
        "id": "8tLQAXhFuUIk",
        "outputId": "4f514997-9dd6-48a6-b459-484eb7500364"
      },
      "outputs": [
        {
          "output_type": "stream",
          "name": "stdout",
          "text": [
            "Regresión con Lasso, conjunto de entrenamiento\n",
            "Error medio Absoluto (MAE): 140116.197\n",
            "Root Mean Squared Error (RMSE): 217135.9827\n",
            "R^2_score 0.6553\n",
            "\n",
            "Regresión con Lasso, conjunto de prueba\n",
            "Error medio Absoluto (MAE): 137683.7872\n",
            "Root Mean Squared Error (RMSE): 205937.1309\n",
            "R^2_score 0.6356\n"
          ]
        }
      ],
      "source": [
        "#Se manda llamar la función que calcula los errores y a R^2\n",
        "print('Regresión con Lasso, conjunto de entrenamiento')\n",
        "erroresR2(y_train,yHat_Lasso_E2,2,'entrenamiento')\n",
        "print(\"\")\n",
        "print('Regresión con Lasso, conjunto de prueba')\n",
        "erroresR2(y_test,yHat_Lasso_test_E2,2,'prueba')"
      ]
    },
    {
      "cell_type": "markdown",
      "metadata": {
        "id": "WTjXwUE3OCJI"
      },
      "source": [
        "## Gráficas"
      ]
    },
    {
      "cell_type": "markdown",
      "metadata": {
        "id": "iBXuI0maOESz"
      },
      "source": [
        "### MAE"
      ]
    },
    {
      "cell_type": "code",
      "execution_count": null,
      "metadata": {
        "colab": {
          "base_uri": "https://localhost:8080/",
          "height": 369
        },
        "id": "Y6EaNNFZONKs",
        "outputId": "64e8085b-5aec-4736-b336-a1876fac4c60"
      },
      "outputs": [
        {
          "output_type": "stream",
          "name": "stdout",
          "text": [
            "---------- MAE para cada regresión ----------\n",
            "Conjunto de entrenamiento\n",
            "Lineal: 140116.1587\n",
            "Polinomial: 123162.4145\n",
            "Ridge: 140125.3572\n",
            "Lasso: 140116.197\n"
          ]
        },
        {
          "output_type": "display_data",
          "data": {
            "text/plain": [
              "<Figure size 432x288 with 1 Axes>"
            ],
            "image/png": "[encoded data removed]"
          },
          "metadata": {
            "needs_background": "light"
          }
        }
      ],
      "source": [
        "#Se genera el gráfico de barras con la lista de entrenamiento para el ejercicio 2\n",
        "plt.bar(regresiones,listaMAE_train_E2)\n",
        "print('-'*10,'MAE para cada regresión','-'*10)\n",
        "print('Conjunto de entrenamiento')\n",
        "\n",
        "for i in range(0,4):\n",
        "  print(regresiones[i]+':',listaMAE_train_E2[i].round(4))"
      ]
    },
    {
      "cell_type": "code",
      "execution_count": null,
      "metadata": {
        "colab": {
          "base_uri": "https://localhost:8080/",
          "height": 369
        },
        "id": "ehjQNKdQjefL",
        "outputId": "b13c5e54-cbbe-4d7e-8366-84162e50db91"
      },
      "outputs": [
        {
          "output_type": "stream",
          "name": "stdout",
          "text": [
            "---------- MAE para cada regresión ----------\n",
            "Conjunto de prueba\n",
            "Lineal: 137683.9014\n",
            "Polinomial: 121682.2727\n",
            "Ridge: 137651.8394\n",
            "Lasso: 137683.7872\n"
          ]
        },
        {
          "output_type": "display_data",
          "data": {
            "text/plain": [
              "<Figure size 432x288 with 1 Axes>"
            ],
            "image/png": "[encoded data removed]"
          },
          "metadata": {
            "needs_background": "light"
          }
        }
      ],
      "source": [
        "#Se genera el gráfico de barras con la lista de prueba para el ejercicio 2\n",
        "plt.bar(regresiones,listaMAE_test_E2)\n",
        "print('-'*10,'MAE para cada regresión','-'*10)\n",
        "print('Conjunto de prueba')\n",
        "\n",
        "for i in range(0,4):\n",
        "  print(regresiones[i]+':',listaMAE_test_E2[i].round(4))"
      ]
    },
    {
      "cell_type": "code",
      "source": [
        "#Se crea una lista que contiene las estimaciones generadas por todos los modelos\n",
        "predTrainE2=[ML_Yhat_E2,Yhat_ML_Poly_E2,yHat_Ridge_E2,yHat_Lasso_E2]\n",
        "#Se genera una lista vacía para ir colocando los errores\n",
        "erroresTrainE2=[]\n",
        "#Se obtiene la diferencia absoluta entre valor real y estimado para cada modelo\n",
        "#El valor estimado corresponde al conjunto de entrenamiento\n",
        "for i in range(len(predTrainE2)):\n",
        "  errorE2=y_train-predTrainE2[i].ravel().reshape(19451,1)\n",
        "  #Se carga el resultado en la lista\n",
        "  erroresTrainE2.append(errorE2.to_numpy().ravel())\n",
        "\n",
        "#Se genera el gráfico de cajas y bigotes para los errores\n",
        "plt.boxplot(erroresTrainE2, labels=regresiones, showmeans=True)\n",
        "plt.title('Diferencia entre valor real y estimado (error), conjunto de entrenamiento')\n",
        "plt.show()"
      ],
      "metadata": {
        "colab": {
          "base_uri": "https://localhost:8080/",
          "height": 281
        },
        "id": "w-qxE5uHPCbg",
        "outputId": "9e6a9fca-be9a-4e53-abaa-47a632a87745"
      },
      "execution_count": null,
      "outputs": [
        {
          "output_type": "display_data",
          "data": {
            "text/plain": [
              "<Figure size 432x288 with 1 Axes>"
            ],
            "image/png": "[encoded data removed]"
          },
          "metadata": {
            "needs_background": "light"
          }
        }
      ]
    },
    {
      "cell_type": "code",
      "source": [
        "#Se crea una lista que contiene las estimaciones generadas por todos los modelos\n",
        "predTestE2=[ML_Yhat_test_E2,Yhat_ML_Poly_test_E2,yHat_Ridge_test_E2,yHat_Lasso_test_E2]\n",
        "#X_train, X_test, y_train, y_test\n",
        "#Se genera una lista vacía para ir colocando los errores\n",
        "erroresTestE2=[]\n",
        "#Se obtiene la diferencia absoluta entre valor real y estimado para cada modelo\n",
        "#El valor estimado corresponde al conjunto de entrenamiento\n",
        "for i in range(len(predTestE2)):\n",
        "  errorE2_test=y_test-predTestE2[i].ravel().reshape(2162, 1)\n",
        "  #Se carga el resultado en la lista\n",
        "  erroresTestE2.append(errorE2_test.to_numpy().ravel())\n",
        "\n",
        "#Se genera el gráfico de cajas y bigotes para los errores\n",
        "plt.boxplot(erroresTestE2, labels=regresiones, showmeans=True)\n",
        "plt.title('Diferencia entre valor real y estimado (real), conjunto de prueba')\n",
        "plt.show()"
      ],
      "metadata": {
        "colab": {
          "base_uri": "https://localhost:8080/",
          "height": 281
        },
        "id": "Kl2-9m_pZr70",
        "outputId": "279bae77-2f68-4750-bf0c-d27a8f9e2927"
      },
      "execution_count": null,
      "outputs": [
        {
          "output_type": "display_data",
          "data": {
            "text/plain": [
              "<Figure size 432x288 with 1 Axes>"
            ],
            "image/png": "[encoded data removed]"
          },
          "metadata": {
            "needs_background": "light"
          }
        }
      ]
    },
    {
      "cell_type": "markdown",
      "metadata": {
        "id": "MRLMuEpuOINM"
      },
      "source": [
        "### R^2"
      ]
    },
    {
      "cell_type": "code",
      "execution_count": null,
      "metadata": {
        "colab": {
          "base_uri": "https://localhost:8080/",
          "height": 369
        },
        "id": "j5l3RcOCONni",
        "outputId": "41745506-9010-440b-d903-dda510ffa03c"
      },
      "outputs": [
        {
          "output_type": "stream",
          "name": "stdout",
          "text": [
            "---------- R^2 para cada regresión ----------\n",
            "Conjunto de entrenamiento\n",
            "Lineal: 0.6553\n",
            "Polinomial: 0.7549\n",
            "Ridge: 0.6553\n",
            "Lasso: 0.6553\n"
          ]
        },
        {
          "output_type": "display_data",
          "data": {
            "text/plain": [
              "<Figure size 432x288 with 1 Axes>"
            ],
            "image/png": "[encoded data removed]"
          },
          "metadata": {
            "needs_background": "light"
          }
        }
      ],
      "source": [
        "#Se genera el gráfico de barras con la lista de entrenamiento para el ejercicio 2\n",
        "plt.bar(regresiones,listaR_train_E2)\n",
        "print('-'*10,'R^2 para cada regresión','-'*10)\n",
        "print('Conjunto de entrenamiento')\n",
        "\n",
        "for i in range(0,4):\n",
        "  print(regresiones[i]+':',listaR_train_E2[i].round(4))"
      ]
    },
    {
      "cell_type": "code",
      "execution_count": null,
      "metadata": {
        "colab": {
          "base_uri": "https://localhost:8080/",
          "height": 369
        },
        "id": "9WiLmgvbvuqI",
        "outputId": "9204156e-d957-4cb9-ce2b-635a83280811"
      },
      "outputs": [
        {
          "output_type": "stream",
          "name": "stdout",
          "text": [
            "---------- R^2 para cada regresión ----------\n",
            "Conjunto de prueba\n",
            "Lineal: 0.6356\n",
            "Polinomial: 0.7107\n",
            "Ridge: 0.636\n",
            "Lasso: 0.6356\n"
          ]
        },
        {
          "output_type": "display_data",
          "data": {
            "text/plain": [
              "<Figure size 432x288 with 1 Axes>"
            ],
            "image/png": "[encoded data removed]"
          },
          "metadata": {
            "needs_background": "light"
          }
        }
      ],
      "source": [
        "#Se genera el gráfico de barras con la lista de prueba para el ejercicio 2\n",
        "plt.bar(regresiones,listaR_test_E2)\n",
        "print('-'*10,'R^2 para cada regresión','-'*10)\n",
        "print('Conjunto de prueba')\n",
        "\n",
        "for i in range(0,4):\n",
        "  print(regresiones[i]+':',listaR_test_E2[i].round(4))"
      ]
    },
    {
      "cell_type": "markdown",
      "metadata": {
        "id": "k-rMPcNDOOLd"
      },
      "source": [
        "## Explicación de los resultados"
      ]
    },
    {
      "cell_type": "markdown",
      "metadata": {
        "id": "NRlQgbzTkAaK"
      },
      "source": [
        "**¿Qué método se aproxima mejor?, ¿por qué?, ¿qué porcentajes de entrenamiento y evaluación usaste? ¿qué error tienes?, ¿es bueno?, ¿cómo lo sabes?**"
      ]
    },
    {
      "cell_type": "markdown",
      "metadata": {
        "id": "bdNyhQKYkOfw"
      },
      "source": [
        "De nuevo, el método que se aproxima mejor es el modelo polinomial, en este caso, de segundo grado (puesto que daba un mejor resultado que de tercer grado), debido a que posee un error menor y una R^2 más próxima a uno, que sus contrapartes. Por otro lado, los errores como primera instancia podrían parecer muy grandes, pues el MAE va desde 123162 hasta 140116, el RMSE desde 183102 hasta 217143 y R^2 desde 0.65 hasta 0.75, sin embargo, si contemplamos la escala de los datos originales, observamos que nuestra Y (relativa al precio) tiene un valor mínimo de 7.500000e+04 y máximo de 7.700000e+06, por lo que se puede apreciar que nuestros errores en realidad no son muy grandes. En este caso tal vez convendría realizar un preprocesamiento donde se incluya la normalización o escalado de los datos, lo cual también podría disminuir los valores extremos que se observan en la resta del valor real menos el estimado. Así pues, también me es posible decir que se tiene un buen ajuste o al menos decente para los peores casos, sobre todo si nos basamos en R^2, que es mas intuitiva de interpretar, pues en este caso, contrario al ejercicio anterior, el mejor modelo tendría 7.5 de calificación, por decirlo que una forma que nos resulte más convencional."
      ]
    },
    {
      "cell_type": "markdown",
      "metadata": {
        "id": "BC0QGxm1OZGJ"
      },
      "source": [
        "# Conclusión"
      ]
    },
    {
      "cell_type": "markdown",
      "metadata": {
        "id": "o0rQRvZli_IF"
      },
      "source": [
        "El ejercicio se comenzó en clase, después de haber recibido una explicación pertinente al proceso, lo que me parece una excelente metodología de aprendizaje, pues llevar a la práctica lo revisado es la mejor manera de entender del todo el tema (o lo mejor posible) y aclarar cualquier duda. Así pues, se trabajó en dos ejercicios, donde se generaron estimaciones con distintos modelos, en específico con la regresión lineal, polinomial, Lasso y Ridge. En cuanto al ámbito teórico debemos recordar que el modelo lineal es el más simple de todos, puesto que busca el mejor ajuste para una línea tal cual. Respecto al modelo polinomial, se eleva con determinado grado a la variable independiente, que es la que nos ayuda a estimar la dependiente, que sigue siendo lineal. Por otro lado, en el modelo Ridge se tiene el parámetro Alpha, el cual penaliza de manera equivalente a todos los pesos, de forma que todos pueden tender a cero, pero sin anular alguno de ellos, que es justamente lo contrario con el modelo Lasso, donde solo algunos de los pesos tienden a cero y cuando mayor sea el valor de Alpha, más pesos sufrirán dicha penalización, es decir, el valor impactará más. Aunque lo anterior es el ámbito teórico, la práctica precisamente fue útil para corroborar dichas premisas, pues me resultó posible experimentar, por ejemplo, con los valores de Alpha y verificar cómo impactaban dichos valores más o menos grandes en los pesos o incluso como los grados muy altos del modelo polinomial podían sobreentrenar el modelo; entenderlo es clave para solucionar o proponer modelos, pues son sus cimientos.\n",
        "En cuanto a la evaluación, fue muy útil conocer cómo calcular los errores a través de las librerías disponibles, al igual que R^2, pues el comparativo de diversas métricas nos puede ayudar a entender mejor cómo se está comportando el modelo. Considerando lo anterior, la visualización gráfica como se ha revisado anteriormente también es un gran elemento de ayuda al buscar comprender mejor el modelo en cuanto a los datos y su ajuste pertinente. De igual forma, explorar y conocer las herramientas disponibles en las librerías es un buen método de optimización.\n",
        "Por tanto, de forma general puedo decir que se siguió una buena metodología para entender el tema, desde la creación de los modelos, sus bases teóricas, la parte técnica, el análisis que involucra y cómo combinar diversas herramientas para generar un mejor ajuste. \n"
      ]
    }
  ],
  "metadata": {
    "accelerator": "GPU",
    "colab": {
      "collapsed_sections": [],
      "provenance": [],
      "toc_visible": true,
      "include_colab_link": true
    },
    "kernelspec": {
      "display_name": "Python 3",
      "language": "python",
      "name": "python3"
    },
    "language_info": {
      "codemirror_mode": {
        "name": "ipython",
        "version": 3
      },
      "file_extension": ".py",
      "mimetype": "text/x-python",
      "name": "python",
      "nbconvert_exporter": "python",
      "pygments_lexer": "ipython3",
      "version": "3.7.7"
    }
  },
  "nbformat": 4,
  "nbformat_minor": 0
}