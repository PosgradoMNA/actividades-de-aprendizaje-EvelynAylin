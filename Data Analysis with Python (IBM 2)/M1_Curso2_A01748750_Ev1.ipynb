{
  "nbformat": 4,
  "nbformat_minor": 0,
  "metadata": {
    "colab": {
      "provenance": [],
      "toc_visible": true
    },
    "kernelspec": {
      "name": "python3",
      "display_name": "Python 3"
    },
    "language_info": {
      "name": "python"
    }
  },
  "cells": [
    {
      "cell_type": "markdown",
      "source": [
        "# Data Analysis with Python\n",
        "\n",
        "Alumno. Evelyn Aylin Rendon Medina \n",
        "\n",
        "Matricula: A01748750\n",
        "\n",
        "Profesor: Jobish Vallikavungal Devassia\n",
        "\n",
        "Materia: Ciencia y analítica de datos (Gpo 10)"
      ],
      "metadata": {
        "id": "VxkfOga3uhVf"
      }
    },
    {
      "cell_type": "markdown",
      "source": [
        "# Módulo 1"
      ],
      "metadata": {
        "id": "1FxlzHEAekv1"
      }
    },
    {
      "cell_type": "markdown",
      "source": [
        "\n"
      ],
      "metadata": {
        "id": "6j8PPXkQensw"
      }
    },
    {
      "cell_type": "markdown",
      "source": [
        "#### Introduction to Data Analysis with Python 0:51"
      ],
      "metadata": {
        "id": "K9nl1D4fh8zX"
      }
    },
    {
      "cell_type": "markdown",
      "source": [
        "En el curso se estará trabajando con la creación de un modelo capaz de predecir el precio de un automóvil usado, basado en las características de otros autos. Lo cual implicará:\n",
        "- Análisis de datos\n",
        "- Manejo de librerías para el análisis de datos en Python\n",
        "- Importación y exportación de datos desde Python\n",
        "- Perspectivas generales o básicas sobre un conjunto de datos\n",
        "- Limpieza de datos\n",
        "- Exploración del análisis de datos\n",
        "- Desarrollo de un modelo\n",
        "- Evaluación de un modelo"
      ],
      "metadata": {
        "id": "cNC9cdACiAFL"
      }
    },
    {
      "cell_type": "markdown",
      "source": [
        "#### The Problem 1:51"
      ],
      "metadata": {
        "id": "RNH1DJ-_i4uq"
      }
    },
    {
      "cell_type": "markdown",
      "source": [
        "Debemos entender antes de seguir definiendo el modelo, cuán importante es análisis de datos:\n",
        "Los datos se colectan todo el tiempo y en todas partes, ya sea de forma manual o digital, sin embargo, datos no es igual a información. La ciencia de datos es, en esencia, una forma de obtener esa información a partir de los datos, con la finalidad de responder preguntas e incluso predecir el futuro incierto.\n",
        "Retornando a la predicción del precio de autos y pensando en el problema como analistas de datos, podemos formularnos algunas preguntas:\n",
        "- ¿Qué necesitamos para determinar el mejor precio de un automóvil usado?\n",
        "- ¿Hay datos sobre el precio de otros autos, junto de sus características?\n",
        "- ¿Qué características afectan los precios?\n",
        "Debemos procurar formular preguntas correctas en términos de los datos"
      ],
      "metadata": {
        "id": "3j1Nfjbdi7DZ"
      }
    },
    {
      "cell_type": "markdown",
      "source": [
        "#### Understanding the Data 2:26"
      ],
      "metadata": {
        "id": "eQk22FPKjXv_"
      }
    },
    {
      "cell_type": "markdown",
      "source": [
        "La base de datos que se utilizará es abierta y creada por Jeffrey C. Schlimmer. En realidad son datos de 1985 pero se empleará con fines educativos.\n",
        "Dichos datos se encuentran en formato CSV, lo que significa que cada valor está separado por una coma, de forma que es más sencilla su importación a través de diversas herramientas. Cada línea representa una fila.\n",
        "El primero de sus atributos es 'symboling', el cual representa el nivel de riesgo del auto, que va desde -3 a +3, siendo +3 el mayor grado de riesgo.\n",
        "El segundo atributo \"normalized-losses\" es el pago de pérdida promedio relativo por asegurado año del vehículo.\n",
        "Para el resto de los atributos (más sencillos de interpretar) se nos proporcionará más adelante la descripción de los datos."
      ],
      "metadata": {
        "id": "Eg8dLaWNjZHd"
      }
    },
    {
      "cell_type": "markdown",
      "source": [
        "#### Python Packages for Data Science 2:28"
      ],
      "metadata": {
        "id": "3mS7qR-elgHv"
      }
    },
    {
      "cell_type": "markdown",
      "source": [
        "Para hacer análisis de datos en Python, debemos conocer primero algunos paquetes relevantes.\n",
        "Una librería de Python es una colección de funciones y métodos que nos permiten llevar a cabo varias funciones o acciones sin escribir código. Suelen contener módulos incorporados que nos proveen de diferentes funcionalidades, las cuales podemos usar de manera directa.\n",
        "\n",
        "\n",
        "**Librerías de computación científica:**\n",
        "- Pandas. Ofrece datos estructurados, junto de herramientas para su manipulación y análisis. Su intrumento primario es una tabla de dos dimensiones (filas y columnas), llamado 'Dataframe', que es indexable.\n",
        "- NumPy. Se pueden procesar arreglos (como entrada y salida), contemplando también matrices \n",
        "- SciPy. Incluye funciones para problemas matemáticos avanzados (como integrales, ecuaciones diferenciales, optimización).\n",
        "\n",
        "\n",
        "**Librerías para la visualización de datos:** (para obtener resultados significativos o intepretables salientes de los análisis)\n",
        "- Matplotlib. Herramienta popular para crear gráficas personalizables\n",
        "- Seaborn. Basada en la anterior también puede generar diversos tipos de gráficas (como mapas de calor, series de tiempo y violín).\n",
        "\n",
        "**Librerías algorítmicas:** (para abordar problemas relacionados con el aprendizaje automático)\n",
        "- Scikit-learn. Incluye herramientas para realizar modelado estadístico (como regresión, clasificación, agrupamiento, entre otros). Está basada a su vez en NumPy, SciPy y Matplotlib\n",
        "- Statsmodels. Nos permite explorar datos, hacer estimaciones y pruebas estadísticas."
      ],
      "metadata": {
        "id": "6Kpxt7Fxlinu"
      }
    }
  ]
}