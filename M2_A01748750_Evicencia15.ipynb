{
  "nbformat": 4,
  "nbformat_minor": 0,
  "metadata": {
    "colab": {
      "provenance": [],
      "toc_visible": true
    },
    "kernelspec": {
      "name": "python3",
      "display_name": "Python 3"
    },
    "language_info": {
      "name": "python"
    }
  },
  "cells": [
    {
      "cell_type": "code",
      "execution_count": null,
      "metadata": {
        "id": "5m96OYKSYhDB"
      },
      "outputs": [],
      "source": [
        "#Evelyn Aylin Rendon Medina\n",
        "#A01748750\n",
        "#Python for Data Science (IBM) evidencias\n",
        "\n"
      ]
    },
    {
      "cell_type": "markdown",
      "source": [
        "# Evelyn Aylin Rendon Medina\n",
        "# A01748750\n",
        "### Python for Data Science (IBM) evidencias"
      ],
      "metadata": {
        "id": "6iRdCa4sdBwb"
      }
    },
    {
      "cell_type": "markdown",
      "source": [
        "# Módulo 1"
      ],
      "metadata": {
        "id": "6YA23THMdS1k"
      }
    },
    {
      "cell_type": "markdown",
      "source": [
        "#### Your First Program (1:15)"
      ],
      "metadata": {
        "id": "5sAkAWtrdiOc"
      }
    },
    {
      "cell_type": "code",
      "source": [
        "print(\"Hello world\")\n",
        "print(\"Hello\\nWorld!\")\n",
        "# print('Hello World!')"
      ],
      "metadata": {
        "colab": {
          "base_uri": "https://localhost:8080/"
        },
        "id": "wPT-dGDcdAzV",
        "outputId": "73296793-5775-4822-9914-d9cff646b8c0"
      },
      "execution_count": null,
      "outputs": [
        {
          "output_type": "stream",
          "name": "stdout",
          "text": [
            "Hello world\n",
            "Hello\n",
            "World!\n"
          ]
        }
      ]
    },
    {
      "cell_type": "markdown",
      "source": [
        "#### Types"
      ],
      "metadata": {
        "id": "m5nch5AYd26U"
      }
    },
    {
      "cell_type": "code",
      "source": [
        "print(int(1.0))\n",
        "print(bool(1))\n",
        "print(type(\"Hello World\"))\n",
        "print(type(\"1.1\"))\n",
        "print(int(\"1\"))\n",
        "print(bool(\"1\"))"
      ],
      "metadata": {
        "colab": {
          "base_uri": "https://localhost:8080/"
        },
        "id": "6ShiQxENeAgE",
        "outputId": "2c86b371-c0c5-4145-9bc0-c8e4dfe15cc1"
      },
      "execution_count": null,
      "outputs": [
        {
          "output_type": "stream",
          "name": "stdout",
          "text": [
            "1\n",
            "True\n",
            "<class 'str'>\n",
            "<class 'str'>\n",
            "1\n",
            "True\n"
          ]
        }
      ]
    },
    {
      "cell_type": "markdown",
      "source": [
        "#### Expression and Variables (3:50)\n",
        "Las expresiones describen un tipo de operación que las computadoras pueden llevar a cabo. Llamamos a los números operandos y a los simbolos matemáticos operadores."
      ],
      "metadata": {
        "id": "WpNjWv0cu1lg"
      }
    },
    {
      "cell_type": "code",
      "source": [
        "suma=5+1+8+6\n",
        "resta=suma-2\n",
        "division=10/3\n",
        "divisionInt=10//3\n",
        "multiplicacion=5*2\n",
        "exponente=2**2\n",
        "\n",
        "print(suma)\n",
        "print(resta)\n",
        "print(division)\n",
        "print(divisionInt)\n",
        "print(multiplicacion)\n",
        "print(exponente)"
      ],
      "metadata": {
        "colab": {
          "base_uri": "https://localhost:8080/"
        },
        "id": "W4a11ESou8eU",
        "outputId": "3f34af37-e895-4466-b8a0-62a5a75f4952"
      },
      "execution_count": null,
      "outputs": [
        {
          "output_type": "stream",
          "name": "stdout",
          "text": [
            "20\n",
            "18\n",
            "3.3333333333333335\n",
            "3\n",
            "10\n",
            "4\n"
          ]
        }
      ]
    },
    {
      "cell_type": "markdown",
      "source": [
        "#### Lab - Write Your First Python Code!"
      ],
      "metadata": {
        "id": "MrHKHDbJ3Df7"
      }
    },
    {
      "cell_type": "code",
      "source": [
        "#Exercise: Your First Program¶\n",
        "print('Hello, Python!')\n",
        "print(\"Hello, world!\") #Print the traditional hello world\n",
        "#Exercise: Types\n",
        "print(type(6/2))\n",
        "print(type(6//2))\n",
        "#Exercise: Expression, Horas en 160 minutos\n",
        "hours=160/60\n",
        "print(hours)\n",
        "#Exercise: Expression and Variables in Python\n",
        "x=3+2*2\n",
        "y=(3+2)*2\n",
        "z=x+y\n",
        "print(x, y, z)\n",
        "#Repetir caracteres en un string\n",
        "risa=\"ja\"\n",
        "print(risa)\n",
        "reir=4*risa\n",
        "print(reir)"
      ],
      "metadata": {
        "colab": {
          "base_uri": "https://localhost:8080/"
        },
        "id": "Xh9RP3GF3IiR",
        "outputId": "a75fde0e-5fbd-4870-a3a3-b4ccdd438b86"
      },
      "execution_count": 72,
      "outputs": [
        {
          "output_type": "stream",
          "name": "stdout",
          "text": [
            "Hello, Python!\n",
            "Hello, world!\n",
            "<class 'float'>\n",
            "<class 'int'>\n",
            "2.6666666666666665\n",
            "7 10 17\n",
            "ja\n",
            "jajajaja\n"
          ]
        }
      ]
    },
    {
      "cell_type": "markdown",
      "source": [
        "#### String Operations (3:53)\n",
        "Los string son secuencias de caracteres y por ello tienen métodos aplicables que funcionan en listas o tuplas. Para acceder por medio del índice, debemos visualizar su representación por una matriz de números. Ejemplo 'yo' : [01]\n",
        "\n",
        "Por otro lado, tienen un segundo conjunto de métodos que solo funcionan en strings (upper, replace)\n"
      ],
      "metadata": {
        "id": "_jIk4-PvSFrh"
      }
    },
    {
      "cell_type": "code",
      "source": [
        "#Encontrar los números pares de la variable Numbers\n",
        "Numbers = \"0123456\"\n",
        "print(Numbers[::2])\n",
        "#Encontrar el índice del caracter '1'\n",
        "print(\"0123456\".find('1'))\n",
        "Letras=\"abcdefghijklmnopqrstuvwxyz\"\n",
        "print(Letras)\n",
        "#Cambiar caracteres de minúsculas a mayúsculas\n",
        "letrasMayu=Letras.upper()\n",
        "print(letrasMayu)\n",
        "#Obtener los caracteres cuyo índice es par\n",
        "print(Letras[::2])\n",
        "#Obtener los caracteres cuyo índice es múltiplo de 3\n",
        "print(Letras[::3])\n",
        "#Obtener la longitud de la variable Letras\n",
        "print(len(Letras))\n",
        "#Imprimir los primeros tres elementos de la variable Letras\n",
        "print(Letras[0:3])\n",
        "#Método para cambiar caracteres replace()\n",
        "texto_1=\"hola\"\n",
        "print(texto_1)\n",
        "cambio1=texto_1.replace(\"h\",\"H\")\n",
        "print(cambio1)\n",
        "#Método para encontrar determinados strings\n",
        "#La salida es el primer índice de la secuencia\n",
        "print(cambio1.find(\"la\"))"
      ],
      "metadata": {
        "colab": {
          "base_uri": "https://localhost:8080/"
        },
        "id": "QjutHaiVSGII",
        "outputId": "1248b24e-3251-4b35-f847-89b94aeb6db6"
      },
      "execution_count": null,
      "outputs": [
        {
          "output_type": "stream",
          "name": "stdout",
          "text": [
            "0246\n",
            "1\n",
            "abcdefghijklmnopqrstuvwxyz\n",
            "ABCDEFGHIJKLMNOPQRSTUVWXYZ\n",
            "acegikmoqsuwy\n",
            "adgjmpsvy\n",
            "26\n",
            "abc\n",
            "hola\n",
            "Hola\n",
            "2\n"
          ]
        }
      ]
    },
    {
      "cell_type": "markdown",
      "source": [
        "#### Review Questions"
      ],
      "metadata": {
        "id": "XI6JiFHnbc1K"
      }
    },
    {
      "cell_type": "code",
      "source": [
        "print(3+2*2)\n",
        "name='Lizz'\n",
        "print(name[0:2])\n",
        "var='01234567'\n",
        "print(var[::2])\n",
        "print('1'+'2')\n",
        "myvar='hello'\n",
        "myvar.upper()"
      ],
      "metadata": {
        "id": "DseGH9q0Th7J",
        "colab": {
          "base_uri": "https://localhost:8080/",
          "height": 105
        },
        "outputId": "50dc8f26-ebad-4669-a353-2bba94f7ca78"
      },
      "execution_count": null,
      "outputs": [
        {
          "output_type": "stream",
          "name": "stdout",
          "text": [
            "7\n",
            "Li\n",
            "0246\n",
            "12\n"
          ]
        },
        {
          "output_type": "execute_result",
          "data": {
            "text/plain": [
              "'HELLO'"
            ],
            "application/vnd.google.colaboratory.intrinsic+json": {
              "type": "string"
            }
          },
          "metadata": {},
          "execution_count": 5
        }
      ]
    },
    {
      "cell_type": "markdown",
      "source": [
        "# Módulo 2"
      ],
      "metadata": {
        "id": "LCXQkgZdp90C"
      }
    },
    {
      "cell_type": "markdown",
      "source": [
        "#### Lists and Tuples (8:46)\n",
        "Son tipos de datos compuestos y son estrucutras clave en Python.\n",
        "\n",
        "- Tuplas ( ). Secuencia ordenada, escrita dentro de un paréntesis y sus elementos están separados por comas. Puede contener datos de tipos diferentes, tales como strings, floats, interger, bool, pero el tipo de datos de este arreglo (tupla) será tuple. Son inmutables, por lo que no se pueden cambiar\n",
        "- Listas [ ]. También son secuencias ordenadas y se representan dentro de corchetes, su tipo de datos será siempre tipo list y pueden contener varios tipos de datos (bool, int, float, strings) y otras listas anidadas e incluso tuplas. Se indexa de forma convencional, al igual que la concatenación. Estas secuencia son mutables, por lo que se pueden cambiar\n",
        "\n",
        "Para entender la **anidación (nesting)** podemos pensarlo como una lista desplegable\n",
        "El **solapamiento (aliasing)** surge cuando dos o más variables se refieren a un mismo objeto, para evitarlo podemos clonar el contenido de una en otra, en lugar de asignarlo"
      ],
      "metadata": {
        "id": "0WWS60jZqFKe"
      }
    },
    {
      "cell_type": "code",
      "source": [
        "#------TUPLAS------\n",
        "#Comprobando el tipo de datos de una tupla que contiene a su vez datos del tipo string, float, int y bool\n",
        "tupla1=('disco',10,1.2,True)\n",
        "print(type(tupla1))\n",
        "#Se comprueba que conteniendo solo un tipo de datos dentro de una tupla, continua siendo del tipo tuple\n",
        "tupla2=(10,20,30,40)\n",
        "print(type(tupla2))\n",
        "#Indexando elementos en una tupla (acceder a gracias a su índice)\n",
        "print(tupla1[3])\n",
        "print(tupla1[-1]) #índice negativo, equivalente a la línea superior\n",
        "#Comprobando qué tipo de datos es un elemento que se extrae de un tuple\n",
        "tipoBool=tupla1[-1]\n",
        "print(type(tipoBool)) #Conserva el tipo de datos original del elemento\n",
        "#Concatenando o combinando tuplas\n",
        "tupla3=tupla1+tupla2\n",
        "print(tupla3)\n",
        "tupla4=tupla3+(\"final\",1)\n",
        "print(tupla4)\n",
        "#Indexación de varios elementos empleando el símbolo :\n",
        "len(tupla4) #se obtiene primero la longitud de la tupla\n",
        "print(tupla4[8:10]) #últimos dos elementos\n",
        "print(tupla4[0:2]) #primeros dos elementos\n",
        "#Debido a que las tuplas son imnutables, debemos crear una nueva para manipularla\n",
        "cuenta=(10,9,6,5,8,4,7,3,1,2)\n",
        "print(cuenta)\n",
        "cuentaOrdenada=sorted(cuenta) #se emplea sorted y crea una nueva tupla para ordenar la cuenta\n",
        "print(cuentaOrdenada)\n",
        "#Crear e indexar una tupla anidada\n",
        "tupla5=(1,2,(\"rock\",\"opera\"),(5,6),(\"hardcore\",(1,2,3))) #creación\n",
        "print(tupla5)\n",
        "print(tupla5[4]) #(\"hardcore\",(1,2,3))\n",
        "print(tupla5[4][1]) #(1,2,3)\n",
        "print(tupla5[4][1][2]) #3\n",
        "\n",
        "#------LISTAS------\n",
        "#Crear una lista con diferentes tipos de datos\n",
        "lista1=[\"esto es\",10.1,1982,[1,1],('A',2),False]\n",
        "print(lista1[4:6])\n",
        "print(type(lista1)) #Comprobar el tipo de dato que es una lista\n",
        "lista2=[1,2,3,4,5,6]\n",
        "print(lista2)\n",
        "print(type(lista2)) #También será siempre del tipo list\n",
        "#Indexar de forma convencional\n",
        "print(lista1[0]) #esto es\n",
        "print(lista1[4]) #('A',2)\n",
        "print(lista1[4][0]) #A\n",
        "#Concatenar\n",
        "lista3=lista1+lista2\n",
        "print(lista3)\n",
        "lista4=lista3+[7,\"final de la lista\"]\n",
        "print(lista4)\n",
        "#Ya que las listas son mutables, podemos cambiarlas\n",
        "L=[\"hola\",1997]\n",
        "print(L)\n",
        "#Con extend cada elemento adquiere un índice\n",
        "L.extend([\"HOLA\",1998]) #(método), [lista]\n",
        "print(L)\n",
        "#Con apprend, se añade un nuevo índice que anida todo el argumento\n",
        "L.append([\"Hola\",1999])\n",
        "print(L)\n",
        "#Indexar un elemento para cambiarlo\n",
        "A=[\"disco\",10,1.6]\n",
        "print(A)\n",
        "A[0]=\"ROCK\"\n",
        "print(A)\n",
        "#Eliminar un elemento dentro de una lista con del()\n",
        "del(A[0]) #Eliminamos \"ROCK\"\n",
        "print(A)\n",
        "\n",
        "#Podemos separar los elementos de un string (datos str, listas no) \n",
        "abcd=\"A B C D\"\n",
        "print(abcd)\n",
        "print(abcd.split()) #el separador (delimitador) es el espacio\n",
        "#o es posible definifir el delimitador\n",
        "ab=\"A-B-C-D\"\n",
        "print(ab)\n",
        "abGuion=ab.split(\"-\") #el delimitador es ahora el guion (-)\n",
        "print(abGuion)\n",
        "\n",
        "print(\"\")\n",
        "A=[\"B=A\",1]\n",
        "print(\"A:\",A)\n",
        "B=A\n",
        "print(\"B=A, B:\",B)\n",
        "B[0]=\"solapamiento\" #Se modifica el objeto de B\n",
        "print(\"B:\",B) \n",
        "print(\"A:\",A) #Con lo que también se modifica A\n",
        "#Para evitar el solapamiento, clonamos el contenido\n",
        "C=[\"D=C[:]\",2]\n",
        "print(\"C:\",C)\n",
        "D=C[:] #Se clona la lista de C en D\n",
        "print(\"D:\", D)\n",
        "D[0]=\"clonación\" #Se modifica D\n",
        "print(\"Al modificar una variable, el objeto de la otra ya no se afecta, \",end=\"\")\n",
        "print(\"pues ya no tienen la misma referencia\")\n",
        "print(\"C:\",C)\n",
        "print(\"D:\",D)\n",
        "\n",
        "print(\"\")\n",
        "print(\"help() con una variable en el argumento nos proprociona info. sobre el objeto\")\n",
        "\n",
        "print(\"\") #------Lists and Tuples (External resource) LAB------\n",
        "#Create a tuple  (0,1,2,3)  and assign it to variable A:\n",
        "A=(0,1,2,3)\n",
        "print(A)\n",
        "#Find the first two elements of tuple  A :\n",
        "print(A[0:2])\n",
        "#For the next few questions, you will need the following list:\n",
        "B=[\"a\",\"b\",\"c\"]\n",
        "#Find the first two elements of the list  B:\n",
        "print(B[0:2])\n",
        "#Change the first element of the list to an uppercase \"A\".\n",
        "B[0]=\"A\"\n",
        "print(B)\n",
        "#How do you access the last element of the following tuple: A=(0,1,2,3)\n",
        "print(A[3])\n",
        "print(A[-1])\n",
        "#Consider the list: B=[\"a\",\"b\",\"c\"]. What is the result of the following B[1:]?\n",
        "print(B[1:]) #B=[\"a\",\"b\",\"c\"] , a=0, b=1, c=2"
      ],
      "metadata": {
        "colab": {
          "base_uri": "https://localhost:8080/"
        },
        "id": "Nd-fLZ8RqBlK",
        "outputId": "6d5d55ff-d519-4234-f719-302af40011d0"
      },
      "execution_count": 75,
      "outputs": [
        {
          "output_type": "stream",
          "name": "stdout",
          "text": [
            "<class 'tuple'>\n",
            "<class 'tuple'>\n",
            "True\n",
            "True\n",
            "<class 'bool'>\n",
            "('disco', 10, 1.2, True, 10, 20, 30, 40)\n",
            "('disco', 10, 1.2, True, 10, 20, 30, 40, 'final', 1)\n",
            "('final', 1)\n",
            "('disco', 10)\n",
            "(10, 9, 6, 5, 8, 4, 7, 3, 1, 2)\n",
            "[1, 2, 3, 4, 5, 6, 7, 8, 9, 10]\n",
            "(1, 2, ('rock', 'opera'), (5, 6), ('hardcore', (1, 2, 3)))\n",
            "('hardcore', (1, 2, 3))\n",
            "(1, 2, 3)\n",
            "3\n",
            "[('A', 2), False]\n",
            "<class 'list'>\n",
            "[1, 2, 3, 4, 5, 6]\n",
            "<class 'list'>\n",
            "esto es\n",
            "('A', 2)\n",
            "A\n",
            "['esto es', 10.1, 1982, [1, 1], ('A', 2), False, 1, 2, 3, 4, 5, 6]\n",
            "['esto es', 10.1, 1982, [1, 1], ('A', 2), False, 1, 2, 3, 4, 5, 6, 7, 'final de la lista']\n",
            "['hola', 1997]\n",
            "['hola', 1997, 'HOLA', 1998]\n",
            "['hola', 1997, 'HOLA', 1998, ['Hola', 1999]]\n",
            "['disco', 10, 1.6]\n",
            "['ROCK', 10, 1.6]\n",
            "[10, 1.6]\n",
            "A B C D\n",
            "['A', 'B', 'C', 'D']\n",
            "A-B-C-D\n",
            "['A', 'B', 'C', 'D']\n",
            "\n",
            "A: ['B=A', 1]\n",
            "B=A, B: ['B=A', 1]\n",
            "B: ['solapamiento', 1]\n",
            "A: ['solapamiento', 1]\n",
            "C: ['D=C[:]', 2]\n",
            "D: ['D=C[:]', 2]\n",
            "Al modificar una variable, el objeto de la otra ya no se afecta, pues ya no tienen la misma referencia\n",
            "C: ['D=C[:]', 2]\n",
            "D: ['clonación', 2]\n",
            "\n",
            "help() con una variable en el argumento nos proprociona info. sobre el objeto\n",
            "\n",
            "(0, 1, 2, 3)\n",
            "(0, 1)\n",
            "['a', 'b']\n",
            "['A', 'b', 'c']\n",
            "3\n",
            "3\n",
            "['b', 'c']\n"
          ]
        }
      ]
    },
    {
      "cell_type": "markdown",
      "source": [
        "#### Lab - Lists and Tuples"
      ],
      "metadata": {
        "id": "n55Kwql0MPz1"
      }
    },
    {
      "cell_type": "code",
      "source": [
        "#Quiz on Tuples\n",
        "# Consider the following tuple:. sample tuple\n",
        "genres_tuple = (\"pop\", \"rock\", \"soul\", \"hard rock\", \"soft rock\", \\\n",
        "                \"R&B\", \"progressive rock\", \"disco\") \n",
        "print(genres_tuple)\n",
        "#Find the length of the tuple, genres_tuple:\n",
        "print(len(genres_tuple))\n",
        "#Access the element, with respect to index 3:\n",
        "print(genres_tuple[3])\n",
        "#Use slicing to obtain indexes 3, 4 and 5:\n",
        "print(genres_tuple[3:6])\n",
        "#Find the first two elements of the tuple genres_tuple:\n",
        "print(genres_tuple[0:2])\n",
        "#Find the first index of \"disco\":\n",
        "print(genres_tuple.index(\"disco\")) #Se encuentra primero el índice del string \"disco\"\n",
        "print(genres_tuple[7][0]) #Primer índice de disco = d (0)\n",
        "#Generate a sorted List from the Tuple C_tuple=(-5, 1, -3):\n",
        "C_tuple=(-5, 1, -3)\n",
        "tuple_O=sorted(C_tuple)\n",
        "print(C_tuple)\n",
        "print(tuple_O)\n",
        "\n",
        "print(\"\") #Quiz on List\n",
        "#Create a list a_list, with the following elements 1, hello, [1,2,3] and True.\n",
        "a_list=[1,'hello',[1,2,3],True]\n",
        "print(a_list)\n",
        "#Find the value stored at index 1 of a_list.\n",
        "print(a_list[1])\n",
        "#Retrieve the elements stored at index 1, 2 and 3 of a_list.\n",
        "print(a_list[1:4])\n",
        "#Concatenate the following lists A = [1, 'a'] and B = [2, 1, 'd']:\n",
        "A = [1, 'a']\n",
        "B = [2, 1, 'd']\n",
        "print(\"A:\",A)\n",
        "print(\"B:\",B)\n",
        "print(\"A+B:\",A+B)\n",
        "print(\"Usando extend:\")\n",
        "A.extend(B)\n",
        "print(A)\n",
        "print(\"Usando append:\")\n",
        "A.append([2, 1, 'd'])\n",
        "print(A)"
      ],
      "metadata": {
        "colab": {
          "base_uri": "https://localhost:8080/"
        },
        "id": "E2N3TAcgMVT5",
        "outputId": "18cfe4c2-b839-4528-f3fd-0dac6429401c"
      },
      "execution_count": 80,
      "outputs": [
        {
          "output_type": "stream",
          "name": "stdout",
          "text": [
            "('pop', 'rock', 'soul', 'hard rock', 'soft rock', 'R&B', 'progressive rock', 'disco')\n",
            "8\n",
            "hard rock\n",
            "('hard rock', 'soft rock', 'R&B')\n",
            "('pop', 'rock')\n",
            "7\n",
            "d\n",
            "(-5, 1, -3)\n",
            "[-5, -3, 1]\n",
            "\n",
            "[1, 'hello', [1, 2, 3], True]\n",
            "hello\n",
            "['hello', [1, 2, 3], True]\n",
            "A: [1, 'a']\n",
            "B: [2, 1, 'd']\n",
            "A+B: [1, 'a', 2, 1, 'd']\n",
            "Usando extend:\n",
            "[1, 'a', 2, 1, 'd']\n",
            "Usando append:\n",
            "[1, 'a', 2, 1, 'd', [2, 1, 'd']]\n"
          ]
        }
      ]
    },
    {
      "cell_type": "markdown",
      "source": [
        "#### Sets (5:12)\n",
        "Set { }. Son un tipo de colecciones, por lo que es posible introducir distintos tipos de datos. Se diferencian de las listas y tuplas (que también son colecciones) porque no son ordenados, lo que significa que no graba la posición del elemento. Asimismo, se caracterizan porque tienen elementos únicos, es decir uno mismo no se puede repetir en estos conjuntos (no se pueden duplicar) y se generan a partir de llaves "
      ],
      "metadata": {
        "id": "NNNkABveaQnL"
      }
    },
    {
      "cell_type": "code",
      "source": [
        "#Creación\n",
        "set1={'pop','rock','opera','pop','soul','pop'}\n",
        "print(set1) #No se muestran los elementos repetidos\n",
        "print(type(set1))\n",
        "#Operaciones\n",
        "lista=[\"hola\",1,2,\"hola\"]\n",
        "print(lista)\n",
        "setDeLista=set(lista) #type-casting, convertir una lista a set\n",
        "print(setDeLista) \n",
        "setDeLista.remove(\"hola\") #remover elementos de un set\n",
        "print(setDeLista)\n",
        "print(\"hola\" in setDeLista) #Verificar si existe determinado elemento en el set con in\n",
        "print(type(\"hola\" in setDeLista)) #El resultado es un valor bool\n",
        "\n",
        "print(\"\")\n",
        "print(\"El símbolo & encuentra la unión entre dos sets\")\n",
        "# Al usar & para concatenar dos sets, solo mantendrá los elementos que ambos tengan en común\n",
        "setA={'yo','sí','soy'}\n",
        "setB={'yo','no','soy'}\n",
        "print(\"Set A:\",setA, \"\\nSet B:\",setB)\n",
        "setC=setA&setB\n",
        "print(\"setA&setB:\",setC) #Solo se mantiene 'yo', 'soy' porque son los únicos elementos compartidos\n",
        "\n",
        "print(\"\")\n",
        "print(\"union() concatena todos los elementos de los sets en uno nuevo\")\n",
        "setD=setA.union(setB)\n",
        "print(setD) #Junta todos lo elementos pero no los repite\n",
        "Set2={'yo','soy'}\n",
        "setE=setA.union(Set2) #Set2 no aporta información nueva a set E, por lo que se encapsula\n",
        "print(setE) \n",
        "print(\".issubset() nos permite verificar si un set está encapsulado en el set argumento\")\n",
        "print(Set2.issubset(setA)) #La respuesta se da a través de un valor bool\n",
        "\n",
        "#------Sets (External resource) LAB------\n",
        "print(setA.issuperset(Set2)) #Busca si set A es un super set de set2 (encapsula al segundo)\n",
        "print(setA.difference(setB)) #Encuentra lo que diferencia el setA del B\n",
        "print(setA.intersection(setB)) #)Encuentra la intersección o que es igual en el setA respecto el B\n",
        "\n",
        "#-------Quiz on Sets-------\n",
        "#Cast the following list to a set:\n",
        "['A','B','C','A','B','C']\n",
        "print(set(['A','B','C','A','B','C']))\n",
        "#Add the string 'D' to the set S.\n",
        "S={'A','B','C'}\n",
        "print(S)\n",
        "S.add('D')\n",
        "print(S)\n",
        "#Find the intersection of set A and B.\n",
        "A={1,2,3,4,5}\n",
        "B={1,3,9, 12}\n",
        "print(A.intersection(B))\n",
        "#What is the result of the following lines of code:\n",
        "S={'A','B','C'}\n",
        "U={'A','Z','C'}\n",
        "U.union(S)\n",
        "#What is the intersection of set S and U?\n",
        "S={'A','B','C'}\n",
        "U={'A','Z','C'}\n",
        "print(S.intersection(U))"
      ],
      "metadata": {
        "colab": {
          "base_uri": "https://localhost:8080/"
        },
        "id": "t0D4fj0Uaf9Q",
        "outputId": "6f1aa375-28f2-40a2-be72-f5f28b2a1e86"
      },
      "execution_count": 110,
      "outputs": [
        {
          "output_type": "stream",
          "name": "stdout",
          "text": [
            "{'soul', 'pop', 'opera', 'rock'}\n",
            "<class 'set'>\n",
            "['hola', 1, 2, 'hola']\n",
            "{1, 2, 'hola'}\n",
            "{1, 2}\n",
            "False\n",
            "<class 'bool'>\n",
            "\n",
            "El símbolo & encuentra la unión entre dos sets\n",
            "Set A: {'sí', 'soy', 'yo'} \n",
            "Set B: {'no', 'soy', 'yo'}\n",
            "setA&setB: {'soy', 'yo'}\n",
            "\n",
            "union() concatena todos los elementos de los sets en uno nuevo\n",
            "{'no', 'soy', 'yo', 'sí'}\n",
            "{'soy', 'yo', 'sí'}\n",
            ".issubset() nos permite verificar si un set está encapsulado en el set argumento\n",
            "True\n",
            "True\n",
            "{'sí'}\n",
            "{'soy', 'yo'}\n",
            "{'C', 'B', 'A'}\n",
            "{'C', 'B', 'A'}\n",
            "{'C', 'B', 'A', 'D'}\n",
            "{1, 3}\n",
            "{'C', 'A'}\n"
          ]
        }
      ]
    },
    {
      "cell_type": "markdown",
      "source": [],
      "metadata": {
        "id": "fg8XUiW7Ou-q"
      }
    },
    {
      "cell_type": "markdown",
      "source": [
        "#### Lab - Sets\n",
        "Debido a que hubo problemas al abrir el laboratorio, confundí el cuestionario (Quiz on Sets) de la sección anterior con el de esta. Se realiza la correción en esta evidencia"
      ],
      "metadata": {
        "id": "QrHqwnfSltUG"
      }
    },
    {
      "cell_type": "code",
      "source": [
        "#Convert the list ['rap','house','electronic music', 'rap'] to a set:\n",
        "lista=['rap','house','electronic music', 'rap']\n",
        "print(lista)\n",
        "set1=set(lista)\n",
        "print(set1)\n",
        "alternativaSet=set(['rap','house','electronic music','rap'])\n",
        "print(alternativaSet)\n",
        "#Consider the list A = [1, 2, 2, 1] and set B = set([1, 2, 2, 1]), does sum(A) == sum(B)?\n",
        "A = [1, 2, 2, 1]  \n",
        "B = set([1, 2, 2, 1])\n",
        "print(\"A:\",A,\"\\nB:\",B)\n",
        "Asuma=sum(A)\n",
        "Bsuma=sum(B)\n",
        "print(\"Suma de A == suma de B\", Asuma==Bsuma)\n",
        "#Create a new set album_set3 that is the union of album_set1 and album_set2:\n",
        "album_set1 = set([\"Thriller\", 'AC/DC', 'Back in Black'])\n",
        "album_set2 = set([ \"AC/DC\", \"Back in Black\", \"The Dark Side of the Moon\"])\n",
        "album_set3=album_set1.union(album_set2 )\n",
        "print(album_set3)\n",
        "#Find out if album_set1 is a subset of album_set3:\n",
        "print(album_set1.issubset(album_set3))"
      ],
      "metadata": {
        "colab": {
          "base_uri": "https://localhost:8080/"
        },
        "id": "nWlMTYeYlwyY",
        "outputId": "be70ca16-3c19-4682-b98c-2cb8516e251c"
      },
      "execution_count": 109,
      "outputs": [
        {
          "output_type": "stream",
          "name": "stdout",
          "text": [
            "['rap', 'house', 'electronic music', 'rap']\n",
            "{'house', 'electronic music', 'rap'}\n",
            "{'house', 'electronic music', 'rap'}\n",
            "A: [1, 2, 2, 1] \n",
            "B: {1, 2}\n",
            "Suma de A == suma de B False\n",
            "{'AC/DC', 'Back in Black', 'The Dark Side of the Moon', 'Thriller'}\n",
            "True\n"
          ]
        }
      ]
    },
    {
      "cell_type": "markdown",
      "source": [
        "#### Dictionaries (2:24)\n",
        "Diccionarios { }. Son tipo de colección (arreglos), se crean empleando llaves (como una direccion) y poseen:\n",
        "- Llaves (Keys) que son equivalentes a los índices en una lista. Son inmutables y únicas\n",
        "- Valores. Pueden ser inmutables/mutables/duplicados\n",
        "Cada valor y llave debe separarse con coma"
      ],
      "metadata": {
        "id": "xbjfFlO6OyZn"
      }
    },
    {
      "cell_type": "code",
      "source": [
        "#Crear un diccionario\n",
        "dicPelis={'Thriller':1982, 'Rumors':1977, 'Afflicted':2019}\n",
        "print(dicPelis)\n",
        "print(type(dicPelis)) #Comprobar el tipo de datos que es un diccionario\n",
        "#Indexar\n",
        "print(dicPelis['Afflicted']) #Nos arroja el valor, en este caso , el año\n",
        "#Añadir\n",
        "dicPelis['Martys']=2005 #Sintaxis igual al indexar, pero con elementos nuevos\n",
        "print(dicPelis)\n",
        "#Eliminar\n",
        "del(dicPelis['Thriller'])\n",
        "print(dicPelis) #Se elimina la key y su valor\n",
        "#Verificar si esta determinada película\n",
        "print('Martys' in dicPelis) #Responde a través de un dato tipo bool, caso verdadero\n",
        "print('Winnie the Pooh' in dicPelis) #caso falso\n",
        "#Pedir todas las keys (llaves) dentro del diccionario\n",
        "llavesPelis=dicPelis.keys()\n",
        "print(llavesPelis)\n",
        "print(type(llavesPelis)) #Comprobar el tipo de dato que son las llaves de un diccionario\n",
        "#Pedir todos los valores dentro del diccionario\n",
        "añosPelis=dicPelis.values()\n",
        "print(añosPelis)\n",
        "print(type(añosPelis)) #Comprobar el tipo de dato que son los valores de un diccionario\n",
        "\n",
        "print(\"\") #------Dictionaries (External resource) LAB------\n",
        "#You will need the dictionary D:\n",
        "D={'a':0,'b':1,'c':2}\n",
        "#Find the value for the key 'a':\n",
        "print(D['a'])\n",
        "#Find the keys of the dictionary D:\n",
        "print(D.keys())\n",
        "#Consider the following dictionary:\n",
        "D = {'a':0,'b':1,'c':2}\n",
        "print(D)\n",
        "#What is the result of the following: D.values()?\n",
        "print(D.values())\n",
        "#What is the output of the following D['b']?\n",
        "print(D['b'])"
      ],
      "metadata": {
        "colab": {
          "base_uri": "https://localhost:8080/"
        },
        "id": "FgAouWNBPmj6",
        "outputId": "f6bbfc9b-bc68-4de3-a5e5-cbdbc3ffd522"
      },
      "execution_count": 18,
      "outputs": [
        {
          "output_type": "stream",
          "name": "stdout",
          "text": [
            "{'Thriller': 1982, 'Rumors': 1977, 'Afflicted': 2019}\n",
            "<class 'dict'>\n",
            "2019\n",
            "{'Thriller': 1982, 'Rumors': 1977, 'Afflicted': 2019, 'Martys': 2005}\n",
            "{'Rumors': 1977, 'Afflicted': 2019, 'Martys': 2005}\n",
            "True\n",
            "False\n",
            "dict_keys(['Rumors', 'Afflicted', 'Martys'])\n",
            "<class 'dict_keys'>\n",
            "dict_values([1977, 2019, 2005])\n",
            "<class 'dict_values'>\n",
            "\n",
            "0\n",
            "dict_keys(['a', 'b', 'c'])\n",
            "{'a': 0, 'b': 1, 'c': 2}\n",
            "dict_values([0, 1, 2])\n",
            "1\n"
          ]
        }
      ]
    },
    {
      "cell_type": "markdown",
      "source": [
        "#### Lab - Dictionaries"
      ],
      "metadata": {
        "id": "7Jpd0LR9TXTw"
      }
    },
    {
      "cell_type": "code",
      "source": [
        "#Quiz on Dictionaries\n",
        "#You will need this dictionary for the next two questions:\n",
        "soundtrack_dic = {\"The Bodyguard\":\"1992\", \"Saturday Night Fever\":\"1977\"}\n",
        "print(soundtrack_dic )\n",
        "#a) In the dictionary soundtrack_dic what are the keys ?\n",
        "print(soundtrack_dic.keys())\n",
        "#b) In the dictionary soundtrack_dic what are the values ?\n",
        "print(soundtrack_dic.values())\n",
        "#You will need this dictionary for the following questions:\n",
        "#The Albums Back in Black, The Bodyguard and Thriller have the following music recording sales in millions 50, 50 and 65 respectively:\n",
        "#a) Create a dictionary album_sales_dict where the keys are the album name and the sales in millions are the values.\n",
        "album_sales_dict={'Back in Black':50, 'The Bodyguard':50, 'Thriller':65}\n",
        "print(album_sales_dict)\n",
        "#b) Use the dictionary to find the total sales of Thriller:\n",
        "print(album_sales_dict['Thriller'])\n",
        "#c) Find the names of the albums from the dictionary using the method keys()\n",
        "print(album_sales_dict.keys())\n",
        "#d) Find the values of the recording sales from the dictionary using the method values\n",
        "print(album_sales_dict.values())"
      ],
      "metadata": {
        "colab": {
          "base_uri": "https://localhost:8080/"
        },
        "id": "_Y1CACQXTaui",
        "outputId": "520da282-8a7b-49fe-c3d5-425295193be7"
      },
      "execution_count": 23,
      "outputs": [
        {
          "output_type": "stream",
          "name": "stdout",
          "text": [
            "{'The Bodyguard': '1992', 'Saturday Night Fever': '1977'}\n",
            "dict_keys(['The Bodyguard', 'Saturday Night Fever'])\n",
            "dict_values(['1992', '1977'])\n",
            "{'Back in Black': 50, 'The Bodyguard': 50, 'Thriller': 65}\n",
            "65\n",
            "dict_keys(['Back in Black', 'The Bodyguard', 'Thriller'])\n",
            "dict_values([50, 50, 65])\n"
          ]
        }
      ]
    },
    {
      "cell_type": "markdown",
      "source": [
        "#### Review Questions"
      ],
      "metadata": {
        "id": "5QKoEpuvW0Ow"
      }
    },
    {
      "cell_type": "code",
      "source": [
        "#What is the syntax used to obtain the first element of the tuple:\n",
        "A = ('a','b','c')\n",
        "A[0]\n",
        "#After applying the following method, L.append(['a','b']), the following list will only be one element longer.\n",
        "#True\n",
        "#How many duplicate elements can you have in a set?\n",
        "#0. You can only have one unique element in a set.\n",
        "#Consider the following Python dictionary:\n",
        "Dict={\"A\":1,\"B\":\"2\",\"C\":[3,3,3],\"D\":(4,4,4),'E':5,'F':6}\n",
        "print(Dict)\n",
        "#What is the result of the following operation: Dict[\"D\"]?\n",
        "print(Dict[\"D\"])\n",
        "#What is an important difference between lists and tuples?\n",
        "#Lists are mutable, tuples are not."
      ],
      "metadata": {
        "colab": {
          "base_uri": "https://localhost:8080/"
        },
        "id": "mKyg_7FJV6yc",
        "outputId": "71b6c6b1-4230-4269-e931-5dc2f700aeff"
      },
      "execution_count": 29,
      "outputs": [
        {
          "output_type": "stream",
          "name": "stdout",
          "text": [
            "{'A': 1, 'B': '2', 'C': [3, 3, 3], 'D': (4, 4, 4), 'E': 5, 'F': 6}\n",
            "(4, 4, 4)\n"
          ]
        }
      ]
    }
  ]
}