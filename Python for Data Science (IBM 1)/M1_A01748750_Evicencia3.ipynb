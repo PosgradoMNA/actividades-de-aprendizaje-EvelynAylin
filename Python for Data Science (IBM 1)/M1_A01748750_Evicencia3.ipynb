{
  "nbformat": 4,
  "nbformat_minor": 0,
  "metadata": {
    "colab": {
      "provenance": [],
      "toc_visible": true
    },
    "kernelspec": {
      "name": "python3",
      "display_name": "Python 3"
    },
    "language_info": {
      "name": "python"
    }
  },
  "cells": [
    {
      "cell_type": "code",
      "execution_count": null,
      "metadata": {
        "id": "5m96OYKSYhDB"
      },
      "outputs": [],
      "source": [
        "#Evelyn Aylin Rendon Medina\n",
        "#A01748750\n",
        "#Python for Data Science (IBM) evidencias\n",
        "\n"
      ]
    },
    {
      "cell_type": "markdown",
      "source": [
        "# Evelyn Aylin Rendon Medina\n",
        "# A01748750\n",
        "### Python for Data Science (IBM) evidencias"
      ],
      "metadata": {
        "id": "6iRdCa4sdBwb"
      }
    },
    {
      "cell_type": "markdown",
      "source": [
        "# Módulo 1"
      ],
      "metadata": {
        "id": "6YA23THMdS1k"
      }
    },
    {
      "cell_type": "markdown",
      "source": [
        "#### Your First Program (1:15)"
      ],
      "metadata": {
        "id": "5sAkAWtrdiOc"
      }
    },
    {
      "cell_type": "code",
      "source": [
        "print(\"Hello world\")\n",
        "print(\"Hello\\nWorld!\")\n",
        "# print('Hello World!')"
      ],
      "metadata": {
        "colab": {
          "base_uri": "https://localhost:8080/"
        },
        "id": "wPT-dGDcdAzV",
        "outputId": "73296793-5775-4822-9914-d9cff646b8c0"
      },
      "execution_count": 2,
      "outputs": [
        {
          "output_type": "stream",
          "name": "stdout",
          "text": [
            "Hello world\n",
            "Hello\n",
            "World!\n"
          ]
        }
      ]
    },
    {
      "cell_type": "markdown",
      "source": [
        "#### Types"
      ],
      "metadata": {
        "id": "m5nch5AYd26U"
      }
    },
    {
      "cell_type": "code",
      "source": [
        "print(int(1.0))\n",
        "print(bool(1))\n",
        "print(type(\"Hello World\"))\n",
        "print(type(\"1.1\"))\n",
        "print(int(\"1\"))\n",
        "print(bool(\"1\"))"
      ],
      "metadata": {
        "colab": {
          "base_uri": "https://localhost:8080/"
        },
        "id": "6ShiQxENeAgE",
        "outputId": "2c86b371-c0c5-4145-9bc0-c8e4dfe15cc1"
      },
      "execution_count": 14,
      "outputs": [
        {
          "output_type": "stream",
          "name": "stdout",
          "text": [
            "1\n",
            "True\n",
            "<class 'str'>\n",
            "<class 'str'>\n",
            "1\n",
            "True\n"
          ]
        }
      ]
    },
    {
      "cell_type": "markdown",
      "source": [
        "#### Expression and Variables"
      ],
      "metadata": {
        "id": "WpNjWv0cu1lg"
      }
    },
    {
      "cell_type": "code",
      "source": [
        "suma=5+1+8+6\n",
        "resta=suma-2\n",
        "division=10/3\n",
        "divisionInt=10//3\n",
        "multiplicacion=5*2\n",
        "exponente=2**2\n",
        "\n",
        "print(suma)\n",
        "print(resta)\n",
        "print(division)\n",
        "print(divisionInt)\n",
        "print(multiplicacion)\n",
        "print(exponente)"
      ],
      "metadata": {
        "colab": {
          "base_uri": "https://localhost:8080/"
        },
        "id": "W4a11ESou8eU",
        "outputId": "3f34af37-e895-4466-b8a0-62a5a75f4952"
      },
      "execution_count": 19,
      "outputs": [
        {
          "output_type": "stream",
          "name": "stdout",
          "text": [
            "20\n",
            "18\n",
            "3.3333333333333335\n",
            "3\n",
            "10\n",
            "4\n"
          ]
        }
      ]
    }
  ]
}
