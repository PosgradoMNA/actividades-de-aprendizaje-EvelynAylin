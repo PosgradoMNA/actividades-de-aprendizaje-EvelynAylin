{
  "nbformat": 4,
  "nbformat_minor": 0,
  "metadata": {
    "colab": {
      "provenance": [],
      "toc_visible": true
    },
    "kernelspec": {
      "name": "python3",
      "display_name": "Python 3"
    },
    "language_info": {
      "name": "python"
    }
  },
  "cells": [
    {
      "cell_type": "code",
      "execution_count": null,
      "metadata": {
        "id": "5m96OYKSYhDB"
      },
      "outputs": [],
      "source": [
        "#Evelyn Aylin Rendon Medina\n",
        "#A01748750\n",
        "#Python for Data Science (IBM) evidencias\n",
        "\n"
      ]
    },
    {
      "cell_type": "markdown",
      "source": [
        "# Evelyn Aylin Rendon Medina\n",
        "# A01748750\n",
        "### Python for Data Science (IBM) evidencias"
      ],
      "metadata": {
        "id": "6iRdCa4sdBwb"
      }
    },
    {
      "cell_type": "markdown",
      "source": [
        "# Módulo 1"
      ],
      "metadata": {
        "id": "6YA23THMdS1k"
      }
    },
    {
      "cell_type": "markdown",
      "source": [
        "#### Your First Program (1:15)"
      ],
      "metadata": {
        "id": "5sAkAWtrdiOc"
      }
    },
    {
      "cell_type": "code",
      "source": [
        "print(\"Hello world\")\n",
        "print(\"Hello\\nWorld!\")\n",
        "# print('Hello World!')"
      ],
      "metadata": {
        "colab": {
          "base_uri": "https://localhost:8080/"
        },
        "id": "wPT-dGDcdAzV",
        "outputId": "73296793-5775-4822-9914-d9cff646b8c0"
      },
      "execution_count": null,
      "outputs": [
        {
          "output_type": "stream",
          "name": "stdout",
          "text": [
            "Hello world\n",
            "Hello\n",
            "World!\n"
          ]
        }
      ]
    },
    {
      "cell_type": "markdown",
      "source": [
        "#### Types"
      ],
      "metadata": {
        "id": "m5nch5AYd26U"
      }
    },
    {
      "cell_type": "code",
      "source": [
        "print(int(1.0))\n",
        "print(bool(1))\n",
        "print(type(\"Hello World\"))\n",
        "print(type(\"1.1\"))\n",
        "print(int(\"1\"))\n",
        "print(bool(\"1\"))"
      ],
      "metadata": {
        "colab": {
          "base_uri": "https://localhost:8080/"
        },
        "id": "6ShiQxENeAgE",
        "outputId": "2c86b371-c0c5-4145-9bc0-c8e4dfe15cc1"
      },
      "execution_count": null,
      "outputs": [
        {
          "output_type": "stream",
          "name": "stdout",
          "text": [
            "1\n",
            "True\n",
            "<class 'str'>\n",
            "<class 'str'>\n",
            "1\n",
            "True\n"
          ]
        }
      ]
    },
    {
      "cell_type": "markdown",
      "source": [
        "#### Expression and Variables (3:50)\n",
        "Las expresiones describen un tipo de operación que las computadoras pueden llevar a cabo. Llamamos a los números operandos y a los simbolos matemáticos operadores."
      ],
      "metadata": {
        "id": "WpNjWv0cu1lg"
      }
    },
    {
      "cell_type": "code",
      "source": [
        "suma=5+1+8+6\n",
        "resta=suma-2\n",
        "division=10/3\n",
        "divisionInt=10//3\n",
        "multiplicacion=5*2\n",
        "exponente=2**2\n",
        "\n",
        "print(suma)\n",
        "print(resta)\n",
        "print(division)\n",
        "print(divisionInt)\n",
        "print(multiplicacion)\n",
        "print(exponente)"
      ],
      "metadata": {
        "colab": {
          "base_uri": "https://localhost:8080/"
        },
        "id": "W4a11ESou8eU",
        "outputId": "3f34af37-e895-4466-b8a0-62a5a75f4952"
      },
      "execution_count": null,
      "outputs": [
        {
          "output_type": "stream",
          "name": "stdout",
          "text": [
            "20\n",
            "18\n",
            "3.3333333333333335\n",
            "3\n",
            "10\n",
            "4\n"
          ]
        }
      ]
    },
    {
      "cell_type": "markdown",
      "source": [
        "#### Lab - Write Your First Python Code!"
      ],
      "metadata": {
        "id": "MrHKHDbJ3Df7"
      }
    },
    {
      "cell_type": "code",
      "source": [
        "#Exercise: Your First Program¶\n",
        "print('Hello, Python!')\n",
        "print(\"Hello, world!\") #Print the traditional hello world\n",
        "#Exercise: Types\n",
        "print(type(6/2))\n",
        "print(type(6//2))\n",
        "#Exercise: Expression, Horas en 160 minutos\n",
        "hours=160/60\n",
        "print(hours)\n",
        "#Exercise: Expression and Variables in Python\n",
        "x=3+2*2\n",
        "y=(3+2)*2\n",
        "z=x+y\n",
        "print(x, y, z)\n",
        "#Repetir caracteres en un string\n",
        "risa=\"ja\"\n",
        "print(risa)\n",
        "reir=4*risa\n",
        "print(reir)"
      ],
      "metadata": {
        "colab": {
          "base_uri": "https://localhost:8080/"
        },
        "id": "Xh9RP3GF3IiR",
        "outputId": "a75fde0e-5fbd-4870-a3a3-b4ccdd438b86"
      },
      "execution_count": null,
      "outputs": [
        {
          "output_type": "stream",
          "name": "stdout",
          "text": [
            "Hello, Python!\n",
            "Hello, world!\n",
            "<class 'float'>\n",
            "<class 'int'>\n",
            "2.6666666666666665\n",
            "7 10 17\n",
            "ja\n",
            "jajajaja\n"
          ]
        }
      ]
    },
    {
      "cell_type": "markdown",
      "source": [
        "#### String Operations (3:53)\n",
        "Los string son secuencias de caracteres y por ello tienen métodos aplicables que funcionan en listas o tuplas. Para acceder por medio del índice, debemos visualizar su representación por una matriz de números. Ejemplo 'yo' : [01]\n",
        "\n",
        "Por otro lado, tienen un segundo conjunto de métodos que solo funcionan en strings (upper, replace)\n"
      ],
      "metadata": {
        "id": "_jIk4-PvSFrh"
      }
    },
    {
      "cell_type": "code",
      "source": [
        "#Encontrar los números pares de la variable Numbers\n",
        "Numbers = \"0123456\"\n",
        "print(Numbers[::2])\n",
        "#Encontrar el índice del caracter '1'\n",
        "print(\"0123456\".find('1'))\n",
        "Letras=\"abcdefghijklmnopqrstuvwxyz\"\n",
        "print(Letras)\n",
        "#Cambiar caracteres de minúsculas a mayúsculas\n",
        "letrasMayu=Letras.upper()\n",
        "print(letrasMayu)\n",
        "#Obtener los caracteres cuyo índice es par\n",
        "print(Letras[::2])\n",
        "#Obtener los caracteres cuyo índice es múltiplo de 3\n",
        "print(Letras[::3])\n",
        "#Obtener la longitud de la variable Letras\n",
        "print(len(Letras))\n",
        "#Imprimir los primeros tres elementos de la variable Letras\n",
        "print(Letras[0:3])\n",
        "#Método para cambiar caracteres replace()\n",
        "texto_1=\"hola\"\n",
        "print(texto_1)\n",
        "cambio1=texto_1.replace(\"h\",\"H\")\n",
        "print(cambio1)\n",
        "#Método para encontrar determinados strings\n",
        "#La salida es el primer índice de la secuencia\n",
        "print(cambio1.find(\"la\"))"
      ],
      "metadata": {
        "colab": {
          "base_uri": "https://localhost:8080/"
        },
        "id": "QjutHaiVSGII",
        "outputId": "1248b24e-3251-4b35-f847-89b94aeb6db6"
      },
      "execution_count": null,
      "outputs": [
        {
          "output_type": "stream",
          "name": "stdout",
          "text": [
            "0246\n",
            "1\n",
            "abcdefghijklmnopqrstuvwxyz\n",
            "ABCDEFGHIJKLMNOPQRSTUVWXYZ\n",
            "acegikmoqsuwy\n",
            "adgjmpsvy\n",
            "26\n",
            "abc\n",
            "hola\n",
            "Hola\n",
            "2\n"
          ]
        }
      ]
    },
    {
      "cell_type": "markdown",
      "source": [
        "#### Review Questions"
      ],
      "metadata": {
        "id": "XI6JiFHnbc1K"
      }
    },
    {
      "cell_type": "code",
      "source": [
        "print(3+2*2)\n",
        "name='Lizz'\n",
        "print(name[0:2])\n",
        "var='01234567'\n",
        "print(var[::2])\n",
        "print('1'+'2')\n",
        "myvar='hello'\n",
        "myvar.upper()"
      ],
      "metadata": {
        "id": "DseGH9q0Th7J",
        "colab": {
          "base_uri": "https://localhost:8080/",
          "height": 105
        },
        "outputId": "50dc8f26-ebad-4669-a353-2bba94f7ca78"
      },
      "execution_count": null,
      "outputs": [
        {
          "output_type": "stream",
          "name": "stdout",
          "text": [
            "7\n",
            "Li\n",
            "0246\n",
            "12\n"
          ]
        },
        {
          "output_type": "execute_result",
          "data": {
            "text/plain": [
              "'HELLO'"
            ],
            "application/vnd.google.colaboratory.intrinsic+json": {
              "type": "string"
            }
          },
          "metadata": {},
          "execution_count": 5
        }
      ]
    },
    {
      "cell_type": "markdown",
      "source": [
        "# Módulo 2"
      ],
      "metadata": {
        "id": "LCXQkgZdp90C"
      }
    },
    {
      "cell_type": "markdown",
      "source": [
        "# Nueva sección"
      ],
      "metadata": {
        "id": "hmf6J-624ctv"
      }
    },
    {
      "cell_type": "markdown",
      "source": [
        "#### Lists and Tuples (8:46)\n",
        "Son tipos de datos compuestos y son estrucutras clave en Python.\n",
        "\n",
        "- Tuplas ( ). Secuencia ordenada, escrita dentro de un paréntesis y sus elementos están separados por comas. Puede contener datos de tipos diferentes, tales como strings, floats, interger, bool, pero el tipo de datos de este arreglo (tupla) será tuple. Son inmutables, por lo que no se pueden cambiar\n",
        "- Listas [ ]. También son secuencias ordenadas y se representan dentro de corchetes, su tipo de datos será siempre tipo list y pueden contener varios tipos de datos (bool, int, float, strings) y otras listas anidadas e incluso tuplas. Se indexa de forma convencional, al igual que la concatenación. Estas secuencia son mutables, por lo que se pueden cambiar\n",
        "\n",
        "Para entender la **anidación (nesting)** podemos pensarlo como una lista desplegable\n",
        "El **solapamiento (aliasing)** surge cuando dos o más variables se refieren a un mismo objeto, para evitarlo podemos clonar el contenido de una en otra, en lugar de asignarlo"
      ],
      "metadata": {
        "id": "0WWS60jZqFKe"
      }
    },
    {
      "cell_type": "code",
      "source": [
        "#------TUPLAS------\n",
        "#Comprobando el tipo de datos de una tupla que contiene a su vez datos del tipo string, float, int y bool\n",
        "tupla1=('disco',10,1.2,True)\n",
        "print(type(tupla1))\n",
        "#Se comprueba que conteniendo solo un tipo de datos dentro de una tupla, continua siendo del tipo tuple\n",
        "tupla2=(10,20,30,40)\n",
        "print(type(tupla2))\n",
        "#Indexando elementos en una tupla (acceder a gracias a su índice)\n",
        "print(tupla1[3])\n",
        "print(tupla1[-1]) #índice negativo, equivalente a la línea superior\n",
        "#Comprobando qué tipo de datos es un elemento que se extrae de un tuple\n",
        "tipoBool=tupla1[-1]\n",
        "print(type(tipoBool)) #Conserva el tipo de datos original del elemento\n",
        "#Concatenando o combinando tuplas\n",
        "tupla3=tupla1+tupla2\n",
        "print(tupla3)\n",
        "tupla4=tupla3+(\"final\",1)\n",
        "print(tupla4)\n",
        "#Indexación de varios elementos empleando el símbolo :\n",
        "len(tupla4) #se obtiene primero la longitud de la tupla\n",
        "print(tupla4[8:10]) #últimos dos elementos\n",
        "print(tupla4[0:2]) #primeros dos elementos\n",
        "#Debido a que las tuplas son imnutables, debemos crear una nueva para manipularla\n",
        "cuenta=(10,9,6,5,8,4,7,3,1,2)\n",
        "print(cuenta)\n",
        "cuentaOrdenada=sorted(cuenta) #se emplea sorted y crea una nueva tupla para ordenar la cuenta\n",
        "print(cuentaOrdenada)\n",
        "#Crear e indexar una tupla anidada\n",
        "tupla5=(1,2,(\"rock\",\"opera\"),(5,6),(\"hardcore\",(1,2,3))) #creación\n",
        "print(tupla5)\n",
        "print(tupla5[4]) #(\"hardcore\",(1,2,3))\n",
        "print(tupla5[4][1]) #(1,2,3)\n",
        "print(tupla5[4][1][2]) #3\n",
        "\n",
        "#------LISTAS------\n",
        "#Crear una lista con diferentes tipos de datos\n",
        "lista1=[\"esto es\",10.1,1982,[1,1],('A',2),False]\n",
        "print(lista1[4:6])\n",
        "print(type(lista1)) #Comprobar el tipo de dato que es una lista\n",
        "lista2=[1,2,3,4,5,6]\n",
        "print(lista2)\n",
        "print(type(lista2)) #También será siempre del tipo list\n",
        "#Indexar de forma convencional\n",
        "print(lista1[0]) #esto es\n",
        "print(lista1[4]) #('A',2)\n",
        "print(lista1[4][0]) #A\n",
        "#Concatenar\n",
        "lista3=lista1+lista2\n",
        "print(lista3)\n",
        "lista4=lista3+[7,\"final de la lista\"]\n",
        "print(lista4)\n",
        "#Ya que las listas son mutables, podemos cambiarlas\n",
        "L=[\"hola\",1997]\n",
        "print(L)\n",
        "#Con extend cada elemento adquiere un índice\n",
        "L.extend([\"HOLA\",1998]) #(método), [lista]\n",
        "print(L)\n",
        "#Con apprend, se añade un nuevo índice que anida todo el argumento\n",
        "L.append([\"Hola\",1999])\n",
        "print(L)\n",
        "#Indexar un elemento para cambiarlo\n",
        "A=[\"disco\",10,1.6]\n",
        "print(A)\n",
        "A[0]=\"ROCK\"\n",
        "print(A)\n",
        "#Eliminar un elemento dentro de una lista con del()\n",
        "del(A[0]) #Eliminamos \"ROCK\"\n",
        "print(A)\n",
        "\n",
        "#Podemos separar los elementos de un string (datos str, listas no) \n",
        "abcd=\"A B C D\"\n",
        "print(abcd)\n",
        "print(abcd.split()) #el separador (delimitador) es el espacio\n",
        "#o es posible definifir el delimitador\n",
        "ab=\"A-B-C-D\"\n",
        "print(ab)\n",
        "abGuion=ab.split(\"-\") #el delimitador es ahora el guion (-)\n",
        "print(abGuion)\n",
        "\n",
        "print(\"\")\n",
        "A=[\"B=A\",1]\n",
        "print(\"A:\",A)\n",
        "B=A\n",
        "print(\"B=A, B:\",B)\n",
        "B[0]=\"solapamiento\" #Se modifica el objeto de B\n",
        "print(\"B:\",B) \n",
        "print(\"A:\",A) #Con lo que también se modifica A\n",
        "#Para evitar el solapamiento, clonamos el contenido\n",
        "C=[\"D=C[:]\",2]\n",
        "print(\"C:\",C)\n",
        "D=C[:] #Se clona la lista de C en D\n",
        "print(\"D:\", D)\n",
        "D[0]=\"clonación\" #Se modifica D\n",
        "print(\"Al modificar una variable, el objeto de la otra ya no se afecta, \",end=\"\")\n",
        "print(\"pues ya no tienen la misma referencia\")\n",
        "print(\"C:\",C)\n",
        "print(\"D:\",D)\n",
        "\n",
        "print(\"\")\n",
        "print(\"help() con una variable en el argumento nos proprociona info. sobre el objeto\")\n",
        "\n",
        "print(\"\") #------Lists and Tuples (External resource) LAB------\n",
        "#Create a tuple  (0,1,2,3)  and assign it to variable A:\n",
        "A=(0,1,2,3)\n",
        "print(A)\n",
        "#Find the first two elements of tuple  A :\n",
        "print(A[0:2])\n",
        "#For the next few questions, you will need the following list:\n",
        "B=[\"a\",\"b\",\"c\"]\n",
        "#Find the first two elements of the list  B:\n",
        "print(B[0:2])\n",
        "#Change the first element of the list to an uppercase \"A\".\n",
        "B[0]=\"A\"\n",
        "print(B)\n",
        "#How do you access the last element of the following tuple: A=(0,1,2,3)\n",
        "print(A[3])\n",
        "print(A[-1])\n",
        "#Consider the list: B=[\"a\",\"b\",\"c\"]. What is the result of the following B[1:]?\n",
        "print(B[1:]) #B=[\"a\",\"b\",\"c\"] , a=0, b=1, c=2"
      ],
      "metadata": {
        "colab": {
          "base_uri": "https://localhost:8080/"
        },
        "id": "Nd-fLZ8RqBlK",
        "outputId": "6d5d55ff-d519-4234-f719-302af40011d0"
      },
      "execution_count": null,
      "outputs": [
        {
          "output_type": "stream",
          "name": "stdout",
          "text": [
            "<class 'tuple'>\n",
            "<class 'tuple'>\n",
            "True\n",
            "True\n",
            "<class 'bool'>\n",
            "('disco', 10, 1.2, True, 10, 20, 30, 40)\n",
            "('disco', 10, 1.2, True, 10, 20, 30, 40, 'final', 1)\n",
            "('final', 1)\n",
            "('disco', 10)\n",
            "(10, 9, 6, 5, 8, 4, 7, 3, 1, 2)\n",
            "[1, 2, 3, 4, 5, 6, 7, 8, 9, 10]\n",
            "(1, 2, ('rock', 'opera'), (5, 6), ('hardcore', (1, 2, 3)))\n",
            "('hardcore', (1, 2, 3))\n",
            "(1, 2, 3)\n",
            "3\n",
            "[('A', 2), False]\n",
            "<class 'list'>\n",
            "[1, 2, 3, 4, 5, 6]\n",
            "<class 'list'>\n",
            "esto es\n",
            "('A', 2)\n",
            "A\n",
            "['esto es', 10.1, 1982, [1, 1], ('A', 2), False, 1, 2, 3, 4, 5, 6]\n",
            "['esto es', 10.1, 1982, [1, 1], ('A', 2), False, 1, 2, 3, 4, 5, 6, 7, 'final de la lista']\n",
            "['hola', 1997]\n",
            "['hola', 1997, 'HOLA', 1998]\n",
            "['hola', 1997, 'HOLA', 1998, ['Hola', 1999]]\n",
            "['disco', 10, 1.6]\n",
            "['ROCK', 10, 1.6]\n",
            "[10, 1.6]\n",
            "A B C D\n",
            "['A', 'B', 'C', 'D']\n",
            "A-B-C-D\n",
            "['A', 'B', 'C', 'D']\n",
            "\n",
            "A: ['B=A', 1]\n",
            "B=A, B: ['B=A', 1]\n",
            "B: ['solapamiento', 1]\n",
            "A: ['solapamiento', 1]\n",
            "C: ['D=C[:]', 2]\n",
            "D: ['D=C[:]', 2]\n",
            "Al modificar una variable, el objeto de la otra ya no se afecta, pues ya no tienen la misma referencia\n",
            "C: ['D=C[:]', 2]\n",
            "D: ['clonación', 2]\n",
            "\n",
            "help() con una variable en el argumento nos proprociona info. sobre el objeto\n",
            "\n",
            "(0, 1, 2, 3)\n",
            "(0, 1)\n",
            "['a', 'b']\n",
            "['A', 'b', 'c']\n",
            "3\n",
            "3\n",
            "['b', 'c']\n"
          ]
        }
      ]
    },
    {
      "cell_type": "markdown",
      "source": [
        "#### Lab - Lists and Tuples"
      ],
      "metadata": {
        "id": "n55Kwql0MPz1"
      }
    },
    {
      "cell_type": "code",
      "source": [
        "#Quiz on Tuples\n",
        "# Consider the following tuple:. sample tuple\n",
        "genres_tuple = (\"pop\", \"rock\", \"soul\", \"hard rock\", \"soft rock\", \\\n",
        "                \"R&B\", \"progressive rock\", \"disco\") \n",
        "print(genres_tuple)\n",
        "#Find the length of the tuple, genres_tuple:\n",
        "print(len(genres_tuple))\n",
        "#Access the element, with respect to index 3:\n",
        "print(genres_tuple[3])\n",
        "#Use slicing to obtain indexes 3, 4 and 5:\n",
        "print(genres_tuple[3:6])\n",
        "#Find the first two elements of the tuple genres_tuple:\n",
        "print(genres_tuple[0:2])\n",
        "#Find the first index of \"disco\":\n",
        "print(genres_tuple.index(\"disco\")) #Se encuentra primero el índice del string \"disco\"\n",
        "print(genres_tuple[7][0]) #Primer índice de disco = d (0)\n",
        "#Generate a sorted List from the Tuple C_tuple=(-5, 1, -3):\n",
        "C_tuple=(-5, 1, -3)\n",
        "tuple_O=sorted(C_tuple)\n",
        "print(C_tuple)\n",
        "print(tuple_O)\n",
        "\n",
        "print(\"\") #Quiz on List\n",
        "#Create a list a_list, with the following elements 1, hello, [1,2,3] and True.\n",
        "a_list=[1,'hello',[1,2,3],True]\n",
        "print(a_list)\n",
        "#Find the value stored at index 1 of a_list.\n",
        "print(a_list[1])\n",
        "#Retrieve the elements stored at index 1, 2 and 3 of a_list.\n",
        "print(a_list[1:4])\n",
        "#Concatenate the following lists A = [1, 'a'] and B = [2, 1, 'd']:\n",
        "A = [1, 'a']\n",
        "B = [2, 1, 'd']\n",
        "print(\"A:\",A)\n",
        "print(\"B:\",B)\n",
        "print(\"A+B:\",A+B)\n",
        "print(\"Usando extend:\")\n",
        "A.extend(B)\n",
        "print(A)\n",
        "print(\"Usando append:\")\n",
        "A.append([2, 1, 'd'])\n",
        "print(A)"
      ],
      "metadata": {
        "colab": {
          "base_uri": "https://localhost:8080/"
        },
        "id": "E2N3TAcgMVT5",
        "outputId": "18cfe4c2-b839-4528-f3fd-0dac6429401c"
      },
      "execution_count": null,
      "outputs": [
        {
          "output_type": "stream",
          "name": "stdout",
          "text": [
            "('pop', 'rock', 'soul', 'hard rock', 'soft rock', 'R&B', 'progressive rock', 'disco')\n",
            "8\n",
            "hard rock\n",
            "('hard rock', 'soft rock', 'R&B')\n",
            "('pop', 'rock')\n",
            "7\n",
            "d\n",
            "(-5, 1, -3)\n",
            "[-5, -3, 1]\n",
            "\n",
            "[1, 'hello', [1, 2, 3], True]\n",
            "hello\n",
            "['hello', [1, 2, 3], True]\n",
            "A: [1, 'a']\n",
            "B: [2, 1, 'd']\n",
            "A+B: [1, 'a', 2, 1, 'd']\n",
            "Usando extend:\n",
            "[1, 'a', 2, 1, 'd']\n",
            "Usando append:\n",
            "[1, 'a', 2, 1, 'd', [2, 1, 'd']]\n"
          ]
        }
      ]
    },
    {
      "cell_type": "markdown",
      "source": [
        "#### Sets (5:12)\n",
        "Set { }. Son un tipo de colecciones, por lo que es posible introducir distintos tipos de datos. Se diferencian de las listas y tuplas (que también son colecciones) porque no son ordenados, lo que significa que no graba la posición del elemento. Asimismo, se caracterizan porque tienen elementos únicos, es decir uno mismo no se puede repetir en estos conjuntos (no se pueden duplicar) y se generan a partir de llaves "
      ],
      "metadata": {
        "id": "NNNkABveaQnL"
      }
    },
    {
      "cell_type": "code",
      "source": [
        "#Creación\n",
        "set1={'pop','rock','opera','pop','soul','pop'}\n",
        "print(set1) #No se muestran los elementos repetidos\n",
        "print(type(set1))\n",
        "#Operaciones\n",
        "lista=[\"hola\",1,2,\"hola\"]\n",
        "print(lista)\n",
        "setDeLista=set(lista) #type-casting, convertir una lista a set\n",
        "print(setDeLista) \n",
        "setDeLista.remove(\"hola\") #remover elementos de un set\n",
        "print(setDeLista)\n",
        "print(\"hola\" in setDeLista) #Verificar si existe determinado elemento en el set con in\n",
        "print(type(\"hola\" in setDeLista)) #El resultado es un valor bool\n",
        "\n",
        "print(\"\")\n",
        "print(\"El símbolo & encuentra la unión entre dos sets\")\n",
        "# Al usar & para concatenar dos sets, solo mantendrá los elementos que ambos tengan en común\n",
        "setA={'yo','sí','soy'}\n",
        "setB={'yo','no','soy'}\n",
        "print(\"Set A:\",setA, \"\\nSet B:\",setB)\n",
        "setC=setA&setB\n",
        "print(\"setA&setB:\",setC) #Solo se mantiene 'yo', 'soy' porque son los únicos elementos compartidos\n",
        "\n",
        "print(\"\")\n",
        "print(\"union() concatena todos los elementos de los sets en uno nuevo\")\n",
        "setD=setA.union(setB)\n",
        "print(setD) #Junta todos lo elementos pero no los repite\n",
        "Set2={'yo','soy'}\n",
        "setE=setA.union(Set2) #Set2 no aporta información nueva a set E, por lo que se encapsula\n",
        "print(setE) \n",
        "print(\".issubset() nos permite verificar si un set está encapsulado en el set argumento\")\n",
        "print(Set2.issubset(setA)) #La respuesta se da a través de un valor bool\n",
        "\n",
        "#------Sets (External resource) LAB------\n",
        "print(setA.issuperset(Set2)) #Busca si set A es un super set de set2 (encapsula al segundo)\n",
        "print(setA.difference(setB)) #Encuentra lo que diferencia el setA del B\n",
        "print(setA.intersection(setB)) #)Encuentra la intersección o que es igual en el setA respecto el B\n",
        "\n",
        "#-------Quiz on Sets-------\n",
        "#Cast the following list to a set:\n",
        "['A','B','C','A','B','C']\n",
        "print(set(['A','B','C','A','B','C']))\n",
        "#Add the string 'D' to the set S.\n",
        "S={'A','B','C'}\n",
        "print(S)\n",
        "S.add('D')\n",
        "print(S)\n",
        "#Find the intersection of set A and B.\n",
        "A={1,2,3,4,5}\n",
        "B={1,3,9, 12}\n",
        "print(A.intersection(B))\n",
        "#What is the result of the following lines of code:\n",
        "S={'A','B','C'}\n",
        "U={'A','Z','C'}\n",
        "U.union(S)\n",
        "#What is the intersection of set S and U?\n",
        "S={'A','B','C'}\n",
        "U={'A','Z','C'}\n",
        "print(S.intersection(U))"
      ],
      "metadata": {
        "colab": {
          "base_uri": "https://localhost:8080/"
        },
        "id": "t0D4fj0Uaf9Q",
        "outputId": "6f1aa375-28f2-40a2-be72-f5f28b2a1e86"
      },
      "execution_count": null,
      "outputs": [
        {
          "output_type": "stream",
          "name": "stdout",
          "text": [
            "{'soul', 'pop', 'opera', 'rock'}\n",
            "<class 'set'>\n",
            "['hola', 1, 2, 'hola']\n",
            "{1, 2, 'hola'}\n",
            "{1, 2}\n",
            "False\n",
            "<class 'bool'>\n",
            "\n",
            "El símbolo & encuentra la unión entre dos sets\n",
            "Set A: {'sí', 'soy', 'yo'} \n",
            "Set B: {'no', 'soy', 'yo'}\n",
            "setA&setB: {'soy', 'yo'}\n",
            "\n",
            "union() concatena todos los elementos de los sets en uno nuevo\n",
            "{'no', 'soy', 'yo', 'sí'}\n",
            "{'soy', 'yo', 'sí'}\n",
            ".issubset() nos permite verificar si un set está encapsulado en el set argumento\n",
            "True\n",
            "True\n",
            "{'sí'}\n",
            "{'soy', 'yo'}\n",
            "{'C', 'B', 'A'}\n",
            "{'C', 'B', 'A'}\n",
            "{'C', 'B', 'A', 'D'}\n",
            "{1, 3}\n",
            "{'C', 'A'}\n"
          ]
        }
      ]
    },
    {
      "cell_type": "markdown",
      "source": [],
      "metadata": {
        "id": "fg8XUiW7Ou-q"
      }
    },
    {
      "cell_type": "markdown",
      "source": [
        "#### Lab - Sets\n",
        "Debido a que hubo problemas al abrir el laboratorio, confundí el cuestionario (Quiz on Sets) de la sección anterior con el de esta. Se realiza la correción en esta evidencia"
      ],
      "metadata": {
        "id": "QrHqwnfSltUG"
      }
    },
    {
      "cell_type": "code",
      "source": [
        "#Convert the list ['rap','house','electronic music', 'rap'] to a set:\n",
        "lista=['rap','house','electronic music', 'rap']\n",
        "print(lista)\n",
        "set1=set(lista)\n",
        "print(set1)\n",
        "alternativaSet=set(['rap','house','electronic music','rap'])\n",
        "print(alternativaSet)\n",
        "#Consider the list A = [1, 2, 2, 1] and set B = set([1, 2, 2, 1]), does sum(A) == sum(B)?\n",
        "A = [1, 2, 2, 1]  \n",
        "B = set([1, 2, 2, 1])\n",
        "print(\"A:\",A,\"\\nB:\",B)\n",
        "Asuma=sum(A)\n",
        "Bsuma=sum(B)\n",
        "print(\"Suma de A == suma de B\", Asuma==Bsuma)\n",
        "#Create a new set album_set3 that is the union of album_set1 and album_set2:\n",
        "album_set1 = set([\"Thriller\", 'AC/DC', 'Back in Black'])\n",
        "album_set2 = set([ \"AC/DC\", \"Back in Black\", \"The Dark Side of the Moon\"])\n",
        "album_set3=album_set1.union(album_set2 )\n",
        "print(album_set3)\n",
        "#Find out if album_set1 is a subset of album_set3:\n",
        "print(album_set1.issubset(album_set3))"
      ],
      "metadata": {
        "colab": {
          "base_uri": "https://localhost:8080/"
        },
        "id": "nWlMTYeYlwyY",
        "outputId": "be70ca16-3c19-4682-b98c-2cb8516e251c"
      },
      "execution_count": null,
      "outputs": [
        {
          "output_type": "stream",
          "name": "stdout",
          "text": [
            "['rap', 'house', 'electronic music', 'rap']\n",
            "{'house', 'electronic music', 'rap'}\n",
            "{'house', 'electronic music', 'rap'}\n",
            "A: [1, 2, 2, 1] \n",
            "B: {1, 2}\n",
            "Suma de A == suma de B False\n",
            "{'AC/DC', 'Back in Black', 'The Dark Side of the Moon', 'Thriller'}\n",
            "True\n"
          ]
        }
      ]
    },
    {
      "cell_type": "markdown",
      "source": [
        "#### Dictionaries (2:24)\n",
        "Diccionarios { }. Son tipo de colección (arreglos), se crean empleando llaves (como una direccion) y poseen:\n",
        "- Llaves (Keys) que son equivalentes a los índices en una lista. Son inmutables y únicas\n",
        "- Valores. Pueden ser inmutables/mutables/duplicados\n",
        "Cada valor y llave debe separarse con coma"
      ],
      "metadata": {
        "id": "xbjfFlO6OyZn"
      }
    },
    {
      "cell_type": "code",
      "source": [
        "#Crear un diccionario\n",
        "dicPelis={'Thriller':1982, 'Rumors':1977, 'Afflicted':2019}\n",
        "print(dicPelis)\n",
        "print(type(dicPelis)) #Comprobar el tipo de datos que es un diccionario\n",
        "#Indexar\n",
        "print(dicPelis['Afflicted']) #Nos arroja el valor, en este caso , el año\n",
        "#Añadir\n",
        "dicPelis['Martys']=2005 #Sintaxis igual al indexar, pero con elementos nuevos\n",
        "print(dicPelis)\n",
        "#Eliminar\n",
        "del(dicPelis['Thriller'])\n",
        "print(dicPelis) #Se elimina la key y su valor\n",
        "#Verificar si esta determinada película\n",
        "print('Martys' in dicPelis) #Responde a través de un dato tipo bool, caso verdadero\n",
        "print('Winnie the Pooh' in dicPelis) #caso falso\n",
        "#Pedir todas las keys (llaves) dentro del diccionario\n",
        "llavesPelis=dicPelis.keys()\n",
        "print(llavesPelis)\n",
        "print(type(llavesPelis)) #Comprobar el tipo de dato que son las llaves de un diccionario\n",
        "#Pedir todos los valores dentro del diccionario\n",
        "añosPelis=dicPelis.values()\n",
        "print(añosPelis)\n",
        "print(type(añosPelis)) #Comprobar el tipo de dato que son los valores de un diccionario\n",
        "\n",
        "print(\"\") #------Dictionaries (External resource) LAB------\n",
        "#You will need the dictionary D:\n",
        "D={'a':0,'b':1,'c':2}\n",
        "#Find the value for the key 'a':\n",
        "print(D['a'])\n",
        "#Find the keys of the dictionary D:\n",
        "print(D.keys())\n",
        "#Consider the following dictionary:\n",
        "D = {'a':0,'b':1,'c':2}\n",
        "print(D)\n",
        "#What is the result of the following: D.values()?\n",
        "print(D.values())\n",
        "#What is the output of the following D['b']?\n",
        "print(D['b'])"
      ],
      "metadata": {
        "colab": {
          "base_uri": "https://localhost:8080/"
        },
        "id": "FgAouWNBPmj6",
        "outputId": "f6bbfc9b-bc68-4de3-a5e5-cbdbc3ffd522"
      },
      "execution_count": null,
      "outputs": [
        {
          "output_type": "stream",
          "name": "stdout",
          "text": [
            "{'Thriller': 1982, 'Rumors': 1977, 'Afflicted': 2019}\n",
            "<class 'dict'>\n",
            "2019\n",
            "{'Thriller': 1982, 'Rumors': 1977, 'Afflicted': 2019, 'Martys': 2005}\n",
            "{'Rumors': 1977, 'Afflicted': 2019, 'Martys': 2005}\n",
            "True\n",
            "False\n",
            "dict_keys(['Rumors', 'Afflicted', 'Martys'])\n",
            "<class 'dict_keys'>\n",
            "dict_values([1977, 2019, 2005])\n",
            "<class 'dict_values'>\n",
            "\n",
            "0\n",
            "dict_keys(['a', 'b', 'c'])\n",
            "{'a': 0, 'b': 1, 'c': 2}\n",
            "dict_values([0, 1, 2])\n",
            "1\n"
          ]
        }
      ]
    },
    {
      "cell_type": "markdown",
      "source": [
        "#### Lab - Dictionaries"
      ],
      "metadata": {
        "id": "7Jpd0LR9TXTw"
      }
    },
    {
      "cell_type": "code",
      "source": [
        "#Quiz on Dictionaries\n",
        "#You will need this dictionary for the next two questions:\n",
        "soundtrack_dic = {\"The Bodyguard\":\"1992\", \"Saturday Night Fever\":\"1977\"}\n",
        "print(soundtrack_dic )\n",
        "#a) In the dictionary soundtrack_dic what are the keys ?\n",
        "print(soundtrack_dic.keys())\n",
        "#b) In the dictionary soundtrack_dic what are the values ?\n",
        "print(soundtrack_dic.values())\n",
        "#You will need this dictionary for the following questions:\n",
        "#The Albums Back in Black, The Bodyguard and Thriller have the following music recording sales in millions 50, 50 and 65 respectively:\n",
        "#a) Create a dictionary album_sales_dict where the keys are the album name and the sales in millions are the values.\n",
        "album_sales_dict={'Back in Black':50, 'The Bodyguard':50, 'Thriller':65}\n",
        "print(album_sales_dict)\n",
        "#b) Use the dictionary to find the total sales of Thriller:\n",
        "print(album_sales_dict['Thriller'])\n",
        "#c) Find the names of the albums from the dictionary using the method keys()\n",
        "print(album_sales_dict.keys())\n",
        "#d) Find the values of the recording sales from the dictionary using the method values\n",
        "print(album_sales_dict.values())"
      ],
      "metadata": {
        "colab": {
          "base_uri": "https://localhost:8080/"
        },
        "id": "_Y1CACQXTaui",
        "outputId": "520da282-8a7b-49fe-c3d5-425295193be7"
      },
      "execution_count": null,
      "outputs": [
        {
          "output_type": "stream",
          "name": "stdout",
          "text": [
            "{'The Bodyguard': '1992', 'Saturday Night Fever': '1977'}\n",
            "dict_keys(['The Bodyguard', 'Saturday Night Fever'])\n",
            "dict_values(['1992', '1977'])\n",
            "{'Back in Black': 50, 'The Bodyguard': 50, 'Thriller': 65}\n",
            "65\n",
            "dict_keys(['Back in Black', 'The Bodyguard', 'Thriller'])\n",
            "dict_values([50, 50, 65])\n"
          ]
        }
      ]
    },
    {
      "cell_type": "markdown",
      "source": [
        "#### Review Questions"
      ],
      "metadata": {
        "id": "5QKoEpuvW0Ow"
      }
    },
    {
      "cell_type": "code",
      "source": [
        "#What is the syntax used to obtain the first element of the tuple:\n",
        "A = ('a','b','c')\n",
        "A[0]\n",
        "#After applying the following method, L.append(['a','b']), the following list will only be one element longer.\n",
        "#True\n",
        "#How many duplicate elements can you have in a set?\n",
        "#0. You can only have one unique element in a set.\n",
        "#Consider the following Python dictionary:\n",
        "Dict={\"A\":1,\"B\":\"2\",\"C\":[3,3,3],\"D\":(4,4,4),'E':5,'F':6}\n",
        "print(Dict)\n",
        "#What is the result of the following operation: Dict[\"D\"]?\n",
        "print(Dict[\"D\"])\n",
        "#What is an important difference between lists and tuples?\n",
        "#Lists are mutable, tuples are not."
      ],
      "metadata": {
        "colab": {
          "base_uri": "https://localhost:8080/"
        },
        "id": "mKyg_7FJV6yc",
        "outputId": "71b6c6b1-4230-4269-e931-5dc2f700aeff"
      },
      "execution_count": null,
      "outputs": [
        {
          "output_type": "stream",
          "name": "stdout",
          "text": [
            "{'A': 1, 'B': '2', 'C': [3, 3, 3], 'D': (4, 4, 4), 'E': 5, 'F': 6}\n",
            "(4, 4, 4)\n"
          ]
        }
      ]
    },
    {
      "cell_type": "markdown",
      "source": [
        "# Módulo 3"
      ],
      "metadata": {
        "id": "HWCKfCRIW2u7"
      }
    },
    {
      "cell_type": "markdown",
      "source": [
        "#### Conditions and Branching (10:14)\n",
        "- Las operaciones de comparación utilizan algunos valores u operandos y con base en una condición, producen una respuesta booleana **(==, >, >=, <, <=, !=)**\n",
        "- Las derivaciones (branching) nos permite ejecutar diferentes declaraciones (líneas de código) para distintas entradas **(ciclos if, else, elseif )**\n",
        "- Los operadores lógicos toman valores booleanos (True/False) y producen otros distintos **(not, or, and)**"
      ],
      "metadata": {
        "id": "lGerqDQgW6Qz"
      }
    },
    {
      "cell_type": "code",
      "source": [
        "from re import M\n",
        "#Comparaciones\n",
        "y=5\n",
        "x=5\n",
        "print(\"x=5 == y=5\",x==y)\n",
        "y=6\n",
        "print(\"x=5 == y=6\",x==y) #Igual a\n",
        "print(\"x=5 > y=6\",x>y) #Mayor que\n",
        "print(\"x=5 >= y=6\",x>=y) #Mayor igual que\n",
        "print(\"x=5 < y=6\",x<y) #Menor que\n",
        "print(\"x=5 <= y=6\",x<=y) #Menor igual que\n",
        "print(\"x=5 != y=6\",x!=y) #Diferente de\n",
        "#Branching (if, elif, else)\n",
        "print(\"Entrada a establecimiento\\nedad>=18:bar, edad==15:-restaurante solo 15-, edad<15:heladería\")\n",
        "edad=18\n",
        "if(edad>=18):\n",
        "  print(\"Puedes entrar al bar porque tienes\",edad,\"años o más\")\n",
        "elif(edad==15):\n",
        "  print(\"Puedes entrar al -restaurante solo 15- porque tienes\",edad,\"años\")\n",
        "else:\n",
        "  print(\"Puedes entrar a la heladería porque solo tienes\",edad,\"años o menos\")\n",
        "print(\"Esta línea de código es ajena a los casos condicionales anteriores\", end=\"\")\n",
        "print(\" debido a la indentación\")\n",
        "#Operadores lógicos\n",
        "#and\n",
        "print(\"Pensión adulto mayor\")\n",
        "adultoEdad=60\n",
        "nacionalidad=\"mexicana\"\n",
        "if(adultoEdad>=65 and nacionalidad==\"mexicana\"):\n",
        "  print(\"Debido a que tienes +64 años y eres de México, tienes acceso a la pensión\")\n",
        "else:\n",
        "  print(\"Debido a no que tienes +64 años o no eres de México, NO tienes acceso a la pensión\")\n",
        "#or\n",
        "print(\"Trámite, necesitas INE o pasaporte para realizarlo\")\n",
        "INE=\"sí\"\n",
        "pasaporte=\"no\"\n",
        "if(INE==\"sí\" or pasaporte==\"sí\"):\n",
        "  print(\"Debido a que tienes INE o pasaporte, puedes realizarlo\")\n",
        "else:\n",
        "  print(\"Debido a que no tienes INE ni pasaporte, NO puedes realizarlo\")\n",
        "#not\n",
        "decir=False\n",
        "print(\"Todo lo que digas será al revés\",decir)\n",
        "print(\"Si es al revés, será:\",not(decir))\n",
        "\n",
        "#-------Conditions and Branching (External resource) LAB-------\n",
        "print(\"\")\n",
        "#Find the value of i that produces a True:\n",
        "i=100 #Cualquier valor disinto de cero 0\n",
        "print(i)\n",
        "print(\"i!=0\",i!=0)\n",
        "#Find the value of x that prints the statement \"this is a\":\n",
        "x = 'a'\n",
        "print(x)\n",
        "if(x=='a'):\n",
        "    print(\"this is a\")\n",
        "else:\n",
        "    print(\"this is  not a\")\n",
        "#Find the value of y that produces a True statement:\n",
        "y=9 #Cualquier valor menor a 10\n",
        "x=1\n",
        "print(\"y:\",y,\"x:\",x)\n",
        "print(\"x>0 and y<10\",x>0 and y<10)\n"
      ],
      "metadata": {
        "colab": {
          "base_uri": "https://localhost:8080/"
        },
        "id": "8fiLCzc3W9M0",
        "outputId": "a2a1902c-ab00-4990-89a3-5f078b2e2b43"
      },
      "execution_count": null,
      "outputs": [
        {
          "output_type": "stream",
          "name": "stdout",
          "text": [
            "x=5 == y=5 True\n",
            "x=5 == y=6 False\n",
            "x=5 > y=6 False\n",
            "x=5 >= y=6 False\n",
            "x=5 < y=6 True\n",
            "x=5 <= y=6 True\n",
            "x=5 != y=6 True\n",
            "Entrada a establecimiento\n",
            "edad>=18:bar, edad==15:-restaurante solo 15-, edad<15:heladería\n",
            "Puedes entrar al bar porque tienes 18 años o más\n",
            "Esta línea de código es ajena a los casos condicionales anteriores debido a la indentación\n",
            "Pensión adulto mayor\n",
            "Debido a no que tienes +64 años o no eres de México, NO tienes acceso a la pensión\n",
            "Trámite, necesitas INE o pasaporte para realizarlo\n",
            "Debido a que tienes INE o pasaporte, puedes realizarlo\n",
            "Todo lo que digas será al revés False\n",
            "Si es al revés, será: True\n",
            "\n",
            "100\n",
            "i!=0 True\n",
            "a\n",
            "this is a\n",
            "y: 9 x: 1\n",
            "x>0 and y<10 True\n"
          ]
        }
      ]
    },
    {
      "cell_type": "markdown",
      "source": [
        "#### Lab - Conditions and Branching"
      ],
      "metadata": {
        "id": "tyMDo8i2l5aJ"
      }
    },
    {
      "cell_type": "code",
      "source": [
        "#Write an if statement to determine if an album had a rating greater than 8. Test it using the rating for the album “Back in Black” that had a rating of 8.5. If the statement is true print \"This album is Amazing!\"\n",
        "album=\"Back in Black\"\n",
        "rating=8.5\n",
        "if(rating>8):\n",
        "    print(\"This album is Amazing!\",album)\n",
        "#Write an if-else statement that performs the following. If the rating is larger then eight print “this album is amazing”. If the rating is less than or equal to 8 print “this album is ok”.\n",
        "if(rating>8):\n",
        "    print(\"This album is Amazing!\",album)\n",
        "elif(rating<=8):\n",
        "    print(\"this album is ok\",album)\n",
        "#Write an if statement to determine if an album came out before 1980 or in the years: 1991 or 1993. If the condition is true print out the year the album came out.\n",
        "año=1970\n",
        "if(año<1980 or año==1991 or año==1993):\n",
        "    print(\"Antes de 1980 o los años 1991/1993, año:\",año)"
      ],
      "metadata": {
        "colab": {
          "base_uri": "https://localhost:8080/"
        },
        "id": "2-ybjI0ck9L_",
        "outputId": "12d32297-eefd-40b8-f059-6a6072fa9e42"
      },
      "execution_count": null,
      "outputs": [
        {
          "output_type": "stream",
          "name": "stdout",
          "text": [
            "This album is Amazing! Back in Black\n",
            "This album is Amazing! Back in Black\n",
            "Antes de 1980 o los años 1991/1993, año: 1970\n"
          ]
        }
      ]
    },
    {
      "cell_type": "markdown",
      "source": [
        "#### Loops (6:40)\n",
        "- Bucle for. Pueden utilizarse listas o tuplas y ecuta una tarea una y otra vez, hasta llegar a un valor determinado\n",
        "-Bucle while. En lugar de ejecutar un código cierto número de veces, lo hace mientras se cumpla cierta condición, cuando deje de ser verdadera, se detendrá"
      ],
      "metadata": {
        "id": "fhm89g1dyCmQ"
      }
    },
    {
      "cell_type": "code",
      "source": [
        "#FOR\n",
        "cuadros=['rojo','azul','verde','negro']\n",
        "print(cuadros)\n",
        "for i in range(0,4):#range genera una secuencia ordenada\n",
        "  cuadros[i]='blanco' #se cambian los cuadros de colores por blancos\n",
        "  print(cuadros)\n",
        "#sin crear un rango\n",
        "for i,cuad in enumerate(cuadros): #enumerate es una función para iterar datos\n",
        "  print(cuad) #recorre cada elemento en la lista, \n",
        "  print(i) #junto de sus índices\n",
        "\n",
        "#WHILE\n",
        "print(\"\")\n",
        "colores=['azul', 'azul', 'azul', 'rojo', 'azul', 'negro'] \n",
        "print(colores)\n",
        "listaColores=[]\n",
        "j=0\n",
        "print(colores[j]=='azul')\n",
        "while (colores[j]=='azul'): #Suma en una lista los azules hasta que alguno deje de serlo\n",
        "  print(\"Elemento color azul\")\n",
        "  listaColores.append(colores[j]) \n",
        "  print(listaColores) #El total es la cantidad de azules sin interrupción\n",
        "  j+=1 #j=j+1\n",
        "  e=6\n",
        "print(\"\")\n",
        "while e>2:\n",
        "    print(\",e es mayor a 2, e= \" +str(e))\n",
        "    listaColores.append(e)\n",
        "    print(\"Valores que ha tenido e:\",listaColores)\n",
        "    e-=1 #e=e-1\n",
        "\n",
        "#------Loops (External resource) LAB------\n",
        "#Use loops to print out the elements in the list A:\n",
        "A=[3,4,5]\n",
        "for j in A:\n",
        "    print(j)\n",
        "#Find the value of  x  that will print out the sequence  1,2,..,10 :\n",
        "x=11\n",
        "y=1\n",
        "while(y != x):\n",
        "    print(y)\n",
        "    y=y+1\n",
        "#What is the output of the following lines of code:\n",
        "x=3\n",
        "y=1\n",
        "while(y!=x):\n",
        "  print(y)\n",
        "  y=y+1\n"
      ],
      "metadata": {
        "colab": {
          "base_uri": "https://localhost:8080/"
        },
        "id": "icofnq7-yfhp",
        "outputId": "7cac092a-0201-438f-8632-401a9998dea6"
      },
      "execution_count": null,
      "outputs": [
        {
          "output_type": "stream",
          "name": "stdout",
          "text": [
            "['rojo', 'azul', 'verde', 'negro']\n",
            "['blanco', 'azul', 'verde', 'negro']\n",
            "['blanco', 'blanco', 'verde', 'negro']\n",
            "['blanco', 'blanco', 'blanco', 'negro']\n",
            "['blanco', 'blanco', 'blanco', 'blanco']\n",
            "blanco\n",
            "0\n",
            "blanco\n",
            "1\n",
            "blanco\n",
            "2\n",
            "blanco\n",
            "3\n",
            "\n",
            "['azul', 'azul', 'azul', 'rojo', 'azul', 'negro']\n",
            "True\n",
            "Elemento color azul\n",
            "['azul']\n",
            "Elemento color azul\n",
            "['azul', 'azul']\n",
            "Elemento color azul\n",
            "['azul', 'azul', 'azul']\n",
            "\n",
            ",e es mayor a 2, e= 6\n",
            "Valores que ha tenido e: ['azul', 'azul', 'azul', 6]\n",
            ",e es mayor a 2, e= 5\n",
            "Valores que ha tenido e: ['azul', 'azul', 'azul', 6, 5]\n",
            ",e es mayor a 2, e= 4\n",
            "Valores que ha tenido e: ['azul', 'azul', 'azul', 6, 5, 4]\n",
            ",e es mayor a 2, e= 3\n",
            "Valores que ha tenido e: ['azul', 'azul', 'azul', 6, 5, 4, 3]\n",
            "3\n",
            "4\n",
            "5\n",
            "1\n",
            "2\n",
            "3\n",
            "4\n",
            "5\n",
            "6\n",
            "7\n",
            "8\n",
            "9\n",
            "10\n",
            "1\n",
            "2\n"
          ]
        }
      ]
    },
    {
      "cell_type": "markdown",
      "source": [
        "#### Lab - Loops"
      ],
      "metadata": {
        "id": "XXgaNUkM6V3A"
      }
    },
    {
      "cell_type": "code",
      "source": [
        "#Quiz on Loops\n",
        "#Write a for loop the prints out all the element between -5 and 5 using the range function.\n",
        "for i in range(-4,5):\n",
        "    print(i)\n",
        "#Print the elements of the following list: Genres=[ 'rock', 'R&B', 'Soundtrack', 'R&B', 'soul', 'pop'] Make sure you follow Python conventions.\n",
        "Genres=[ 'rock', 'R&B', 'Soundtrack', 'R&B', 'soul', 'pop']\n",
        "n=len(Genres)\n",
        "for j in range(n):\n",
        "    print(Genres[j])\n",
        "#Write a for loop that prints out the following list: squares=['red', 'yellow', 'green', 'purple', 'blue']\n",
        "squares=['red', 'yellow', 'green', 'purple', 'blue']\n",
        "for square in squares:\n",
        "    print(square)\n",
        "#Write a while loop to display the values of the Rating of an album playlist stored in the list PlayListRatings. If the score is less than 6, exit the loop. The list PlayListRatings is given by: PlayListRatings = [10, 9.5, 10, 8, 7.5, 5, 10, 10]\n",
        "j=0\n",
        "PlayListRatings = [10, 9.5, 10, 8, 7.5, 5, 10, 10]\n",
        "while (PlayListRatings[j]>5):\n",
        "    print(PlayListRatings[j])\n",
        "    j=j+1\n",
        "#Write a while loop to copy the strings 'orange' of the list squares to the list new_squares. Stop and exit the loop if the value on the list is not 'orange':\n",
        "squares = ['orange', 'orange', 'purple', 'blue ', 'orange']\n",
        "new_squares = []\n",
        "i=0\n",
        "while (squares[i]=='orange'):\n",
        "    new_squares.append(squares[i])\n",
        "    print(new_squares)\n",
        "    i=i+1\n"
      ],
      "metadata": {
        "colab": {
          "base_uri": "https://localhost:8080/"
        },
        "id": "4Spl1orA6aWs",
        "outputId": "d4ae7b27-2a97-4399-a917-2e6a59a28ab4"
      },
      "execution_count": null,
      "outputs": [
        {
          "output_type": "stream",
          "name": "stdout",
          "text": [
            "-4\n",
            "-3\n",
            "-2\n",
            "-1\n",
            "0\n",
            "1\n",
            "2\n",
            "3\n",
            "4\n",
            "rock\n",
            "R&B\n",
            "Soundtrack\n",
            "R&B\n",
            "soul\n",
            "pop\n",
            "red\n",
            "yellow\n",
            "green\n",
            "purple\n",
            "blue\n",
            "10\n",
            "9.5\n",
            "10\n",
            "8\n",
            "7.5\n",
            "['orange']\n",
            "['orange', 'orange']\n"
          ]
        }
      ]
    },
    {
      "cell_type": "markdown",
      "source": [
        "#### Functions (13:28)\n",
        "Las funciones son código que podemos reutilizar. Python tiene sus propias funciones, pero podemos crear las nuestras\n",
        "- Una función puede tener múltiples parámetros\n",
        "- No pueden tener cuerpo vacío, podemos utilizar la palabra pass como equivalente\n",
        "- Pueden contener bucles\n",
        "- Su documentación suele ir debajo de la declaración de la función, dentro de comillas triples \"\"\" documentación \"\"\"\n",
        "- Con el comando help(nombreFunción) podemos acceder a la documentación de una función\n",
        "\n",
        "Algunas funciones en python:\n",
        "- len(). Donde a partir de la entraad (secuencia, string, lista) se obtiene (salida) su longitud\n",
        "- sum(). Entrega la suma total de todos los elementos que se obtengan en su argumento\n",
        "- sorted(). Organiza progresivamente los elementos en el arreglo y la lista (o arreglo) organizada se guarda en una nueva variable\n",
        "Para la última función, tenemos también el método .sort() el cual reliza la misma computación, pero en lugar de crear una variable nueva, modifica la original, pues se entrega dicha variable para mandar llamar al método variable.sort()\n",
        "\n",
        "Scope. El alcance de una variable es la parte del programa donde dicha variable es accesible\n",
        "- Variable global. Definida fuera de cualquier función (o dentro si se usa la palabra reservada 'global' para definirla) y puede accederse a ella desde cualquier parte, una vez definida\n",
        "- Variable local. Solo existen en el alcance de una función y puedentener el mismo nombre que las gloables sin conflicto"
      ],
      "metadata": {
        "id": "WWUPLzQEIJ8t"
      }
    },
    {
      "cell_type": "code",
      "source": [
        "#Construyendo funciones\n",
        "def sumaUno(entrada):\n",
        "  \"\"\"Suma uno a la entrada\"\"\"\n",
        "  print(\"Su entrada fue de:\",entrada)\n",
        "  return entrada+1\n",
        "print(sumaUno(5))\n",
        "help(sumaUno) #Con el comando help podemos acceder a la documentación de una función\n",
        "#Función que no hace nada. Se usa pass para no tener un cuerpo de la función vacío\n",
        "def noTrabaja():\n",
        "  pass\n",
        "#Con bucles dentro\n",
        "def imprimeSecuenciaOrdenada(secuencia):\n",
        "  for i,s in enumerate(secuencia):\n",
        "    print(\"Valor original:\",s)\n",
        "  secuencia.sort()\n",
        "  print(\"Secuenciaordenada:\")\n",
        "  return secuencia\n",
        "valores=[10,8,6,7,9]\n",
        "imprimeSecuenciaOrdenada(valores)\n",
        "#Colectando argumentos\n",
        "def nombres(*names):\n",
        "  for nom in names:\n",
        "    print(nom)\n",
        "prueba1=['A','B','C']\n",
        "nombres(prueba1)\n",
        "prueba2=['A','B']\n",
        "nombres(prueba2)\n",
        "#Comprobando propiedades de variables locales y globales\n",
        "def afflicted():\n",
        "  fecha=2017\n",
        "  return fecha\n",
        "fecha=2022 #Variable global\n",
        "print(fecha) #Variable global\n",
        "print(afflicted()) #Se manda llamar la función y su variable local\n",
        "#Mandar llamar variables globales en una función\n",
        "def martyrs(y):\n",
        "  print(rating)\n",
        "  return rating+y\n",
        "rating=9\n",
        "print(martyrs(1)) #La función toma rating=9 y le suma 1\n",
        "print(rating) #Se imprime la variable global\n",
        "#Crear una variable global dentro de una función\n",
        "def pinkFloyd():\n",
        "  global ventas\n",
        "  ventas='45 millones'\n",
        "  return ventas\n",
        "print(pinkFloyd()) #Mandamos llamar la función\n",
        "print(ventas) #Mandamos llamar la variable global creada en la función\n",
        "\n",
        "print(\"\")\n",
        "#------Functions (External resource) LAB------\n",
        "#Complete the function  f  so that it returns the product of a and b. Use the next cell to test the function.\n",
        "def f(a,b):\n",
        "    #c=a*b\n",
        "    return a*b #return c\n",
        "#Test the function using the next cell:\n",
        "a=4\n",
        "b=2\n",
        "\n",
        "if a*b==f(a,b):   \n",
        "    print(\"Correct.\")   \n",
        "else:    \n",
        "    print(\"Incorrect.\")\n",
        "#Complete the function g such that the input c is a list of integers and the output is the sum of all the elements in the list.\n",
        "def g(c):\n",
        "    suma=sum(c)\n",
        "    return suma\n",
        "#Test the function using the next cell:\n",
        "c=[1,2,3,4,5]\n",
        "\n",
        "if sum(c)==g(c):   \n",
        "    print(\"Correct.\")   \n",
        "else:    \n",
        "    print(\"Incorrect.\")\n",
        "#What is the value of c after the following block of code is run ?\n",
        "a=1\n",
        "def add(b):\n",
        "  return a+b\n",
        "c=add(10)\n",
        "print(c)\n",
        "#What is the value of c after the following block of code is run with proper numerical input?\n",
        "def f(*x):\n",
        "  return sum(x)\n",
        "print(f(1,5,6,9))\n"
      ],
      "metadata": {
        "colab": {
          "base_uri": "https://localhost:8080/"
        },
        "id": "b7l4LFxSI3XF",
        "outputId": "5bc07b49-77db-4b12-a3e2-47b1263e9649"
      },
      "execution_count": null,
      "outputs": [
        {
          "output_type": "stream",
          "name": "stdout",
          "text": [
            "Su entrada fue de: 5\n",
            "6\n",
            "Help on function sumaUno in module __main__:\n",
            "\n",
            "sumaUno(entrada)\n",
            "    Suma uno a la entrada\n",
            "\n",
            "Valor original: 10\n",
            "Valor original: 8\n",
            "Valor original: 6\n",
            "Valor original: 7\n",
            "Valor original: 9\n",
            "Secuenciaordenada:\n",
            "['A', 'B', 'C']\n",
            "['A', 'B']\n",
            "2022\n",
            "2017\n",
            "9\n",
            "10\n",
            "9\n",
            "45 millones\n",
            "45 millones\n",
            "\n",
            "Correct.\n",
            "Correct.\n",
            "11\n",
            "21\n"
          ]
        }
      ]
    },
    {
      "cell_type": "markdown",
      "source": [
        "#### Labs - Functions"
      ],
      "metadata": {
        "id": "dpM5UllrUAQf"
      }
    },
    {
      "cell_type": "code",
      "source": [
        "#return (None)\n",
        "def ejemploUno():\n",
        "    print('Ejemplo sin None') \n",
        "def ejemploDos():\n",
        "    print('Ejemplo con return(None)')\n",
        "    return(None)\n",
        "print(ejemploUno())\n",
        "print(ejemploDos())\n",
        "#Quiz on Functions\n",
        "#Come up with a function that divides the first input by the second input:\n",
        "def division(a,b):\n",
        "    return a/b\n",
        "#Use the function con for the following question.\n",
        "def con(a, b):\n",
        "    return(a + b)\n",
        "#Can the con function we defined before be used to add two integers or strings?\n",
        "print(con(1,2))\n",
        "print(con(1.1,2.2))\n",
        "#Sí, es posible\n",
        "#Can the con function we defined before be used to concatenate lists or tuples?\n",
        "list1=[1,2,3]\n",
        "list2=[4,5,6]\n",
        "print(con(list1,list2))\n",
        "tuple1=('a',1,1.2)\n",
        "tuple2=('b',2,2.3)\n",
        "print(con(tuple1,tuple2))\n",
        "#Sí, es posible"
      ],
      "metadata": {
        "colab": {
          "base_uri": "https://localhost:8080/"
        },
        "id": "-Zpjo7B2UB9r",
        "outputId": "c9ac9bca-4e54-44b9-dfe8-0dbea087a0a0"
      },
      "execution_count": null,
      "outputs": [
        {
          "output_type": "stream",
          "name": "stdout",
          "text": [
            "Ejemplo sin None\n",
            "None\n",
            "Ejemplo con return(None)\n",
            "None\n",
            "3\n",
            "3.3000000000000003\n",
            "[1, 2, 3, 4, 5, 6]\n",
            "('a', 1, 1.2, 'b', 2, 2.3)\n"
          ]
        }
      ]
    },
    {
      "cell_type": "markdown",
      "source": [
        "#### Object and Classes (10:47)\n",
        "Python tiene diferentes tipos de datos, como int, float, string, list,dictionary, bool. Cada uno deellos es un **objeto**.\n",
        "Cada objeto tiene:\n",
        "- Un tipo\n",
        "- Una representación interna\n",
        "- Conjunto de procedimineto para su interacción (método)\n",
        "Métodos. Son funciones que cada instancia de esa clase otipo provee, es cómo interactuamos con el objeto\n",
        "\n",
        "Una **clase** tiene:\n",
        "- Métodos\n",
        "- Datos de atributos"
      ],
      "metadata": {
        "id": "40vSxT5sq7Ge"
      }
    },
    {
      "cell_type": "code",
      "source": [
        "#Crear una clase\n",
        "class persona(object):\n",
        "  def __init__(self,nombre,edad):\n",
        "    self.nombre=nombre;\n",
        "    self.edad=edad;\n",
        "  def personaInfo(self):\n",
        "    print('Nombre:',nombre)\n",
        "    print('Edad:',edad)\n",
        "nombre='María'\n",
        "edad=20\n",
        "p1=persona(nombre,edad)\n",
        "p1.personaInfo()\n",
        "p1.edad=22\n",
        "p1.personaInfo()\n",
        "#------Object and Classes (External resource) LAB------\n",
        "#You will need the class Car for the next exercises. The class Car has four data attributes: make, model, colour and number of owners (owner_number). The method  car_info()  prints out the data attributes and the method sell() increments the number of owners by 1.\n",
        "print(\"\")\n",
        "class Car(object):\n",
        "    def __init__(self,make,model,color):\n",
        "        self.make=make;\n",
        "        self.model=model;\n",
        "        self.color=color;\n",
        "        self.owner_number=0 \n",
        "    def car_info(self):\n",
        "        print(\"make: \",self.make)\n",
        "        print(\"model:\", self.model)\n",
        "        print(\"color:\",self.color)\n",
        "        print(\"number of owners:\",self.owner_number)\n",
        "    def sell(self):\n",
        "        self.owner_number=self.owner_number+1\n",
        "#Create a  Car  object \"my_car\" with the given data attributes:\n",
        "make=\"BMW\"\n",
        "model=\"M3\"\n",
        "color=\"red\"\n",
        "my_car=Car(make,model,color)\n",
        "#Use the method car_info() to print out the data attributes.\n",
        "my_car.car_info()\n",
        "#Call the method  sell()  in the loop, then call the method  car_info() again\n",
        "for i in range(5):\n",
        "    my_car.sell()\n",
        "my_car.car_info()\n",
        "#Using the Class Car in the lab, create a Car object with the following attributes:\n",
        "car2=Car(make=\"Honda\",model=\"Accord\",color=\"blue\")\n",
        "car2.car_info()\n",
        "car3=Car(\"Honda\",\"Accord\",\"blue\")\n",
        "car3.car_info()\n",
        "car4=Car(model=\"Accord\",make=\"Honda\",color=\"blue\")\n",
        "car4.car_info()\n",
        "#From the lab, how would you change the data attribute owner_number ?\n",
        "#Utilising the method sell()."
      ],
      "metadata": {
        "colab": {
          "base_uri": "https://localhost:8080/"
        },
        "id": "gm7WUPs8q-gH",
        "outputId": "ab9233ef-509e-4c3f-9f71-ac31d00c8f38"
      },
      "execution_count": null,
      "outputs": [
        {
          "output_type": "stream",
          "name": "stdout",
          "text": [
            "Nombre: María\n",
            "Edad: 20\n",
            "Nombre: María\n",
            "Edad: 20\n",
            "\n",
            "make:  BMW\n",
            "model: M3\n",
            "color: red\n",
            "number of owners: 0\n",
            "make:  BMW\n",
            "model: M3\n",
            "color: red\n",
            "number of owners: 5\n",
            "make:  Honda\n",
            "model: Accord\n",
            "color: blue\n",
            "number of owners: 0\n",
            "make:  Honda\n",
            "model: Accord\n",
            "color: blue\n",
            "number of owners: 0\n",
            "make:  Honda\n",
            "model: Accord\n",
            "color: blue\n",
            "number of owners: 0\n"
          ]
        }
      ]
    },
    {
      "cell_type": "markdown",
      "source": [
        "#### Lab - Objects and Classes"
      ],
      "metadata": {
        "id": "JEkI2KxY4aZ8"
      }
    },
    {
      "cell_type": "code",
      "source": [
        "class analysedText(object):\n",
        "    \n",
        "    def __init__ (self, text):\n",
        "        # TODO: Remove the punctuation from <text> and make it lower case.\n",
        "        textoLimpio=text.replace('.','').replace('!','').replace(',','').replace('?','')\n",
        "        textoLimpio=textoLimpio.lower()\n",
        "        # TODO: Assign the formatted text to a new attribute called \"fmtText\"\n",
        "        self.fmtText=textoLimpio\n",
        "        \n",
        "    def freqAll(self):        \n",
        "        # TODO: Split the text into a list of words  \n",
        "        listaPalabras = self.fmtText.split(' ')\n",
        "        # TODO: Create a dictionary with the unique words in the text as keys\n",
        "        # and the number of times they occur in the text as values\n",
        "        diccionario={}\n",
        "        for word in set(listaPalabras): # use set to remove duplicates in list\n",
        "            diccionario[word]=listaPalabras.count(word)\n",
        "        # return the created dictionary\n",
        "        return diccionario\n",
        "    \n",
        "    def freqOf(self,word):\n",
        "        # TODO: return the number of occurrences of <word> in <fmtText>\n",
        "        freqDict = self.freqAll()\n",
        "        if word in freqDict:\n",
        "            return freqDict[word]\n",
        "        else:\n",
        "            return 0\n",
        "import sys\n",
        "\n",
        "sampleMap = {'eirmod': 1,'sed': 1, 'amet': 2, 'diam': 5, 'consetetur': 1, 'labore': 1, 'tempor': 1, 'dolor': 1, 'magna': 2, 'et': 3, 'nonumy': 1, 'ipsum': 1, 'lorem': 2}\n",
        "\n",
        "def testMsg(passed):\n",
        "    if passed:\n",
        "       return 'Test Passed'\n",
        "    else :\n",
        "       return 'Test Failed'\n",
        "\n",
        "print(\"Constructor: \")\n",
        "try:\n",
        "    samplePassage = analysedText(\"Lorem ipsum dolor! diam amet, consetetur Lorem magna. sed diam nonumy eirmod tempor. diam et labore? et diam magna. et diam amet.\")\n",
        "    print(testMsg(samplePassage.fmtText == \"lorem ipsum dolor diam amet consetetur lorem magna sed diam nonumy eirmod tempor diam et labore et diam magna et diam amet\"))\n",
        "except:\n",
        "    print(\"Error detected. Recheck your function \" )\n",
        "print(\"freqAll: \")\n",
        "try:\n",
        "    wordMap = samplePassage.freqAll()\n",
        "    print(testMsg(wordMap==sampleMap))\n",
        "except:\n",
        "    print(\"Error detected. Recheck your function \" )\n",
        "print(\"freqOf: \")\n",
        "try:\n",
        "    passed = True\n",
        "    for word in sampleMap:\n",
        "        if samplePassage.freqOf(word) != sampleMap[word]:\n",
        "            passed = False\n",
        "            break\n",
        "    print(testMsg(passed))\n",
        "    \n",
        "except:\n",
        "    print(\"Error detected. Recheck your function  \" )\n",
        "    "
      ],
      "metadata": {
        "colab": {
          "base_uri": "https://localhost:8080/"
        },
        "id": "GYnFVJmI4bZL",
        "outputId": "4f510dfb-9e26-45b8-c2e1-96a181b4d32b"
      },
      "execution_count": null,
      "outputs": [
        {
          "output_type": "stream",
          "name": "stdout",
          "text": [
            "Constructor: \n",
            "Test Passed\n",
            "freqAll: \n",
            "Test Passed\n",
            "freqOf: \n",
            "Test Passed\n"
          ]
        }
      ]
    },
    {
      "cell_type": "markdown",
      "source": [
        "#### Lab - Exception Handling"
      ],
      "metadata": {
        "id": "pfkRGBam72Ew"
      }
    },
    {
      "cell_type": "code",
      "source": [
        "a = 1\n",
        "\n",
        "try:\n",
        "    b = int(input(\"Please enter a number to divide a\"))\n",
        "    a = a/b\n",
        "except ZeroDivisionError:\n",
        "    print(\"The number you provided cant divide 1 because it is 0\")\n",
        "except ValueError:\n",
        "    print(\"You did not provide a number\")\n",
        "except:\n",
        "    print(\"Something went wrong\")\n",
        "else:\n",
        "    print(\"success a=\",a)\n",
        "finally:\n",
        "    print(\"Processing Complete\")"
      ],
      "metadata": {
        "colab": {
          "base_uri": "https://localhost:8080/"
        },
        "id": "mNUvdHHh720Z",
        "outputId": "47573424-460d-49bb-ab29-3390122f84c4"
      },
      "execution_count": null,
      "outputs": [
        {
          "output_type": "stream",
          "name": "stdout",
          "text": [
            "Please enter a number to divide ak\n",
            "You did not provide a number\n",
            "Processing Complete\n"
          ]
        }
      ]
    },
    {
      "cell_type": "markdown",
      "source": [
        "#### Review Questions"
      ],
      "metadata": {
        "id": "89SRzNdr9AR8"
      }
    },
    {
      "cell_type": "code",
      "source": [
        "#What is the output of the following lines of code:\n",
        "x=1\n",
        "if(x!=1):\n",
        "  print('Hello')\n",
        "else:\n",
        "  print('Hi')\n",
        "print('Mike')\n",
        "#What is the output of the following few lines of code?\n",
        "A = ['1','2','3']\n",
        "for a in A:\n",
        "  print(2*a)\n",
        "#Consider the function Delta, when will the function return a value of 1\n",
        "def Delta(x):\n",
        "  if x==0:\n",
        "    y=1;\n",
        "  else:\n",
        "    y=0;\n",
        "  return(y)\n",
        "#When the input is 0.\n",
        "#What is the correct way to sort the list 'B' using a method? The result should not return a new list, just change the list 'B'.\n",
        "#B.sort()\n",
        "#What are the keys of the following dictionary: {'a':1,'b':2}?\n",
        "#a,b"
      ],
      "metadata": {
        "colab": {
          "base_uri": "https://localhost:8080/"
        },
        "id": "inIH0k-v9Hm9",
        "outputId": "221d3a99-6d23-4089-97f5-4071d015b382"
      },
      "execution_count": null,
      "outputs": [
        {
          "output_type": "stream",
          "name": "stdout",
          "text": [
            "Hi\n",
            "Mike\n",
            "11\n",
            "22\n",
            "33\n"
          ]
        }
      ]
    },
    {
      "cell_type": "markdown",
      "source": [
        "# Módulo 4"
      ],
      "metadata": {
        "id": "dfvhdyBfgY_D"
      }
    },
    {
      "cell_type": "markdown",
      "source": [
        "#### Reading Files with Open (3:39)"
      ],
      "metadata": {
        "id": "tmnytdSYoQSU"
      }
    },
    {
      "cell_type": "code",
      "source": [
        "archivo=open(\"archivoOpen.txt\",'w') #Se genera al compilar esta línea\n",
        "archivo.write('Primera línea\\nSegunda línea\\nTercera línea\\nCuarta línea') #Escribimos en el archivo de texto\n",
        "print(archivo.name) #Nombre del archivo\n",
        "print(archivo.mode) #Modo en que se abre el archivo\n",
        "archivo.close() #Cerramos el archivo\n",
        "with open('archivoOpen.txt','r') as doc1: #Se abre con la declaración with para que cierre automático, esta vez en modo lectuta\n",
        "  conte=doc1.read()\n",
        "  print(conte) #Imprimimos su lectura\n",
        "print(\"\")\n",
        "with open('archivoOpen.txt','r') as doc2: \n",
        "  for lineas in doc2: \n",
        "    print(lineas) #Imprimos el contenido con un bucle for\n",
        "print(\"\")\n",
        "with open('archivoOpen.txt','r') as doc3:\n",
        "  l1=doc3.readline()\n",
        "  print(l1) #Imprimimos línea por línea manualmente\n",
        "  l2=doc3.readline()\n",
        "  print(l2)\n",
        "  l3=doc3.readline()\n",
        "  print(l3)\n",
        "  l4=doc3.readline()\n",
        "  print(l4)\n",
        "print(\"\")\n",
        "with open('archivoOpen.txt','r') as doc4:\n",
        "  print(doc4.read(4)) #Primeros 4 caracteres\n",
        "  print(doc4.read(8)) #Siguientes 8\n",
        "  print(doc4.read(16)) #Siguientes 16\n"
      ],
      "metadata": {
        "id": "qNjw9qof9FO2",
        "colab": {
          "base_uri": "https://localhost:8080/"
        },
        "outputId": "a3caaa52-39b6-4553-99ae-714f166ede44"
      },
      "execution_count": null,
      "outputs": [
        {
          "output_type": "stream",
          "name": "stdout",
          "text": [
            "archivoOpen.txt\n",
            "w\n",
            "Primera línea\n",
            "Segunda línea\n",
            "Tercera línea\n",
            "Cuarta línea\n",
            "\n",
            "Primera línea\n",
            "\n",
            "Segunda línea\n",
            "\n",
            "Tercera línea\n",
            "\n",
            "Cuarta línea\n",
            "\n",
            "Primera línea\n",
            "\n",
            "Segunda línea\n",
            "\n",
            "Tercera línea\n",
            "\n",
            "Cuarta línea\n",
            "\n",
            "Prim\n",
            "era líne\n",
            "a\n",
            "Segunda línea\n",
            "\n"
          ]
        }
      ]
    },
    {
      "cell_type": "markdown",
      "source": [
        "#### Lab - Reading Files"
      ],
      "metadata": {
        "id": "naqcha9rKLqj"
      }
    },
    {
      "cell_type": "code",
      "source": [
        "arc=open(\"archivo2.txt\",'w') #Se genera al compilar esta línea\n",
        "arc.write('Hoy\\nes\\ndía\\nmartes') #Escribimos en el archivo de texto\n",
        "arc.close()\n",
        "with open('archivo2.txt','r') as doc5:\n",
        "  contenidoF=doc5.read()\n",
        "  print(contenidoF)\n",
        "with open('archivo2.txt','r') as doc6:\n",
        "  cac1=doc6.readline(1)\n",
        "  print('Primer caracter:',cac1)\n",
        "with open('archivo2.txt','r') as doc7:\n",
        "  listaLineas=doc7.readlines()\n",
        "  print(listaLineas[0]) #Primera línea por índice\n",
        "  print(listaLineas[1]) #Segunda\n",
        "  print(listaLineas[2]) #Tercera\n",
        "  print(listaLineas[3]) #Cuarta"
      ],
      "metadata": {
        "colab": {
          "base_uri": "https://localhost:8080/"
        },
        "id": "fSpxW5IyKQHX",
        "outputId": "aced825a-e33f-40c8-ecef-68ddc8d9581f"
      },
      "execution_count": null,
      "outputs": [
        {
          "output_type": "stream",
          "name": "stdout",
          "text": [
            "Hoy\n",
            "es\n",
            "día\n",
            "martes\n",
            "Primer caracter: H\n",
            "Hoy\n",
            "\n",
            "es\n",
            "\n",
            "día\n",
            "\n",
            "martes\n"
          ]
        }
      ]
    },
    {
      "cell_type": "markdown",
      "source": [
        "#### Writing Files with Open (2:50)"
      ],
      "metadata": {
        "id": "oUroqCcBfQ8K"
      }
    },
    {
      "cell_type": "code",
      "source": [
        "#Debido a que en la sección anterior necesitaba un archivo que se pudiera crear, abrir y escribir\n",
        "#al compilar la sección de código desde cualquier sitio, tuve que investigar cómo hacerlo antes de\n",
        "#esta sección, por lo que se añaden ejemplos específicos de lo venía en el vídeo\n",
        "#Crear un archivo txt y escribir en él\n",
        "lineas=['Hoy\\n','es\\n','21\\n','septiembre\\n','2022\\n'] #Lista para añadir texto en el archivo\n",
        "with open('archivoNuevo.txt','w') as docA: #Creamos un archivo en modo escritura\n",
        "  for linea in lineas:\n",
        "    docA.write(linea) #Usamos un bucle for para escribir cada línea de la lista en docA\n",
        "#Leer un archivo\n",
        "with open('archivoNuevo.txt','r') as docA: #Abrimos el archivo tal como fue creado, solo que en modo lectura ('r')\n",
        "  print(docA.read()) #Leemos e imprimimos el contenido de docA para verificar que se escribió la lista\n",
        "#Añadir una nueva línea a un archivo existente\n",
        "with open('archivoNuevo.txt','a') as docA: #Abrimos el mismo txt pero en modo apprend ('a')\n",
        "  docA.write('Es miércoles') #De forma que podemos añadir una nueva línea al contenido actual\n",
        "with open('archivoNuevo.txt','r') as docA: #Abrimos el txt en modo lectura\n",
        "  print(docA.read()) #Para comprobar que la última línea fue añadida\n",
        "#Copiar el contenido de un archivo en otro\n",
        "print(\"\")\n",
        "with open('archivoNuevo.txt','r') as docA: #Abrimos como lectura la información que vamos a pasar\n",
        "  with open('archivoClonado.txt','w') as docClonado: #Creamos el archivo que recibe la información\n",
        "    for line in docA:\n",
        "      docClonado.write(line) #Escribimos como antes cada línea de código con un for\n",
        "with open('archivoClonado.txt','r') as docClonado:\n",
        "  print(docClonado.read()) #Comprobamos que la información se copió"
      ],
      "metadata": {
        "colab": {
          "base_uri": "https://localhost:8080/"
        },
        "id": "JsjBA1kVffA2",
        "outputId": "3dc0ec8f-f443-4d9d-c0e9-bf25560be849"
      },
      "execution_count": null,
      "outputs": [
        {
          "output_type": "stream",
          "name": "stdout",
          "text": [
            "Hoy\n",
            "es\n",
            "21\n",
            "septiembre\n",
            "2022\n",
            "\n",
            "Hoy\n",
            "es\n",
            "21\n",
            "septiembre\n",
            "2022\n",
            "Es miércoles\n",
            "\n",
            "Hoy\n",
            "es\n",
            "21\n",
            "septiembre\n",
            "2022\n",
            "Es miércoles\n"
          ]
        }
      ]
    },
    {
      "cell_type": "markdown",
      "source": [
        "#### Lab - Writing Files\n",
        "- r+ : Reading and writing. Cannot truncate the file.\n",
        "- w+ : Writing and reading. Truncates the file (sobreescribe la información existente)\n",
        "- a+ : Appending and Reading. Creates a new file, if none exists.\n",
        "Se puede usar el método .truncate() con r+ y a+ para reducir el archivo a neustros datos y eliminar todo lo que siga"
      ],
      "metadata": {
        "id": "bOTuegWk9YZm"
      }
    },
    {
      "cell_type": "code",
      "source": [
        "#Run this prior to starting the exercise\n",
        "from random import randint as rnd\n",
        "\n",
        "memReg = 'members.txt'\n",
        "exReg = 'inactive.txt'\n",
        "fee =('yes','no')\n",
        "\n",
        "def genFiles(current,old):\n",
        "    with open(current,'w+') as writefile: \n",
        "        writefile.write('Membership No  Date Joined  Active  \\n')\n",
        "        data = \"{:^13}  {:<11}  {:<6}\\n\"\n",
        "\n",
        "        for rowno in range(20):\n",
        "            date = str(rnd(2015,2020))+ '-' + str(rnd(1,12))+'-'+str(rnd(1,25))\n",
        "            writefile.write(data.format(rnd(10000,99999),date,fee[rnd(0,1)]))\n",
        "\n",
        "\n",
        "    with open(old,'w+') as writefile: \n",
        "        writefile.write('Membership No  Date Joined  Active  \\n')\n",
        "        data = \"{:^13}  {:<11}  {:<6}\\n\"\n",
        "        for rowno in range(3):\n",
        "            date = str(rnd(2015,2020))+ '-' + str(rnd(1,12))+'-'+str(rnd(1,25))\n",
        "            writefile.write(data.format(rnd(10000,99999),date,fee[1]))\n",
        "\n",
        "\n",
        "genFiles(memReg,exReg)\n",
        "#Exercise: Implement the cleanFiles function in the code cell below.\n",
        "'''\n",
        "The two arguments for this function are the files:\n",
        "    - currentMem: File containing list of current members\n",
        "    - exMem: File containing list of old members\n",
        "    \n",
        "    This function should remove all rows from currentMem containing 'no' \n",
        "    in the 'Active' column and appends them to exMem.\n",
        "    '''\n",
        "def cleanFiles(currentMem, exMem):\n",
        "    #    # TODO: Open the currentMem file as in r+ mode\n",
        "    with open(currentMem,'r+') as escritura: \n",
        "        #TODO: Open the exMem file in a+ mode\n",
        "        with open(exMem,'a+') as anexado:\n",
        "            #get the data\n",
        "            escritura.seek(0)\n",
        "            miembros=escritura.readlines()\n",
        "            #remove header\n",
        "            header=miembros[0]\n",
        "            miembros.pop(0)\n",
        "                \n",
        "            inactivo=[member for member in miembros if ('no' in member)]\n",
        "            '''\n",
        "            The above is the same as \n",
        "\n",
        "            for member in miembros:\n",
        "            if 'no' in member:\n",
        "                inactivo.append(member)\n",
        "            '''\n",
        "            #go to the beginning of the write file\n",
        "            escritura.seek(0) \n",
        "            escritura.write(header)\n",
        "            for member in miembros:\n",
        "                if (member in inactivo):\n",
        "                    anexado.write(member)\n",
        "                else:\n",
        "                    escritura.write(member)      \n",
        "            escritura.truncate()\n",
        "        # If a member is inactive, add them to exMem, otherwise write them into currentMem \n",
        "      \n",
        "# The code below is to help you view the files.\n",
        "# Do not modify this code for this exercise.\n",
        "memReg = 'members.txt'\n",
        "exReg = 'inactive.txt'\n",
        "cleanFiles(memReg,exReg)\n",
        "\n",
        "\n",
        "headers = \"Membership No  Date Joined  Active  \\n\"\n",
        "with open(memReg,'r') as readFile:\n",
        "    print(\"Active Members: \\n\\n\")\n",
        "    print(readFile.read())\n",
        "    \n",
        "with open(exReg,'r') as readFile:\n",
        "    print(\"Inactive Members: \\n\\n\")\n",
        "    print(readFile.read())\n",
        "def testMsg(passed):\n",
        "    if passed:\n",
        "       return 'Test Passed'\n",
        "    else :\n",
        "       return 'Test Failed'\n",
        "\n",
        "testWrite = \"testWrite.txt\"\n",
        "testAppend = \"testAppend.txt\" \n",
        "passed = True\n",
        "\n",
        "genFiles(testWrite,testAppend)\n",
        "\n",
        "with open(testWrite,'r') as file:\n",
        "    ogWrite = file.readlines()\n",
        "\n",
        "with open(testAppend,'r') as file:\n",
        "    ogAppend = file.readlines()\n",
        "\n",
        "try:\n",
        "    cleanFiles(testWrite,testAppend)\n",
        "except:\n",
        "    print('Error')\n",
        "\n",
        "with open(testWrite,'r') as file:\n",
        "    clWrite = file.readlines()\n",
        "\n",
        "with open(testAppend,'r') as file:\n",
        "    clAppend = file.readlines()\n",
        "        \n",
        "# checking if total no of rows is same, including headers\n",
        "\n",
        "if (len(ogWrite) + len(ogAppend) != len(clWrite) + len(clAppend)):\n",
        "    print(\"The number of rows do not add up. Make sure your final files have the same header and format.\")\n",
        "    passed = False\n",
        "    \n",
        "for line in clWrite:\n",
        "    if  'no' in line:\n",
        "        passed = False\n",
        "        print(\"Inactive members in file\")\n",
        "        break\n",
        "    else:\n",
        "        if line not in ogWrite:\n",
        "            print(\"Data in file does not match original file\")\n",
        "            passed = False\n",
        "print (\"{}\".format(testMsg(passed)))\n",
        "    "
      ],
      "metadata": {
        "colab": {
          "base_uri": "https://localhost:8080/"
        },
        "id": "mexV1Aen9b0P",
        "outputId": "0fe2bbc2-f323-4d68-cae2-b8d797386685"
      },
      "execution_count": null,
      "outputs": [
        {
          "output_type": "stream",
          "name": "stdout",
          "text": [
            "Active Members: \n",
            "\n",
            "\n",
            "Membership No  Date Joined  Active  \n",
            "    51602      2018-10-19   yes   \n",
            "    80052      2016-4-13    yes   \n",
            "    20837      2018-1-8     yes   \n",
            "    53302      2017-11-13   yes   \n",
            "    62028      2016-1-7     yes   \n",
            "    56447      2020-5-3     yes   \n",
            "    12756      2018-10-13   yes   \n",
            "    10130      2017-3-14    yes   \n",
            "    57630      2016-4-10    yes   \n",
            "    72867      2016-11-20   yes   \n",
            "    84677      2018-1-10    yes   \n",
            "\n",
            "Inactive Members: \n",
            "\n",
            "\n",
            "Membership No  Date Joined  Active  \n",
            "    46417      2017-6-18    no    \n",
            "    65000      2015-6-18    no    \n",
            "    78701      2019-12-24   no    \n",
            "    27246      2019-3-6     no    \n",
            "    87908      2015-7-24    no    \n",
            "    89348      2017-5-11    no    \n",
            "    62495      2017-11-1    no    \n",
            "    25452      2019-1-5     no    \n",
            "    57761      2015-3-21    no    \n",
            "    14437      2015-10-16   no    \n",
            "    33614      2020-2-9     no    \n",
            "    47505      2015-8-2     no    \n",
            "\n",
            "Test Passed\n"
          ]
        }
      ]
    },
    {
      "cell_type": "markdown",
      "source": [
        "#### Loading Data with Pandas (4:07)\n",
        "Las dependencias o librerías son código escritos con anterioridad que nos ayudan a resolver problemas.\n",
        "Pandas es una librería popular para el análisis de datos"
      ],
      "metadata": {
        "id": "3WQdK7R9Tpc2"
      }
    },
    {
      "cell_type": "code",
      "source": [
        "import pandas as pd #Importamos la librería de pandas\n",
        "#Creamos un diccionario para utilizarlo como archivo\n",
        "caract={'Letras':['A','B','C','D','E','F'],\n",
        "        'Años':[1995,1996,1997,1998,1999,2000],\n",
        "        'Numeros':['uno','dos','tres','cuatro','cinco','seis']}\n",
        "#Cast de diccionario a DataFrame\n",
        "df=pd.DataFrame(caract)\n",
        "print(type(df))\n",
        "print(df.head()) #Muestra las primeras 5 filas\n",
        "#Comandos ejemplo para leer archivos. \n",
        "#Leyendo csv\n",
        "#file_csv='tabla1.csv'\n",
        "#df1=pd.read_csv(file_csv)\n",
        "#Leyendo Excel\n",
        "#tabla_xlsx='tabla2.xlsx'\n",
        "#df2=pd.read_excel(tabla_xlsx)\n",
        "#Indexación\n",
        "l=df[['Letras']] #Por nombre de columna\n",
        "print(\"Algunas letras son:\",l)\n",
        "lm=df[['Letras','Años']]\n",
        "print(\"Columnas múltiples:\\n\",lm)\n",
        "#Aunque se muestra en el vídeo, .ix ya no está disponible\n",
        "#en versiones actuales de pandas\n",
        "#En su lugar se usa .iloc o .loc\n",
        "#Extraer ciertos elementos\n",
        "print(df.iloc[:,1]) #Todos los elementos de la segunda columna (índice 1)\n",
        "print(df.iloc[1,1]) #Segunda fila, segunda columna\n",
        "print(df.loc[:,'Letras']) #Todos los elementos, columna 'Letras'\n",
        "print(df.loc[0,'Letras']) #Primer elemento columna 'Letras'\n",
        "#------Loading Data with Pandas (External resource) LAB------\n",
        "print(\"\")\n",
        "#You will use the dataframe df for the following:\n",
        "df=pd.DataFrame({'a':[11,21,31],'b':[21,22,23]})\n",
        "#Display the first three rows:\n",
        "print(df.head(3))\n",
        "#Obtain column  'a' :\n",
        "print(df['a'])"
      ],
      "metadata": {
        "colab": {
          "base_uri": "https://localhost:8080/"
        },
        "id": "zCnLa7I9T3ik",
        "outputId": "11d3fb7c-9376-463a-9818-73f1bd5b036c"
      },
      "execution_count": null,
      "outputs": [
        {
          "output_type": "stream",
          "name": "stdout",
          "text": [
            "<class 'pandas.core.frame.DataFrame'>\n",
            "  Letras  Años Numeros\n",
            "0      A  1995     uno\n",
            "1      B  1996     dos\n",
            "2      C  1997    tres\n",
            "3      D  1998  cuatro\n",
            "4      E  1999   cinco\n",
            "Algunas letras son:   Letras\n",
            "0      A\n",
            "1      B\n",
            "2      C\n",
            "3      D\n",
            "4      E\n",
            "5      F\n",
            "Columnas múltiples:\n",
            "   Letras  Años\n",
            "0      A  1995\n",
            "1      B  1996\n",
            "2      C  1997\n",
            "3      D  1998\n",
            "4      E  1999\n",
            "5      F  2000\n",
            "0    1995\n",
            "1    1996\n",
            "2    1997\n",
            "3    1998\n",
            "4    1999\n",
            "5    2000\n",
            "Name: Años, dtype: int64\n",
            "1996\n",
            "0    A\n",
            "1    B\n",
            "2    C\n",
            "3    D\n",
            "4    E\n",
            "5    F\n",
            "Name: Letras, dtype: object\n",
            "A\n",
            "\n",
            "    a   b\n",
            "0  11  21\n",
            "1  21  22\n",
            "2  31  23\n",
            "0    11\n",
            "1    21\n",
            "2    31\n",
            "Name: a, dtype: int64\n"
          ]
        }
      ]
    },
    {
      "cell_type": "markdown",
      "source": [
        "#### Working with and Saving Data with Pandas (2:02)"
      ],
      "metadata": {
        "id": "7DMZ-RLvq_Li"
      }
    },
    {
      "cell_type": "code",
      "source": [
        "caract={'Letras':['A','B','C','D','E','F'],\n",
        "        'Años':[1995,1996,1997,1998,1999,2000],\n",
        "        'Numeros':['uno','dos','tres','cuatro','cinco','seis']}\n",
        "df=pd.DataFrame(caract)\n",
        "print(df)\n",
        "print(\"\")\n",
        "print(df.iloc[2:5,1]) #Indexación de varios elementos consecutivos\n",
        "print(\"\")\n",
        "print(df['Años']<1998) #Arreglo booleano empleando operadores lógicos\n",
        "x=df[df['Años']<1998] #Para conservar solo los elementos cuya condición=True\n",
        "print(\"\")\n",
        "print(x) #Nuevo dataframe con las filas donde el año es menor a 1998\n",
        "x.to_csv('Menorque1998.csv')  #El df se exporta o guarda como csv\n",
        "print(\"\")\n",
        "print(\"Se lee el csv creado en la línea anterior:\")\n",
        "df1=pd.read_csv('/content/Menorque1998.csv')\n",
        "print(df1)\n",
        "#------Working with and Saving Data with Pandas (External resource) LAB------\n",
        "#You will use the dataframe df for the following:\n",
        "df=pd.DataFrame({'a':[1,2,1],'b':[1,1,1]})\n",
        "#Find the unique values in column  'a' :\n",
        "print(df['a'].unique())\n",
        "#Return a dataframe with only the rows where column  a  is less than two:\n",
        "newDF=df[df['a']<2]\n",
        "print(newDF)\n",
        "#Consider the dataframe\n",
        "df=pd.DataFrame({'a':[1,2,1],'b':[1,1,1]})\n",
        "#What type does the following return: df['a']==1 ?\n",
        "#bool\n",
        "#What task does the following method perform: df.to_csv(\"file.csv\")?\n",
        "#Save a dataframe to a csv file."
      ],
      "metadata": {
        "colab": {
          "base_uri": "https://localhost:8080/"
        },
        "id": "n4dgMu9Goyuj",
        "outputId": "a58a999b-b1b0-4f6f-9cd7-5b492d6beb71"
      },
      "execution_count": null,
      "outputs": [
        {
          "output_type": "stream",
          "name": "stdout",
          "text": [
            "  Letras  Años Numeros\n",
            "0      A  1995     uno\n",
            "1      B  1996     dos\n",
            "2      C  1997    tres\n",
            "3      D  1998  cuatro\n",
            "4      E  1999   cinco\n",
            "5      F  2000    seis\n",
            "\n",
            "2    1997\n",
            "3    1998\n",
            "4    1999\n",
            "Name: Años, dtype: int64\n",
            "\n",
            "0     True\n",
            "1     True\n",
            "2     True\n",
            "3    False\n",
            "4    False\n",
            "5    False\n",
            "Name: Años, dtype: bool\n",
            "\n",
            "  Letras  Años Numeros\n",
            "0      A  1995     uno\n",
            "1      B  1996     dos\n",
            "2      C  1997    tres\n",
            "\n",
            "Se lee el csv creado en la línea anterior:\n",
            "   Unnamed: 0 Letras  Años Numeros\n",
            "0           0      A  1995     uno\n",
            "1           1      B  1996     dos\n",
            "2           2      C  1997    tres\n",
            "[1 2]\n",
            "   a  b\n",
            "0  1  1\n",
            "2  1  1\n",
            "<class 'pandas.core.series.Series'>\n"
          ]
        }
      ]
    },
    {
      "cell_type": "markdown",
      "source": [
        "#### Lab - Loading Data and Viewing Data"
      ],
      "metadata": {
        "id": "RJhYsn773ciy"
      }
    },
    {
      "cell_type": "code",
      "source": [
        "#Quiz on DataFrame\n",
        "#Para esta parte, se descargó el csv del laboratorio y se subió a los archivos\n",
        "#El archivo se encuentra en https://cf-courses-data.s3.us.cloud-object-storage.appdomain.cloud/IBMDeveloperSkillsNetwork-PY0101EN-SkillsNetwork/labs/Module%204/data/TopSellingAlbums.csv\n",
        "df = pd.read_csv(\"TopSellingAlbums.csv\")\n",
        "#Use a variable q to store the column Rating as a dataframe\n",
        "q=df[['Rating']]\n",
        "print(type(q))\n",
        "print(q)\n",
        "#Assign the variable q to the dataframe that is made up of the column Released and Artist:\n",
        "q=df[['Released','Artist']]\n",
        "print(q)\n",
        "#Access the 2nd row and the 3rd column of df:\n",
        "print(df.iloc[1,2])\n",
        "#Use the following list to convert the dataframe index df to characters and assign it to df_new; find the element corresponding to the row index a and column 'Artist'. Then select the rows a through d for the column 'Artist'\n",
        "new_index=['a','b','c','d','e','f','g','h']\n",
        "df_new=df\n",
        "df_new.index=new_index\n",
        "df_new.loc['a','Artist']\n",
        "df_new.loc['a':'d','Artist']"
      ],
      "metadata": {
        "colab": {
          "base_uri": "https://localhost:8080/"
        },
        "id": "k3F1oVqp3elR",
        "outputId": "3031ee97-b0df-4b85-80a5-eea03ea4c0a6"
      },
      "execution_count": null,
      "outputs": [
        {
          "output_type": "stream",
          "name": "stdout",
          "text": [
            "<class 'pandas.core.frame.DataFrame'>\n",
            "   Rating\n",
            "0    10.0\n",
            "1     9.5\n",
            "2     9.0\n",
            "3     8.5\n",
            "4     8.0\n",
            "5     7.5\n",
            "6     7.0\n",
            "7     6.5\n",
            "   Released           Artist\n",
            "0      1982  Michael Jackson\n",
            "1      1980            AC/DC\n",
            "2      1973       Pink Floyd\n",
            "3      1992  Whitney Houston\n",
            "4      1977        Meat Loaf\n",
            "5      1976           Eagles\n",
            "6      1977         Bee Gees\n",
            "7      1977    Fleetwood Mac\n",
            "1980\n"
          ]
        },
        {
          "output_type": "execute_result",
          "data": {
            "text/plain": [
              "a    Michael Jackson\n",
              "b              AC/DC\n",
              "c         Pink Floyd\n",
              "d    Whitney Houston\n",
              "Name: Artist, dtype: object"
            ]
          },
          "metadata": {},
          "execution_count": 54
        }
      ]
    },
    {
      "cell_type": "markdown",
      "source": [
        "#### Review Questions"
      ],
      "metadata": {
        "id": "74XeALcu-ndn"
      }
    },
    {
      "cell_type": "code",
      "source": [
        "#What do the following lines of code do?\n",
        "#with open(\"Example1.txt\",\"r\") as file1:\n",
        "  #FileContent=file1.readlines()\n",
        "  #print(FileContent)\n",
        "#ANS: Read the file \"Example1.txt\".\n",
        "#What do the following lines of code do?\n",
        "#with open(\"Example2.txt\",\"w\") as writefile:\n",
        "  #writefile.write(\"This is line A\\n\")\n",
        "  #writefile.write(\"This is line B\\n\")\n",
        "#ANS: Write to the file \"Example2.txt\".\n",
        "#What do the following lines of code do?\n",
        "#with open(\"Example3.txt\",\"a\") as file1:\n",
        "  #file1.write(\"This is line C\\n\")\n",
        "#ANS: Append the file \"Example3.txt\".\n",
        "#What is the result of applying the following method df.head() to the dataframe \"df\"?\n",
        "#ANS: Prints the first 5 rows of the dataframe."
      ],
      "metadata": {
        "id": "B7Igl3Vi-pBd"
      },
      "execution_count": 11,
      "outputs": []
    },
    {
      "cell_type": "markdown",
      "source": [
        "# Módulo 5"
      ],
      "metadata": {
        "id": "bxKJEKbM4QoU"
      }
    },
    {
      "cell_type": "markdown",
      "source": [
        "#### Numpy 1D Arrays (11:19)"
      ],
      "metadata": {
        "id": "UOfdEp-w4gzu"
      }
    },
    {
      "cell_type": "code",
      "source": [
        "import numpy as np\n",
        "import matplotlib.pyplot as plt #Se importa la librería para graficar\n",
        "%matplotlib inline\n",
        "#Básicos\n",
        "lista=[1,2,3,4,5,6]\n",
        "print(lista)\n",
        "print(type(lista))\n",
        "npArreglo=np.array(lista) #Cast de lista a arreglo numpy\n",
        "print(npArreglo)\n",
        "print(type(npArreglo)) #Se comprueba que no es una lista, sino arreglo numpy\n",
        "print(npArreglo.dtype) #Tipos de dats de los elementos en el arreglo numpy\n",
        "print(npArreglo.size) #Tamaño del arreglo, cantidad de elementos\n",
        "print(npArreglo.ndim) #Dimensiones del arreglo, \n",
        "print(npArreglo.shape) #Tupla de enteros que indica el tamaño del arreglo en cada dimensión\n",
        "print(\"\")\n",
        "#Indexación y asignación\n",
        "npArreglo[0]=10 #Elemento de índice cero se cambia por 10\n",
        "npArreglo[3:5]=40,50 #Se asignan nuevos valores a los elementos de índice 4-5 en el arreglo\n",
        "print(npArreglo)\n",
        "print(\"\")\n",
        "#Suma y resta con vectores\n",
        "a=[1,2]\n",
        "b=[3,4]\n",
        "c=[]\n",
        "#Computación tradicional\n",
        "for n,m in zip(a,b): #Los métodos tradicionals requieren más código\n",
        "  c.append(a+b) #Mayor computación y memoria\n",
        "print(c)\n",
        "#Con numpy\n",
        "a=np.array(a) #Cast\n",
        "b=np.array(b)\n",
        "c=a+b\n",
        "d=a-b\n",
        "print(c)\n",
        "print(d)\n",
        "print(\"\")\n",
        "#Multiplicando un arreglo por escalar\n",
        "e=a*2 #a ya es un arreglo numpy\n",
        "asuma=a+4\n",
        "print('a:',a)\n",
        "print('a*2:',e)\n",
        "print('a+4',asuma)\n",
        "#Producto de dos arreglos\n",
        "ab=a*b\n",
        "print('a*b:',ab)\n",
        "#Producto punto\n",
        "resultado=np.dot(a,b)\n",
        "print(resultado)\n",
        "print(\"\")\n",
        "#Operaciones universales\n",
        "promC=c.mean()\n",
        "print('c:',c)\n",
        "print('promedio de c:',promC)\n",
        "print('pi:',np.pi)\n",
        "lin=np.linspace(-1,np.pi,10) #Arreglo espaciado de forma uniforme que va de -1 al valor de pi, \n",
        "print(lin) #con 10 elementos\n",
        "linSin=np.sin(lin)\n",
        "print(linSin) #Se obtiene el seno de lin\n",
        "print(\"\")\n",
        "#Graficando funciones matemáticas\n",
        "plt.plot(lin,linSin)\n",
        "\n",
        "print(\"\")\n",
        "#------Numpy 1D Array (External resource) LAB------\n",
        "#Cast the following list to a numpy array:\n",
        "a=[1,2,3,4,5]\n",
        "x=np.array(a)\n",
        "#Find the type of x using the function type().\n",
        "print(type(x))\n",
        "#Find the shape of the array:\n",
        "print(x.shape)\n",
        "#Find the type of data in the array:\n",
        "print(x.dtype)\n",
        "#Find the mean of the array:\n",
        "print(x.mean())\n",
        "#What is the result of the following operation: np.array([1,-1])*np.array([1,1])?\n",
        "np.array([1,-1])*np.array([1,1])\n",
        "#What is the result of the following operation: np.dot(np.array([1,-1]),np.array([1,1]))?\n",
        "np.dot(np.array([1,-1]),np.array([1,1]))"
      ],
      "metadata": {
        "colab": {
          "base_uri": "https://localhost:8080/",
          "height": 890
        },
        "id": "SvsQvC1q7lPf",
        "outputId": "065481e0-cffc-460a-8de8-1da12140b561"
      },
      "execution_count": null,
      "outputs": [
        {
          "output_type": "stream",
          "name": "stdout",
          "text": [
            "[1, 2, 3, 4, 5, 6]\n",
            "<class 'list'>\n",
            "[1 2 3 4 5 6]\n",
            "<class 'numpy.ndarray'>\n",
            "int64\n",
            "6\n",
            "1\n",
            "(6,)\n",
            "\n",
            "[10  2  3 40 50  6]\n",
            "\n",
            "[[1, 2, 3, 4], [1, 2, 3, 4]]\n",
            "[4 6]\n",
            "[-2 -2]\n",
            "\n",
            "a: [1 2]\n",
            "a*2: [2 4]\n",
            "a+4 [5 6]\n",
            "a*b: [3 8]\n",
            "11\n",
            "\n",
            "c: [4 6]\n",
            "promedio de c: 5.0\n",
            "pi: 3.141592653589793\n",
            "[-1.         -0.53982304 -0.07964608  0.38053088  0.84070785  1.30088481\n",
            "  1.76106177  2.22123873  2.68141569  3.14159265]\n",
            "[-8.41470985e-01 -5.13984202e-01 -7.95618979e-02  3.71413431e-01\n",
            "  7.45115394e-01  9.63794493e-01  9.81954069e-01  7.95815984e-01\n",
            "  4.44106667e-01  1.22464680e-16]\n",
            "\n",
            "\n",
            "<class 'numpy.ndarray'>\n",
            "(5,)\n",
            "int64\n",
            "3.0\n"
          ]
        },
        {
          "output_type": "execute_result",
          "data": {
            "text/plain": [
              "0"
            ]
          },
          "metadata": {},
          "execution_count": 54
        },
        {
          "output_type": "display_data",
          "data": {
            "text/plain": [
              "<Figure size 432x288 with 1 Axes>"
            ],
            "image/png": "[encoded data removed]"
          },
          "metadata": {
            "needs_background": "light"
          }
        }
      ]
    },
    {
      "cell_type": "markdown",
      "source": [
        "#### Lab - Working with 1D Numpy Arrays"
      ],
      "metadata": {
        "id": "Y64OoOs1UGlu"
      }
    },
    {
      "cell_type": "code",
      "source": [
        "import numpy as np\n",
        "import matplotlib.pyplot as plt #Se importa la librería para graficar\n",
        "%matplotlib inline\n",
        "print(np.__version__) #Versión de la librería pandas\n",
        "#Try it yourself\n",
        "#Check the type of the array and Value type for the given array b\n",
        "b = np.array([3.1, 11.02, 6.2, 213.2, 5.2])\n",
        "print(b.dtype)\n",
        "#Assign the value 20 for the second element in the given array.\n",
        "a = np.array([10, 2, 30, 40,50])\n",
        "print(a)\n",
        "a[1]=20\n",
        "print(a)\n",
        "#We can also define the steps in slicing, like this: [start:end:step].\n",
        "#Print the even elements in the given array.\n",
        "arr = np.array([1, 2, 3, 4, 5, 6, 7, 8])\n",
        "print(arr[1:8:2])\n",
        "print('max arr:',np.max(arr))\n",
        "print('min arr:',np.min(arr))\n",
        "print('std arr:',np.std(arr))\n",
        "#Find the size ,dimension and shape for the given array b\n",
        "b = np.array([10, 20, 30, 40, 50, 60, 70])\n",
        "print(b.size)\n",
        "print(b.ndim)\n",
        "print(b.shape)\n",
        "#Find the sum of maximum and minimum value in the given numpy array\n",
        "c = np.array([-10, 201, 43, 94, 502])\n",
        "mi=np.min(c)\n",
        "ma=np.max(c)\n",
        "suma=mi+ma\n",
        "print('min:',mi,'max:',ma,'min+msx:',suma)\n",
        "#Perform addition operation on the given numpy array arr1 and arr2:\n",
        "arr1 = np.array([10, 11, 12, 13, 14, 15])\n",
        "arr2 = np.array([20, 21, 22, 23, 24, 25])\n",
        "arr3 = np.add(arr1, arr2)\n",
        "print(arr3)\n",
        "print(arr1+arr2) #.add = +\n",
        "#Perform subtraction operation on the given numpy array arr1 and arr2:\n",
        "arr1 = np.array([10, 20, 30, 40, 50, 60])\n",
        "arr2 = np.array([20, 21, 22, 23, 24, 25])\n",
        "arr3 = np.subtract(arr1, arr2)\n",
        "print(arr3)\n",
        "print(arr1-arr2) #subtract = -\n",
        "#Perform multiply operation on the given numpy array arr1 and arr2:\n",
        "arr1 = np.array([10, 20, 30, 40, 50, 60])\n",
        "arr2 = np.array([2, 1, 2, 3, 4, 5])\n",
        "arr3 = np.multiply(arr1, arr2)\n",
        "print(arr3)\n",
        "#Perform division operation on the given numpy array arr1 and arr2:\n",
        "arr1 = np.array([10, 20, 30, 40, 50, 60])\n",
        "arr2 = np.array([3, 5, 10, 8, 2, 33])\n",
        "arr3 = np.divide(arr1, arr2)\n",
        "print(arr3)\n",
        "#Perform dot operation on the given numpy array ar1 and ar2:\n",
        "arr1 = np.array([3, 5])\n",
        "arr2 = np.array([2, 4])\n",
        "arr3 = np.dot(arr1, arr2)\n",
        "print(arr3)\n",
        "#Add Constant 5 to the given numpy array ar:\n",
        "arr = np.array([1, 2, 3, -1]) \n",
        "print(arr+5)\n",
        "#Make a numpy array within [5, 4] and 6 elements\n",
        "na=np.linspace(5,4,6) #No es obligatorio usar la palabra num=\n",
        "print(na)\n",
        "print(np.linspace(5,4,num=6)) \n",
        "#------Quiz on 1D Numpy Array------\n",
        "#Implement the following vector subtraction in numpy: u-v\n",
        "u = np.array([1, 0])\n",
        "v = np.array([0, 1])\n",
        "print('u-v:',u-v,'np.subtract(u,v):',np.subtract(u,v))\n",
        "#Multiply the numpy array z with -2:\n",
        "z = np.array([2, 4])\n",
        "print('z*-2:',z*-2)\n",
        "#Consider the list [1, 2, 3, 4, 5] and [1, 0, 1, 0, 1]. Cast both lists to a numpy array then multiply them together:\n",
        "print(np.array([1, 2, 3, 4, 5])*np.array([1, 0, 1, 0, 1]))\n",
        "print(np.multiply(np.array([1, 2, 3, 4, 5]),np.array([1, 0, 1, 0, 1]))) \n",
        "#Recordemos que para las operaciones básicas podemos usar las palabras reservadas en la librería pandas\n",
        "#O usar directamente los operadores\n",
        "\n",
        "print(\"\")\n",
        "# Import the libraries\n",
        "\n",
        "import time \n",
        "import sys  \n",
        "\n",
        "def Plotvec2(a,b):\n",
        "    ax = plt.axes()# to generate the full window axes\n",
        "    ax.arrow(0, 0, *a, head_width=0.05, color ='r', head_length=0.1)#Add an arrow to the  a Axes with arrow head width 0.05, color red and arrow head length 0.1\n",
        "    plt.text(*(a + 0.1), 'a')\n",
        "    ax.arrow(0, 0, *b, head_width=0.05, color ='b', head_length=0.1)#Add an arrow to the  b Axes with arrow head width 0.05, color blue and arrow head length 0.1\n",
        "    plt.text(*(b + 0.1), 'b')\n",
        "    plt.ylim(-2, 2)#set the ylim to bottom(-2), top(2)\n",
        "    plt.xlim(-2, 2)#set the xlim to left(-2), right(2)\n",
        "#Convert the list [-1, 1] and [1, 1] to numpy arrays a and b. Then, plot the arrays as vectors using the fuction Plotvec2 and find their dot product:\n",
        "a=np.array([-1, 1])\n",
        "b=np.array([1, 1])\n",
        "Plotvec2(a,b)\n",
        "print('Producto punto:',np.dot(a,b))\n",
        "#Convert the list [1, 0] and [0, 1] to numpy arrays a and b. Then, plot the arrays as vectors using the function Plotvec2 and find their dot product:\n",
        "a=np.array([1,0])\n",
        "b=np.array([0,1])\n",
        "Plotvec2(a,b) #Las gráficas se sobreponen\n",
        "print('Producto punto:',np.dot(a,b))\n",
        "#Convert the list [1, 1] and [0, 1] to numpy arrays a and b. Then plot the arrays as vectors using the fuction Plotvec2 and find their dot product:\n",
        "a=np.array([1,1])\n",
        "b=np.array([0,1])\n",
        "Plotvec2(a,b)\n",
        "print('Producto punto:',np.dot(a,b))\n",
        "#Convert the list [1, 2, 3] and [8, 9, 10] to numpy arrays arr1 and arr2. Then perform Addition , Subtraction , Multiplication , Division and Dot Operation on the arr1 and arr2\n",
        "arr1=np.array([1, 2, 3])\n",
        "arr2=np.array([8, 9, 10])\n",
        "print('Addition',np.add(arr1,arr2))\n",
        "print('Subtraction',np.subtract(arr1,arr2))\n",
        "print('Multiplication',np.multiply(arr1,arr2))\n",
        "print('Division',np.divide(arr1,arr2))\n",
        "print('Dot Operation',np.dot(arr1,arr2))\n",
        "#Convert the list [1, 2, 3, 4, 5] and [6, 7, 8, 9, 10] to numpy arrays arr1 and arr2. Then find the even and odd numbers from arr1 and arr2.\n",
        "arr1=np.array([1, 2, 3, 4, 5])\n",
        "arr2=np.array([6, 7, 8, 9, 10])\n",
        "print('pares arr1:',arr1[0:6:3],'pares arr2:',arr2[0:6:2]) #Formas\n",
        "print('pares arr1:',arr1[1:8:2],'pares arr2:',arr2[0:8:2]) #equivalentes"
      ],
      "metadata": {
        "colab": {
          "base_uri": "https://localhost:8080/",
          "height": 949
        },
        "id": "R2YjzY2nUKVG",
        "outputId": "7d4a9c44-190d-4b02-91b2-8acfb017095c"
      },
      "execution_count": null,
      "outputs": [
        {
          "output_type": "stream",
          "name": "stdout",
          "text": [
            "1.21.6\n",
            "float64\n",
            "[10  2 30 40 50]\n",
            "[10 20 30 40 50]\n",
            "[2 4 6 8]\n",
            "max arr: 8\n",
            "min arr: 1\n",
            "std arr: 2.29128784747792\n",
            "7\n",
            "1\n",
            "(7,)\n",
            "min: -10 max: 502 min+msx: 492\n",
            "[30 32 34 36 38 40]\n",
            "[30 32 34 36 38 40]\n",
            "[-10  -1   8  17  26  35]\n",
            "[-10  -1   8  17  26  35]\n",
            "[ 20  20  60 120 200 300]\n",
            "[ 3.33333333  4.          3.          5.         25.          1.81818182]\n",
            "26\n",
            "[6 7 8 4]\n",
            "[5.  4.8 4.6 4.4 4.2 4. ]\n",
            "[5.  4.8 4.6 4.4 4.2 4. ]\n",
            "u-v: [ 1 -1] np.subtract(u,v): [ 1 -1]\n",
            "z*-2: [-4 -8]\n",
            "[1 0 3 0 5]\n",
            "[1 0 3 0 5]\n",
            "\n",
            "Producto punto: 0\n",
            "Producto punto: 0\n",
            "Producto punto: 1\n",
            "Addition [ 9 11 13]\n",
            "Subtraction [-7 -7 -7]\n",
            "Multiplication [ 8 18 30]\n",
            "Division [0.125      0.22222222 0.3       ]\n",
            "Dot Operation 56\n",
            "pares arr1: [1 4] pares arr2: [ 6  8 10]\n",
            "pares arr1: [2 4] pares arr2: [ 6  8 10]\n"
          ]
        },
        {
          "output_type": "stream",
          "name": "stderr",
          "text": [
            "/usr/local/lib/python3.7/dist-packages/ipykernel_launcher.py:87: MatplotlibDeprecationWarning: Adding an axes using the same arguments as a previous axes currently reuses the earlier instance.  In a future version, a new instance will always be created and returned.  Meanwhile, this warning can be suppressed, and the future behavior ensured, by passing a unique label to each axes instance.\n"
          ]
        },
        {
          "output_type": "display_data",
          "data": {
            "text/plain": [
              "<Figure size 432x288 with 1 Axes>"
            ],
            "image/png": "[encoded data removed]"
          },
          "metadata": {
            "needs_background": "light"
          }
        }
      ]
    },
    {
      "cell_type": "markdown",
      "source": [
        "#### Numpy 2D Arrays (7:08)"
      ],
      "metadata": {
        "id": "UJyDunKYgQCq"
      }
    },
    {
      "cell_type": "code",
      "source": [
        "import numpy as np\n",
        "#Básicos\n",
        "lista_a=[[11,12,13],[21,22,23],[31,32,33]] \n",
        "print(lista_a)\n",
        "#Cast de lista a arreglo numpy 2D\n",
        "numpy_2D=np.array(lista_a)\n",
        "print(numpy_2D)\n",
        "print('Dimensiones:',numpy_2D.ndim) #Se refiere a la anidación de listas\n",
        "print('Tupla con dimensiones:',numpy_2D.shape)\n",
        "print('Cantidad de elementos:',numpy_2D.size)\n",
        "\n",
        "print(\"\")\n",
        "#Indexar\n",
        "print('Obtenemos el valor 32 (tercer fila, segundo elemento):',numpy_2D[2][1])\n",
        "#Debemos recordar que los índices inician en cero, por lo que si queremos\n",
        "#el valor 32 (tercer fila, segundo elemento, su índice será ese valor -1\n",
        "print('Obtenemos el valor 21 (segunda fila, primer elemento):',numpy_2D[1][0])\n",
        "print('Obtenemos los valores 11,12 (primera fila, primer y segundo elemento):',numpy_2D[0,0:2])\n",
        "#De igual forma, cuando mandamos llamar con índices en slicing, no se toca el último, \n",
        "#es decir, ese mismo elemento -1\n",
        "print('Obtenemos los valores 32,33 (última fila, segundo y tercer elemento):',numpy_2D[2,1:3])\n",
        "\n",
        "print(\"\")\n",
        "#Suma y resta\n",
        "a=np.array([[1,2],[3,4]])\n",
        "b=np.array([[5,6],[7,8]])\n",
        "print('a:',a,'b:',b)\n",
        "print('a+b:',a+b) #Se suma elemento por elemento\n",
        "print('a-b:',a-b) #Se resta elemento por elemento\n",
        "\n",
        "print(\"\")\n",
        "#Multiplicación\n",
        "print('a*b:',a*b) #Se multiplica elemento por elemento\n",
        "#Multipicación matricial\n",
        "print('Matriz a * matriz b:',np.dot(a,b)) #Se obtiene el producto punto a*b\n",
        "#Para multiplicar matrices, debemos asegurarnos que la cantidad de filas de la matriz a\n",
        "#es del mismo tamaño que la cantidad de columnas de la matriz b\n",
        "\n",
        "print(\"\")\n",
        "#------Numpy 2D Arrays (External resource) LAB------\n",
        "#You will use the numpy array A for the following questions.\n",
        "A=np.array([[11,12],[21,22],[31,32]])\n",
        "#Find the type of x using the function type().\n",
        "print(type(A))\n",
        "#Find the shape of the array:\n",
        "print(A.shape)\n",
        "#Find the type of data in the array:\n",
        "print(A.dtype)\n",
        "#Find the second row of the numpy array A:\n",
        "print(A[1])\n",
        "#You will use the following numpy arrays for the next questions:\n",
        "A=np.array([[11,12],[21,22]])\n",
        "B=np.array([[1, 0],[0,1]])\n",
        "#Multiply array A and B.\n",
        "print('A*B:',A*B)\n",
        "#Perform matrix multiplication on array A and B (order will not matter in this case).\n",
        "print('Producto punto de A*B, multiplicación matricial:',np.dot(A,B))\n",
        "#How many rows are in the following numpy array?\n",
        "A = np.array([[1,2],[3,4],[5,6],[7,8]])\n",
        "print(A.shape)\n",
        "#Is it possible to perform the following operation?\n",
        "print(\"\")\n",
        "A = np.array([[1,2],[3,4],[5,6],[7,8]])\n",
        "B = np.array([[1,2,3],[4,5,6],[7,8,9]])\n",
        "print(A.shape)\n",
        "print(B.shape)\n",
        "#print(np.dot(A,B)) #No\n",
        "#Se observa que no se tiene la misma cantidad de filas en A que columnas en B"
      ],
      "metadata": {
        "colab": {
          "base_uri": "https://localhost:8080/"
        },
        "id": "fLc_oGj0gSqT",
        "outputId": "f62fefdc-c310-4f40-a89b-3617aac10998"
      },
      "execution_count": null,
      "outputs": [
        {
          "output_type": "stream",
          "name": "stdout",
          "text": [
            "[[11, 12, 13], [21, 22, 23], [31, 32, 33]]\n",
            "[[11 12 13]\n",
            " [21 22 23]\n",
            " [31 32 33]]\n",
            "Dimensiones: 2\n",
            "Tupla con dimensiones: (3, 3)\n",
            "Cantidad de elementos: 9\n",
            "\n",
            "Obtenemos el valor 32 (tercer fila, segundo elemento): 32\n",
            "Obtenemos el valor 21 (segunda fila, primer elemento): 21\n",
            "Obtenemos los valores 11,12 (primera fila, primer y segundo elemento): [11 12]\n",
            "Obtenemos los valores 32,33 (última fila, segundo y tercer elemento): [32 33]\n",
            "\n",
            "a: [[1 2]\n",
            " [3 4]] b: [[5 6]\n",
            " [7 8]]\n",
            "a+b: [[ 6  8]\n",
            " [10 12]]\n",
            "a-b: [[-4 -4]\n",
            " [-4 -4]]\n",
            "\n",
            "a*b: [[ 5 12]\n",
            " [21 32]]\n",
            "Matriz a * matriz b: [[19 22]\n",
            " [43 50]]\n",
            "\n",
            "<class 'numpy.ndarray'>\n",
            "(3, 2)\n",
            "int64\n",
            "[21 22]\n",
            "A*B: [[11  0]\n",
            " [ 0 22]]\n",
            "Producto punto de A*B, multiplicación matricial: [[11 12]\n",
            " [21 22]]\n",
            "(4, 2)\n",
            "(4, 2)\n",
            "(3, 3)\n"
          ]
        }
      ]
    },
    {
      "cell_type": "markdown",
      "source": [
        "#### Lab - Working with 2D Numpy Arrays"
      ],
      "metadata": {
        "id": "1xX_mSM_TiNQ"
      }
    },
    {
      "cell_type": "code",
      "source": [
        "#Quiz on 2D Numpy Array\n",
        "#Consider the following list a, convert it to Numpy Array.\n",
        "a = [[1, 2, 3, 4], [5, 6, 7, 8], [9, 10, 11, 12]]\n",
        "A=np.array(a)\n",
        "print(A)\n",
        "#Calculate the numpy array size.\n",
        "print(A.size)\n",
        "#Access the element on the first row and first and second columns.\n",
        "# Write your code below and press Shift+Enter to execute\n",
        "print(A[0][0:2])\n",
        "print(A[0,0:2])\n",
        "#Perform matrix multiplication with the numpy arrays A and B.\n",
        "B = np.array([[0, 1], [1, 0], [1, 1], [-1, 0]])\n",
        "print('multiplicación matricial A*B:',np.dot(A,B))"
      ],
      "metadata": {
        "colab": {
          "base_uri": "https://localhost:8080/"
        },
        "id": "823jU1QPTkY9",
        "outputId": "eaa6e472-e72c-458c-d83f-dff81f0fde48"
      },
      "execution_count": null,
      "outputs": [
        {
          "output_type": "stream",
          "name": "stdout",
          "text": [
            "[[ 1  2  3  4]\n",
            " [ 5  6  7  8]\n",
            " [ 9 10 11 12]]\n",
            "12\n",
            "[1 2]\n",
            "[1 2]\n",
            "multiplicación matricial A*B: [[ 1  4]\n",
            " [ 5 12]\n",
            " [ 9 20]]\n"
          ]
        }
      ]
    },
    {
      "cell_type": "markdown",
      "source": [
        "#### Simple APIs - Part 1 (5:45)\n",
        "Un API oermite a dos piezas de software hablar o comunicarse entre sí.\n",
        "Pandas es de hecho un conjunto de componentes de software, no está escrito en Python, por lo tanto podemos usar el API de pandas para comunicar nuestro programa con sus componentes de software.\n",
        "\n",
        "**REST APIs**\n",
        "Es un tipo popular de API que nos permite comunicarnos a través del internet, lo que nos da más ventajas, como almacenamiento, acceder a más datos, algortimos de IA, etc.\n",
        "REpresentational State Transfer APIs (REST)\n",
        "HTTP es una forma de transmitir datos (método) a través de internet. Un mensaje HTTP suele contener un archivo JSON (que es como un diccionario) que son instrucciones para la operación que seamos el servidor ejecute.\n",
        "\n",
        "**nba_api:** \n",
        "API escrita por Swar Patel. En lugar de emplear un archivo tipo JSON, usa un ID, que es único (key)."
      ],
      "metadata": {
        "id": "ShedmABOV5as"
      }
    },
    {
      "cell_type": "code",
      "source": [
        "import pandas as pd\n",
        "car={'Letras':['A','B','C','D','E','F'],\n",
        "        'Años':[1995,1996,1997,1998,1999,2000],\n",
        "        'Numeros':['uno','dos','tres','cuatro','cinco','seis']}\n",
        "df=pd.DataFrame(car)\n",
        "#Cuando creamos un objeto de pandas con el cosntructor DataFrame,\n",
        "#se crea una instancia y usamos ese df para comunicarnos \n",
        "print(df)\n",
        "!pip install nba_api #Instala nba_api. Comentar si ya se ha hecho antes\n",
        "from nba_api.stats.static import teams #Importamos los equipos\n",
        "equiposNBA=teams.get_teams() #Asignamos los equipos a una variable\n",
        "equiposNBA[:5]\n",
        "def dicTable(ld): #Se crea una función para convertir el diccionario a tabla\n",
        "  keys=ld[0].keys()\n",
        "  salida={key:[]for key in keys}\n",
        "  for entrada in ld:\n",
        "    for key,value in entrada.items():\n",
        "      salida[key].append(value)\n",
        "  return salida\n",
        "dicNBA=dicTable(equiposNBA)\n",
        "equiposNBA=pd.DataFrame(dicNBA) #Se utiliza la función para convertir el diccionario a una lista\n",
        "equiposNBA.head() #Se imprimen los primeros 5 elementos\n",
        "dfWarriors=equiposNBA[equiposNBA['nickname']=='Warriors']\n",
        "print(dfWarriors)\n",
        "idW=dfWarriors[['id']].values[0][0] #Indexación de la columna id, primer elemento\n",
        "print(idW)\n",
        "\n",
        "from nba_api.stats.endpoints import (leaguegamefinder)\n",
        "gf=leaguegamefinder.LeagueGameFinder(team_id_nullable=idW) #NBA API hace una solicitud HTTP, que se transmite a NBA.com\n",
        "juegos=gf.get_data_frames()[0] #Se asigna su respuesa, que es un df\n",
        "juegos.head() \n",
        "ghome=juegos[juegos['MATCHUP']=='GSW vs. TOR']\n",
        "gaway=juegos[juegos['MATCHUP']=='GSW @ TOR']\n",
        "#print('Juegos en casa:',ghome,'Juegos fuera:',gaway)\n",
        "import matplotlib.pyplot as plt\n",
        "fig,ax=plt.subplots()\n",
        "gaway.plot(x='GAME_DATE',y='PLUS_MINUS',ax=ax)\n",
        "ghome.plot(x='GAME_DATE',y='PLUS_MINUS',ax=ax)\n",
        "ax.legend(['fuera','casa'])\n",
        "plt.show()\n",
        "print('Observamos que Warriors tienen un mejor desempeño en casa')"
      ],
      "metadata": {
        "colab": {
          "base_uri": "https://localhost:8080/",
          "height": 645
        },
        "id": "5wF7YqeNV75o",
        "outputId": "0b2498a6-481b-4159-85b4-07cb2d1d3cab"
      },
      "execution_count": null,
      "outputs": [
        {
          "output_type": "stream",
          "name": "stdout",
          "text": [
            "  Letras  Años Numeros\n",
            "0      A  1995     uno\n",
            "1      B  1996     dos\n",
            "2      C  1997    tres\n",
            "3      D  1998  cuatro\n",
            "4      E  1999   cinco\n",
            "5      F  2000    seis\n",
            "Looking in indexes: https://pypi.org/simple, https://us-python.pkg.dev/colab-wheels/public/simple/\n",
            "Requirement already satisfied: nba_api in /usr/local/lib/python3.7/dist-packages (1.1.11)\n",
            "Requirement already satisfied: requests in /usr/local/lib/python3.7/dist-packages (from nba_api) (2.23.0)\n",
            "Requirement already satisfied: chardet<4,>=3.0.2 in /usr/local/lib/python3.7/dist-packages (from requests->nba_api) (3.0.4)\n",
            "Requirement already satisfied: urllib3!=1.25.0,!=1.25.1,<1.26,>=1.21.1 in /usr/local/lib/python3.7/dist-packages (from requests->nba_api) (1.24.3)\n",
            "Requirement already satisfied: idna<3,>=2.5 in /usr/local/lib/python3.7/dist-packages (from requests->nba_api) (2.10)\n",
            "Requirement already satisfied: certifi>=2017.4.17 in /usr/local/lib/python3.7/dist-packages (from requests->nba_api) (2022.6.15)\n",
            "           id              full_name abbreviation  nickname          city  \\\n",
            "7  1610612744  Golden State Warriors          GSW  Warriors  Golden State   \n",
            "\n",
            "        state  year_founded  \n",
            "7  California          1946  \n",
            "1610612744\n"
          ]
        },
        {
          "output_type": "display_data",
          "data": {
            "text/plain": [
              "<Figure size 432x288 with 1 Axes>"
            ],
            "image/png": "[encoded data removed]"
          },
          "metadata": {
            "needs_background": "light"
          }
        },
        {
          "output_type": "stream",
          "name": "stdout",
          "text": [
            "Observamos que Warriors tienen un mejor desempeño en casa\n"
          ]
        }
      ]
    },
    {
      "cell_type": "markdown",
      "source": [
        "#### Simple APIs - Part 2 (5:01)\n",
        "**Postrequest** Mandamos una copia al API del archivo a procesar\n",
        "**API keys y Endpoints**\n",
        "- Key. Es una forma de acceder a la API. Un conjunto único de caracteres que la API usa para identificarnos y autorizarnos\n",
        "- Endpoints. Es la ubicación del servicio, se usa para encontrar al API en internet, tal como una dirección web"
      ],
      "metadata": {
        "id": "xOW2WHTfvBYP"
      }
    },
    {
      "cell_type": "code",
      "source": [
        "!pip install ibm_watson wget\n",
        "from ibm_watson import SpeechToTextV1 #Importamos desde ibm\n",
        "from ibm_watson import LanguageTranslatorV3 #Importamos desde ibm\n",
        "url_s2t='https://stream.watsonplatform.net/speech-to-text/api'\n",
        "key_s2t='EOeiZxxxDxV2xxxxxxxxxxxxxxxxxjYen9SKARKW-'\n",
        "url_t='https://gateway.watsonplatform.net/language-translator/api'\n",
        "key_t='dU2SaxxxxxxxxxxxxxxxasdfCuasdf'\n",
        "#Los ejemplos en el vídeo están enfocados a ejemplos de API\n",
        "#que utilizan algún tipo de IA\n",
        "#El ejemplo se deja hasta ese punto porque se requieren más recursos\n",
        "#como crear y usar una cuenta en la nube de IBM\n",
        "#Sin embargo, se entiende la demostración de cómo procesamos llaves para \n",
        "#acceder a al API y cómo lo encontramos también"
      ],
      "metadata": {
        "id": "_ICTVjbgvDhe",
        "colab": {
          "base_uri": "https://localhost:8080/"
        },
        "outputId": "3ad7b09f-6235-4826-bd67-59d294fb2d9a"
      },
      "execution_count": 19,
      "outputs": [
        {
          "output_type": "stream",
          "name": "stdout",
          "text": [
            "Looking in indexes: https://pypi.org/simple, https://us-python.pkg.dev/colab-wheels/public/simple/\n",
            "Requirement already satisfied: ibm_watson in /usr/local/lib/python3.7/dist-packages (6.1.0)\n",
            "Requirement already satisfied: wget in /usr/local/lib/python3.7/dist-packages (3.2)\n",
            "Requirement already satisfied: websocket-client==1.1.0 in /usr/local/lib/python3.7/dist-packages (from ibm_watson) (1.1.0)\n",
            "Requirement already satisfied: requests<3.0,>=2.0 in /usr/local/lib/python3.7/dist-packages (from ibm_watson) (2.28.1)\n",
            "Requirement already satisfied: ibm-cloud-sdk-core==3.*,>=3.3.6 in /usr/local/lib/python3.7/dist-packages (from ibm_watson) (3.16.0)\n",
            "Requirement already satisfied: python-dateutil>=2.5.3 in /usr/local/lib/python3.7/dist-packages (from ibm_watson) (2.8.2)\n",
            "Requirement already satisfied: urllib3<2.0.0,>=1.26.0 in /usr/local/lib/python3.7/dist-packages (from ibm-cloud-sdk-core==3.*,>=3.3.6->ibm_watson) (1.26.12)\n",
            "Requirement already satisfied: PyJWT<3.0.0,>=2.4.0 in /usr/local/lib/python3.7/dist-packages (from ibm-cloud-sdk-core==3.*,>=3.3.6->ibm_watson) (2.5.0)\n",
            "Requirement already satisfied: six>=1.5 in /usr/local/lib/python3.7/dist-packages (from python-dateutil>=2.5.3->ibm_watson) (1.15.0)\n",
            "Requirement already satisfied: certifi>=2017.4.17 in /usr/local/lib/python3.7/dist-packages (from requests<3.0,>=2.0->ibm_watson) (2022.6.15)\n",
            "Requirement already satisfied: idna<4,>=2.5 in /usr/local/lib/python3.7/dist-packages (from requests<3.0,>=2.0->ibm_watson) (2.10)\n",
            "Requirement already satisfied: charset-normalizer<3,>=2 in /usr/local/lib/python3.7/dist-packages (from requests<3.0,>=2.0->ibm_watson) (2.1.1)\n"
          ]
        }
      ]
    },
    {
      "cell_type": "markdown",
      "source": [
        "#### Lab - HTTP and Requests\n",
        "**URL (Uniform Resource Locator)**. Es la forma más común de encontrar recursos en la web, que a su vez podemos dividir en:\n",
        "- Esquema (scheme). Protocolo http://\n",
        "- Dirección de internet o base URL. www.ejemplo.com\n",
        "- Ruta (route). Ubicación en el servidor web /images/logo.png\n",
        "\n",
        "Cuando hacemos una solicitud, recibimos una respuesta de vuelta y en ese mensaje se nos indica un estatus, los cuales vamos a interpretar por códigos. Algunos son:\n",
        "- 200: ok\n",
        "- 300: Multiples choises\n",
        "- 401: Unauthorized\n",
        "- 403: Forbidden\n",
        "- 404: Non found\n",
        "- 1xx: Informational\n",
        "- 2xx: Success\n",
        "- 3xx: Redirection\n",
        "- 4xx: Client error\n",
        "Donde el prefijo indica la clase"
      ],
      "metadata": {
        "id": "EQayvoTGnPxo"
      }
    },
    {
      "cell_type": "code",
      "source": [
        "#Para importarla librería de Python correspondiente a las solicitudes:\n",
        "import requests\n",
        "#Librerías necesarias\n",
        "import os \n",
        "from PIL import Image\n",
        "from IPython.display import IFrame\n",
        "#Question 1: write  wget\n",
        "#In the previous section, we used the wget function to retrieve content from the web server as shown below. \n",
        "#Write the python code to perform the same task. The code should be the same as the one used to download the image, \n",
        "#but the file name should be 'Example1.txt'.\n",
        "url='https://cf-courses-data.s3.us.cloud-object-storage.appdomain.cloud/IBMDeveloperSkillsNetwork-PY0101EN-SkillsNetwork/labs/Module%205/data/Example1.txt'\n",
        "path=os.path.join(os.getcwd(),'example1.txt')\n",
        "r=requests.get(url)\n",
        "with open(path,'wb') as f:\n",
        "    f.write(r.content)\n",
        "print(r.status_code) #print(r)\n",
        "print(\"Conforme los códigos de estatus, vemos que 200=ok\")\n",
        "print(r.text) #Imprimimos el texto contenido en el url\n",
        "print(r.text[0:20]) #Se imprimen solo los primeros 20 caracteres\n",
        "print(r.request.headers)\n",
        "print(\"request body:\", r.request.body) #No hay cuerpo en la solicitud\n",
        "header=r.headers\n",
        "print(r.headers) #Retorna un diccionario de Python con los encabezados de respuesta\n",
        "print(header['date']) #Fecha de la solicitud\n",
        "print(header['Content-Type']) #Retorna el tipo de datos del contenido\n",
        "print(r.encoding) #Tipo de cifrado\n",
        "print(\"\")\n",
        "#Obtener una imagen\n",
        "url='https://cf-courses-data.s3.us.cloud-object-storage.appdomain.cloud/IBMDeveloperSkillsNetwork-PY0101EN-SkillsNetwork/IDSNlogo.png' #Ubicación\n",
        "r=requests.get(url) #Solicitud\n",
        "#Una imagen es un objeto de respuesta que contiene la imagen, por lo que\n",
        "#debemos guardarlo usando un objeto de archivo\n",
        "path=os.path.join(os.getcwd(),'image.png') \n",
        "path\n",
        "with open(path,'wb') as f: #Guardamos el archivo con la función open y el método write\n",
        "    f.write(r.content) #Usamos el atributo content para acceder al cuerpo\n",
        "Image.open(path) #Visualizamos la imagen"
      ],
      "metadata": {
        "id": "Lck_ndwwnSxz",
        "colab": {
          "base_uri": "https://localhost:8080/",
          "height": 1000
        },
        "outputId": "0da994e1-82ba-4d22-a81d-0a33335eb266"
      },
      "execution_count": 36,
      "outputs": [
        {
          "output_type": "stream",
          "name": "stdout",
          "text": [
            "200\n",
            "Conforme los códigos de estatus, vemos que 200=ok\n",
            "This is line 1 \n",
            "This is line 2\n",
            "This is line 3\n",
            "This is line 1 \n",
            "This\n",
            "{'User-Agent': 'python-requests/2.23.0', 'Accept-Encoding': 'gzip, deflate', 'Accept': '*/*', 'Connection': 'keep-alive'}\n",
            "request body: None\n",
            "{'Date': 'Thu, 29 Sep 2022 01:21:46 GMT', 'X-Clv-Request-Id': '701651db-3d7b-462d-8e0d-3cae7071e725', 'Server': 'Cleversafe', 'X-Clv-S3-Version': '2.5', 'Accept-Ranges': 'bytes', 'x-amz-request-id': '701651db-3d7b-462d-8e0d-3cae7071e725', 'Cache-Control': 'max-age=0,public', 'ETag': '\"522bc63a850f3569b8924c51131d5fe4\"', 'Content-Type': 'text/plain', 'Last-Modified': 'Wed, 14 Sep 2022 05:48:24 GMT', 'Content-Length': '45'}\n",
            "Thu, 29 Sep 2022 01:21:46 GMT\n",
            "text/plain\n",
            "ISO-8859-1\n",
            "\n"
          ]
        },
        {
          "output_type": "execute_result",
          "data": {
            "text/plain": [
              "<PIL.PngImagePlugin.PngImageFile image mode=P size=800x800 at 0x7FEB35C4BE50>"
            ],
            "image/png": "[encoded data removed]"
          },
          "metadata": {},
          "execution_count": 36
        }
      ]
    },
    {
      "cell_type": "markdown",
      "source": [
        "#### Lab - API"
      ],
      "metadata": {
        "id": "u48W2DOVIMhM"
      }
    },
    {
      "cell_type": "code",
      "source": [
        "!pip install randomuser\n",
        "#Librerías necesarias\n",
        "from randomuser import RandomUser\n",
        "import pandas as pd\n",
        "#Exercise 1\n",
        "#In this Exercise, generate photos of the random 5 users\n",
        "azar=RandomUser()\n",
        "usuarios=azar.generate_users(5)\n",
        "for user in usuarios:\n",
        "    print (user.get_full_name(),\" \",user.get_picture())\n",
        "\n",
        "print(\"\")\n",
        "import requests\n",
        "import json\n",
        "data = requests.get(\"https://www.fruityvice.com/api/fruit/all\")\n",
        "results = json.loads(data.text)\n",
        "pd.DataFrame(results)\n",
        "df2 = pd.json_normalize(results)\n",
        "print(df2)\n",
        "#Exercise 2\n",
        "#In this Exercise, find out how many calories are contained in a banana\n",
        "bana=df2.loc[df2[\"name\"]=='Banana']\n",
        "cal_banana=(bana.iloc[0]['nutritions.calories'])\n",
        "print(\"\")\n",
        "print('Calorías de la banana:',cal_banana)\n",
        "\n",
        "print(\"\")\n",
        "#Exercise 3\n",
        "#Using requests.get(\"url\") function, load your data\n",
        "#API sobre grabaciones de aves\n",
        "liga=requests.get('https://www.xeno-canto.org/api/2/recordings?query=cnt:brazil&page=5') #Obtenemos la API de xeno canto\n",
        "#La respuesta está en formato json\n",
        "#Retrieve results using json.loads() function\n",
        "contenido=json.loads(liga.text) #Recuperamos los resultados\n",
        "#Convert json data into pandas data frame\n",
        "json2df=pd.DataFrame(contenido) #Cast\n",
        "print(json2df) #Imprimos el df\n",
        "print(json2df.head())\n",
        "                     "
      ],
      "metadata": {
        "colab": {
          "base_uri": "https://localhost:8080/"
        },
        "id": "19VlTpRY0b7g",
        "outputId": "a596c045-e69c-4b7e-c67a-1de1cace1085"
      },
      "execution_count": 42,
      "outputs": [
        {
          "output_type": "stream",
          "name": "stdout",
          "text": [
            "Traceback (most recent call last):\n",
            "  File \"/usr/local/bin/pip3\", line 5, in <module>\n",
            "    from pip._internal.cli.main import main\n",
            "  File \"/usr/local/lib/python3.7/dist-packages/pip/_internal/cli/main.py\", line 9, in <module>\n",
            "  File \"/usr/local/lib/python3.7/dist-packages/pip/_internal/cli/autocompletion.py\", line 10, in <module>\n",
            "    from pip._internal.cli.main_parser import create_main_parser\n",
            "  File \"/usr/local/lib/python3.7/dist-packages/pip/_internal/cli/main_parser.py\", line 8, in <module>\n",
            "    from pip._internal.cli import cmdoptions\n",
            "  File \"/usr/local/lib/python3.7/dist-packages/pip/_internal/cli/cmdoptions.py\", line 23, in <module>\n",
            "    from pip._internal.cli.parser import ConfigOptionParser\n",
            "  File \"/usr/local/lib/python3.7/dist-packages/pip/_internal/cli/parser.py\", line 12, in <module>\n",
            "    from pip._internal.configuration import Configuration, ConfigurationError\n",
            "  File \"/usr/local/lib/python3.7/dist-packages/pip/_internal/configuration.py\", line 21, in <module>\n",
            "    from pip._internal.exceptions import (\n",
            "  File \"/usr/local/lib/python3.7/dist-packages/pip/_internal/exceptions.py\", line 7, in <module>\n",
            "    from pip._vendor.pkg_resources import Distribution\n",
            "  File \"/usr/local/lib/python3.7/dist-packages/pip/_vendor/pkg_resources/__init__.py\", line 83, in <module>\n",
            "    __import__('pip._vendor.packaging.specifiers')\n",
            "  File \"/usr/local/lib/python3.7/dist-packages/pip/_vendor/packaging/specifiers.py\", line 631, in <module>\n",
            "    _prefix_regex = re.compile(r\"^([0-9]+)((?:a|b|c|rc)[0-9]+)$\")\n",
            "  File \"/usr/lib/python3.7/re.py\", line 236, in compile\n",
            "    return _compile(pattern, flags)\n",
            "  File \"/usr/lib/python3.7/re.py\", line 288, in _compile\n",
            "    p = sre_compile.compile(pattern, flags)\n",
            "  File \"/usr/lib/python3.7/sre_compile.py\", line 764, in compile\n",
            "    p = sre_parse.parse(p, flags)\n",
            "  File \"/usr/lib/python3.7/sre_parse.py\", line 924, in parse\n",
            "    p = _parse_sub(source, pattern, flags & SRE_FLAG_VERBOSE, 0)\n",
            "  File \"/usr/lib/python3.7/sre_parse.py\", line 420, in _parse_sub\n",
            "    not nested and not items))\n",
            "  File \"/usr/lib/python3.7/sre_parse.py\", line 810, in _parse\n",
            "    p = _parse_sub(source, state, sub_verbose, nested + 1)\n",
            "  File \"/usr/lib/python3.7/sre_parse.py\", line 420, in _parse_sub\n",
            "    not nested and not items))\n",
            "  File \"/usr/lib/python3.7/sre_parse.py\", line 828, in _parse\n",
            "    for i in range(len(subpattern))[::-1]:\n",
            "KeyboardInterrupt\n",
            "Kacper Sjo   https://randomuser.me/api/portraits/men/47.jpg\n",
            "Gottlob Wiemann   https://randomuser.me/api/portraits/men/90.jpg\n",
            "Pearl Brown   https://randomuser.me/api/portraits/women/17.jpg\n",
            "Tristan Gill   https://randomuser.me/api/portraits/men/69.jpg\n",
            "Theresia Markmann   https://randomuser.me/api/portraits/women/48.jpg\n",
            "\n",
            "         genus          name  id           family             order  \\\n",
            "0        Malus         Apple   6         Rosaceae           Rosales   \n",
            "1       Prunus       Apricot  35         Rosaceae           Rosales   \n",
            "2         Musa        Banana   1         Musaceae      Zingiberales   \n",
            "3        Rubus    Blackberry  64         Rosaceae           Rosales   \n",
            "4     Fragaria     Blueberry  33         Rosaceae           Rosales   \n",
            "5       Prunus        Cherry   9         Rosaceae              None   \n",
            "6        Durio        Durian  60        Malvaceae          Malvales   \n",
            "7        Ficus           Fig  68         Moraceae           Rosales   \n",
            "8        Ribes    Gooseberry  69  Grossulariaceae      Saxifragales   \n",
            "9        Vitis        Grapes  47         Vitaceae           Vitales   \n",
            "10       Malus    GreenApple  72         Rosaceae           Rosales   \n",
            "11     Psidium         Guava  37        Myrtaceae          Myrtales   \n",
            "12     Apteryx          Kiwi  66    Actinidiaceae  Struthioniformes   \n",
            "13      Citrus         Lemon  26         Rutaceae        Sapindales   \n",
            "14      Citrus          Lime  44         Rutaceae        Sapindales   \n",
            "15   Vaccinium   Lingonberry  65        Ericaceae          Ericales   \n",
            "16      Litchi        Lychee  67      Sapindaceae        Sapindales   \n",
            "17   Mangifera         Mango  27    Anacardiaceae        Sapindales   \n",
            "18     Cucumis         Melon  41    Cucurbitaceae     Cucurbitaceae   \n",
            "19      Citrus        Orange   2         Rutaceae        Sapindales   \n",
            "20      Carica        Papaya  42       Caricaceae         Caricacea   \n",
            "21  Passiflora  Passionfruit  70   Passifloraceae      Malpighiales   \n",
            "22       Pyrus          Pear   4         Rosaceae           Rosales   \n",
            "23   Diospyros     Persimmon  52        Ebenaceae           Rosales   \n",
            "24      Ananas     Pineapple  10     Bromeliaceae            Poales   \n",
            "25      Prunus          Plum  71         Rosaceae           Rosales   \n",
            "26       Rubus     Raspberry  23         Rosaceae           Rosales   \n",
            "27    Fragaria    Strawberry   3         Rosaceae           Rosales   \n",
            "28     Solanum        Tomato   5       Solanaceae         Solanales   \n",
            "29    Spondias          Umbu  73    Anacardiaceae                 0   \n",
            "30   Citrullus    Watermelon  25    Cucurbitaceae      Cucurbitales   \n",
            "\n",
            "    nutritions.carbohydrates  nutritions.protein  nutritions.fat  \\\n",
            "0                      11.40                0.30            0.40   \n",
            "1                       3.90                0.50            0.10   \n",
            "2                      22.00                1.00            0.20   \n",
            "3                       9.00                1.30            0.40   \n",
            "4                       5.50                0.00            0.40   \n",
            "5                      12.00                1.00            0.30   \n",
            "6                      27.10                1.50            5.30   \n",
            "7                      19.00                0.80            0.30   \n",
            "8                      10.00                0.90            0.60   \n",
            "9                      18.10                0.72            0.16   \n",
            "10                      3.10                0.40            0.10   \n",
            "11                     14.00                2.60            1.00   \n",
            "12                     15.00                1.10            0.50   \n",
            "13                      9.00                1.10            0.30   \n",
            "14                      8.40                0.30            0.10   \n",
            "15                     11.30                0.75            0.34   \n",
            "16                     17.00                0.80            0.44   \n",
            "17                     15.00                0.82            0.38   \n",
            "18                      8.00                0.00            0.00   \n",
            "19                      8.30                1.00            0.20   \n",
            "20                     11.00                0.00            0.40   \n",
            "21                     22.40                2.20            0.70   \n",
            "22                     15.00                0.40            0.10   \n",
            "23                     18.00                0.00            0.00   \n",
            "24                     13.12                0.54            0.12   \n",
            "25                     11.40                0.70            0.28   \n",
            "26                     12.00                1.20            0.70   \n",
            "27                      5.50                0.80            0.40   \n",
            "28                      3.90                0.90            0.20   \n",
            "29                      0.00                0.00            0.00   \n",
            "30                      8.00                0.60            0.20   \n",
            "\n",
            "    nutritions.calories  nutritions.sugar  \n",
            "0                    52             10.30  \n",
            "1                    15              3.20  \n",
            "2                    96             17.20  \n",
            "3                    40              4.50  \n",
            "4                    29              5.40  \n",
            "5                    50              8.00  \n",
            "6                   147              6.75  \n",
            "7                    74             16.00  \n",
            "8                    44              0.00  \n",
            "9                    69             15.48  \n",
            "10                   21              6.40  \n",
            "11                   68              9.00  \n",
            "12                   61              9.00  \n",
            "13                   29              2.50  \n",
            "14                   25              1.70  \n",
            "15                   50              5.74  \n",
            "16                   66             15.00  \n",
            "17                   60             13.70  \n",
            "18                   34              8.00  \n",
            "19                   43              8.20  \n",
            "20                   43              1.00  \n",
            "21                   97             11.20  \n",
            "22                   57             10.00  \n",
            "23                   81             18.00  \n",
            "24                   50              9.85  \n",
            "25                   46              9.92  \n",
            "26                   53              4.40  \n",
            "27                   29              5.40  \n",
            "28                   74              2.60  \n",
            "29                    0              0.00  \n",
            "30                   30              6.00  \n",
            "\n",
            "Calorías de la banana: 96\n",
            "\n",
            "    numRecordings numSpecies  page  numPages  \\\n",
            "0           62693       1667     5       126   \n",
            "1           62693       1667     5       126   \n",
            "2           62693       1667     5       126   \n",
            "3           62693       1667     5       126   \n",
            "4           62693       1667     5       126   \n",
            "..            ...        ...   ...       ...   \n",
            "495         62693       1667     5       126   \n",
            "496         62693       1667     5       126   \n",
            "497         62693       1667     5       126   \n",
            "498         62693       1667     5       126   \n",
            "499         62693       1667     5       126   \n",
            "\n",
            "                                            recordings  \n",
            "0    {'id': '41472', 'gen': 'Nyctibius', 'sp': 'gri...  \n",
            "1    {'id': '37892', 'gen': 'Nyctibius', 'sp': 'gri...  \n",
            "2    {'id': '32566', 'gen': 'Nyctibius', 'sp': 'gri...  \n",
            "3    {'id': '15936', 'gen': 'Nyctibius', 'sp': 'gri...  \n",
            "4    {'id': '5156', 'gen': 'Nyctibius', 'sp': 'gris...  \n",
            "..                                                 ...  \n",
            "495  {'id': '500042', 'gen': 'Hydropsalis', 'sp': '...  \n",
            "496  {'id': '500037', 'gen': 'Hydropsalis', 'sp': '...  \n",
            "497  {'id': '498051', 'gen': 'Hydropsalis', 'sp': '...  \n",
            "498  {'id': '474055', 'gen': 'Hydropsalis', 'sp': '...  \n",
            "499  {'id': '441769', 'gen': 'Hydropsalis', 'sp': '...  \n",
            "\n",
            "[500 rows x 5 columns]\n",
            "  numRecordings numSpecies  page  numPages  \\\n",
            "0         62693       1667     5       126   \n",
            "1         62693       1667     5       126   \n",
            "2         62693       1667     5       126   \n",
            "3         62693       1667     5       126   \n",
            "4         62693       1667     5       126   \n",
            "\n",
            "                                          recordings  \n",
            "0  {'id': '41472', 'gen': 'Nyctibius', 'sp': 'gri...  \n",
            "1  {'id': '37892', 'gen': 'Nyctibius', 'sp': 'gri...  \n",
            "2  {'id': '32566', 'gen': 'Nyctibius', 'sp': 'gri...  \n",
            "3  {'id': '15936', 'gen': 'Nyctibius', 'sp': 'gri...  \n",
            "4  {'id': '5156', 'gen': 'Nyctibius', 'sp': 'gris...  \n"
          ]
        }
      ]
    },
    {
      "cell_type": "markdown",
      "source": [
        "#### Review Questions"
      ],
      "metadata": {
        "id": "zyWKa2WDWt5j"
      }
    },
    {
      "cell_type": "code",
      "source": [
        "import numpy as np\n",
        "#What is the result of the following lines of code:\n",
        "a=np.array([0,1,0,1,0])\n",
        "b=np.array([1,0,1,0,1])\n",
        "print(a*b)\n",
        "#What is the result of the following lines of code:\n",
        "a=np.array([0,1])\n",
        "b=np.array([1,0])\n",
        "print(np.dot(a,b))\n",
        "#What is the result of the following lines of code:\n",
        "a=np.array([1,1,1,1,1])\n",
        "print(a+10)\n",
        "#What is the correct code to perform matrix multiplication on the matrix A and B?\n",
        "#np.dot(A,B)  --Producto punto para multiplicar matrices con numpy"
      ],
      "metadata": {
        "colab": {
          "base_uri": "https://localhost:8080/"
        },
        "id": "YXx-9ZQPWxXn",
        "outputId": "ab94d464-82dd-4718-97a0-e6398cafdab2"
      },
      "execution_count": 47,
      "outputs": [
        {
          "output_type": "stream",
          "name": "stdout",
          "text": [
            "[0 0 0 0 0]\n",
            "0\n",
            "[11 11 11 11 11]\n"
          ]
        }
      ]
    },
    {
      "cell_type": "markdown",
      "source": [],
      "metadata": {
        "id": "VTT03Xml6FjE"
      }
    }
  ]
}
