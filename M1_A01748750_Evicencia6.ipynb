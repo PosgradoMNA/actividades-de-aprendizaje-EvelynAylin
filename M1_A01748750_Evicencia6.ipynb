{
  "nbformat": 4,
  "nbformat_minor": 0,
  "metadata": {
    "colab": {
      "provenance": [],
      "toc_visible": true
    },
    "kernelspec": {
      "name": "python3",
      "display_name": "Python 3"
    },
    "language_info": {
      "name": "python"
    }
  },
  "cells": [
    {
      "cell_type": "code",
      "execution_count": null,
      "metadata": {
        "id": "5m96OYKSYhDB"
      },
      "outputs": [],
      "source": [
        "#Evelyn Aylin Rendon Medina\n",
        "#A01748750\n",
        "#Python for Data Science (IBM) evidencias\n",
        "\n"
      ]
    },
    {
      "cell_type": "markdown",
      "source": [
        "# Evelyn Aylin Rendon Medina\n",
        "# A01748750\n",
        "### Python for Data Science (IBM) evidencias"
      ],
      "metadata": {
        "id": "6iRdCa4sdBwb"
      }
    },
    {
      "cell_type": "markdown",
      "source": [
        "# Módulo 1"
      ],
      "metadata": {
        "id": "6YA23THMdS1k"
      }
    },
    {
      "cell_type": "markdown",
      "source": [
        "#### Your First Program (1:15)"
      ],
      "metadata": {
        "id": "5sAkAWtrdiOc"
      }
    },
    {
      "cell_type": "code",
      "source": [
        "print(\"Hello world\")\n",
        "print(\"Hello\\nWorld!\")\n",
        "# print('Hello World!')"
      ],
      "metadata": {
        "colab": {
          "base_uri": "https://localhost:8080/"
        },
        "id": "wPT-dGDcdAzV",
        "outputId": "73296793-5775-4822-9914-d9cff646b8c0"
      },
      "execution_count": null,
      "outputs": [
        {
          "output_type": "stream",
          "name": "stdout",
          "text": [
            "Hello world\n",
            "Hello\n",
            "World!\n"
          ]
        }
      ]
    },
    {
      "cell_type": "markdown",
      "source": [
        "#### Types"
      ],
      "metadata": {
        "id": "m5nch5AYd26U"
      }
    },
    {
      "cell_type": "code",
      "source": [
        "print(int(1.0))\n",
        "print(bool(1))\n",
        "print(type(\"Hello World\"))\n",
        "print(type(\"1.1\"))\n",
        "print(int(\"1\"))\n",
        "print(bool(\"1\"))"
      ],
      "metadata": {
        "colab": {
          "base_uri": "https://localhost:8080/"
        },
        "id": "6ShiQxENeAgE",
        "outputId": "2c86b371-c0c5-4145-9bc0-c8e4dfe15cc1"
      },
      "execution_count": null,
      "outputs": [
        {
          "output_type": "stream",
          "name": "stdout",
          "text": [
            "1\n",
            "True\n",
            "<class 'str'>\n",
            "<class 'str'>\n",
            "1\n",
            "True\n"
          ]
        }
      ]
    },
    {
      "cell_type": "markdown",
      "source": [
        "#### Expression and Variables"
      ],
      "metadata": {
        "id": "WpNjWv0cu1lg"
      }
    },
    {
      "cell_type": "code",
      "source": [
        "suma=5+1+8+6\n",
        "resta=suma-2\n",
        "division=10/3\n",
        "divisionInt=10//3\n",
        "multiplicacion=5*2\n",
        "exponente=2**2\n",
        "\n",
        "print(suma)\n",
        "print(resta)\n",
        "print(division)\n",
        "print(divisionInt)\n",
        "print(multiplicacion)\n",
        "print(exponente)"
      ],
      "metadata": {
        "colab": {
          "base_uri": "https://localhost:8080/"
        },
        "id": "W4a11ESou8eU",
        "outputId": "3f34af37-e895-4466-b8a0-62a5a75f4952"
      },
      "execution_count": null,
      "outputs": [
        {
          "output_type": "stream",
          "name": "stdout",
          "text": [
            "20\n",
            "18\n",
            "3.3333333333333335\n",
            "3\n",
            "10\n",
            "4\n"
          ]
        }
      ]
    },
    {
      "cell_type": "markdown",
      "source": [
        "#### Lab - Write Your First Python Code!"
      ],
      "metadata": {
        "id": "MrHKHDbJ3Df7"
      }
    },
    {
      "cell_type": "code",
      "source": [
        "#Exercise: Your First Program¶\n",
        "print('Hello, Python!')\n",
        "print(\"Hello, world!\") #Print the traditional hello world\n",
        "#Exercise: Types\n",
        "print(type(6/2))\n",
        "print(type(6//2))\n",
        "#Exercise: Expression, Horas en 160 minutos\n",
        "hours=160/60\n",
        "print(hours)\n",
        "#Exercise: Expression and Variables in Python\n",
        "x=3+2*2\n",
        "y=(3+2)*2\n",
        "z=x+y\n",
        "print(x, y, z)"
      ],
      "metadata": {
        "colab": {
          "base_uri": "https://localhost:8080/"
        },
        "id": "Xh9RP3GF3IiR",
        "outputId": "0803c6c4-f274-4f19-ba83-afd9df02f6b3"
      },
      "execution_count": null,
      "outputs": [
        {
          "output_type": "stream",
          "name": "stdout",
          "text": [
            "Hello, Python!\n",
            "Hello, world!\n",
            "<class 'float'>\n",
            "<class 'int'>\n",
            "2.6666666666666665\n",
            "7 10 17\n"
          ]
        }
      ]
    },
    {
      "cell_type": "markdown",
      "source": [
        "#### String Operations (3:53)"
      ],
      "metadata": {
        "id": "_jIk4-PvSFrh"
      }
    },
    {
      "cell_type": "code",
      "source": [
        "#Encontrar los números pares de la variable Numbers\n",
        "Numbers = \"0123456\"\n",
        "print(Numbers[::2])\n",
        "#Encontrar el índice del caracter '1'\n",
        "print(\"0123456\".find('1'))\n",
        "Letras=\"abcdefghijklmnopqrstuvwxyz\"\n",
        "print(Letras)\n",
        "#Cambiar caracteres de minúsculas a mayúsculas\n",
        "letrasMayu=Letras.upper()\n",
        "print(letrasMayu)\n",
        "#Obtener los caracteres cuyo índice es par\n",
        "print(Letras[::2])\n",
        "#Obtener los caracteres cuyo índice es múltiplo de 3\n",
        "print(Letras[::3])\n",
        "#Obtener la longitud de la variable Letras\n",
        "print(len(Letras))\n",
        "#Imprimir los primeros tres elementos de la variable Letras\n",
        "print(Letras[0:3])"
      ],
      "metadata": {
        "colab": {
          "base_uri": "https://localhost:8080/"
        },
        "id": "QjutHaiVSGII",
        "outputId": "4718c6f3-a41f-4b49-cb98-c000faec2c54"
      },
      "execution_count": null,
      "outputs": [
        {
          "output_type": "stream",
          "name": "stdout",
          "text": [
            "0246\n",
            "1\n",
            "abcdefghijklmnopqrstuvwxyz\n",
            "ABCDEFGHIJKLMNOPQRSTUVWXYZ\n",
            "acegikmoqsuwy\n",
            "adgjmpsvy\n",
            "26\n",
            "abc\n"
          ]
        }
      ]
    },
    {
      "cell_type": "markdown",
      "source": [
        "#### Review Questions"
      ],
      "metadata": {
        "id": "XI6JiFHnbc1K"
      }
    },
    {
      "cell_type": "code",
      "source": [
        "print(3+2*2)\n",
        "name='Lizz'\n",
        "print(name[0:2])\n",
        "var='01234567'\n",
        "print(var[::2])\n",
        "print('1'+'2')\n",
        "myvar='hello'\n",
        "myvar.upper()"
      ],
      "metadata": {
        "id": "DseGH9q0Th7J",
        "colab": {
          "base_uri": "https://localhost:8080/",
          "height": 105
        },
        "outputId": "50dc8f26-ebad-4669-a353-2bba94f7ca78"
      },
      "execution_count": 5,
      "outputs": [
        {
          "output_type": "stream",
          "name": "stdout",
          "text": [
            "7\n",
            "Li\n",
            "0246\n",
            "12\n"
          ]
        },
        {
          "output_type": "execute_result",
          "data": {
            "text/plain": [
              "'HELLO'"
            ],
            "application/vnd.google.colaboratory.intrinsic+json": {
              "type": "string"
            }
          },
          "metadata": {},
          "execution_count": 5
        }
      ]
    }
  ]
}