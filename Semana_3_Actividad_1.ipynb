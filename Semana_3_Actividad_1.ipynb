{
  "nbformat": 4,
  "nbformat_minor": 0,
  "metadata": {
    "colab": {
      "provenance": [],
      "toc_visible": true
    },
    "kernelspec": {
      "name": "python3",
      "display_name": "Python 3"
    },
    "language_info": {
      "name": "python"
    }
  },
  "cells": [
    {
      "cell_type": "markdown",
      "source": [
        "# Semana 3 - Actividad 1\n",
        "- Nombre: Evelyn Aylin Rendon Medina \n",
        "- Matricula: A01748750\n",
        "- Materia: Ciencia y analítica de datos (Gpo 10)\n",
        "- Profesor: Jobish Vallikavungal Devassia\n",
        "- Fecha de entrega: 4 octubre 2022\n"
      ],
      "metadata": {
        "id": "RmgwFkNCQy22"
      }
    },
    {
      "cell_type": "markdown",
      "source": [
        "# Parte 1"
      ],
      "metadata": {
        "id": "jvQdrGYAG26p"
      }
    },
    {
      "cell_type": "markdown",
      "source": [
        "\n",
        "**Fundamentos de bases de datos y para ciencia de datos.**  Una base de datos se puede entender como una recopilación de información, la cual posee determinado orden o estructura (datos estructurados) y su contenido tiene relación o está asociado a una actividad determinada. Dicha base puede contener tablas, la cual está formada por filas (observaciones) y columnas (categorías), donde la intersección entre tales elementos se llama ‘celda’. De igual forma, es importante mencionar que cuando hablamos de datos, se hace referencia a los registros contenidos, es decir, la observación de una categoría es un dato o registro y el conjunto de ellos crea nuestra base de datos.\n",
        "El personal especializado para trabajar con bases de datos recibe el nombre de ‘científico de datos’ y es aquel individuo que requiere comprender los datos de los cuales dispone, con la finalidad de analizarlos y fundamentar la toma de decisiones. Para ello requiere un amplio conocimiento teórico y habilidad al utilizar las tecnologías disponibles que le permiten manipular los datos para obtener información, como encontrar relaciones o predecir comportamientos. Cabe destacar que los datos son una parte fundamental del modelo y determinarán en gran medida su rendimiento, por lo que tener un conjunto de datos apropiado es también un aspecto vital, de forma que la persona especializada que lleve a cabo dicha tarea pasará alrededor del 80% del tiempo recopilándolos y preparándolos.\n",
        "Existe un enfoque de la base de datos, donde se tiene un repositorio de dichos registros con cierto estándar en su almacén para lo cual es necesario un sistema de administración de datos (DBMS) y algunos lenguajes para manipular tales datos son el DML (query language) y SQL (Structured Query Language).\n",
        "\n"
      ],
      "metadata": {
        "id": "3BMdJYyTG55B"
      }
    },
    {
      "cell_type": "markdown",
      "source": [
        "**Fundamentos de almacenes de datos (Data Warehouse) para ciencia de datos.**\n",
        "Un almacén de datos (DW) conceptualmente es un depósito central cuyo análisis (de los datos) nos ayuda a tomar mejores decisiones, pues tienen conocimiento que las respalda. Se podría decir que es una base de datos de gran tamaño y su contenido se genera a través de la unificación de datos provenientes de distintas fuentes. Dicho en otras palabras, este tipo de almacenamiento es capaz de contener en sí varias bases de datos y su diseño se orienta en hacer posible su análisis, por lo que deberá contener datos estructurados. \n",
        "Es preciso destacar que una base de datos está relacionada con una única actividad o un particular propósito, que es lo que la diferencia de un almacén de datos (data warehouse). De igual forma, un lago de datos es un repositorio capaz de contener datos de diversos tipos (estructurados, no estructurados y semiestructurados) y dicha característica lo diferencia del almacén (DW), pues el último requiere que sean estructurados para que sea posible consultar sus datos.\n",
        "Otro concepto relacionado que es importante destacar es la llave primaria (primary key), que es un identificador único que se genera para cada observación, tal como es nuestro CURP. Cuando en una tabla se hace referencia a una llave proveniente de otra tabla, se le llama llave foránea (foreign key)\n",
        "\n"
      ],
      "metadata": {
        "id": "EXdZbBHySkGU"
      }
    },
    {
      "cell_type": "markdown",
      "source": [
        "# Parte 2"
      ],
      "metadata": {
        "id": "Tw9UK1sIG-PB"
      }
    },
    {
      "cell_type": "markdown",
      "source": [
        "## Carga del archivo"
      ],
      "metadata": {
        "id": "Xd_PkTaSVX1N"
      }
    },
    {
      "cell_type": "markdown",
      "source": [
        "Se obtiene la base de datos y se guarda como un dataframe a través de la librería de pandas"
      ],
      "metadata": {
        "id": "XlQTINovUDj4"
      }
    },
    {
      "cell_type": "code",
      "source": [
        "baseDatos='https://raw.githubusercontent.com/PosgradoMNA/Actividades_Aprendizaje-/main/default%20of%20credit%20card%20clients.csv'\n",
        "import pandas as pd\n",
        "import numpy as np\n",
        "from statistics import mode\n",
        "df=pd.read_csv(baseDatos)\n",
        "df.head()"
      ],
      "metadata": {
        "colab": {
          "base_uri": "https://localhost:8080/",
          "height": 236
        },
        "id": "8jQOh9ThQz9R",
        "outputId": "a7b75713-2145-422c-de31-94ebafac3da5"
      },
      "execution_count": null,
      "outputs": [
        {
          "output_type": "execute_result",
          "data": {
            "text/plain": [
              "   ID      X1   X2   X3   X4    X5   X6   X7   X8   X9  ...      X15      X16  \\\n",
              "0   1   20000  2.0  2.0  1.0  24.0  2.0  2.0 -1.0 -1.0  ...      0.0      0.0   \n",
              "1   2  120000  2.0  2.0  2.0  26.0 -1.0  2.0  0.0  0.0  ...   3272.0   3455.0   \n",
              "2   3   90000  2.0  2.0  2.0  34.0  0.0  0.0  0.0  0.0  ...  14331.0  14948.0   \n",
              "3   4   50000  2.0  2.0  1.0  37.0  0.0  0.0  0.0  0.0  ...  28314.0  28959.0   \n",
              "4   5   50000  1.0  2.0  1.0  57.0 -1.0  0.0 -1.0  0.0  ...  20940.0  19146.0   \n",
              "\n",
              "       X17     X18      X19      X20     X21     X22     X23    Y  \n",
              "0      0.0     0.0    689.0      0.0     0.0     0.0     0.0  1.0  \n",
              "1   3261.0     0.0   1000.0   1000.0  1000.0     0.0  2000.0  1.0  \n",
              "2  15549.0  1518.0   1500.0   1000.0  1000.0  1000.0  5000.0  0.0  \n",
              "3  29547.0  2000.0   2019.0   1200.0  1100.0  1069.0  1000.0  0.0  \n",
              "4  19131.0  2000.0  36681.0  10000.0  9000.0   689.0   679.0  0.0  \n",
              "\n",
              "[5 rows x 25 columns]"
            ],
            "text/html": [
              "\n",
              "  <div id=\"df-6d55b3b0-b544-48a8-a564-94da5de24955\">\n",
              "    <div class=\"colab-df-container\">\n",
              "      <div>\n",
              "<style scoped>\n",
              "    .dataframe tbody tr th:only-of-type {\n",
              "        vertical-align: middle;\n",
              "    }\n",
              "\n",
              "    .dataframe tbody tr th {\n",
              "        vertical-align: top;\n",
              "    }\n",
              "\n",
              "    .dataframe thead th {\n",
              "        text-align: right;\n",
              "    }\n",
              "</style>\n",
              "<table border=\"1\" class=\"dataframe\">\n",
              "  <thead>\n",
              "    <tr style=\"text-align: right;\">\n",
              "      <th></th>\n",
              "      <th>ID</th>\n",
              "      <th>X1</th>\n",
              "      <th>X2</th>\n",
              "      <th>X3</th>\n",
              "      <th>X4</th>\n",
              "      <th>X5</th>\n",
              "      <th>X6</th>\n",
              "      <th>X7</th>\n",
              "      <th>X8</th>\n",
              "      <th>X9</th>\n",
              "      <th>...</th>\n",
              "      <th>X15</th>\n",
              "      <th>X16</th>\n",
              "      <th>X17</th>\n",
              "      <th>X18</th>\n",
              "      <th>X19</th>\n",
              "      <th>X20</th>\n",
              "      <th>X21</th>\n",
              "      <th>X22</th>\n",
              "      <th>X23</th>\n",
              "      <th>Y</th>\n",
              "    </tr>\n",
              "  </thead>\n",
              "  <tbody>\n",
              "    <tr>\n",
              "      <th>0</th>\n",
              "      <td>1</td>\n",
              "      <td>20000</td>\n",
              "      <td>2.0</td>\n",
              "      <td>2.0</td>\n",
              "      <td>1.0</td>\n",
              "      <td>24.0</td>\n",
              "      <td>2.0</td>\n",
              "      <td>2.0</td>\n",
              "      <td>-1.0</td>\n",
              "      <td>-1.0</td>\n",
              "      <td>...</td>\n",
              "      <td>0.0</td>\n",
              "      <td>0.0</td>\n",
              "      <td>0.0</td>\n",
              "      <td>0.0</td>\n",
              "      <td>689.0</td>\n",
              "      <td>0.0</td>\n",
              "      <td>0.0</td>\n",
              "      <td>0.0</td>\n",
              "      <td>0.0</td>\n",
              "      <td>1.0</td>\n",
              "    </tr>\n",
              "    <tr>\n",
              "      <th>1</th>\n",
              "      <td>2</td>\n",
              "      <td>120000</td>\n",
              "      <td>2.0</td>\n",
              "      <td>2.0</td>\n",
              "      <td>2.0</td>\n",
              "      <td>26.0</td>\n",
              "      <td>-1.0</td>\n",
              "      <td>2.0</td>\n",
              "      <td>0.0</td>\n",
              "      <td>0.0</td>\n",
              "      <td>...</td>\n",
              "      <td>3272.0</td>\n",
              "      <td>3455.0</td>\n",
              "      <td>3261.0</td>\n",
              "      <td>0.0</td>\n",
              "      <td>1000.0</td>\n",
              "      <td>1000.0</td>\n",
              "      <td>1000.0</td>\n",
              "      <td>0.0</td>\n",
              "      <td>2000.0</td>\n",
              "      <td>1.0</td>\n",
              "    </tr>\n",
              "    <tr>\n",
              "      <th>2</th>\n",
              "      <td>3</td>\n",
              "      <td>90000</td>\n",
              "      <td>2.0</td>\n",
              "      <td>2.0</td>\n",
              "      <td>2.0</td>\n",
              "      <td>34.0</td>\n",
              "      <td>0.0</td>\n",
              "      <td>0.0</td>\n",
              "      <td>0.0</td>\n",
              "      <td>0.0</td>\n",
              "      <td>...</td>\n",
              "      <td>14331.0</td>\n",
              "      <td>14948.0</td>\n",
              "      <td>15549.0</td>\n",
              "      <td>1518.0</td>\n",
              "      <td>1500.0</td>\n",
              "      <td>1000.0</td>\n",
              "      <td>1000.0</td>\n",
              "      <td>1000.0</td>\n",
              "      <td>5000.0</td>\n",
              "      <td>0.0</td>\n",
              "    </tr>\n",
              "    <tr>\n",
              "      <th>3</th>\n",
              "      <td>4</td>\n",
              "      <td>50000</td>\n",
              "      <td>2.0</td>\n",
              "      <td>2.0</td>\n",
              "      <td>1.0</td>\n",
              "      <td>37.0</td>\n",
              "      <td>0.0</td>\n",
              "      <td>0.0</td>\n",
              "      <td>0.0</td>\n",
              "      <td>0.0</td>\n",
              "      <td>...</td>\n",
              "      <td>28314.0</td>\n",
              "      <td>28959.0</td>\n",
              "      <td>29547.0</td>\n",
              "      <td>2000.0</td>\n",
              "      <td>2019.0</td>\n",
              "      <td>1200.0</td>\n",
              "      <td>1100.0</td>\n",
              "      <td>1069.0</td>\n",
              "      <td>1000.0</td>\n",
              "      <td>0.0</td>\n",
              "    </tr>\n",
              "    <tr>\n",
              "      <th>4</th>\n",
              "      <td>5</td>\n",
              "      <td>50000</td>\n",
              "      <td>1.0</td>\n",
              "      <td>2.0</td>\n",
              "      <td>1.0</td>\n",
              "      <td>57.0</td>\n",
              "      <td>-1.0</td>\n",
              "      <td>0.0</td>\n",
              "      <td>-1.0</td>\n",
              "      <td>0.0</td>\n",
              "      <td>...</td>\n",
              "      <td>20940.0</td>\n",
              "      <td>19146.0</td>\n",
              "      <td>19131.0</td>\n",
              "      <td>2000.0</td>\n",
              "      <td>36681.0</td>\n",
              "      <td>10000.0</td>\n",
              "      <td>9000.0</td>\n",
              "      <td>689.0</td>\n",
              "      <td>679.0</td>\n",
              "      <td>0.0</td>\n",
              "    </tr>\n",
              "  </tbody>\n",
              "</table>\n",
              "<p>5 rows × 25 columns</p>\n",
              "</div>\n",
              "      <button class=\"colab-df-convert\" onclick=\"convertToInteractive('df-6d55b3b0-b544-48a8-a564-94da5de24955')\"\n",
              "              title=\"Convert this dataframe to an interactive table.\"\n",
              "              style=\"display:none;\">\n",
              "        \n",
              "  <svg xmlns=\"http://www.w3.org/2000/svg\" height=\"24px\"viewBox=\"0 0 24 24\"\n",
              "       width=\"24px\">\n",
              "    <path d=\"M0 0h24v24H0V0z\" fill=\"none\"/>\n",
              "    <path d=\"M18.56 5.44l.94 2.06.94-2.06 2.06-.94-2.06-.94-.94-2.06-.94 2.06-2.06.94zm-11 1L8.5 8.5l.94-2.06 2.06-.94-2.06-.94L8.5 2.5l-.94 2.06-2.06.94zm10 10l.94 2.06.94-2.06 2.06-.94-2.06-.94-.94-2.06-.94 2.06-2.06.94z\"/><path d=\"M17.41 7.96l-1.37-1.37c-.4-.4-.92-.59-1.43-.59-.52 0-1.04.2-1.43.59L10.3 9.45l-7.72 7.72c-.78.78-.78 2.05 0 2.83L4 21.41c.39.39.9.59 1.41.59.51 0 1.02-.2 1.41-.59l7.78-7.78 2.81-2.81c.8-.78.8-2.07 0-2.86zM5.41 20L4 18.59l7.72-7.72 1.47 1.35L5.41 20z\"/>\n",
              "  </svg>\n",
              "      </button>\n",
              "      \n",
              "  <style>\n",
              "    .colab-df-container {\n",
              "      display:flex;\n",
              "      flex-wrap:wrap;\n",
              "      gap: 12px;\n",
              "    }\n",
              "\n",
              "    .colab-df-convert {\n",
              "      background-color: #E8F0FE;\n",
              "      border: none;\n",
              "      border-radius: 50%;\n",
              "      cursor: pointer;\n",
              "      display: none;\n",
              "      fill: #1967D2;\n",
              "      height: 32px;\n",
              "      padding: 0 0 0 0;\n",
              "      width: 32px;\n",
              "    }\n",
              "\n",
              "    .colab-df-convert:hover {\n",
              "      background-color: #E2EBFA;\n",
              "      box-shadow: 0px 1px 2px rgba(60, 64, 67, 0.3), 0px 1px 3px 1px rgba(60, 64, 67, 0.15);\n",
              "      fill: #174EA6;\n",
              "    }\n",
              "\n",
              "    [theme=dark] .colab-df-convert {\n",
              "      background-color: #3B4455;\n",
              "      fill: #D2E3FC;\n",
              "    }\n",
              "\n",
              "    [theme=dark] .colab-df-convert:hover {\n",
              "      background-color: #434B5C;\n",
              "      box-shadow: 0px 1px 3px 1px rgba(0, 0, 0, 0.15);\n",
              "      filter: drop-shadow(0px 1px 2px rgba(0, 0, 0, 0.3));\n",
              "      fill: #FFFFFF;\n",
              "    }\n",
              "  </style>\n",
              "\n",
              "      <script>\n",
              "        const buttonEl =\n",
              "          document.querySelector('#df-6d55b3b0-b544-48a8-a564-94da5de24955 button.colab-df-convert');\n",
              "        buttonEl.style.display =\n",
              "          google.colab.kernel.accessAllowed ? 'block' : 'none';\n",
              "\n",
              "        async function convertToInteractive(key) {\n",
              "          const element = document.querySelector('#df-6d55b3b0-b544-48a8-a564-94da5de24955');\n",
              "          const dataTable =\n",
              "            await google.colab.kernel.invokeFunction('convertToInteractive',\n",
              "                                                     [key], {});\n",
              "          if (!dataTable) return;\n",
              "\n",
              "          const docLinkHtml = 'Like what you see? Visit the ' +\n",
              "            '<a target=\"_blank\" href=https://colab.research.google.com/notebooks/data_table.ipynb>data table notebook</a>'\n",
              "            + ' to learn more about interactive tables.';\n",
              "          element.innerHTML = '';\n",
              "          dataTable['output_type'] = 'display_data';\n",
              "          await google.colab.output.renderOutput(dataTable, element);\n",
              "          const docLink = document.createElement('div');\n",
              "          docLink.innerHTML = docLinkHtml;\n",
              "          element.appendChild(docLink);\n",
              "        }\n",
              "      </script>\n",
              "    </div>\n",
              "  </div>\n",
              "  "
            ]
          },
          "metadata": {},
          "execution_count": 397
        }
      ]
    },
    {
      "cell_type": "markdown",
      "source": [
        "Se crea una copia del dataframe para hacer modificaciones"
      ],
      "metadata": {
        "id": "EeZXqvjDUdSC"
      }
    },
    {
      "cell_type": "code",
      "source": [
        "cdf=df.copy()\n",
        "cdf"
      ],
      "metadata": {
        "colab": {
          "base_uri": "https://localhost:8080/",
          "height": 424
        },
        "id": "igNMyVitUb7-",
        "outputId": "0ee4fad3-94f7-4012-bb9b-968ac6265ea3"
      },
      "execution_count": null,
      "outputs": [
        {
          "output_type": "execute_result",
          "data": {
            "text/plain": [
              "          ID      X1   X2   X3   X4    X5   X6   X7   X8   X9  ...      X15  \\\n",
              "0          1   20000  2.0  2.0  1.0  24.0  2.0  2.0 -1.0 -1.0  ...      0.0   \n",
              "1          2  120000  2.0  2.0  2.0  26.0 -1.0  2.0  0.0  0.0  ...   3272.0   \n",
              "2          3   90000  2.0  2.0  2.0  34.0  0.0  0.0  0.0  0.0  ...  14331.0   \n",
              "3          4   50000  2.0  2.0  1.0  37.0  0.0  0.0  0.0  0.0  ...  28314.0   \n",
              "4          5   50000  1.0  2.0  1.0  57.0 -1.0  0.0 -1.0  0.0  ...  20940.0   \n",
              "...      ...     ...  ...  ...  ...   ...  ...  ...  ...  ...  ...      ...   \n",
              "29995  29996  220000  1.0  3.0  1.0  39.0  0.0  0.0  0.0  0.0  ...  88004.0   \n",
              "29996  29997  150000  1.0  3.0  2.0  43.0 -1.0 -1.0 -1.0 -1.0  ...   8979.0   \n",
              "29997  29998   30000  1.0  2.0  2.0  37.0  4.0  3.0  2.0 -1.0  ...  20878.0   \n",
              "29998  29999   80000  1.0  3.0  1.0  41.0  1.0 -1.0  0.0  0.0  ...  52774.0   \n",
              "29999  30000   50000  1.0  2.0  1.0  46.0  0.0  0.0  0.0  0.0  ...  36535.0   \n",
              "\n",
              "           X16      X17      X18      X19      X20     X21      X22     X23  \\\n",
              "0          0.0      0.0      0.0    689.0      0.0     0.0      0.0     0.0   \n",
              "1       3455.0   3261.0      0.0   1000.0   1000.0  1000.0      0.0  2000.0   \n",
              "2      14948.0  15549.0   1518.0   1500.0   1000.0  1000.0   1000.0  5000.0   \n",
              "3      28959.0  29547.0   2000.0   2019.0   1200.0  1100.0   1069.0  1000.0   \n",
              "4      19146.0  19131.0   2000.0  36681.0  10000.0  9000.0    689.0   679.0   \n",
              "...        ...      ...      ...      ...      ...     ...      ...     ...   \n",
              "29995  31237.0  15980.0   8500.0  20000.0   5003.0  3047.0   5000.0  1000.0   \n",
              "29996   5190.0      0.0   1837.0   3526.0   8998.0   129.0      0.0     0.0   \n",
              "29997  20582.0  19357.0      0.0      0.0  22000.0  4200.0   2000.0  3100.0   \n",
              "29998  11855.0  48944.0  85900.0   3409.0   1178.0  1926.0  52964.0  1804.0   \n",
              "29999  32428.0  15313.0   2078.0   1800.0   1430.0  1000.0   1000.0  1000.0   \n",
              "\n",
              "         Y  \n",
              "0      1.0  \n",
              "1      1.0  \n",
              "2      0.0  \n",
              "3      0.0  \n",
              "4      0.0  \n",
              "...    ...  \n",
              "29995  0.0  \n",
              "29996  0.0  \n",
              "29997  1.0  \n",
              "29998  1.0  \n",
              "29999  1.0  \n",
              "\n",
              "[30000 rows x 25 columns]"
            ],
            "text/html": [
              "\n",
              "  <div id=\"df-edc71d68-63e4-4d29-8728-8890fae14791\">\n",
              "    <div class=\"colab-df-container\">\n",
              "      <div>\n",
              "<style scoped>\n",
              "    .dataframe tbody tr th:only-of-type {\n",
              "        vertical-align: middle;\n",
              "    }\n",
              "\n",
              "    .dataframe tbody tr th {\n",
              "        vertical-align: top;\n",
              "    }\n",
              "\n",
              "    .dataframe thead th {\n",
              "        text-align: right;\n",
              "    }\n",
              "</style>\n",
              "<table border=\"1\" class=\"dataframe\">\n",
              "  <thead>\n",
              "    <tr style=\"text-align: right;\">\n",
              "      <th></th>\n",
              "      <th>ID</th>\n",
              "      <th>X1</th>\n",
              "      <th>X2</th>\n",
              "      <th>X3</th>\n",
              "      <th>X4</th>\n",
              "      <th>X5</th>\n",
              "      <th>X6</th>\n",
              "      <th>X7</th>\n",
              "      <th>X8</th>\n",
              "      <th>X9</th>\n",
              "      <th>...</th>\n",
              "      <th>X15</th>\n",
              "      <th>X16</th>\n",
              "      <th>X17</th>\n",
              "      <th>X18</th>\n",
              "      <th>X19</th>\n",
              "      <th>X20</th>\n",
              "      <th>X21</th>\n",
              "      <th>X22</th>\n",
              "      <th>X23</th>\n",
              "      <th>Y</th>\n",
              "    </tr>\n",
              "  </thead>\n",
              "  <tbody>\n",
              "    <tr>\n",
              "      <th>0</th>\n",
              "      <td>1</td>\n",
              "      <td>20000</td>\n",
              "      <td>2.0</td>\n",
              "      <td>2.0</td>\n",
              "      <td>1.0</td>\n",
              "      <td>24.0</td>\n",
              "      <td>2.0</td>\n",
              "      <td>2.0</td>\n",
              "      <td>-1.0</td>\n",
              "      <td>-1.0</td>\n",
              "      <td>...</td>\n",
              "      <td>0.0</td>\n",
              "      <td>0.0</td>\n",
              "      <td>0.0</td>\n",
              "      <td>0.0</td>\n",
              "      <td>689.0</td>\n",
              "      <td>0.0</td>\n",
              "      <td>0.0</td>\n",
              "      <td>0.0</td>\n",
              "      <td>0.0</td>\n",
              "      <td>1.0</td>\n",
              "    </tr>\n",
              "    <tr>\n",
              "      <th>1</th>\n",
              "      <td>2</td>\n",
              "      <td>120000</td>\n",
              "      <td>2.0</td>\n",
              "      <td>2.0</td>\n",
              "      <td>2.0</td>\n",
              "      <td>26.0</td>\n",
              "      <td>-1.0</td>\n",
              "      <td>2.0</td>\n",
              "      <td>0.0</td>\n",
              "      <td>0.0</td>\n",
              "      <td>...</td>\n",
              "      <td>3272.0</td>\n",
              "      <td>3455.0</td>\n",
              "      <td>3261.0</td>\n",
              "      <td>0.0</td>\n",
              "      <td>1000.0</td>\n",
              "      <td>1000.0</td>\n",
              "      <td>1000.0</td>\n",
              "      <td>0.0</td>\n",
              "      <td>2000.0</td>\n",
              "      <td>1.0</td>\n",
              "    </tr>\n",
              "    <tr>\n",
              "      <th>2</th>\n",
              "      <td>3</td>\n",
              "      <td>90000</td>\n",
              "      <td>2.0</td>\n",
              "      <td>2.0</td>\n",
              "      <td>2.0</td>\n",
              "      <td>34.0</td>\n",
              "      <td>0.0</td>\n",
              "      <td>0.0</td>\n",
              "      <td>0.0</td>\n",
              "      <td>0.0</td>\n",
              "      <td>...</td>\n",
              "      <td>14331.0</td>\n",
              "      <td>14948.0</td>\n",
              "      <td>15549.0</td>\n",
              "      <td>1518.0</td>\n",
              "      <td>1500.0</td>\n",
              "      <td>1000.0</td>\n",
              "      <td>1000.0</td>\n",
              "      <td>1000.0</td>\n",
              "      <td>5000.0</td>\n",
              "      <td>0.0</td>\n",
              "    </tr>\n",
              "    <tr>\n",
              "      <th>3</th>\n",
              "      <td>4</td>\n",
              "      <td>50000</td>\n",
              "      <td>2.0</td>\n",
              "      <td>2.0</td>\n",
              "      <td>1.0</td>\n",
              "      <td>37.0</td>\n",
              "      <td>0.0</td>\n",
              "      <td>0.0</td>\n",
              "      <td>0.0</td>\n",
              "      <td>0.0</td>\n",
              "      <td>...</td>\n",
              "      <td>28314.0</td>\n",
              "      <td>28959.0</td>\n",
              "      <td>29547.0</td>\n",
              "      <td>2000.0</td>\n",
              "      <td>2019.0</td>\n",
              "      <td>1200.0</td>\n",
              "      <td>1100.0</td>\n",
              "      <td>1069.0</td>\n",
              "      <td>1000.0</td>\n",
              "      <td>0.0</td>\n",
              "    </tr>\n",
              "    <tr>\n",
              "      <th>4</th>\n",
              "      <td>5</td>\n",
              "      <td>50000</td>\n",
              "      <td>1.0</td>\n",
              "      <td>2.0</td>\n",
              "      <td>1.0</td>\n",
              "      <td>57.0</td>\n",
              "      <td>-1.0</td>\n",
              "      <td>0.0</td>\n",
              "      <td>-1.0</td>\n",
              "      <td>0.0</td>\n",
              "      <td>...</td>\n",
              "      <td>20940.0</td>\n",
              "      <td>19146.0</td>\n",
              "      <td>19131.0</td>\n",
              "      <td>2000.0</td>\n",
              "      <td>36681.0</td>\n",
              "      <td>10000.0</td>\n",
              "      <td>9000.0</td>\n",
              "      <td>689.0</td>\n",
              "      <td>679.0</td>\n",
              "      <td>0.0</td>\n",
              "    </tr>\n",
              "    <tr>\n",
              "      <th>...</th>\n",
              "      <td>...</td>\n",
              "      <td>...</td>\n",
              "      <td>...</td>\n",
              "      <td>...</td>\n",
              "      <td>...</td>\n",
              "      <td>...</td>\n",
              "      <td>...</td>\n",
              "      <td>...</td>\n",
              "      <td>...</td>\n",
              "      <td>...</td>\n",
              "      <td>...</td>\n",
              "      <td>...</td>\n",
              "      <td>...</td>\n",
              "      <td>...</td>\n",
              "      <td>...</td>\n",
              "      <td>...</td>\n",
              "      <td>...</td>\n",
              "      <td>...</td>\n",
              "      <td>...</td>\n",
              "      <td>...</td>\n",
              "      <td>...</td>\n",
              "    </tr>\n",
              "    <tr>\n",
              "      <th>29995</th>\n",
              "      <td>29996</td>\n",
              "      <td>220000</td>\n",
              "      <td>1.0</td>\n",
              "      <td>3.0</td>\n",
              "      <td>1.0</td>\n",
              "      <td>39.0</td>\n",
              "      <td>0.0</td>\n",
              "      <td>0.0</td>\n",
              "      <td>0.0</td>\n",
              "      <td>0.0</td>\n",
              "      <td>...</td>\n",
              "      <td>88004.0</td>\n",
              "      <td>31237.0</td>\n",
              "      <td>15980.0</td>\n",
              "      <td>8500.0</td>\n",
              "      <td>20000.0</td>\n",
              "      <td>5003.0</td>\n",
              "      <td>3047.0</td>\n",
              "      <td>5000.0</td>\n",
              "      <td>1000.0</td>\n",
              "      <td>0.0</td>\n",
              "    </tr>\n",
              "    <tr>\n",
              "      <th>29996</th>\n",
              "      <td>29997</td>\n",
              "      <td>150000</td>\n",
              "      <td>1.0</td>\n",
              "      <td>3.0</td>\n",
              "      <td>2.0</td>\n",
              "      <td>43.0</td>\n",
              "      <td>-1.0</td>\n",
              "      <td>-1.0</td>\n",
              "      <td>-1.0</td>\n",
              "      <td>-1.0</td>\n",
              "      <td>...</td>\n",
              "      <td>8979.0</td>\n",
              "      <td>5190.0</td>\n",
              "      <td>0.0</td>\n",
              "      <td>1837.0</td>\n",
              "      <td>3526.0</td>\n",
              "      <td>8998.0</td>\n",
              "      <td>129.0</td>\n",
              "      <td>0.0</td>\n",
              "      <td>0.0</td>\n",
              "      <td>0.0</td>\n",
              "    </tr>\n",
              "    <tr>\n",
              "      <th>29997</th>\n",
              "      <td>29998</td>\n",
              "      <td>30000</td>\n",
              "      <td>1.0</td>\n",
              "      <td>2.0</td>\n",
              "      <td>2.0</td>\n",
              "      <td>37.0</td>\n",
              "      <td>4.0</td>\n",
              "      <td>3.0</td>\n",
              "      <td>2.0</td>\n",
              "      <td>-1.0</td>\n",
              "      <td>...</td>\n",
              "      <td>20878.0</td>\n",
              "      <td>20582.0</td>\n",
              "      <td>19357.0</td>\n",
              "      <td>0.0</td>\n",
              "      <td>0.0</td>\n",
              "      <td>22000.0</td>\n",
              "      <td>4200.0</td>\n",
              "      <td>2000.0</td>\n",
              "      <td>3100.0</td>\n",
              "      <td>1.0</td>\n",
              "    </tr>\n",
              "    <tr>\n",
              "      <th>29998</th>\n",
              "      <td>29999</td>\n",
              "      <td>80000</td>\n",
              "      <td>1.0</td>\n",
              "      <td>3.0</td>\n",
              "      <td>1.0</td>\n",
              "      <td>41.0</td>\n",
              "      <td>1.0</td>\n",
              "      <td>-1.0</td>\n",
              "      <td>0.0</td>\n",
              "      <td>0.0</td>\n",
              "      <td>...</td>\n",
              "      <td>52774.0</td>\n",
              "      <td>11855.0</td>\n",
              "      <td>48944.0</td>\n",
              "      <td>85900.0</td>\n",
              "      <td>3409.0</td>\n",
              "      <td>1178.0</td>\n",
              "      <td>1926.0</td>\n",
              "      <td>52964.0</td>\n",
              "      <td>1804.0</td>\n",
              "      <td>1.0</td>\n",
              "    </tr>\n",
              "    <tr>\n",
              "      <th>29999</th>\n",
              "      <td>30000</td>\n",
              "      <td>50000</td>\n",
              "      <td>1.0</td>\n",
              "      <td>2.0</td>\n",
              "      <td>1.0</td>\n",
              "      <td>46.0</td>\n",
              "      <td>0.0</td>\n",
              "      <td>0.0</td>\n",
              "      <td>0.0</td>\n",
              "      <td>0.0</td>\n",
              "      <td>...</td>\n",
              "      <td>36535.0</td>\n",
              "      <td>32428.0</td>\n",
              "      <td>15313.0</td>\n",
              "      <td>2078.0</td>\n",
              "      <td>1800.0</td>\n",
              "      <td>1430.0</td>\n",
              "      <td>1000.0</td>\n",
              "      <td>1000.0</td>\n",
              "      <td>1000.0</td>\n",
              "      <td>1.0</td>\n",
              "    </tr>\n",
              "  </tbody>\n",
              "</table>\n",
              "<p>30000 rows × 25 columns</p>\n",
              "</div>\n",
              "      <button class=\"colab-df-convert\" onclick=\"convertToInteractive('df-edc71d68-63e4-4d29-8728-8890fae14791')\"\n",
              "              title=\"Convert this dataframe to an interactive table.\"\n",
              "              style=\"display:none;\">\n",
              "        \n",
              "  <svg xmlns=\"http://www.w3.org/2000/svg\" height=\"24px\"viewBox=\"0 0 24 24\"\n",
              "       width=\"24px\">\n",
              "    <path d=\"M0 0h24v24H0V0z\" fill=\"none\"/>\n",
              "    <path d=\"M18.56 5.44l.94 2.06.94-2.06 2.06-.94-2.06-.94-.94-2.06-.94 2.06-2.06.94zm-11 1L8.5 8.5l.94-2.06 2.06-.94-2.06-.94L8.5 2.5l-.94 2.06-2.06.94zm10 10l.94 2.06.94-2.06 2.06-.94-2.06-.94-.94-2.06-.94 2.06-2.06.94z\"/><path d=\"M17.41 7.96l-1.37-1.37c-.4-.4-.92-.59-1.43-.59-.52 0-1.04.2-1.43.59L10.3 9.45l-7.72 7.72c-.78.78-.78 2.05 0 2.83L4 21.41c.39.39.9.59 1.41.59.51 0 1.02-.2 1.41-.59l7.78-7.78 2.81-2.81c.8-.78.8-2.07 0-2.86zM5.41 20L4 18.59l7.72-7.72 1.47 1.35L5.41 20z\"/>\n",
              "  </svg>\n",
              "      </button>\n",
              "      \n",
              "  <style>\n",
              "    .colab-df-container {\n",
              "      display:flex;\n",
              "      flex-wrap:wrap;\n",
              "      gap: 12px;\n",
              "    }\n",
              "\n",
              "    .colab-df-convert {\n",
              "      background-color: #E8F0FE;\n",
              "      border: none;\n",
              "      border-radius: 50%;\n",
              "      cursor: pointer;\n",
              "      display: none;\n",
              "      fill: #1967D2;\n",
              "      height: 32px;\n",
              "      padding: 0 0 0 0;\n",
              "      width: 32px;\n",
              "    }\n",
              "\n",
              "    .colab-df-convert:hover {\n",
              "      background-color: #E2EBFA;\n",
              "      box-shadow: 0px 1px 2px rgba(60, 64, 67, 0.3), 0px 1px 3px 1px rgba(60, 64, 67, 0.15);\n",
              "      fill: #174EA6;\n",
              "    }\n",
              "\n",
              "    [theme=dark] .colab-df-convert {\n",
              "      background-color: #3B4455;\n",
              "      fill: #D2E3FC;\n",
              "    }\n",
              "\n",
              "    [theme=dark] .colab-df-convert:hover {\n",
              "      background-color: #434B5C;\n",
              "      box-shadow: 0px 1px 3px 1px rgba(0, 0, 0, 0.15);\n",
              "      filter: drop-shadow(0px 1px 2px rgba(0, 0, 0, 0.3));\n",
              "      fill: #FFFFFF;\n",
              "    }\n",
              "  </style>\n",
              "\n",
              "      <script>\n",
              "        const buttonEl =\n",
              "          document.querySelector('#df-edc71d68-63e4-4d29-8728-8890fae14791 button.colab-df-convert');\n",
              "        buttonEl.style.display =\n",
              "          google.colab.kernel.accessAllowed ? 'block' : 'none';\n",
              "\n",
              "        async function convertToInteractive(key) {\n",
              "          const element = document.querySelector('#df-edc71d68-63e4-4d29-8728-8890fae14791');\n",
              "          const dataTable =\n",
              "            await google.colab.kernel.invokeFunction('convertToInteractive',\n",
              "                                                     [key], {});\n",
              "          if (!dataTable) return;\n",
              "\n",
              "          const docLinkHtml = 'Like what you see? Visit the ' +\n",
              "            '<a target=\"_blank\" href=https://colab.research.google.com/notebooks/data_table.ipynb>data table notebook</a>'\n",
              "            + ' to learn more about interactive tables.';\n",
              "          element.innerHTML = '';\n",
              "          dataTable['output_type'] = 'display_data';\n",
              "          await google.colab.output.renderOutput(dataTable, element);\n",
              "          const docLink = document.createElement('div');\n",
              "          docLink.innerHTML = docLinkHtml;\n",
              "          element.appendChild(docLink);\n",
              "        }\n",
              "      </script>\n",
              "    </div>\n",
              "  </div>\n",
              "  "
            ]
          },
          "metadata": {},
          "execution_count": 398
        }
      ]
    },
    {
      "cell_type": "markdown",
      "source": [
        "## Estandarización general"
      ],
      "metadata": {
        "id": "wBqu04wGVSAu"
      }
    },
    {
      "cell_type": "markdown",
      "source": [
        "Se verifica el tipo de datos en cada columna del dataframe"
      ],
      "metadata": {
        "id": "TBb05PjLU7Oe"
      }
    },
    {
      "cell_type": "code",
      "source": [
        "cdf.dtypes"
      ],
      "metadata": {
        "colab": {
          "base_uri": "https://localhost:8080/"
        },
        "id": "Y9LbevbeU8wY",
        "outputId": "2650ebff-10ea-4bed-e057-fa1458e97dc7"
      },
      "execution_count": null,
      "outputs": [
        {
          "output_type": "execute_result",
          "data": {
            "text/plain": [
              "ID       int64\n",
              "X1       int64\n",
              "X2     float64\n",
              "X3     float64\n",
              "X4     float64\n",
              "X5     float64\n",
              "X6     float64\n",
              "X7     float64\n",
              "X8     float64\n",
              "X9     float64\n",
              "X10    float64\n",
              "X11    float64\n",
              "X12    float64\n",
              "X13    float64\n",
              "X14    float64\n",
              "X15    float64\n",
              "X16    float64\n",
              "X17    float64\n",
              "X18    float64\n",
              "X19    float64\n",
              "X20    float64\n",
              "X21    float64\n",
              "X22    float64\n",
              "X23    float64\n",
              "Y      float64\n",
              "dtype: object"
            ]
          },
          "metadata": {},
          "execution_count": 412
        }
      ]
    },
    {
      "cell_type": "markdown",
      "source": [
        "Las comprobaciones que se realizarán en estos datos serán únicamente para conocer mejor este conjunto específico, pero se contemplan correciones bajo la consideración que no sabemos cómo serían los datos futuros"
      ],
      "metadata": {
        "id": "RJ-IcGUKBujV"
      }
    },
    {
      "cell_type": "markdown",
      "source": [
        "Se comprueba que X1 tenga valores numéricos <=0 debido a que es el monto de crédito otorgado y no podría ser negativo. En caso que existieran esos valores, se considerarán iguales a cero."
      ],
      "metadata": {
        "id": "7FC6c4-cU4IU"
      }
    },
    {
      "cell_type": "code",
      "source": [
        "x1=cdf[cdf['X1']<=0]\n",
        "print(x1) \n",
        "cdf[cdf['X1']<=0]=0 #Cambio de valores conforme el estándar comentado"
      ],
      "metadata": {
        "colab": {
          "base_uri": "https://localhost:8080/"
        },
        "id": "ewRwazymSW_p",
        "outputId": "d7d2ee49-4fa4-41ec-ac5e-3b61346cca13"
      },
      "execution_count": null,
      "outputs": [
        {
          "output_type": "stream",
          "name": "stdout",
          "text": [
            "       ID  X1   X2   X3   X4   X5   X6   X7   X8   X9  ...  X15  X16  X17  \\\n",
            "0      -1  -1 -1.0 -1.0 -1.0 -1.0 -1.0 -1.0 -1.0 -1.0  ... -1.0 -1.0 -1.0   \n",
            "9      -1  -1 -1.0 -1.0 -1.0 -1.0 -1.0 -1.0 -1.0 -1.0  ... -1.0 -1.0 -1.0   \n",
            "18     -1  -1 -1.0 -1.0 -1.0 -1.0 -1.0 -1.0 -1.0 -1.0  ... -1.0 -1.0 -1.0   \n",
            "19     -1  -1 -1.0 -1.0 -1.0 -1.0 -1.0 -1.0 -1.0 -1.0  ... -1.0 -1.0 -1.0   \n",
            "23     -1  -1 -1.0 -1.0 -1.0 -1.0 -1.0 -1.0 -1.0 -1.0  ... -1.0 -1.0 -1.0   \n",
            "...    ..  ..  ...  ...  ...  ...  ...  ...  ...  ...  ...  ...  ...  ...   \n",
            "29984  -1  -1 -1.0 -1.0 -1.0 -1.0 -1.0 -1.0 -1.0 -1.0  ... -1.0 -1.0 -1.0   \n",
            "29985  -1  -1 -1.0 -1.0 -1.0 -1.0 -1.0 -1.0 -1.0 -1.0  ... -1.0 -1.0 -1.0   \n",
            "29986  -1  -1 -1.0 -1.0 -1.0 -1.0 -1.0 -1.0 -1.0 -1.0  ... -1.0 -1.0 -1.0   \n",
            "29989  -1  -1 -1.0 -1.0 -1.0 -1.0 -1.0 -1.0 -1.0 -1.0  ... -1.0 -1.0 -1.0   \n",
            "29992  -1  -1 -1.0 -1.0 -1.0 -1.0 -1.0 -1.0 -1.0 -1.0  ... -1.0 -1.0 -1.0   \n",
            "\n",
            "       X18  X19  X20  X21  X22  X23    Y  \n",
            "0     -1.0 -1.0 -1.0 -1.0 -1.0 -1.0 -1.0  \n",
            "9     -1.0 -1.0 -1.0 -1.0 -1.0 -1.0 -1.0  \n",
            "18    -1.0 -1.0 -1.0 -1.0 -1.0 -1.0 -1.0  \n",
            "19    -1.0 -1.0 -1.0 -1.0 -1.0 -1.0 -1.0  \n",
            "23    -1.0 -1.0 -1.0 -1.0 -1.0 -1.0 -1.0  \n",
            "...    ...  ...  ...  ...  ...  ...  ...  \n",
            "29984 -1.0 -1.0 -1.0 -1.0 -1.0 -1.0 -1.0  \n",
            "29985 -1.0 -1.0 -1.0 -1.0 -1.0 -1.0 -1.0  \n",
            "29986 -1.0 -1.0 -1.0 -1.0 -1.0 -1.0 -1.0  \n",
            "29989 -1.0 -1.0 -1.0 -1.0 -1.0 -1.0 -1.0  \n",
            "29992 -1.0 -1.0 -1.0 -1.0 -1.0 -1.0 -1.0  \n",
            "\n",
            "[6451 rows x 25 columns]\n"
          ]
        }
      ]
    },
    {
      "cell_type": "markdown",
      "source": [
        "Se comprueba si hay elementos en X2 cuyos valores no correspondan a las categorías de género disponibles. En caso que existieran esos valores, se sustituirán por uno de los dos géneros al azar, puesto que el modelo no está particularmente enfocado en el género y no se opta por alguno de los dos arbitrariamenete para evitar algún sesgo."
      ],
      "metadata": {
        "id": "wXoGD1biTAh4"
      }
    },
    {
      "cell_type": "code",
      "source": [
        "x2=cdf[(cdf['X2']!=1) & (cdf['X2']!=2)]\n",
        "print(x2)\n",
        "cdf[(cdf['X2']!=1) & (cdf['X2']!=2)]=np.random.randint(1,3) #Cambio de valores conforme el estándar comentado"
      ],
      "metadata": {
        "colab": {
          "base_uri": "https://localhost:8080/"
        },
        "id": "YqH8dGf1U7G4",
        "outputId": "c95bfb9c-24cc-42c3-811a-a95ab9349ac1"
      },
      "execution_count": null,
      "outputs": [
        {
          "output_type": "stream",
          "name": "stdout",
          "text": [
            "       ID  X1   X2   X3   X4   X5   X6   X7   X8   X9  ...  X15  X16  X17  \\\n",
            "0       0   0  0.0  0.0  0.0  0.0  0.0  0.0  0.0  0.0  ...  0.0  0.0  0.0   \n",
            "9       0   0  0.0  0.0  0.0  0.0  0.0  0.0  0.0  0.0  ...  0.0  0.0  0.0   \n",
            "18      0   0  0.0  0.0  0.0  0.0  0.0  0.0  0.0  0.0  ...  0.0  0.0  0.0   \n",
            "19      0   0  0.0  0.0  0.0  0.0  0.0  0.0  0.0  0.0  ...  0.0  0.0  0.0   \n",
            "23      0   0  0.0  0.0  0.0  0.0  0.0  0.0  0.0  0.0  ...  0.0  0.0  0.0   \n",
            "...    ..  ..  ...  ...  ...  ...  ...  ...  ...  ...  ...  ...  ...  ...   \n",
            "29984   0   0  0.0  0.0  0.0  0.0  0.0  0.0  0.0  0.0  ...  0.0  0.0  0.0   \n",
            "29985   0   0  0.0  0.0  0.0  0.0  0.0  0.0  0.0  0.0  ...  0.0  0.0  0.0   \n",
            "29986   0   0  0.0  0.0  0.0  0.0  0.0  0.0  0.0  0.0  ...  0.0  0.0  0.0   \n",
            "29989   0   0  0.0  0.0  0.0  0.0  0.0  0.0  0.0  0.0  ...  0.0  0.0  0.0   \n",
            "29992   0   0  0.0  0.0  0.0  0.0  0.0  0.0  0.0  0.0  ...  0.0  0.0  0.0   \n",
            "\n",
            "       X18  X19  X20  X21  X22  X23    Y  \n",
            "0      0.0  0.0  0.0  0.0  0.0  0.0  0.0  \n",
            "9      0.0  0.0  0.0  0.0  0.0  0.0  0.0  \n",
            "18     0.0  0.0  0.0  0.0  0.0  0.0  0.0  \n",
            "19     0.0  0.0  0.0  0.0  0.0  0.0  0.0  \n",
            "23     0.0  0.0  0.0  0.0  0.0  0.0  0.0  \n",
            "...    ...  ...  ...  ...  ...  ...  ...  \n",
            "29984  0.0  0.0  0.0  0.0  0.0  0.0  0.0  \n",
            "29985  0.0  0.0  0.0  0.0  0.0  0.0  0.0  \n",
            "29986  0.0  0.0  0.0  0.0  0.0  0.0  0.0  \n",
            "29989  0.0  0.0  0.0  0.0  0.0  0.0  0.0  \n",
            "29992  0.0  0.0  0.0  0.0  0.0  0.0  0.0  \n",
            "\n",
            "[6852 rows x 25 columns]\n"
          ]
        }
      ]
    },
    {
      "cell_type": "markdown",
      "source": [
        "Se comprueba si hay elementos en X3 cuyos valores no correspondan a las categorías de educación disponibles. En caso que existieran esos valores, se les asignará la categoría 'otra' porque es una no específica y al no contar con el dato correcto, sería la opción más lógica. "
      ],
      "metadata": {
        "id": "oAQ--3jNTThT"
      }
    },
    {
      "cell_type": "code",
      "source": [
        "x3=cdf[(cdf['X3']!=1) & (cdf['X3']!=2) & (cdf['X3']!=3) & (cdf['X3']!=4)]\n",
        "print(x3)\n",
        "cdf[(cdf['X3']!=1) & (cdf['X3']!=2) & (cdf['X3']!=3) & (cdf['X3']!=4)]=4 #Cambio de valores conforme el estándar comentado\n"
      ],
      "metadata": {
        "colab": {
          "base_uri": "https://localhost:8080/"
        },
        "id": "UKjTuI57TUNX",
        "outputId": "6f359032-0df2-44cd-9ff0-b1acf009051e"
      },
      "execution_count": null,
      "outputs": [
        {
          "output_type": "stream",
          "name": "stdout",
          "text": [
            "Empty DataFrame\n",
            "Columns: [ID, X1, X2, X3, X4, X5, X6, X7, X8, X9, X10, X11, X12, X13, X14, X15, X16, X17, X18, X19, X20, X21, X22, X23, Y]\n",
            "Index: []\n",
            "\n",
            "[0 rows x 25 columns]\n"
          ]
        }
      ]
    },
    {
      "cell_type": "markdown",
      "source": [
        "Se comprueba si hay elementos en X4 cuyos valores no correspondan a las categorías de estado civil disponibles. En caso que existieran esos valores, se les asignará la categoría 'otra' porque es una no específica y al no contar con el dato correcto, sería la opción más lógica. "
      ],
      "metadata": {
        "id": "naGl4WMZTVrz"
      }
    },
    {
      "cell_type": "code",
      "source": [
        "x4=cdf[(cdf['X4']!=1) & (cdf['X4']!=2) & (cdf['X4']!=3)]\n",
        "print(x4)\n",
        "cdf[(cdf['X4']!=1) & (cdf['X4']!=2) & (cdf['X4']!=3)]=3 #Cambio de valores conforme el estándar comentado"
      ],
      "metadata": {
        "colab": {
          "base_uri": "https://localhost:8080/"
        },
        "id": "AeSZcifNTXQK",
        "outputId": "6be7bc54-e9f1-4af5-eea5-f633fb9bfc03"
      },
      "execution_count": null,
      "outputs": [
        {
          "output_type": "stream",
          "name": "stdout",
          "text": [
            "Empty DataFrame\n",
            "Columns: [ID, X1, X2, X3, X4, X5, X6, X7, X8, X9, X10, X11, X12, X13, X14, X15, X16, X17, X18, X19, X20, X21, X22, X23, Y]\n",
            "Index: []\n",
            "\n",
            "[0 rows x 25 columns]\n"
          ]
        }
      ]
    },
    {
      "cell_type": "markdown",
      "source": [
        "Se comprueba si hay elementos en X5 cuyos valores no correspondan con una edad lógica (<18 = ilógico). En caso que existieran esos valores, se les asignará edad=18."
      ],
      "metadata": {
        "id": "-6f87vBBTYvz"
      }
    },
    {
      "cell_type": "code",
      "source": [
        "x5=cdf[cdf['X5']<18]\n",
        "print(x5)\n",
        "cdf[cdf['X5']<18]=18 #Cambio de valores conforme el estándar comentado"
      ],
      "metadata": {
        "colab": {
          "base_uri": "https://localhost:8080/"
        },
        "id": "lR2h1L16TbPR",
        "outputId": "5108d02d-ce74-4805-ac8e-436d7d366a83"
      },
      "execution_count": null,
      "outputs": [
        {
          "output_type": "stream",
          "name": "stdout",
          "text": [
            "       ID  X1   X2   X3   X4   X5   X6   X7   X8   X9  ...  X15  X16  X17  \\\n",
            "0       1   1  1.0  1.0  1.0  1.0  1.0  1.0  1.0  1.0  ...  1.0  1.0  1.0   \n",
            "9       1   1  1.0  1.0  1.0  1.0  1.0  1.0  1.0  1.0  ...  1.0  1.0  1.0   \n",
            "18      1   1  1.0  1.0  1.0  1.0  1.0  1.0  1.0  1.0  ...  1.0  1.0  1.0   \n",
            "19      1   1  1.0  1.0  1.0  1.0  1.0  1.0  1.0  1.0  ...  1.0  1.0  1.0   \n",
            "23      1   1  1.0  1.0  1.0  1.0  1.0  1.0  1.0  1.0  ...  1.0  1.0  1.0   \n",
            "...    ..  ..  ...  ...  ...  ...  ...  ...  ...  ...  ...  ...  ...  ...   \n",
            "29984   1   1  1.0  1.0  1.0  1.0  1.0  1.0  1.0  1.0  ...  1.0  1.0  1.0   \n",
            "29985   1   1  1.0  1.0  1.0  1.0  1.0  1.0  1.0  1.0  ...  1.0  1.0  1.0   \n",
            "29986   1   1  1.0  1.0  1.0  1.0  1.0  1.0  1.0  1.0  ...  1.0  1.0  1.0   \n",
            "29989   1   1  1.0  1.0  1.0  1.0  1.0  1.0  1.0  1.0  ...  1.0  1.0  1.0   \n",
            "29992   1   1  1.0  1.0  1.0  1.0  1.0  1.0  1.0  1.0  ...  1.0  1.0  1.0   \n",
            "\n",
            "       X18  X19  X20  X21  X22  X23    Y  \n",
            "0      1.0  1.0  1.0  1.0  1.0  1.0  1.0  \n",
            "9      1.0  1.0  1.0  1.0  1.0  1.0  1.0  \n",
            "18     1.0  1.0  1.0  1.0  1.0  1.0  1.0  \n",
            "19     1.0  1.0  1.0  1.0  1.0  1.0  1.0  \n",
            "23     1.0  1.0  1.0  1.0  1.0  1.0  1.0  \n",
            "...    ...  ...  ...  ...  ...  ...  ...  \n",
            "29984  1.0  1.0  1.0  1.0  1.0  1.0  1.0  \n",
            "29985  1.0  1.0  1.0  1.0  1.0  1.0  1.0  \n",
            "29986  1.0  1.0  1.0  1.0  1.0  1.0  1.0  \n",
            "29989  1.0  1.0  1.0  1.0  1.0  1.0  1.0  \n",
            "29992  1.0  1.0  1.0  1.0  1.0  1.0  1.0  \n",
            "\n",
            "[6852 rows x 25 columns]\n"
          ]
        }
      ]
    },
    {
      "cell_type": "markdown",
      "source": [
        "Se comprueba si hay elementos en X6:X11 (sep-abr 2005) cuyos valores no correspondan con un historial de pago lógico (<-1). De momento solo se hace para conocer nuestros datos, en la siguiente sección se tomarán medidas."
      ],
      "metadata": {
        "id": "JOesiK4FVMC_"
      }
    },
    {
      "cell_type": "code",
      "source": [
        "r6=cdf.columns.get_loc('X6') #Se busca el índice para la columna llamada 'X6'\n",
        "r11=cdf.columns.get_loc('X11') #Se busca el índice para la columna llamada 'X11'\n",
        "for i in range(r6,r11+1):\n",
        "  x6_x11=cdf[cdf.iloc[:,i]<-1] \n",
        "  print(x6_x11)"
      ],
      "metadata": {
        "id": "rDQYnkr2VMgn",
        "colab": {
          "base_uri": "https://localhost:8080/"
        },
        "outputId": "1ae8f1e1-29d9-47dd-b629-29d5a6ddfbfe"
      },
      "execution_count": null,
      "outputs": [
        {
          "output_type": "stream",
          "name": "stdout",
          "text": [
            "Empty DataFrame\n",
            "Columns: [ID, X1, X2, X3, X4, X5, X6, X7, X8, X9, X10, X11, X12, X13, X14, X15, X16, X17, X18, X19, X20, X21, X22, X23, Y]\n",
            "Index: []\n",
            "\n",
            "[0 rows x 25 columns]\n",
            "Empty DataFrame\n",
            "Columns: [ID, X1, X2, X3, X4, X5, X6, X7, X8, X9, X10, X11, X12, X13, X14, X15, X16, X17, X18, X19, X20, X21, X22, X23, Y]\n",
            "Index: []\n",
            "\n",
            "[0 rows x 25 columns]\n",
            "Empty DataFrame\n",
            "Columns: [ID, X1, X2, X3, X4, X5, X6, X7, X8, X9, X10, X11, X12, X13, X14, X15, X16, X17, X18, X19, X20, X21, X22, X23, Y]\n",
            "Index: []\n",
            "\n",
            "[0 rows x 25 columns]\n",
            "Empty DataFrame\n",
            "Columns: [ID, X1, X2, X3, X4, X5, X6, X7, X8, X9, X10, X11, X12, X13, X14, X15, X16, X17, X18, X19, X20, X21, X22, X23, Y]\n",
            "Index: []\n",
            "\n",
            "[0 rows x 25 columns]\n",
            "Empty DataFrame\n",
            "Columns: [ID, X1, X2, X3, X4, X5, X6, X7, X8, X9, X10, X11, X12, X13, X14, X15, X16, X17, X18, X19, X20, X21, X22, X23, Y]\n",
            "Index: []\n",
            "\n",
            "[0 rows x 25 columns]\n",
            "Empty DataFrame\n",
            "Columns: [ID, X1, X2, X3, X4, X5, X6, X7, X8, X9, X10, X11, X12, X13, X14, X15, X16, X17, X18, X19, X20, X21, X22, X23, Y]\n",
            "Index: []\n",
            "\n",
            "[0 rows x 25 columns]\n"
          ]
        }
      ]
    },
    {
      "cell_type": "markdown",
      "source": [
        "En caso que existieran esos valores (historial de pago no lógico), se les asignará la categoría 'paga debidamente' (-1), puesto que si son números negativos más grandes que -1, podría significar un error al capturar los datos."
      ],
      "metadata": {
        "id": "loBT5Z0nOVjm"
      }
    },
    {
      "cell_type": "code",
      "source": [
        "for i in range(r6,r11+1): #Se crea un bucle para modificar los valores del índice de la columna 6 a la 11, sumando uno al segundo valor porque es excluyente\n",
        "  cdf[cdf.iloc[:,i]<-1] =-1 #cdf[cdf['X6']<-1] =-1"
      ],
      "metadata": {
        "id": "-1PKO8HFOWVB"
      },
      "execution_count": null,
      "outputs": []
    },
    {
      "cell_type": "markdown",
      "source": [
        "Comprobamos que fueron corregidos"
      ],
      "metadata": {
        "id": "PFJxbNUkOoxG"
      }
    },
    {
      "cell_type": "code",
      "source": [
        "x6=cdf[cdf['X6']<-1]\n",
        "print(x6)\n",
        "x11=cdf[cdf['X11']<-1]\n",
        "print(x11)"
      ],
      "metadata": {
        "colab": {
          "base_uri": "https://localhost:8080/"
        },
        "id": "lhi0aW8nOo8b",
        "outputId": "edaf85fd-fa0c-4168-a3fc-26d75200d95a"
      },
      "execution_count": null,
      "outputs": [
        {
          "output_type": "stream",
          "name": "stdout",
          "text": [
            "Empty DataFrame\n",
            "Columns: [ID, X1, X2, X3, X4, X5, X6, X7, X8, X9, X10, X11, X12, X13, X14, X15, X16, X17, X18, X19, X20, X21, X22, X23, Y]\n",
            "Index: []\n",
            "\n",
            "[0 rows x 25 columns]\n",
            "Empty DataFrame\n",
            "Columns: [ID, X1, X2, X3, X4, X5, X6, X7, X8, X9, X10, X11, X12, X13, X14, X15, X16, X17, X18, X19, X20, X21, X22, X23, Y]\n",
            "Index: []\n",
            "\n",
            "[0 rows x 25 columns]\n"
          ]
        }
      ]
    },
    {
      "cell_type": "markdown",
      "source": [
        "Se comprueba si hay elementos en X11:X17 cuyos valores no correspondan con un monto de deuda lógico (<-1 = ilógico). De momento solo se hace para conocer nuestros datos, en la siguiente sección se tomarán medidas. "
      ],
      "metadata": {
        "id": "7chu2ijZSioc"
      }
    },
    {
      "cell_type": "code",
      "source": [
        "r12=cdf.columns.get_loc('X12') #Se busca el índice para la columna llamada 'X12'\n",
        "r17=cdf.columns.get_loc('X17') #Se busca el índice para la columna llamada 'X17'\n",
        "for i in range(r12,r17+1):\n",
        "  x12_x17=cdf[cdf.iloc[:,i]<-1] \n",
        "  print(x12_x17)"
      ],
      "metadata": {
        "colab": {
          "base_uri": "https://localhost:8080/"
        },
        "id": "rI6V1PZASjDw",
        "outputId": "e608f06b-06da-4309-91eb-c4622e374a60"
      },
      "execution_count": null,
      "outputs": [
        {
          "output_type": "stream",
          "name": "stdout",
          "text": [
            "          ID      X1   X2   X3   X4    X5   X6   X7   X8   X9  ...      X15  \\\n",
            "330      331  200000  2.0  2.0  1.0  37.0  1.0 -1.0  2.0 -1.0  ...   6773.0   \n",
            "391      392  280000  2.0  2.0  1.0  39.0  1.0 -1.0  0.0  0.0  ...  37154.0   \n",
            "521      522  410000  2.0  2.0  2.0  27.0  1.0 -1.0  0.0  0.0  ...  44310.0   \n",
            "599      600  300000  2.0  2.0  1.0  36.0 -1.0 -1.0  2.0  0.0  ...   2303.0   \n",
            "1028    1029  200000  1.0  1.0  2.0  33.0  1.0 -1.0 -1.0  0.0  ...   1873.0   \n",
            "...      ...     ...  ...  ...  ...   ...  ...  ...  ...  ...  ...      ...   \n",
            "29089  29090  360000  2.0  2.0  2.0  51.0  1.0 -1.0 -1.0 -1.0  ...   9944.0   \n",
            "29303  29304   30000  1.0  2.0  2.0  26.0  1.0 -1.0 -1.0  2.0  ...  29361.0   \n",
            "29558  29559  200000  1.0  2.0  1.0  45.0  1.0 -1.0  0.0  0.0  ...  28355.0   \n",
            "29563  29564   20000  1.0  3.0  2.0  38.0  1.0 -1.0  0.0  0.0  ...  18161.0   \n",
            "29998  29999   80000  1.0  3.0  1.0  41.0  1.0 -1.0  0.0  0.0  ...  52774.0   \n",
            "\n",
            "           X16      X17      X18      X19     X20      X21      X22      X23  \\\n",
            "330    23209.0  16893.0   1000.0      0.0  6900.0  24000.0  17000.0   2500.0   \n",
            "391    32581.0  33316.0  38621.0   2000.0  1130.0    922.0   1011.0   5000.0   \n",
            "521    62408.0  61420.0  33049.0  16000.0  8700.0  18775.0  15000.0   5350.0   \n",
            "599     2768.0  65373.0  10000.0      0.0     0.0   2768.0  65373.0  10780.0   \n",
            "1028   90687.0   4577.0   3470.0   3191.0     0.0  90729.0      0.0   6266.0   \n",
            "...        ...      ...      ...      ...     ...      ...      ...      ...   \n",
            "29089   4540.0   8024.0  15528.0   2145.0  9944.0   4540.0   8024.0   4421.0   \n",
            "29303  29022.0  28409.0  28924.0   4000.0     0.0   1000.0    900.0    800.0   \n",
            "29558  29465.0  30885.0  34144.0   1492.0  1402.0   2002.0   2007.0   6163.0   \n",
            "29563  18521.0  18911.0  18451.0   1300.0  1302.0    662.0    688.0    800.0   \n",
            "29998  11855.0  48944.0  85900.0   3409.0  1178.0   1926.0  52964.0   1804.0   \n",
            "\n",
            "         Y  \n",
            "330    1.0  \n",
            "391    1.0  \n",
            "521    0.0  \n",
            "599    1.0  \n",
            "1028   0.0  \n",
            "...    ...  \n",
            "29089  0.0  \n",
            "29303  0.0  \n",
            "29558  0.0  \n",
            "29563  0.0  \n",
            "29998  1.0  \n",
            "\n",
            "[142 rows x 25 columns]\n",
            "          ID      X1   X2   X3   X4    X5   X6   X7   X8   X9  ...       X15  \\\n",
            "621      622  180000  2.0  2.0  2.0  28.0 -1.0 -1.0 -1.0 -1.0  ...     460.0   \n",
            "685      686  360000  1.0  1.0  1.0  47.0 -1.0 -1.0 -1.0  0.0  ...  174397.0   \n",
            "880      881  200000  1.0  1.0  2.0  30.0 -1.0 -1.0 -1.0  0.0  ...   11751.0   \n",
            "932      933  160000  2.0  2.0  2.0  29.0  2.0  2.0 -1.0 -1.0  ...       0.0   \n",
            "959      960  250000  1.0  1.0  2.0  41.0 -1.0 -1.0 -1.0  0.0  ...    5872.0   \n",
            "...      ...     ...  ...  ...  ...   ...  ...  ...  ...  ...  ...       ...   \n",
            "27495  27496  170000  1.0  2.0  1.0  57.0 -1.0 -1.0 -1.0 -1.0  ...     792.0   \n",
            "27576  27577  260000  1.0  1.0  1.0  59.0 -1.0 -1.0 -1.0 -1.0  ...     792.0   \n",
            "27773  27774   80000  2.0  2.0  1.0  24.0  2.0  2.0 -1.0  0.0  ...    4161.0   \n",
            "29589  29590  120000  1.0  2.0  1.0  33.0 -1.0 -1.0 -1.0 -1.0  ...     500.0   \n",
            "29780  29781  100000  1.0  2.0  2.0  29.0  0.0  0.0 -1.0 -1.0  ...    1044.0   \n",
            "\n",
            "           X16     X17    X18       X19     X20      X21     X22      X23    Y  \n",
            "621      460.0   610.0    0.0    1000.0   500.0    460.0   610.0    460.0  0.0  \n",
            "685     4852.0  4125.0    0.0  177671.0  3508.0   4876.0  4188.0  10007.0  0.0  \n",
            "880    11772.0  5318.0    0.0   11663.0  9363.0   3232.0  3000.0   1000.0  0.0  \n",
            "932      892.0     0.0    0.0     874.0     0.0    892.0     0.0    594.0  1.0  \n",
            "959    23020.0  2367.0    0.0    8348.0     0.0  23020.0  2367.0   3117.0  1.0  \n",
            "...        ...     ...    ...       ...     ...      ...     ...      ...  ...  \n",
            "27495    396.0   396.0    0.0    3396.0   792.0      0.0   396.0    396.0  1.0  \n",
            "27576   1309.0  2557.0  627.0    7388.0   792.0   1312.0  2564.0    804.0  0.0  \n",
            "27773   4042.0  6807.0    0.0    4242.0  1032.0   1000.0  2812.0   2248.0  1.0  \n",
            "29589    150.0   150.0    0.0     505.0   500.0    150.0   150.0    941.0  0.0  \n",
            "29780   -217.0   522.0    0.0    4000.0  1044.0      0.0  2000.0   2000.0  0.0  \n",
            "\n",
            "[117 rows x 25 columns]\n",
            "          ID      X1   X2   X3   X4    X5   X6   X7   X8   X9  ...       X15  \\\n",
            "72        73  200000  2.0  2.0  1.0  32.0 -1.0 -1.0 -1.0 -1.0  ...    5247.0   \n",
            "276      277  460000  1.0  1.0  1.0  40.0  2.0 -1.0 -1.0 -1.0  ...    2641.0   \n",
            "564      565  390000  2.0  1.0  2.0  45.0  2.0  2.0  2.0 -1.0  ...    4240.0   \n",
            "977      978  180000  1.0  1.0  2.0  28.0 -1.0 -1.0 -1.0 -1.0  ...   55566.0   \n",
            "1039    1040   50000  1.0  3.0  2.0  24.0 -1.0 -1.0 -1.0 -1.0  ...   18115.0   \n",
            "...      ...     ...  ...  ...  ...   ...  ...  ...  ...  ...  ...       ...   \n",
            "28555  28556  420000  2.0  2.0  1.0  38.0  0.0 -1.0 -1.0 -1.0  ...   51555.0   \n",
            "28634  28635  190000  2.0  1.0  1.0  36.0 -1.0 -1.0 -1.0 -1.0  ...    6381.0   \n",
            "28754  28755   70000  2.0  2.0  2.0  34.0 -1.0 -1.0 -1.0 -1.0  ...   11019.0   \n",
            "29602  29603   60000  1.0  2.0  1.0  37.0  0.0  0.0  0.0 -1.0  ...   15273.0   \n",
            "29888  29889  180000  1.0  3.0  1.0  40.0  0.0  0.0  0.0 -1.0  ...  111077.0   \n",
            "\n",
            "            X16       X17      X18     X19       X20     X21      X22     X23  \\\n",
            "72       3848.0    3151.0   5818.0    15.0    9102.0    17.0   3165.0  1395.0   \n",
            "276       -10.0   22535.0   2728.0     0.0    2654.0     0.0  22545.0     0.0   \n",
            "564      3346.0    2698.0      1.0  1693.0    6940.0     7.0   1230.0     3.0   \n",
            "977      1056.0     390.0    662.0     0.0   61411.0  1056.0      0.0  1998.0   \n",
            "1039    18495.0   18804.0   8769.0     0.0   18650.0   659.0   1000.0  1000.0   \n",
            "...         ...       ...      ...     ...       ...     ...      ...     ...   \n",
            "28555    2093.0    5773.0  53400.0     0.0   51566.0  2093.0   5773.0  2984.0   \n",
            "28634    6383.0     817.0   4923.0     0.0    6383.0     2.0      0.0  1809.0   \n",
            "28754   11632.0    7864.0   1245.0     0.0   12019.0  1000.0    157.0  7851.0   \n",
            "29602   14766.0   14687.0   3000.0    18.0   15300.0  5000.0  15132.0  6500.0   \n",
            "29888  112738.0  115746.0   4400.0     0.0  112736.0  5000.0   5300.0  5000.0   \n",
            "\n",
            "         Y  \n",
            "72     0.0  \n",
            "276    1.0  \n",
            "564    0.0  \n",
            "977    0.0  \n",
            "1039   0.0  \n",
            "...    ...  \n",
            "28555  0.0  \n",
            "28634  0.0  \n",
            "28754  0.0  \n",
            "29602  0.0  \n",
            "29888  0.0  \n",
            "\n",
            "[103 rows x 25 columns]\n",
            "          ID      X1   X2   X3   X4    X5   X6   X7   X8   X9  ...     X15  \\\n",
            "194      195   50000  1.0  2.0  1.0  36.0  0.0  0.0  0.0  0.0  ...   -14.0   \n",
            "757      758  230000  2.0  2.0  1.0  30.0  2.0  0.0 -1.0 -1.0  ...  -828.0   \n",
            "1000    1001  100000  1.0  2.0  1.0  29.0  0.0  0.0  0.0  0.0  ... -2618.0   \n",
            "1337    1338  290000  2.0  1.0  2.0  31.0 -1.0 -1.0 -1.0 -1.0  ...  -150.0   \n",
            "2914    2915  320000  2.0  2.0  2.0  50.0 -1.0  0.0 -1.0 -1.0  ...    -6.0   \n",
            "...      ...     ...  ...  ...  ...   ...  ...  ...  ...  ...  ...     ...   \n",
            "28157  28158  130000  2.0  3.0  1.0  31.0  0.0 -1.0 -1.0 -1.0  ... -1018.0   \n",
            "28236  28237  400000  2.0  3.0  1.0  40.0  0.0 -1.0 -1.0 -1.0  ...  -329.0   \n",
            "28799  28800  200000  2.0  3.0  2.0  42.0  1.0 -1.0 -1.0 -1.0  ... -3903.0   \n",
            "29353  29354  390000  1.0  2.0  2.0  28.0  0.0  0.0  0.0  0.0  ... -1391.0   \n",
            "29606  29607   90000  1.0  2.0  1.0  45.0 -1.0  3.0  2.0  2.0  ... -1170.0   \n",
            "\n",
            "            X16       X17      X18      X19      X20       X21      X22  \\\n",
            "194        72.0     658.0   2000.0   1000.0   2000.0     500.0   1000.0   \n",
            "757      6153.0   12663.0   1222.0   1837.0      0.0    7863.0  12675.0   \n",
            "1000    95748.0  101299.0   3320.0   5000.0      0.0  100000.0   7186.0   \n",
            "1337    66675.0   68071.0      0.0    480.0      4.0   69001.0   2500.0   \n",
            "2914     1252.0       0.0   3000.0    342.0      2.0    1500.0      0.0   \n",
            "...         ...       ...      ...      ...      ...       ...      ...   \n",
            "28157   89445.0   90179.0   4065.0   6704.0  21018.0   92610.0   3272.0   \n",
            "28236   65691.0   23657.0  35729.0  72031.0      0.0   66020.0  23776.0   \n",
            "28799   11989.0   11839.0  10000.0   2509.0      0.0   24000.0      0.0   \n",
            "29353  249742.0  253914.0   9124.0   3181.0    895.0  253009.0  10009.0   \n",
            "29606     390.0     390.0      0.0      0.0      0.0    1560.0    390.0   \n",
            "\n",
            "           X23    Y  \n",
            "194    20011.0  0.0  \n",
            "757     2959.0  1.0  \n",
            "1000       0.0  0.0  \n",
            "1337    3000.0  0.0  \n",
            "2914   10701.0  0.0  \n",
            "...        ...  ...  \n",
            "28157   3332.0  1.0  \n",
            "28236  32948.0  0.0  \n",
            "28799  27000.0  0.0  \n",
            "29353   9509.0  0.0  \n",
            "29606    930.0  1.0  \n",
            "\n",
            "[103 rows x 25 columns]\n",
            "          ID      X1   X2   X3   X4    X5   X6   X7   X8   X9  ...       X15  \\\n",
            "7          8  100000  2.0  2.0  2.0  23.0  0.0 -1.0 -1.0  0.0  ...     221.0   \n",
            "37        38   60000  2.0  2.0  2.0  22.0  0.0  0.0  0.0  0.0  ...    6026.0   \n",
            "56        57  180000  2.0  3.0  1.0  34.0  0.0  0.0  0.0 -1.0  ...    7142.0   \n",
            "276      277  460000  1.0  1.0  1.0  40.0  2.0 -1.0 -1.0 -1.0  ...    2641.0   \n",
            "343      344  180000  1.0  1.0  1.0  39.0  0.0  0.0 -1.0  0.0  ...  122295.0   \n",
            "...      ...     ...  ...  ...  ...   ...  ...  ...  ...  ...  ...       ...   \n",
            "28923  28924  500000  2.0  3.0  1.0  40.0  0.0  0.0  0.0  0.0  ...   27053.0   \n",
            "29009  29010  200000  2.0  1.0  1.0  40.0  1.0 -1.0 -1.0 -1.0  ...     849.0   \n",
            "29701  29702  240000  1.0  2.0  1.0  31.0  2.0  0.0 -1.0  2.0  ...    1175.0   \n",
            "29780  29781  100000  1.0  2.0  2.0  29.0  0.0  0.0 -1.0 -1.0  ...    1044.0   \n",
            "29782  29783  300000  1.0  3.0  1.0  32.0 -1.0 -1.0 -1.0  0.0  ...    3242.0   \n",
            "\n",
            "           X16      X17       X18       X19      X20    X21       X22     X23  \\\n",
            "7       -159.0    567.0     380.0     601.0      0.0  581.0    1687.0  1542.0   \n",
            "37    -28335.0  18660.0    1500.0    1518.0   2043.0    0.0   47671.0   617.0   \n",
            "56      -679.0   8321.0    8500.0    1500.0   7500.0  679.0    9000.0  2000.0   \n",
            "276      -10.0  22535.0    2728.0       0.0   2654.0    0.0   22545.0     0.0   \n",
            "343    -1005.0   1005.0   11000.0  145000.0  26000.0    0.0  101005.0  1898.0   \n",
            "...        ...      ...       ...       ...      ...    ...       ...     ...   \n",
            "28923     -9.0  14863.0    1284.0    1231.0   1154.0    0.0   14872.0   121.0   \n",
            "29009   -171.0  14686.0  114558.0    3796.0    849.0    0.0   14857.0     0.0   \n",
            "29701    -13.0   2487.0    2300.0    2185.0      4.0    0.0    2500.0     0.0   \n",
            "29780   -217.0    522.0       0.0    4000.0   1044.0    0.0    2000.0  2000.0   \n",
            "29782    -80.0    720.0    2635.0    1461.0   2000.0    0.0     800.0    15.0   \n",
            "\n",
            "         Y  \n",
            "7      0.0  \n",
            "37     0.0  \n",
            "56     0.0  \n",
            "276    1.0  \n",
            "343    0.0  \n",
            "...    ...  \n",
            "28923  0.0  \n",
            "29009  0.0  \n",
            "29701  1.0  \n",
            "29780  0.0  \n",
            "29782  0.0  \n",
            "\n",
            "[93 rows x 25 columns]\n",
            "          ID      X1   X2   X3   X4    X5   X6   X7   X8   X9  ...      X15  \\\n",
            "134      135   30000  2.0  2.0  2.0  22.0  0.0  0.0  0.0  0.0  ...  25350.0   \n",
            "167      168  100000  1.0  2.0  1.0  27.0 -1.0  2.0  2.0  0.0  ...  29336.0   \n",
            "290      291  280000  1.0  1.0  2.0  33.0 -1.0 -1.0 -1.0 -1.0  ...    898.0   \n",
            "1412    1413   30000  1.0  2.0  1.0  38.0 -1.0 -1.0 -1.0 -1.0  ...   5480.0   \n",
            "1848    1849  150000  1.0  1.0  2.0  30.0 -1.0 -1.0 -1.0 -1.0  ...   1589.0   \n",
            "...      ...     ...  ...  ...  ...   ...  ...  ...  ...  ...  ...      ...   \n",
            "29719  29720   20000  1.0  3.0  1.0  34.0  0.0  0.0  0.0  0.0  ...  16525.0   \n",
            "29852  29853  500000  1.0  2.0  1.0  44.0 -1.0 -1.0 -1.0 -1.0  ...    949.0   \n",
            "29921  29922  410000  1.0  1.0  2.0  34.0  0.0  0.0  0.0 -1.0  ...   1467.0   \n",
            "29931  29932   60000  1.0  2.0  3.0  41.0  0.0  0.0  0.0  0.0  ...  26940.0   \n",
            "29958  29959  230000  1.0  3.0  2.0  31.0  0.0 -1.0 -1.0 -1.0  ...    417.0   \n",
            "\n",
            "           X16       X17      X18      X19     X20      X21     X22       X23  \\\n",
            "134    17603.0    -780.0   2000.0   1400.0     0.0    500.0     0.0    1560.0   \n",
            "167    22979.0    -246.0   3166.0      0.0  1330.0   1398.0    12.0   50000.0   \n",
            "290      325.0 -339603.0    898.0    325.0   898.0    325.0     0.0  345293.0   \n",
            "1412     175.0   -2000.0   1522.0      0.0  5480.0    175.0     0.0    2000.0   \n",
            "1848    9918.0  -16586.0   1098.0   2000.0  1589.0   9918.0  1157.0       0.0   \n",
            "...        ...       ...      ...      ...     ...      ...     ...       ...   \n",
            "29719  16185.0   -2623.0   2000.0   2004.0  1500.0   1500.0     0.0   19500.0   \n",
            "29852  86362.0      -8.0  13053.0   2556.0   955.0  86793.0     0.0    1793.0   \n",
            "29921   1421.0     -15.0  17259.0  18600.0  1474.0   1428.0     0.0       0.0   \n",
            "29931   9971.0  -11798.0   2200.0   2000.0  1200.0      0.0     0.0   28000.0   \n",
            "29958    613.0    -191.0   1000.0   1000.0  1000.0   1000.0     0.0       0.0   \n",
            "\n",
            "         Y  \n",
            "134    0.0  \n",
            "167    0.0  \n",
            "290    1.0  \n",
            "1412   0.0  \n",
            "1848   0.0  \n",
            "...    ...  \n",
            "29719  0.0  \n",
            "29852  0.0  \n",
            "29921  1.0  \n",
            "29931  0.0  \n",
            "29958  0.0  \n",
            "\n",
            "[168 rows x 25 columns]\n"
          ]
        }
      ]
    },
    {
      "cell_type": "markdown",
      "source": [
        "En caso que existieran esos valores (monto de deuda lógico), se transformarán a positivos, considerando que se deban a un error de captura."
      ],
      "metadata": {
        "id": "lgGtc01qTNPR"
      }
    },
    {
      "cell_type": "code",
      "source": [
        "for i in range(r12,r17+1): \n",
        "  cdf[cdf.iloc[:,i]<-1]*-1"
      ],
      "metadata": {
        "id": "rwMktyrlTNXz"
      },
      "execution_count": null,
      "outputs": []
    },
    {
      "cell_type": "markdown",
      "source": [
        "Se comprueba si hay elementos en X18:X23 cuyos valores no correspondan con un monto de pago anterior lógico (<-1 = ilógico). De momento solo se hace para conocer nuestros datos, en la siguiente sección se tomarán medidas. "
      ],
      "metadata": {
        "id": "x_s2edUDdsZL"
      }
    },
    {
      "cell_type": "code",
      "source": [
        "r18=cdf.columns.get_loc('X18') #Se busca el índice para la columna llamada 'X18'\n",
        "r23=cdf.columns.get_loc('X23') #Se busca el índice para la columna llamada 'X23'\n",
        "for i in range(r18,r23+1):\n",
        "  x18_x23=cdf[cdf.iloc[:,i]<-1] \n",
        "  print(x18_x23)"
      ],
      "metadata": {
        "colab": {
          "base_uri": "https://localhost:8080/"
        },
        "id": "vqUw2bd1dssc",
        "outputId": "9735f47c-a630-4678-8c9f-83911fb7e76a"
      },
      "execution_count": null,
      "outputs": [
        {
          "output_type": "stream",
          "name": "stdout",
          "text": [
            "Empty DataFrame\n",
            "Columns: [ID, X1, X2, X3, X4, X5, X6, X7, X8, X9, X10, X11, X12, X13, X14, X15, X16, X17, X18, X19, X20, X21, X22, X23, Y]\n",
            "Index: []\n",
            "\n",
            "[0 rows x 25 columns]\n",
            "Empty DataFrame\n",
            "Columns: [ID, X1, X2, X3, X4, X5, X6, X7, X8, X9, X10, X11, X12, X13, X14, X15, X16, X17, X18, X19, X20, X21, X22, X23, Y]\n",
            "Index: []\n",
            "\n",
            "[0 rows x 25 columns]\n",
            "Empty DataFrame\n",
            "Columns: [ID, X1, X2, X3, X4, X5, X6, X7, X8, X9, X10, X11, X12, X13, X14, X15, X16, X17, X18, X19, X20, X21, X22, X23, Y]\n",
            "Index: []\n",
            "\n",
            "[0 rows x 25 columns]\n",
            "Empty DataFrame\n",
            "Columns: [ID, X1, X2, X3, X4, X5, X6, X7, X8, X9, X10, X11, X12, X13, X14, X15, X16, X17, X18, X19, X20, X21, X22, X23, Y]\n",
            "Index: []\n",
            "\n",
            "[0 rows x 25 columns]\n",
            "Empty DataFrame\n",
            "Columns: [ID, X1, X2, X3, X4, X5, X6, X7, X8, X9, X10, X11, X12, X13, X14, X15, X16, X17, X18, X19, X20, X21, X22, X23, Y]\n",
            "Index: []\n",
            "\n",
            "[0 rows x 25 columns]\n",
            "Empty DataFrame\n",
            "Columns: [ID, X1, X2, X3, X4, X5, X6, X7, X8, X9, X10, X11, X12, X13, X14, X15, X16, X17, X18, X19, X20, X21, X22, X23, Y]\n",
            "Index: []\n",
            "\n",
            "[0 rows x 25 columns]\n"
          ]
        }
      ]
    },
    {
      "cell_type": "markdown",
      "source": [
        "En caso que existieran esos valores (de pago anterior no lógicos), se transformarán a positivos, considerando que se deban a un error de captura."
      ],
      "metadata": {
        "id": "4sP08dSLRxRu"
      }
    },
    {
      "cell_type": "code",
      "source": [
        "for i in range(r18,r23+1): \n",
        "  cdf[cdf.iloc[:,i]<-1]*-1"
      ],
      "metadata": {
        "id": "0m0vpqynRxiR"
      },
      "execution_count": null,
      "outputs": []
    },
    {
      "cell_type": "markdown",
      "source": [
        "## Tratamiento de datos faltantes"
      ],
      "metadata": {
        "id": "p4HwKZoIr2At"
      }
    },
    {
      "cell_type": "markdown",
      "source": [
        "Verificamos si hay datos faltantes, dónde y cuántos"
      ],
      "metadata": {
        "id": "PuQ9AyPqT7Uk"
      }
    },
    {
      "cell_type": "code",
      "source": [
        "print(cdf.isnull().values.any()) \n",
        "print(\"\")\n",
        "print(cdf.isnull().any())\n",
        "print(\"\")\n",
        "print(cdf.isnull().sum())"
      ],
      "metadata": {
        "id": "4SlTjohmr2YR",
        "colab": {
          "base_uri": "https://localhost:8080/"
        },
        "outputId": "c57e5e72-dc33-4c4a-964f-8c0f8f748851"
      },
      "execution_count": null,
      "outputs": [
        {
          "output_type": "stream",
          "name": "stdout",
          "text": [
            "True\n",
            "\n",
            "ID     False\n",
            "X1     False\n",
            "X2     False\n",
            "X3     False\n",
            "X4     False\n",
            "X5      True\n",
            "X6      True\n",
            "X7      True\n",
            "X8      True\n",
            "X9      True\n",
            "X10     True\n",
            "X11     True\n",
            "X12     True\n",
            "X13     True\n",
            "X14     True\n",
            "X15     True\n",
            "X16     True\n",
            "X17     True\n",
            "X18     True\n",
            "X19     True\n",
            "X20     True\n",
            "X21     True\n",
            "X22     True\n",
            "X23     True\n",
            "Y       True\n",
            "dtype: bool\n",
            "\n",
            "ID      0\n",
            "X1      0\n",
            "X2      0\n",
            "X3      0\n",
            "X4      0\n",
            "X5      2\n",
            "X6      1\n",
            "X7      3\n",
            "X8      5\n",
            "X9      7\n",
            "X10    12\n",
            "X11    10\n",
            "X12     7\n",
            "X13     7\n",
            "X14     9\n",
            "X15    11\n",
            "X16    12\n",
            "X17     6\n",
            "X18     6\n",
            "X19     6\n",
            "X20     6\n",
            "X21     7\n",
            "X22     8\n",
            "X23     5\n",
            "Y       3\n",
            "dtype: int64\n"
          ]
        }
      ]
    },
    {
      "cell_type": "markdown",
      "source": [
        "Eliminamos las filas donde falten todos los elementos"
      ],
      "metadata": {
        "id": "RxHAfnuvr7rZ"
      }
    },
    {
      "cell_type": "code",
      "source": [
        "cdf.dropna(how='all', inplace = True)"
      ],
      "metadata": {
        "id": "6UnUqsBNu6Ll"
      },
      "execution_count": null,
      "outputs": []
    },
    {
      "cell_type": "markdown",
      "source": [
        "Eliminamos las filas donde haya a partir de 10 elementos faltantes"
      ],
      "metadata": {
        "id": "YNFzJyLJXrLr"
      }
    },
    {
      "cell_type": "code",
      "source": [
        "for i in range(10,14):\n",
        "  cdf.dropna(thresh=i, inplace = True)"
      ],
      "metadata": {
        "id": "BCHJk10ru-TU"
      },
      "execution_count": null,
      "outputs": []
    },
    {
      "cell_type": "markdown",
      "source": [
        "Se imputan los valores faltantes en X5 con la edad más frecuente."
      ],
      "metadata": {
        "id": "zcQt1h-lUJr6"
      }
    },
    {
      "cell_type": "code",
      "source": [
        "#cdf[cdf['X5'].isnull()]\n",
        "modaX5=mode(cdf['X5']) ##modaX5=cdf.X5.mode() \n",
        "print(modaX5)\n",
        "cdf['X5'].fillna(modaX5, inplace=True)"
      ],
      "metadata": {
        "colab": {
          "base_uri": "https://localhost:8080/"
        },
        "id": "mJd57-tswUEg",
        "outputId": "2d7526a5-f76d-457d-a84b-f6604014c145"
      },
      "execution_count": null,
      "outputs": [
        {
          "output_type": "stream",
          "name": "stdout",
          "text": [
            "18.0\n"
          ]
        }
      ]
    },
    {
      "cell_type": "markdown",
      "source": [
        "Los valores NaN de X6:X11, son sustituidos por el valor más común de esa columna (moda)."
      ],
      "metadata": {
        "id": "Wyz3waGSvZrZ"
      }
    },
    {
      "cell_type": "code",
      "source": [
        "for i in range(r6,r11+1): \n",
        "  cdf.iloc[:,i].fillna(mode(cdf.iloc[:,i]), inplace=True) #modaX6=mode(cdf['X6']) \n",
        "  print('moda x'+str(i),':',mode(cdf.iloc[:,i])) #print('x6',modaX6)"
      ],
      "metadata": {
        "colab": {
          "base_uri": "https://localhost:8080/"
        },
        "id": "0f_9XPpmAQxU",
        "outputId": "8858c2bd-d574-44a8-9399-8f5193741ca5"
      },
      "execution_count": null,
      "outputs": [
        {
          "output_type": "stream",
          "name": "stdout",
          "text": [
            "moda x6 : 0.0\n",
            "moda x7 : 0.0\n",
            "moda x8 : 0.0\n",
            "moda x9 : 0.0\n",
            "moda x10 : 0.0\n",
            "moda x11 : 0.0\n"
          ]
        }
      ]
    },
    {
      "cell_type": "markdown",
      "source": [
        "Los datos faltantes en X12:X23 se obtienen a través de la imputación media."
      ],
      "metadata": {
        "id": "uL76srkk2wj8"
      }
    },
    {
      "cell_type": "code",
      "source": [
        "for i in range(r12,r23+1): \n",
        "  cdf.iloc[:,i].fillna(mode(cdf.iloc[:,i]), inplace=True) #modaX6=mode(cdf['X6']) \n",
        "  print('median x'+str(i),':',cdf.iloc[:,i].median()) #ndf.Length.median()"
      ],
      "metadata": {
        "colab": {
          "base_uri": "https://localhost:8080/"
        },
        "id": "wYA9B1t1EMv-",
        "outputId": "4317a637-c396-47b6-9cd5-52333adf4e7d"
      },
      "execution_count": null,
      "outputs": [
        {
          "output_type": "stream",
          "name": "stdout",
          "text": [
            "median x12 : 17989.0\n",
            "median x13 : 18111.0\n",
            "median x14 : 18163.0\n",
            "median x15 : 17434.0\n",
            "median x16 : 16338.0\n",
            "median x17 : 14816.0\n",
            "median x18 : 1831.0\n",
            "median x19 : 1760.0\n",
            "median x20 : 1400.0\n",
            "median x21 : 1011.0\n",
            "median x22 : 1017.0\n",
            "median x23 : 1000.0\n"
          ]
        }
      ]
    },
    {
      "cell_type": "markdown",
      "source": [
        "Debido a que Y representa la probabilidad real de incumplimiento como variable de respuesta lo considero un dato clave y donde haya elementos NaN contemplo más viable eliminarlos que imputarlos."
      ],
      "metadata": {
        "id": "jnc_lyGbVFWU"
      }
    },
    {
      "cell_type": "code",
      "source": [
        "cdf[cdf['Y'].isnull()]\n",
        "cdf['Y'].dropna(inplace=True)\n",
        "cdf[cdf['Y'].isnull()]"
      ],
      "metadata": {
        "id": "esMpN-EnVEkP",
        "colab": {
          "base_uri": "https://localhost:8080/",
          "height": 79
        },
        "outputId": "118c4332-2558-4f1d-df10-3a976c5b1a77"
      },
      "execution_count": null,
      "outputs": [
        {
          "output_type": "execute_result",
          "data": {
            "text/plain": [
              "Empty DataFrame\n",
              "Columns: [ID, X1, X2, X3, X4, X5, X6, X7, X8, X9, X10, X11, X12, X13, X14, X15, X16, X17, X18, X19, X20, X21, X22, X23, Y]\n",
              "Index: []\n",
              "\n",
              "[0 rows x 25 columns]"
            ],
            "text/html": [
              "\n",
              "  <div id=\"df-643f43ac-1624-4a16-9a03-c760e9d4f6bd\">\n",
              "    <div class=\"colab-df-container\">\n",
              "      <div>\n",
              "<style scoped>\n",
              "    .dataframe tbody tr th:only-of-type {\n",
              "        vertical-align: middle;\n",
              "    }\n",
              "\n",
              "    .dataframe tbody tr th {\n",
              "        vertical-align: top;\n",
              "    }\n",
              "\n",
              "    .dataframe thead th {\n",
              "        text-align: right;\n",
              "    }\n",
              "</style>\n",
              "<table border=\"1\" class=\"dataframe\">\n",
              "  <thead>\n",
              "    <tr style=\"text-align: right;\">\n",
              "      <th></th>\n",
              "      <th>ID</th>\n",
              "      <th>X1</th>\n",
              "      <th>X2</th>\n",
              "      <th>X3</th>\n",
              "      <th>X4</th>\n",
              "      <th>X5</th>\n",
              "      <th>X6</th>\n",
              "      <th>X7</th>\n",
              "      <th>X8</th>\n",
              "      <th>X9</th>\n",
              "      <th>...</th>\n",
              "      <th>X15</th>\n",
              "      <th>X16</th>\n",
              "      <th>X17</th>\n",
              "      <th>X18</th>\n",
              "      <th>X19</th>\n",
              "      <th>X20</th>\n",
              "      <th>X21</th>\n",
              "      <th>X22</th>\n",
              "      <th>X23</th>\n",
              "      <th>Y</th>\n",
              "    </tr>\n",
              "  </thead>\n",
              "  <tbody>\n",
              "  </tbody>\n",
              "</table>\n",
              "<p>0 rows × 25 columns</p>\n",
              "</div>\n",
              "      <button class=\"colab-df-convert\" onclick=\"convertToInteractive('df-643f43ac-1624-4a16-9a03-c760e9d4f6bd')\"\n",
              "              title=\"Convert this dataframe to an interactive table.\"\n",
              "              style=\"display:none;\">\n",
              "        \n",
              "  <svg xmlns=\"http://www.w3.org/2000/svg\" height=\"24px\"viewBox=\"0 0 24 24\"\n",
              "       width=\"24px\">\n",
              "    <path d=\"M0 0h24v24H0V0z\" fill=\"none\"/>\n",
              "    <path d=\"M18.56 5.44l.94 2.06.94-2.06 2.06-.94-2.06-.94-.94-2.06-.94 2.06-2.06.94zm-11 1L8.5 8.5l.94-2.06 2.06-.94-2.06-.94L8.5 2.5l-.94 2.06-2.06.94zm10 10l.94 2.06.94-2.06 2.06-.94-2.06-.94-.94-2.06-.94 2.06-2.06.94z\"/><path d=\"M17.41 7.96l-1.37-1.37c-.4-.4-.92-.59-1.43-.59-.52 0-1.04.2-1.43.59L10.3 9.45l-7.72 7.72c-.78.78-.78 2.05 0 2.83L4 21.41c.39.39.9.59 1.41.59.51 0 1.02-.2 1.41-.59l7.78-7.78 2.81-2.81c.8-.78.8-2.07 0-2.86zM5.41 20L4 18.59l7.72-7.72 1.47 1.35L5.41 20z\"/>\n",
              "  </svg>\n",
              "      </button>\n",
              "      \n",
              "  <style>\n",
              "    .colab-df-container {\n",
              "      display:flex;\n",
              "      flex-wrap:wrap;\n",
              "      gap: 12px;\n",
              "    }\n",
              "\n",
              "    .colab-df-convert {\n",
              "      background-color: #E8F0FE;\n",
              "      border: none;\n",
              "      border-radius: 50%;\n",
              "      cursor: pointer;\n",
              "      display: none;\n",
              "      fill: #1967D2;\n",
              "      height: 32px;\n",
              "      padding: 0 0 0 0;\n",
              "      width: 32px;\n",
              "    }\n",
              "\n",
              "    .colab-df-convert:hover {\n",
              "      background-color: #E2EBFA;\n",
              "      box-shadow: 0px 1px 2px rgba(60, 64, 67, 0.3), 0px 1px 3px 1px rgba(60, 64, 67, 0.15);\n",
              "      fill: #174EA6;\n",
              "    }\n",
              "\n",
              "    [theme=dark] .colab-df-convert {\n",
              "      background-color: #3B4455;\n",
              "      fill: #D2E3FC;\n",
              "    }\n",
              "\n",
              "    [theme=dark] .colab-df-convert:hover {\n",
              "      background-color: #434B5C;\n",
              "      box-shadow: 0px 1px 3px 1px rgba(0, 0, 0, 0.15);\n",
              "      filter: drop-shadow(0px 1px 2px rgba(0, 0, 0, 0.3));\n",
              "      fill: #FFFFFF;\n",
              "    }\n",
              "  </style>\n",
              "\n",
              "      <script>\n",
              "        const buttonEl =\n",
              "          document.querySelector('#df-643f43ac-1624-4a16-9a03-c760e9d4f6bd button.colab-df-convert');\n",
              "        buttonEl.style.display =\n",
              "          google.colab.kernel.accessAllowed ? 'block' : 'none';\n",
              "\n",
              "        async function convertToInteractive(key) {\n",
              "          const element = document.querySelector('#df-643f43ac-1624-4a16-9a03-c760e9d4f6bd');\n",
              "          const dataTable =\n",
              "            await google.colab.kernel.invokeFunction('convertToInteractive',\n",
              "                                                     [key], {});\n",
              "          if (!dataTable) return;\n",
              "\n",
              "          const docLinkHtml = 'Like what you see? Visit the ' +\n",
              "            '<a target=\"_blank\" href=https://colab.research.google.com/notebooks/data_table.ipynb>data table notebook</a>'\n",
              "            + ' to learn more about interactive tables.';\n",
              "          element.innerHTML = '';\n",
              "          dataTable['output_type'] = 'display_data';\n",
              "          await google.colab.output.renderOutput(dataTable, element);\n",
              "          const docLink = document.createElement('div');\n",
              "          docLink.innerHTML = docLinkHtml;\n",
              "          element.appendChild(docLink);\n",
              "        }\n",
              "      </script>\n",
              "    </div>\n",
              "  </div>\n",
              "  "
            ]
          },
          "metadata": {},
          "execution_count": 439
        }
      ]
    },
    {
      "cell_type": "markdown",
      "source": [],
      "metadata": {
        "id": "5WMfD5SXVvG_"
      }
    },
    {
      "cell_type": "code",
      "source": [
        "print(cdf.isnull().sum())"
      ],
      "metadata": {
        "colab": {
          "base_uri": "https://localhost:8080/"
        },
        "id": "wDWJcmMovaic",
        "outputId": "ed2c611c-aa16-471d-f48d-821594848f88"
      },
      "execution_count": null,
      "outputs": [
        {
          "output_type": "stream",
          "name": "stdout",
          "text": [
            "ID     0\n",
            "X1     0\n",
            "X2     0\n",
            "X3     0\n",
            "X4     0\n",
            "X5     0\n",
            "X6     0\n",
            "X7     0\n",
            "X8     0\n",
            "X9     0\n",
            "X10    0\n",
            "X11    0\n",
            "X12    0\n",
            "X13    0\n",
            "X14    0\n",
            "X15    0\n",
            "X16    0\n",
            "X17    0\n",
            "X18    0\n",
            "X19    0\n",
            "X20    0\n",
            "X21    0\n",
            "X22    0\n",
            "X23    0\n",
            "Y      0\n",
            "dtype: int64\n"
          ]
        }
      ]
    },
    {
      "cell_type": "markdown",
      "source": [
        "# Parte 3"
      ],
      "metadata": {
        "id": "BVERGmglHAbz"
      }
    },
    {
      "cell_type": "markdown",
      "source": [
        "1. ¿Qué datos considero mas importantes? ¿Por qué?\n",
        "\n",
        "Considero medianamente importante el grado de educación porque puede darnos una idea relativa sobre los ingresos de individuo. Considero importantes las variables que contienen la deuda (X12:X17) y los montos pagados anteriormente (X18:X23) puesto que nos proporciona un panorama general del flujo monetario que los individuos producen, contemplando cuánto se pagó y cuánto se debe.  En general, los datos que considero más importantes son los relativos al historial de pagos pasados (X6:X11), si pagaba a tiempo o con cuánta demora, pues podría determinar el compromiso en cuanto al pago, como también Y, que es la predicción."
      ],
      "metadata": {
        "id": "oZw_0z65HEKb"
      }
    },
    {
      "cell_type": "markdown",
      "source": [
        "2. ¿Se eliminaron o reemplazaron datos nulos? ¿Qué se hizo y por qué?\n",
        "\n",
        "Se eliminaron y también reemplazaron los datos nulos o faltantes. Se eliminaron en los casos donde todas las columnas para una misma fila eran solamente ese tipo de valores, como también cuando tenían a partir de 10 datos faltantes, pues al no contar con básicamente la mitad de la información, no podía ser un registro representativo para el modelo. \n",
        "No se eliminaron todas las filas con valores nulos, con la finalidad de practicar y experimentar la limpieza de datos, porque en realidad eliminar todas las filas con al menos un valor nulo habría sido viable pues no poseen un peso porcentual muy grande o representativo para la muestra. De igual forma, cabe destacar que en este conjunto de datos particular no se encontró ningún caso donde no hubiese ningún dato para una misma fila, pero se mantiene el comando contemplando que podría haber datos futuros que sí apliquen.\n",
        "Los demás datos que no correspondían a los dos casos mencionados anteriormente se reemplazaron, para no perder un gran volumen e información y poder representar de mejor manera el modelo.\n",
        "\n"
      ],
      "metadata": {
        "id": "3yUpdEmeIYhl"
      }
    },
    {
      "cell_type": "markdown",
      "source": [
        "3. ¿Es necesario ordenar los datos para el análisis? Sí / No / ¿Por qué?\n",
        "\n",
        "Ordenar en el sentido ascendente o descendente no parece ser necesario, pues el modelo o las transformaciones consideradas no lo requieren, mas sí hay que “poner los datos en orden” por así decirlo. Me refiero a estandarizar o asegurarnos que los valores (conforme las descripciones dadas de sus variables) son correctos, como se menciona más a detalle en el siguiente punto."
      ],
      "metadata": {
        "id": "q4wq1b-BIcUa"
      }
    },
    {
      "cell_type": "markdown",
      "source": [
        "4. ¿Existen problemas de formato que deban solucionar antes del proceso de modelado? Sí / No / Por qué.\n",
        "\n",
        "Sí existen problemas que debemos solucionar antes de proseguir con el modelado, tales como verificar que el monto de crédito otorgado contenga valores positivos, que los datos capturados para las variables de género, educación y estado civil correspondan a las categorías existentes, que la edad asignada sea razonable (mayoría de edad) y que el monto de la deuda, pagos anteriores e historial de pago no posean valores negativos. Debía realizarse porque si los valores se salían de los estándares que en la misma descripción de las variables de definía, simplemente eran datos inexistentes o inválidos en cuanto a su clasificación, lo cual, en el conjunto de datos sí sucedía y debía corregirse, además de prevenir que sucediera en datos futuros. Un ejemplo de tales correcciones es, en las categóricas, si había la opción ‘otra’, se optó por ella (al reasignar categorías inválidas), pues es de alguna forma aquella que no está clara y parecía ser por tanto la nueva."
      ],
      "metadata": {
        "id": "htYgrgbzIfE1"
      }
    },
    {
      "cell_type": "markdown",
      "source": [
        "5. ¿Qué ajustes se realizaron en el proceso de limpieza de datos (agregar, integrar, eliminar, modificar registros (filas), cambiar atributos (columnas)?\n",
        "\n",
        "Como se menciona anteriormente, algunas filas donde no se contaba con toda o casi la mayor parte de la información fueron eliminadas, puesto que no resultaban representativas al carecer de tantos datos. Sin embargo, también se contemplaron otras opciones, como la imputación media para preservar la distribución de los datos y no sacrificar su demás información al eliminarlos. Asimismo, se asignaron las categorías alternativas (otra/o) cuando la capturada era inválida, se consideró un género aleatorio para sustituir los valores ilógicos (puesto que no se considera muy importante dicha variable, además que elegir solo un género podría causar sesgo y otros métodos generar valores no binarios), la moda en hábitos de pago (puesto que sí es posible observar ese tipo de tendencia), multiplicación por -1 para los elementos negativos (donde no era lógico que tuviesen tales valores) y eliminación de datos que se consideran muy importantes faltantes (como Y)."
      ],
      "metadata": {
        "id": "whNbR3S5JOJt"
      }
    }
  ]
}